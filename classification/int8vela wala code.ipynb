{
  "nbformat": 4,
  "nbformat_minor": 0,
  "metadata": {
    "colab": {
      "provenance": [],
      "gpuType": "T4"
    },
    "kernelspec": {
      "name": "python3",
      "display_name": "Python 3"
    },
    "language_info": {
      "name": "python"
    },
    "accelerator": "GPU"
  },
  "cells": [
    {
      "cell_type": "code",
      "source": [
        "from google.colab import files\n",
        "files.upload()  # Upload your kaggle.json file here\n"
      ],
      "metadata": {
        "id": "JbYPwBDwcLMb",
        "colab": {
          "base_uri": "https://localhost:8080/",
          "height": 90
        },
        "outputId": "d093bd83-bb30-4a95-9c84-70b3132abb51"
      },
      "execution_count": 1,
      "outputs": [
        {
          "output_type": "display_data",
          "data": {
            "text/plain": [
              "<IPython.core.display.HTML object>"
            ],
            "text/html": [
              "\n",
              "     <input type=\"file\" id=\"files-bec26c53-2301-4d2d-a00e-8f44aac5f76d\" name=\"files[]\" multiple disabled\n",
              "        style=\"border:none\" />\n",
              "     <output id=\"result-bec26c53-2301-4d2d-a00e-8f44aac5f76d\">\n",
              "      Upload widget is only available when the cell has been executed in the\n",
              "      current browser session. Please rerun this cell to enable.\n",
              "      </output>\n",
              "      <script>// Copyright 2017 Google LLC\n",
              "//\n",
              "// Licensed under the Apache License, Version 2.0 (the \"License\");\n",
              "// you may not use this file except in compliance with the License.\n",
              "// You may obtain a copy of the License at\n",
              "//\n",
              "//      http://www.apache.org/licenses/LICENSE-2.0\n",
              "//\n",
              "// Unless required by applicable law or agreed to in writing, software\n",
              "// distributed under the License is distributed on an \"AS IS\" BASIS,\n",
              "// WITHOUT WARRANTIES OR CONDITIONS OF ANY KIND, either express or implied.\n",
              "// See the License for the specific language governing permissions and\n",
              "// limitations under the License.\n",
              "\n",
              "/**\n",
              " * @fileoverview Helpers for google.colab Python module.\n",
              " */\n",
              "(function(scope) {\n",
              "function span(text, styleAttributes = {}) {\n",
              "  const element = document.createElement('span');\n",
              "  element.textContent = text;\n",
              "  for (const key of Object.keys(styleAttributes)) {\n",
              "    element.style[key] = styleAttributes[key];\n",
              "  }\n",
              "  return element;\n",
              "}\n",
              "\n",
              "// Max number of bytes which will be uploaded at a time.\n",
              "const MAX_PAYLOAD_SIZE = 100 * 1024;\n",
              "\n",
              "function _uploadFiles(inputId, outputId) {\n",
              "  const steps = uploadFilesStep(inputId, outputId);\n",
              "  const outputElement = document.getElementById(outputId);\n",
              "  // Cache steps on the outputElement to make it available for the next call\n",
              "  // to uploadFilesContinue from Python.\n",
              "  outputElement.steps = steps;\n",
              "\n",
              "  return _uploadFilesContinue(outputId);\n",
              "}\n",
              "\n",
              "// This is roughly an async generator (not supported in the browser yet),\n",
              "// where there are multiple asynchronous steps and the Python side is going\n",
              "// to poll for completion of each step.\n",
              "// This uses a Promise to block the python side on completion of each step,\n",
              "// then passes the result of the previous step as the input to the next step.\n",
              "function _uploadFilesContinue(outputId) {\n",
              "  const outputElement = document.getElementById(outputId);\n",
              "  const steps = outputElement.steps;\n",
              "\n",
              "  const next = steps.next(outputElement.lastPromiseValue);\n",
              "  return Promise.resolve(next.value.promise).then((value) => {\n",
              "    // Cache the last promise value to make it available to the next\n",
              "    // step of the generator.\n",
              "    outputElement.lastPromiseValue = value;\n",
              "    return next.value.response;\n",
              "  });\n",
              "}\n",
              "\n",
              "/**\n",
              " * Generator function which is called between each async step of the upload\n",
              " * process.\n",
              " * @param {string} inputId Element ID of the input file picker element.\n",
              " * @param {string} outputId Element ID of the output display.\n",
              " * @return {!Iterable<!Object>} Iterable of next steps.\n",
              " */\n",
              "function* uploadFilesStep(inputId, outputId) {\n",
              "  const inputElement = document.getElementById(inputId);\n",
              "  inputElement.disabled = false;\n",
              "\n",
              "  const outputElement = document.getElementById(outputId);\n",
              "  outputElement.innerHTML = '';\n",
              "\n",
              "  const pickedPromise = new Promise((resolve) => {\n",
              "    inputElement.addEventListener('change', (e) => {\n",
              "      resolve(e.target.files);\n",
              "    });\n",
              "  });\n",
              "\n",
              "  const cancel = document.createElement('button');\n",
              "  inputElement.parentElement.appendChild(cancel);\n",
              "  cancel.textContent = 'Cancel upload';\n",
              "  const cancelPromise = new Promise((resolve) => {\n",
              "    cancel.onclick = () => {\n",
              "      resolve(null);\n",
              "    };\n",
              "  });\n",
              "\n",
              "  // Wait for the user to pick the files.\n",
              "  const files = yield {\n",
              "    promise: Promise.race([pickedPromise, cancelPromise]),\n",
              "    response: {\n",
              "      action: 'starting',\n",
              "    }\n",
              "  };\n",
              "\n",
              "  cancel.remove();\n",
              "\n",
              "  // Disable the input element since further picks are not allowed.\n",
              "  inputElement.disabled = true;\n",
              "\n",
              "  if (!files) {\n",
              "    return {\n",
              "      response: {\n",
              "        action: 'complete',\n",
              "      }\n",
              "    };\n",
              "  }\n",
              "\n",
              "  for (const file of files) {\n",
              "    const li = document.createElement('li');\n",
              "    li.append(span(file.name, {fontWeight: 'bold'}));\n",
              "    li.append(span(\n",
              "        `(${file.type || 'n/a'}) - ${file.size} bytes, ` +\n",
              "        `last modified: ${\n",
              "            file.lastModifiedDate ? file.lastModifiedDate.toLocaleDateString() :\n",
              "                                    'n/a'} - `));\n",
              "    const percent = span('0% done');\n",
              "    li.appendChild(percent);\n",
              "\n",
              "    outputElement.appendChild(li);\n",
              "\n",
              "    const fileDataPromise = new Promise((resolve) => {\n",
              "      const reader = new FileReader();\n",
              "      reader.onload = (e) => {\n",
              "        resolve(e.target.result);\n",
              "      };\n",
              "      reader.readAsArrayBuffer(file);\n",
              "    });\n",
              "    // Wait for the data to be ready.\n",
              "    let fileData = yield {\n",
              "      promise: fileDataPromise,\n",
              "      response: {\n",
              "        action: 'continue',\n",
              "      }\n",
              "    };\n",
              "\n",
              "    // Use a chunked sending to avoid message size limits. See b/62115660.\n",
              "    let position = 0;\n",
              "    do {\n",
              "      const length = Math.min(fileData.byteLength - position, MAX_PAYLOAD_SIZE);\n",
              "      const chunk = new Uint8Array(fileData, position, length);\n",
              "      position += length;\n",
              "\n",
              "      const base64 = btoa(String.fromCharCode.apply(null, chunk));\n",
              "      yield {\n",
              "        response: {\n",
              "          action: 'append',\n",
              "          file: file.name,\n",
              "          data: base64,\n",
              "        },\n",
              "      };\n",
              "\n",
              "      let percentDone = fileData.byteLength === 0 ?\n",
              "          100 :\n",
              "          Math.round((position / fileData.byteLength) * 100);\n",
              "      percent.textContent = `${percentDone}% done`;\n",
              "\n",
              "    } while (position < fileData.byteLength);\n",
              "  }\n",
              "\n",
              "  // All done.\n",
              "  yield {\n",
              "    response: {\n",
              "      action: 'complete',\n",
              "    }\n",
              "  };\n",
              "}\n",
              "\n",
              "scope.google = scope.google || {};\n",
              "scope.google.colab = scope.google.colab || {};\n",
              "scope.google.colab._files = {\n",
              "  _uploadFiles,\n",
              "  _uploadFilesContinue,\n",
              "};\n",
              "})(self);\n",
              "</script> "
            ]
          },
          "metadata": {}
        },
        {
          "output_type": "stream",
          "name": "stdout",
          "text": [
            "Saving kaggle.json to kaggle.json\n"
          ]
        },
        {
          "output_type": "execute_result",
          "data": {
            "text/plain": [
              "{'kaggle.json': b'{\"username\":\"adityamanoja\",\"key\":\"c46c448c223ceb27fbd1363752459eab\"}'}"
            ]
          },
          "metadata": {},
          "execution_count": 1
        }
      ]
    },
    {
      "cell_type": "code",
      "source": [
        "!pip install kaggle\n"
      ],
      "metadata": {
        "id": "JaoK0xjccO57",
        "colab": {
          "base_uri": "https://localhost:8080/"
        },
        "outputId": "c25c27db-622e-4f34-a750-7db9086d45dd"
      },
      "execution_count": 2,
      "outputs": [
        {
          "output_type": "stream",
          "name": "stdout",
          "text": [
            "Requirement already satisfied: kaggle in /usr/local/lib/python3.10/dist-packages (1.6.17)\n",
            "Requirement already satisfied: six>=1.10 in /usr/local/lib/python3.10/dist-packages (from kaggle) (1.17.0)\n",
            "Requirement already satisfied: certifi>=2023.7.22 in /usr/local/lib/python3.10/dist-packages (from kaggle) (2024.12.14)\n",
            "Requirement already satisfied: python-dateutil in /usr/local/lib/python3.10/dist-packages (from kaggle) (2.8.2)\n",
            "Requirement already satisfied: requests in /usr/local/lib/python3.10/dist-packages (from kaggle) (2.32.3)\n",
            "Requirement already satisfied: tqdm in /usr/local/lib/python3.10/dist-packages (from kaggle) (4.67.1)\n",
            "Requirement already satisfied: python-slugify in /usr/local/lib/python3.10/dist-packages (from kaggle) (8.0.4)\n",
            "Requirement already satisfied: urllib3 in /usr/local/lib/python3.10/dist-packages (from kaggle) (2.2.3)\n",
            "Requirement already satisfied: bleach in /usr/local/lib/python3.10/dist-packages (from kaggle) (6.2.0)\n",
            "Requirement already satisfied: webencodings in /usr/local/lib/python3.10/dist-packages (from bleach->kaggle) (0.5.1)\n",
            "Requirement already satisfied: text-unidecode>=1.3 in /usr/local/lib/python3.10/dist-packages (from python-slugify->kaggle) (1.3)\n",
            "Requirement already satisfied: charset-normalizer<4,>=2 in /usr/local/lib/python3.10/dist-packages (from requests->kaggle) (3.4.0)\n",
            "Requirement already satisfied: idna<4,>=2.5 in /usr/local/lib/python3.10/dist-packages (from requests->kaggle) (3.10)\n"
          ]
        }
      ]
    },
    {
      "cell_type": "code",
      "source": [
        "import os\n",
        "import shutil\n",
        "\n",
        "# Move the uploaded kaggle.json file to the correct directory\n",
        "os.makedirs(\"/root/.kaggle\", exist_ok=True)\n",
        "shutil.move(\"kaggle.json\", \"/root/.kaggle/kaggle.json\")\n",
        "\n",
        "# Set the correct permissions\n",
        "os.chmod(\"/root/.kaggle/kaggle.json\", 0o600)\n",
        "\n",
        "print(\"Kaggle API key is successfully configured!\")\n"
      ],
      "metadata": {
        "id": "pOFg43vQcRKF",
        "colab": {
          "base_uri": "https://localhost:8080/"
        },
        "outputId": "32beaad8-c5a4-48c7-dc25-f5973beaa57a"
      },
      "execution_count": 3,
      "outputs": [
        {
          "output_type": "stream",
          "name": "stdout",
          "text": [
            "Kaggle API key is successfully configured!\n"
          ]
        }
      ]
    },
    {
      "cell_type": "code",
      "source": [
        "!pip install tensorflow opencv-python\n"
      ],
      "metadata": {
        "collapsed": true,
        "id": "gL5kWo_Ycxew",
        "colab": {
          "base_uri": "https://localhost:8080/"
        },
        "outputId": "d47f34be-1ace-4702-f10f-d1fe8e586277"
      },
      "execution_count": 4,
      "outputs": [
        {
          "output_type": "stream",
          "name": "stdout",
          "text": [
            "Requirement already satisfied: tensorflow in /usr/local/lib/python3.10/dist-packages (2.17.1)\n",
            "Requirement already satisfied: opencv-python in /usr/local/lib/python3.10/dist-packages (4.10.0.84)\n",
            "Requirement already satisfied: absl-py>=1.0.0 in /usr/local/lib/python3.10/dist-packages (from tensorflow) (1.4.0)\n",
            "Requirement already satisfied: astunparse>=1.6.0 in /usr/local/lib/python3.10/dist-packages (from tensorflow) (1.6.3)\n",
            "Requirement already satisfied: flatbuffers>=24.3.25 in /usr/local/lib/python3.10/dist-packages (from tensorflow) (24.3.25)\n",
            "Requirement already satisfied: gast!=0.5.0,!=0.5.1,!=0.5.2,>=0.2.1 in /usr/local/lib/python3.10/dist-packages (from tensorflow) (0.6.0)\n",
            "Requirement already satisfied: google-pasta>=0.1.1 in /usr/local/lib/python3.10/dist-packages (from tensorflow) (0.2.0)\n",
            "Requirement already satisfied: h5py>=3.10.0 in /usr/local/lib/python3.10/dist-packages (from tensorflow) (3.12.1)\n",
            "Requirement already satisfied: libclang>=13.0.0 in /usr/local/lib/python3.10/dist-packages (from tensorflow) (18.1.1)\n",
            "Requirement already satisfied: ml-dtypes<0.5.0,>=0.3.1 in /usr/local/lib/python3.10/dist-packages (from tensorflow) (0.4.1)\n",
            "Requirement already satisfied: opt-einsum>=2.3.2 in /usr/local/lib/python3.10/dist-packages (from tensorflow) (3.4.0)\n",
            "Requirement already satisfied: packaging in /usr/local/lib/python3.10/dist-packages (from tensorflow) (24.2)\n",
            "Requirement already satisfied: protobuf!=4.21.0,!=4.21.1,!=4.21.2,!=4.21.3,!=4.21.4,!=4.21.5,<5.0.0dev,>=3.20.3 in /usr/local/lib/python3.10/dist-packages (from tensorflow) (4.25.5)\n",
            "Requirement already satisfied: requests<3,>=2.21.0 in /usr/local/lib/python3.10/dist-packages (from tensorflow) (2.32.3)\n",
            "Requirement already satisfied: setuptools in /usr/local/lib/python3.10/dist-packages (from tensorflow) (75.1.0)\n",
            "Requirement already satisfied: six>=1.12.0 in /usr/local/lib/python3.10/dist-packages (from tensorflow) (1.17.0)\n",
            "Requirement already satisfied: termcolor>=1.1.0 in /usr/local/lib/python3.10/dist-packages (from tensorflow) (2.5.0)\n",
            "Requirement already satisfied: typing-extensions>=3.6.6 in /usr/local/lib/python3.10/dist-packages (from tensorflow) (4.12.2)\n",
            "Requirement already satisfied: wrapt>=1.11.0 in /usr/local/lib/python3.10/dist-packages (from tensorflow) (1.17.0)\n",
            "Requirement already satisfied: grpcio<2.0,>=1.24.3 in /usr/local/lib/python3.10/dist-packages (from tensorflow) (1.68.1)\n",
            "Requirement already satisfied: tensorboard<2.18,>=2.17 in /usr/local/lib/python3.10/dist-packages (from tensorflow) (2.17.1)\n",
            "Requirement already satisfied: keras>=3.2.0 in /usr/local/lib/python3.10/dist-packages (from tensorflow) (3.5.0)\n",
            "Requirement already satisfied: tensorflow-io-gcs-filesystem>=0.23.1 in /usr/local/lib/python3.10/dist-packages (from tensorflow) (0.37.1)\n",
            "Requirement already satisfied: numpy<2.0.0,>=1.23.5 in /usr/local/lib/python3.10/dist-packages (from tensorflow) (1.26.4)\n",
            "Requirement already satisfied: wheel<1.0,>=0.23.0 in /usr/local/lib/python3.10/dist-packages (from astunparse>=1.6.0->tensorflow) (0.45.1)\n",
            "Requirement already satisfied: rich in /usr/local/lib/python3.10/dist-packages (from keras>=3.2.0->tensorflow) (13.9.4)\n",
            "Requirement already satisfied: namex in /usr/local/lib/python3.10/dist-packages (from keras>=3.2.0->tensorflow) (0.0.8)\n",
            "Requirement already satisfied: optree in /usr/local/lib/python3.10/dist-packages (from keras>=3.2.0->tensorflow) (0.13.1)\n",
            "Requirement already satisfied: charset-normalizer<4,>=2 in /usr/local/lib/python3.10/dist-packages (from requests<3,>=2.21.0->tensorflow) (3.4.0)\n",
            "Requirement already satisfied: idna<4,>=2.5 in /usr/local/lib/python3.10/dist-packages (from requests<3,>=2.21.0->tensorflow) (3.10)\n",
            "Requirement already satisfied: urllib3<3,>=1.21.1 in /usr/local/lib/python3.10/dist-packages (from requests<3,>=2.21.0->tensorflow) (2.2.3)\n",
            "Requirement already satisfied: certifi>=2017.4.17 in /usr/local/lib/python3.10/dist-packages (from requests<3,>=2.21.0->tensorflow) (2024.12.14)\n",
            "Requirement already satisfied: markdown>=2.6.8 in /usr/local/lib/python3.10/dist-packages (from tensorboard<2.18,>=2.17->tensorflow) (3.7)\n",
            "Requirement already satisfied: tensorboard-data-server<0.8.0,>=0.7.0 in /usr/local/lib/python3.10/dist-packages (from tensorboard<2.18,>=2.17->tensorflow) (0.7.2)\n",
            "Requirement already satisfied: werkzeug>=1.0.1 in /usr/local/lib/python3.10/dist-packages (from tensorboard<2.18,>=2.17->tensorflow) (3.1.3)\n",
            "Requirement already satisfied: MarkupSafe>=2.1.1 in /usr/local/lib/python3.10/dist-packages (from werkzeug>=1.0.1->tensorboard<2.18,>=2.17->tensorflow) (3.0.2)\n",
            "Requirement already satisfied: markdown-it-py>=2.2.0 in /usr/local/lib/python3.10/dist-packages (from rich->keras>=3.2.0->tensorflow) (3.0.0)\n",
            "Requirement already satisfied: pygments<3.0.0,>=2.13.0 in /usr/local/lib/python3.10/dist-packages (from rich->keras>=3.2.0->tensorflow) (2.18.0)\n",
            "Requirement already satisfied: mdurl~=0.1 in /usr/local/lib/python3.10/dist-packages (from markdown-it-py>=2.2.0->rich->keras>=3.2.0->tensorflow) (0.1.2)\n"
          ]
        }
      ]
    },
    {
      "cell_type": "code",
      "source": [
        "!kaggle datasets download -d snehilsanyal/construction-site-safety-image-dataset-roboflow\n"
      ],
      "metadata": {
        "id": "xoRdG0lzcUhb",
        "colab": {
          "base_uri": "https://localhost:8080/"
        },
        "outputId": "2f0a1e89-0054-4606-f9e9-1fb706f889d0"
      },
      "execution_count": 5,
      "outputs": [
        {
          "output_type": "stream",
          "name": "stdout",
          "text": [
            "Dataset URL: https://www.kaggle.com/datasets/snehilsanyal/construction-site-safety-image-dataset-roboflow\n",
            "License(s): Attribution 4.0 International (CC BY 4.0)\n",
            "Downloading construction-site-safety-image-dataset-roboflow.zip to /content\n",
            " 89% 184M/206M [00:01<00:00, 139MB/s]\n",
            "100% 206M/206M [00:01<00:00, 117MB/s]\n"
          ]
        }
      ]
    },
    {
      "cell_type": "code",
      "source": [
        "# Define the folder where you want to store the dataset\n",
        "dataset_folder = '/content/construction_site_dataset'\n",
        "\n",
        "# Create the folder if it doesn't exist\n",
        "os.makedirs(dataset_folder, exist_ok=True)\n",
        "\n",
        "print(f\"Dataset folder created at {dataset_folder}\")\n"
      ],
      "metadata": {
        "id": "LDYUklrkcX6E",
        "colab": {
          "base_uri": "https://localhost:8080/"
        },
        "outputId": "19114797-8261-4083-8d73-8d3c837bb47c"
      },
      "execution_count": 6,
      "outputs": [
        {
          "output_type": "stream",
          "name": "stdout",
          "text": [
            "Dataset folder created at /content/construction_site_dataset\n"
          ]
        }
      ]
    },
    {
      "cell_type": "code",
      "source": [
        "import zipfile\n",
        "\n",
        "# Path to the downloaded dataset zip file\n",
        "zip_file = '/content/construction-site-safety-image-dataset-roboflow.zip'\n",
        "\n",
        "# Unzip the dataset into the dataset folder\n",
        "with zipfile.ZipFile(zip_file, 'r') as zip_ref:\n",
        "    zip_ref.extractall(dataset_folder)\n",
        "\n",
        "print(f\"Dataset unzipped to {dataset_folder}\")\n"
      ],
      "metadata": {
        "id": "pjBdgqUfcfGU",
        "colab": {
          "base_uri": "https://localhost:8080/"
        },
        "outputId": "7c2a38e8-85d1-408d-c4c7-6ffcf530b7ac"
      },
      "execution_count": 7,
      "outputs": [
        {
          "output_type": "stream",
          "name": "stdout",
          "text": [
            "Dataset unzipped to /content/construction_site_dataset\n"
          ]
        }
      ]
    },
    {
      "cell_type": "code",
      "source": [
        "# Path to the css-data folder after unzipping\n",
        "css_data_dir = os.path.join(dataset_folder, 'css-data')\n",
        "\n",
        "# List contents of css-data folder\n",
        "print(\"Contents of css-data directory:\")\n",
        "print(os.listdir(css_data_dir))\n",
        "\n",
        "# Now, list the directories inside 'train', 'valid', and 'test'\n",
        "train_dir = os.path.join(css_data_dir, 'train')\n",
        "valid_dir = os.path.join(css_data_dir, 'valid')\n",
        "test_dir = os.path.join(css_data_dir, 'test')\n",
        "\n",
        "# Check contents of 'train', 'valid', and 'test' directories\n",
        "print(\"Train directory contents:\", os.listdir(train_dir))\n",
        "print(\"Valid directory contents:\", os.listdir(valid_dir))\n",
        "print(\"Test directory contents:\", os.listdir(test_dir))\n"
      ],
      "metadata": {
        "id": "-7idi77oclO2",
        "colab": {
          "base_uri": "https://localhost:8080/"
        },
        "outputId": "02ee4f36-7dbd-4eef-ec0b-49420ff6ecee"
      },
      "execution_count": 8,
      "outputs": [
        {
          "output_type": "stream",
          "name": "stdout",
          "text": [
            "Contents of css-data directory:\n",
            "['train', 'README.roboflow.txt', 'valid', 'test', 'README.dataset.txt']\n",
            "Train directory contents: ['labels', 'images']\n",
            "Valid directory contents: ['labels', 'images']\n",
            "Test directory contents: ['labels', 'images']\n"
          ]
        }
      ]
    },
    {
      "cell_type": "code",
      "source": [
        "# Check if images or labels folders exist inside train, valid, and test\n",
        "train_images_dir = os.path.join(train_dir, 'images')\n",
        "valid_images_dir = os.path.join(valid_dir, 'images')\n",
        "test_images_dir = os.path.join(test_dir, 'images')\n",
        "\n",
        "print(\"Train images directory contents:\", os.listdir(train_images_dir))\n",
        "print(\"Valid images directory contents:\", os.listdir(valid_images_dir))\n",
        "print(\"Test images directory contents:\", os.listdir(test_images_dir))\n"
      ],
      "metadata": {
        "id": "OAXvjf67cnmW",
        "colab": {
          "base_uri": "https://localhost:8080/"
        },
        "outputId": "b7284518-b0d2-497e-95ce-9f5abeb1772e"
      },
      "execution_count": 9,
      "outputs": [
        {
          "output_type": "stream",
          "name": "stdout",
          "text": [
            "Train images directory contents: ['construction-4-_mp4-19_jpg.rf.9bd721934889a9f63923ffb5285f4d3c.jpg', 'youtube-224_jpg.rf.0e87e77b917fae082722bc8e324092f5.jpg', 'youtube-667_jpg.rf.730ceb4b36b1417c6f952e2f5b0e6406.jpg', 'youtube-550_jpg.rf.2a83bed08e8a623e8261f9c935f70e09.jpg', 'construction-523-_jpg.rf.32a3982052d2961d530c1b49d3fe9a0f.jpg', 'youtube-175_jpg.rf.43dd4680523315f10c35983495275887.jpg', 'youtube-235_jpg.rf.f06d5cefa3f6f6b1ca0b4f707b71f016.jpg', 'youtube-568_jpg.rf.40b08efe635c831ccfeaff4494c412e1.jpg', 'mask-wearing-1632933572733_png_jpg.rf.ef7fc5df6b537c8c859bd7a0e4524a7d.jpg', 'youtube-276_jpg.rf.4db3522d66a80bfdd0afd4e92b7416b6.jpg', 'Bookstore111_jpg.rf.ebe6cd0b7e77dc3cea423b7b3458f67f.jpg', 'image_61_jpg.rf.29cef9c1e3298c6c56c69489d47dd7e1.jpg', 'construction-1062-_jpg.rf.bb9d74532f809eda6343cb0f354fc269.jpg', 'youtube-246_jpg.rf.8809473eb178b062b48fb1ee9b8e5369.jpg', 'construction-118-_jpg.rf.834d29e7ecd402dc301281478710eca5.jpg', '707_jpg.rf.8457eeaff99b07ff4e8ccb2317a7092a.jpg', '60_jpg.rf.7605faf52324ab72b148018c8ed93813.jpg', 'Movie-on-10-31-22-at-10_08-AM_mov-0_jpg.rf.5eb18cc65358b70ee602eafa99f2ff54.jpg', 'helmet999595_jpg.rf.6a6b0da0eaf9935229661a8a938ac91a.jpg', '005376_jpg.rf.f9d2282335b826a6baedffbb64cde582.jpg', 'image_796_jpg.rf.ef8c514974bb1395603f1a6a17a5638e.jpg', 'youtube-60_jpg.rf.17608ba2791115490e8624a0c0834f31.jpg', 'REVZGCBIJNQPMIIXOKDCQA3GJI_jpg.rf.12108ff6f8823fb661f2e8bb18b573cf.jpg', 'youtube-573_jpg.rf.713c4e4f79425510b5402a432d7bb392.jpg', 'ppe_0629_jpg.rf.4b0c8967670504f8469f6f0cf739ba32.jpg', 'youtube-699_jpg.rf.f3f1ac75a5f49d3f2e92c55798b10853.jpg', '006858_jpg.rf.f39d0c81a93d765d935f0f93295969d1.jpg', 'construction-267-_jpg.rf.ec6899b2550e859e6ffc075cd1903202.jpg', 'construction-4-_mp4-19_jpg.rf.b39073990b499b99dfe415a49fdb90bb.jpg', '005139_jpg.rf.e8403525bf33f19710d4adb5344256a9.jpg', 'youtube-646_jpg.rf.527616d746832ff14fc3555475685d1f.jpg', 'image_46_jpg.rf.48f9b930b56324dd2a055f249d7e247c.jpg', 'additional_tests-Nomask-wearing_mp4-35_jpg.rf.5cc8c4f2191c8dd3960db8e35aa92a1e.jpg', 'image_861_jpg.rf.084188e53e8f57c52d982c7a064afda9.jpg', 'construction-1-_mp4-60_jpg.rf.73ba97ab2f23c2ef4776160a27424f5a.jpg', 'construction-4-_mp4-189_jpg.rf.61bdf5db12b5dac593e742763da5043d.jpg', 'youtube-448_jpg.rf.08cb40c9d8a2813f6470fb2d2b1c61d4.jpg', 'construction-135-_jpg.rf.de989df51bba3fbfd485a65b285614a9.jpg', 'class1_253_jpg.rf.e8dbb66bc9377a3be293ce677b65c6e5.jpg', 'youtube-682_jpg.rf.36e90cb60cd8dfe2db4f9442f5492264.jpg', 'ins27_jpg.rf.21537e8ebf2f0a7fe02ebe6604272202.jpg', 'youtube-567_jpg.rf.1482e6c104401564d8293ee68f3369ac.jpg', 'amz_04178_png_jpg.rf.66878feb10ab848f3eb8cba2f05f0c31.jpg', 'construction-708-_jpg.rf.b1132dae9e707cb3cff82d42c3ace26e.jpg', 'image_740_jpg.rf.a609426b253105a9150695c8988a5cc5.jpg', 'youtube-391_jpg.rf.f4e10bd17cbc14d9d28a70c5e2e91150.jpg', 'smartmi-3pcs-filter-mask-pm25-haze-dustproof-mask-with-vent_jpg.rf.65cfa771ef85d3e3a5301e5ed0ccbd75.jpg', 'construction-5-_mp4-135_jpg.rf.ec35d9039ec826da9bc60496d2220f09.jpg', 'construction-112-_jpg.rf.aff73a376ef301a11e45c58fb084e7a5.jpg', 'construction-5-_mp4-29_jpg.rf.3ab6fb82c7b98c1cdb491e40508707a8.jpg', 'airport_inside_0449_jpg.rf.c52784087552daffc6c5f1e472955011.jpg', 'IMG_3103_mp4-1_jpg.rf.dd2fa809ba888fea1271c9931bca7b20.jpg', 'youtube-361_jpg.rf.3f7aa8802b2b37a2720fc4a5bd1fe05d.jpg', 'youtube-207_jpg.rf.9e0f85119e6ae22ff1c5fa5272606c5c.jpg', '002682_jpg.rf.b6b693995a740eb1a889f07fb5529845.jpg', '001425_jpg.rf.970cbc9921e627d49bab629e2bc7dd6c.jpg', 'youtube-196_jpg.rf.f867c0e95ef00e76e642e924d22d717f.jpg', 'image_31_jpg.rf.def230a91172b5472d173410bc978c40.jpg', 'construction-618-_jpg.rf.b1c7243e9ca367424591231467dad5c1.jpg', 'autox6_mp4-20_jpg.rf.01fd6c988a63b016a2ba95b6030344ac.jpg', 'image_566_jpg.rf.5949d42c2b92e40bc7d0d9130c5b1920.jpg', 'image_833_jpg.rf.a760d2cfd7ae0325593e33a966b49f83.jpg', 'autox4_mp4-112_jpg.rf.889d826e6c48099cdbaffc4cde949c1a.jpg', 'youtube-506_jpg.rf.a80afde96da589684d5c9b15c7b669df.jpg', '006012_jpg.rf.140391c68102321f02973bd473f607da.jpg', 'Mask2_mov-44_jpg.rf.7e8d95ce75a599860a7fff8c669ae851.jpg', 'IMG_0871_mp4-21_jpg.rf.3742720f5b18a07792795b1692cb46ec.jpg', 'RPReplay_Final1667001201_MP4-334_jpg.rf.51fd7c36651eed0fd6e08aa5d6763367.jpg', '2008_008753_jpg.rf.d4c5f043915bded8b5a1909134766f54.jpg', 'construction-684-_jpg.rf.f62968bca482b0ec40fd2771d94c2633.jpg', 'image_246_jpg.rf.95dc4339438bd272b9a2d2221e77945d.jpg', 'RPReplay_Final1667001201_MP4-21_jpg.rf.ffab92c4b5d4e9d14d4de9a8fef566fe.jpg', 'youtube-29_jpg.rf.8a394954d5e6c7f7f6b659b06fdd4150.jpg', '2009_002883_jpg.rf.33d18b918997b24639bd3b38944059da.jpg', 'airport_inside_0550_jpg.rf.d35ed2eaed77cca9c93f3d7c31064003.jpg', 'Image_991_jpg.rf.a52106bd4af0ce8bc49d9b8f6ba5c6c7.jpg', 'youtube-228_jpg.rf.29b0901283987da9bd0844bd373c2888.jpg', 'IMG_3100_mp4-25_jpg.rf.6cee1b67a21808fad2318593379f9986.jpg', 'youtube-272_jpg.rf.a40270b67814f8d7cf05eedcdfda4d35.jpg', 'IMG_9949-1-_mp4-63_jpg.rf.0d50a1b1eeb76ddeda4adb7d0713ad40.jpg', 'image_740_jpg.rf.bb45115dd9add31efda4687b92a2f78f.jpg', 'youtube-51_jpg.rf.2b25d288a8e8ad0429f9f22277c532b8.jpg', 'youtube-646_jpg.rf.e65c657ffa1ac398dc1dcebcb42b1e52.jpg', 'construction-4-_mp4-41_jpg.rf.c5e4bcc5976beec3e62122474353665b.jpg', '-3394-_png_jpg.rf.23b668cbcad07f1e0d9cfdedd151fd46.jpg', 'IMG_7286_JPG_jpg.rf.f3e308debd4cc4d6fc39218cb5c41ab5.jpg', 'youtube-480_jpg.rf.f56b518c19b3d3bb20226a0d0cb52cdf.jpg', 'construction-1050-_jpg.rf.8da8dac323ed509151143b4251c66b6d.jpg', 'youtube-668_jpg.rf.ce3804ef6c8f28490efeb8d2b5d52090.jpg', 'MariusConePic60_png_jpg.rf.e3c78bec7f9d53c0d0b9c7107c9d4dbd.jpg', '129_jpg.rf.0cb07be3237753e24204a014ebee12a0.jpg', '005139_jpg.rf.b51d392a15c3ca4943cfe750427ceb97.jpg', 'image_23_jpg.rf.8d8c02a91212d9c1f43fcae6d17defe0.jpg', 'image_176_jpg.rf.b8a919c25f0cc5d1caf0e4db3f2f77d0.jpg', 'construction-4-_mp4-189_jpg.rf.f2e4339a999eb718ff43ad57e06b4da6.jpg', 'youtube-13_jpg.rf.f99e4eb123997cf1a94823e7091657df.jpg', 'image_721_jpg.rf.6a8f6d3cde1115ffb9a796d78ba2b4fe.jpg', 'construction-821-_jpg.rf.f3d6f50ef917d0bf1a77282663f1e7a0.jpg', 'helmet999595_jpg.rf.f2eb6111970813c351aa83e7fb3aa21d.jpg', 'mo-justin-mask-NoMask_mov-34_jpg.rf.94fc350ee2eec538a35e13245f61b5a3.jpg', 'youtube-116_jpg.rf.e8009a00e3b89cbbf8af90a6338c1777.jpg', '2_jpg.rf.9ea7125de2c58de7327b2b061398d7f4.jpg', 'image_740_jpg.rf.92657171f87bcedef193b7abaa2fef39.jpg', '616_jpg.rf.cf72efbe3dbc4a777ba5bf192ad4bc33.jpg', 'class2_093_jpg.rf.7b80c39438a5b6c591341b76b449e55f.jpg', 'youtube-348_jpg.rf.f0c0935c79f1c2b59a63daa2b24ec45a.jpg', 'IMG_0871_MOV-30_jpg.rf.469d54b5cfd60a22d3b797c243043c82.jpg', 'YouTube_FreeStockFootage_People-wearing-face-mask_Empty-Street_Covid19-D_DbgrvhlGs-720p_mp4-11_jpg.rf.d3cdda5a6cc03c53f501c541ce35f055.jpg', 'youtube-554_jpg.rf.b18de4169917a75781361b42dcfede78.jpg', 'IMG_0871_mp4-10_jpg.rf.df7e36757e8f14d68d24814e81014f96.jpg', 'IMG_3100_mp4-6_jpg.rf.216a0344d34eb56a4730e981474eecec.jpg', 'image_861_jpg.rf.669a2ef10b751ba8851bde01c22a5632.jpg', 'img17_jpg.rf.a88d83be344f9592580a2e5c0c4dbfe4.jpg', 'londres_023_jpg.rf.5285d3173b933fcec7a18be4a6937074.jpg', 'image_294_jpg.rf.3fb7868468c81bc16637ea012898a6a3.jpg', 'image_55_jpg.rf.687fe5037e332ac02eb6cc93310845be.jpg', 'construction-618-_jpg.rf.7519c6fdc08f7146cc7a75a6437e2c5e.jpg', 'IMG_0871_mp4-0_jpg.rf.a3872a120d08419183f618c1ba5e7b48.jpg', '931_jpg.rf.53f65203b4afb8ca9ecbd4b4db03ffcf.jpg', '598_jpg.rf.41202d61b1f20d12b9539e39f77df32c.jpg', 'bookstore_38_02_altavista_jpg.rf.ae0ecbdcf798d341ca28b85a9f4918c6.jpg', 'image_566_jpg.rf.97e9b469fb0cd059278ff9cc8850f51b.jpg', 'mask-wearing-1632933572733_png_jpg.rf.ade0dc53cbb1070b9623428cd6d4ce74.jpg', 'youtube-486_jpg.rf.2054453ea6cb0f6e0d70231d298023b7.jpg', 'construction-253-_jpg.rf.d5829d56d58b707680c115aa1695b7c9.jpg', 'IMG_3103_mp4-3_jpg.rf.6153ea96525294c99f2a3b3c0d678fd0.jpg', 'image_704_jpg.rf.b020f3c4d3817254f832c3153d5d4047.jpg', 'image_757_jpg.rf.77d2e9e137cb91349fad23f3bb976007.jpg', 'youtube-474_jpg.rf.58f399a349808873e81a5592ceb49bbd.jpg', 'autox4_mp4-111_jpg.rf.007d84ad1f436206297bbc55b174fff9.jpg', 'construction-5-_mp4-137_jpg.rf.31d83b8a75abe31cb4d45ec7a18b42f8.jpg', '01261_jpg.rf.e4057437ee374e03ad9d0faeccbdcc72.jpg', 'youtube-573_jpg.rf.458129309c1c8850dbb06583b40a222a.jpg', 'youtube-18_jpg.rf.0e8406438fb943d30b283fd375756634.jpg', 'Movie-on-10-31-22-at-10_08-AM_mov-3_jpg.rf.4bb721c44b98a568ce3c1fbb70a4edde.jpg', 'construction-1099-_jpg.rf.df1d160085e954901f2efa84fd4a2e91.jpg', 'construction-5-_mp4-96_jpg.rf.ac37d2e09cdbfe8a45a670d5d9bd9b3e.jpg', 'image_475_jpg.rf.02bab98c288efee2ac30a3a19deab362.jpg', 'image_241_jpg.rf.53b2134f52e6617c58be5484c5b78667.jpg', 'youtube-224_jpg.rf.828282763610b13afaab1adc61cda0e8.jpg', 'youtube-849_jpg.rf.cdf29746fafb9adf4faa0db8deb66e54.jpg', 'youtube-636_jpg.rf.fad86da27a46317102835ff1395b307a.jpg', 'youtube-435_jpg.rf.6aa12c0a2e7658ba820900145dbb7b2d.jpg', 'youtube-459_jpg.rf.395f16aff5655d92ac8204ed967eb157.jpg', 'image_296_jpg.rf.73761155f1b463dff7eb2bdedad471e8.jpg', '1288788-une-employee-aide-des-voyageurs-en-provenance-de-chine-le-26-janvier-2020-a-l-aeroport-de-roissy_jpg.rf.e65c339a3dc986701e765116332dba2d.jpg', 'construction-347-_jpg.rf.da66417ec4dc8d612f5613fa67c262c7.jpg', 'construction-3-_mp4-23_jpg.rf.56e52a54a8316188c2a9584db9f40143.jpg', '4c43875bc97cdaece84ac6ce555235f1_jpg.rf.f0ababbd27b5c11652961e9e5b4da88b.jpg', 'IMG_5848_jpg.rf.66334b93ee34ef38681c9b88f8b9c66a.jpg', 'construction-2-_mp4-178_jpg.rf.7cea31ac9f8ab023bd65a904607a3d06.jpg', '135e-huxwryw6451820_jpg.rf.47219072cbbb4ed0d05bbfb4a495530a.jpg', 'construction-2-_mp4-178_jpg.rf.fa1b55734f91780c56954103f0e94ed5.jpg', 'construction-5-_mp4-137_jpg.rf.c21fdd6ea91c01d8f9f37d3f8cc7e474.jpg', '2008_008593_jpg.rf.a997ae409b26bbc3efa95dd6da91554e.jpg', 'youtube-464_jpg.rf.8784a32dc660e889975cf6d6065c469a.jpg', 'image_170_jpg.rf.2f38597bb6655852af47e376e052feec.jpg', 'class1_253_jpg.rf.122650046bf29ce612abeb7114621da2.jpg', 'image_731_jpg.rf.448630cbbbb702e4ba5710dc31384d0a.jpg', 'youtube-423_jpg.rf.fdfa1b970cc3b37e43b875883bc028eb.jpg', 'construction-1062-_jpg.rf.1c92fda4bd441d59c70cb857fe1283c0.jpg', 'construction-4-_mp4-188_jpg.rf.222a8ed73f017be9b2c3fb6c9e250bca.jpg', '2008_008593_jpg.rf.d56866006a516df1e61df4c19d11e159.jpg', 'IMG_3103_mp4-15_jpg.rf.d7e8a84fc7e9d53fe348320ea3af0e94.jpg', 'helmet999595_jpg.rf.dee6180028ca0d9f7a4c9e3988bff5e7.jpg', '2008_008526_jpg.rf.4c032b16756eb8ad94db6a8a224fb076.jpg', 'construction-4-_mp4-165_jpg.rf.13e8f0c11975618d318500a65f96805e.jpg', 'youtube-18_jpg.rf.e9a52e771b256c2e73a344a78e56bc3d.jpg', 'construction-999-_jpg.rf.0ed1dc47f25c88ee8da807e857fe4c41.jpg', 'image_841_jpg.rf.08463a010c475c732497176882629cdc.jpg', 'Movie-on-10-31-22-at-10_08-AM_mov-15_jpg.rf.cbab80300ef1d1918dfc98bd605c80ff.jpg', 'construction-2-_mp4-219_jpg.rf.d00dcbb1681782b09b105dd0c54d5852.jpg', 'construction-5-_mp4-75_jpg.rf.0844c3312299abbdca62c47534d96bca.jpg', 'image_937_jpg.rf.4e072512d29ae92199a58d2700039e5e.jpg', '002682_jpg.rf.32c372b1f8fe5c33729441cfa170fac6.jpg', 'IMG_3100_mp4-17_jpg.rf.cac019c72f4cfdc7fb9a916792eeb20e.jpg', 'image_337_jpg.rf.a1e56acd1e4cb3c5ccf547785cc41677.jpg', 'image_784_jpg.rf.664db1f56143ebf30ac8aa6cc47001f0.jpg', 'IMG_0871_mp4-24_jpg.rf.04f8e0e63c52a64b7c0b5bfcf48e84db.jpg', 'construction-3-_mp4-211_jpg.rf.a59e7bd9c031f0128fdde8485a5031f3.jpg', 'ppe_0629_jpg.rf.d95844bf887d9a486a3d5b4074edd25d.jpg', 'image_61_jpg.rf.d5e8864ef89417603f542c210b1d5c3a.jpg', 'image_875_jpg.rf.0f5439432d802c7229752bf569e7abc6.jpg', 'construction-4-_mp4-188_jpg.rf.c1a0568e41d5309293800c0e99cdc65b.jpg', '01235_jpg.rf.a9a777b5a318084f48a13a5f125554f5.jpg', 'image_731_jpg.rf.d69ac3d276810e2023c03d8002185485.jpg', 'image_302_jpg.rf.4b76d28e9817d77daf35b3ba59dc4c4c.jpg', 'image_941_jpg.rf.36c3b66812c73b361669e47bc055cc40.jpg', 'youtube-574_jpg.rf.4f2d383a6755c89da14c19c04f482a11.jpg', 'image_965_jpg.rf.0d903559d161c9be66f5508439656ec9.jpg', 'youtube-480_jpg.rf.faf443d4d10cc97074f6a80225f0ac29.jpg', 'youtube-812_jpg.rf.375474621f788ea313458cf4a7ba6e6a.jpg', 'youtube-207_jpg.rf.2b487f36db322cf9d08924a371efeeef.jpg', 'construction-268-_jpg.rf.7f61f198051a137993ee8c2936c75ecb.jpg', 'youtube-813_jpg.rf.63b422efff31ad667fbb228d39e0a2eb.jpg', 'construction-3-_mp4-211_jpg.rf.7a50e0bbc5b5dcf920cbd67eeaa0c576.jpg', 'image_1006_jpg.rf.54940aeca29eda3a51abe0cc917b0da9.jpg', 'youtube-276_jpg.rf.603b4c8af1bdb3b3858166bc2877048e.jpg', 'image_93_jpg.rf.92add6f12b5a17c292b30d081e7b9505.jpg', 'youtube-464_jpg.rf.270dc5c89f2d25b354d4cb1ba1d79a79.jpg', 'image_622_jpg.rf.eb67018944ac0f71031e3e94a0500667.jpg', 'IMG_0871_mp4-10_jpg.rf.5029e6b54c840d58a76479bfc12f73fc.jpg', 'Image_995_jpg.rf.60c0e78f49bac4cf43c00466d73bbcb7.jpg', 'construction-619-_jpg.rf.195c36f2b32843181bf4dfb5ffad2707.jpg', 'video_CDC-YOUTUBE_mp4-60_jpg.rf.b3e3d72f289dd1159dd93c1c3326e087.jpg', 'image_221_jpg.rf.1ad6ad58d2f06450b700f8e0c56bc859.jpg', 'image_418_jpg.rf.e566fa0d44b45d557b0b035a7d8d9e4e.jpg', 'youtube-270_jpg.rf.62a75ad69c0902ce2734b232975c1884.jpg', 'airport_inside_0345_jpg.rf.0ec6de25e596ed13beec56137db2cb19.jpg', 'construction-897-_jpg.rf.b1bd9732b4098eac183a82595f21199b.jpg', 'RPReplay_Final1667001201_MP4-370_jpg.rf.1a532f9ab681b2a276aaba111cec7f1a.jpg', 'video_CDC-YOUTUBE_mp4-60_jpg.rf.f0c74e62803aebc2c66afe8c01f2a773.jpg', 'construction-4-_mp4-27_jpg.rf.b8542d8311255bda3b5c5e0bbca8979d.jpg', 'youtube-661_jpg.rf.96b27bc1550d9c74255de3061c1d61cb.jpg', 'image_941_jpg.rf.9ce815eb34cff79f814a6e53ac470498.jpg', '005180_jpg.rf.07de45ecea6050e4afec7f8a3632ea11.jpg', 'construction-3-_mp4-67_jpg.rf.0c47d8b4097c133fc9320c56d5838ede.jpg', 'youtube-492_jpg.rf.74685b3e61f844bad845e9bec0c6f214.jpg', 'image_673_jpg.rf.6b9ad0d962abb35a825c6cc2c9faff5c.jpg', 'construction-435-_jpg.rf.af852baf4acdd1cf317e509d1609464e.jpg', 'construction-3-_mp4-67_jpg.rf.f1110ee47dca5c33c0afdb8f21f4283d.jpg', 'youtube-137_jpg.rf.f3c12d70881b7bcf0004d76431db4870.jpg', '4c43875bc97cdaece84ac6ce555235f1_jpg.rf.8f711c6b8a5d905cd6c0011a1a37e71b.jpg', 'youtube-228_jpg.rf.c2556222492905d23da402b351eba2e5.jpg', 'image_170_jpg.rf.0f55b91722306f122699342ce6c057aa.jpg', 'image_498_jpg.rf.ef40b17e50a80c7f7f3fb240a15d9d60.jpg', '01261_jpg.rf.a2f9b65be201cebad78a1c25a855b0f2.jpg', '235_jpg.rf.fc43ddf1f7b8872bae6b2d1f1495f634.jpg', 'Image_1025_jpg.rf.d305cc24e2ade948caab2bb624791bb4.jpg', 'RTX7CD4D-e1580252893876_jpg.rf.79dfa1562749048955b91d007f2ca5b7.jpg', 'Apple-Tests-Face-ID-Feature-While-Wearing-a-Mask-Shorts_mp4-51_jpg.rf.ffa08318a536c7ee18b57f9dbcc6616f.jpg', '-I1-MS09uaqsLdGTFkgnS0Rcg1mmPyAj95ySg_eckoM_jpeg_jpg.rf.ebf4adda36378f39ccb4a751d9c18183.jpg', 'autox5_mp4-34_jpg.rf.3c78d4783f9d8451aa12e1a2177ec740.jpg', 'IMG_3100_mp4-15_jpg.rf.c31067570072a0839fd1ab6cd0b7a5a7.jpg', 'image_818_jpg.rf.e6cd4aff34d752d2094d6c52cecaa239.jpg', 'class2_151_jpg.rf.c9d700ec806d7480fa61106081e9deac.jpg', 'youtube-376_jpg.rf.bb669b1ccbb511a2517b6080308046b5.jpg', '2_jpg.rf.2eba3dc769a0689dda8f6eb3fdbd297e.jpg', 'image_662_jpg.rf.21199937bc568e202a04c5c4e3867511.jpg', 'IMG_7211_PNG_jpg.rf.4cc6e82cb3e26474fe674ea343197438.jpg', '002458_jpg.rf.2d87971bcbefb5465fabce9ab5ec5967.jpg', 'move_in_corridor_jpg.rf.5b9d356b81a8ebcf90bf076911aab3fe.jpg', 'youtube-848_jpg.rf.bef04dc9e34440277e80f82cbdce6e8a.jpg', 'construction-4-_mp4-38_jpg.rf.731a7f476aa82dc019b3d59f977c11cb.jpg', 'image_46_jpg.rf.89b7dbc38378711e0f67bc3111df2884.jpg', 'youtube-423_jpg.rf.95b39994b1b2c6e4e40cbfbbc149d6b1.jpg', 'IMG_0871_mp4-1_jpg.rf.9e6880a33264ccea03e74b2773ed712e.jpg', '2008_008652_jpg.rf.6b38069d24cf22969d271effcec92c03.jpg', '005773_jpg.rf.6fd082a2f449bb3d41d8c0180cb6f6df.jpg', 'class1_199_jpg.rf.613bff69919975a0c19a8b77c7f2b139.jpg', 'airport_inside_0214_jpg.rf.15a384374cf39042cbdd00d9a0973b36.jpg', 'image_50_jpg.rf.2fd4f730ebf2e12ae454946a0927b5c8.jpg', 'IMG_0871_mp4-5_jpg.rf.986a2bfc0bc4260332a8718fe6711684.jpg', 'image_153_jpg.rf.f86a092614e123c322194a8bd8eccca6.jpg', 'IMG_3100_mp4-6_jpg.rf.6d3bf85c0ee0b95b3b9e84759125d470.jpg', 'image_647_jpg.rf.b5c65ea5f3f2326ad2beb751e0b72c04.jpg', 'youtube-560_jpg.rf.95875f8d875c1a43c1b4e6f39f77780d.jpg', 'Movie-on-10-31-22-at-10_08-AM_mov-10_jpg.rf.a76217e1b8a14424f279d8ae65cbbee6.jpg', 'construction-3-_mp4-122_jpg.rf.00a97bfc32df3222f4b9a59692a64cc8.jpg', 'youtube-165_jpg.rf.6b00efd09ed86e6969894d0bcc5aebb2.jpg', 'ppe_0985_jpg.rf.d354c1af8965080e1b86cf4a97d4d762.jpg', 'youtube-824_jpg.rf.66d684a9888bb29ffe83793dd2ed3528.jpg', 'construction-5-_mp4-96_jpg.rf.cb5353552d12f5f60ba0c90cda46d843.jpg', 'IMG_3100_mp4-17_jpg.rf.6fac032fb27d942d8578e0493d5e8fd1.jpg', 'construction-435-_jpg.rf.0d50ada8fdca82a1c6912db00230fd40.jpg', 'Movie-on-10-31-22-at-10_08-AM_mov-13_jpg.rf.2c6528020ce23351ad0d21110a578b0d.jpg', 'youtube-10_jpg.rf.c0fb2322113188e5da9d1716b1a04ebd.jpg', '2008_008382_jpg.rf.88abdb29b7db6d6218399b4adebdbe66.jpg', 'autox2_mp4-74_jpg.rf.03de8daca553a69507d670f4bf0247e2.jpg', 'image_620_jpg.rf.305fa19f39497ad2b70f8a7ad556a004.jpg', 'youtube-809_jpg.rf.054e02a52e43e5e78988cf5ff0e012c0.jpg', '2008_008382_jpg.rf.051446bdb7b3da2d378bef843e2db409.jpg', 'youtube-832_jpg.rf.45c0405782581cbf4192e788bcb8665b.jpg', '-2544-_png_jpg.rf.13bfe27776b4d713faf93d42421ae13f.jpg', 'image_704_jpg.rf.a5b43ef2288512fbe06fe5863393da06.jpg', 'youtube-502_jpg.rf.a17be40a7edd6cd947c24e8902b3abea.jpg', 'youtube-855_jpg.rf.346f539ebe7317c5c7202185ddd56af5.jpg', 'IMG_0871_mp4-21_jpg.rf.024bd8e9d752e4b0e2c647cd9bea94ad.jpg', 'youtube-51_jpg.rf.3145d6b80394273089e6b3dbd86d3a2b.jpg', 'youtube-560_jpg.rf.2f8d44461cd667c44659a5751d05bd04.jpg', 'amz_01638_png_jpg.rf.a5977d57aca5da492de5943c25631e3e.jpg', 'IMG_3100_mp4-24_jpg.rf.f251793e25ddd374d88a3d05b2ba10ce.jpg', 'youtube-837_jpg.rf.1c9fe1c871e46ff877c1f2b443576319.jpg', 'youtube-229_jpg.rf.2aabd364d6992f30d47742fa8b611d95.jpg', 'IMG_3103_mp4-15_jpg.rf.1982fcb34cda55f30264c4e7c9cc5506.jpg', 'IMG_5847_jpg.rf.b3c1a0e8834bfc57efcb59090121c44e.jpg', '2008_008618_jpg.rf.11fe8e58330bb2d014dcd6c04cdc04af.jpg', 'image_716_jpg.rf.a50609af0eb4794c25375a9eb9869742.jpg', 'IMG_0871_mp4-5_jpg.rf.3b3bc55bbbe3cad17f0dfbf621bb310e.jpg', '002458_jpg.rf.2a5e959314f62660e27f9ab53cf21952.jpg', 'construction-999-_jpg.rf.23daf4cedd16091ba4334c1fd6e8b271.jpg', 'youtube-730_jpg.rf.26bec93a311351ca9c06119164ef8de5.jpg', 'front_crawling_00088_jpg.rf.a2d51b171dfaa47798690e0a4150423a.jpg', 'youtube-730_jpg.rf.dc8771c0575bb38ba15221310f1eb78b.jpg', 'youtube-252_jpg.rf.03f835bfbb40ca3239a0e2693b12c3b5.jpg', 'image_288_jpg.rf.45c7f0134ba6495b00dce8a10b98c922.jpg', 'IMG_3100_mp4-24_jpg.rf.4b65b1bcb5f9753bbb16956181f44659.jpg', '494_jpg.rf.9528435ded55bbe6bae4d2f3d478ca71.jpg', 'IMG_3100_mp4-5_jpg.rf.ccef0f78d59cded299511b43a1b899cc.jpg', 'image_673_jpg.rf.b735afb05956b1748764df1dfe11f0cb.jpg', 'Movie-on-10-31-22-at-10_08-AM_mov-3_jpg.rf.abf1bf422e052a7a44c307a1f7c94b7a.jpg', '000415_jpg.rf.63b7e0293fb53612fdb4695fa0debfb7.jpg', 'youtube-726_jpg.rf.7ca57d637c5acb0d2772e0815a6d80e3.jpg', 'video_CDC-YOUTUBE_mp4-50_jpg.rf.95dcacf53d3e25b6eb8d595f84e47388.jpg', 'youtube-300_jpg.rf.96830f04e5e24cd4fd66dc852d2933be.jpg', '-2297-_png_jpg.rf.9fff3740d864fbec9cda50d783ad805e.jpg', 'youtube-266_jpg.rf.50e4241fd44af0788a1f3530e49b2e07.jpg', '135e-huxwryw6451820_jpg.rf.934c0f8f070cf99570b4fe46256e9c0f.jpg', 'image_560_jpg.rf.c9db5d5571253f2e6bd8b8559e0cc313.jpg', 'IMG_5024_mp4-4_jpg.rf.d5013fea721284359d4e763e53e6692e.jpg', 'youtube-806_jpg.rf.c0abadb1a80331958e9b2f0fcdc99469.jpg', 'video_CDC-YOUTUBE_mp4-60_jpg.rf.a996d64f9fab297449534660422289c1.jpg', '005139_jpg.rf.264f7aac166fc2d8628473d964339aa2.jpg', '-2544-_png_jpg.rf.185d1d1c0cb4027d76f7e31cd409022e.jpg', 'youtube-384_jpg.rf.4112a46ab81f97f392849d7656bb47c0.jpg', 'youtube-209_jpg.rf.b5ad704cb8a44e82ab6697bb3c275fd9.jpg', 'youtube-809_jpg.rf.6fb92c2982d1c552da9c5ba10ff72d5e.jpg', 'youtube-270_jpg.rf.f37b036f2e57b71cba2781aacd44447f.jpg', 'construction-763-_jpg.rf.1f60ab1eaefee1f11c673ea202888bbd.jpg', '627_jpg.rf.efaff0a9ea6cfd24b2ed0bbf8b09edf6.jpg', 'ppe_0029_jpg.rf.4de755a33273c4a133641a62c69bea46.jpg', '165_jpg.rf.b04fddf04e5b76ae6a68fa12f94390d0.jpg', 'youtube-229_jpg.rf.72892899bc70a5c19c6313db73666df8.jpg', 'bowling_0014_jpg.rf.192dc02b9aca65ed8c0200d86ff873e5.jpg', 'image_50_jpg.rf.20d6911819d7f972d6606a4636ab1b40.jpg', 'youtube-187_jpg.rf.b93f4561b9a8e36014df11550075b9d4.jpg', 'construction-305-_jpg.rf.0ca723c56ea7de2d5d2482750837c6e2.jpg', 'Mask2_mov-44_jpg.rf.43a0b2a020b8d09ce2449370403be44b.jpg', 'image_624_jpg.rf.e535adb62ea33ee97c2df2b13113c4f5.jpg', 'mask-wearing-1632932085584_png_jpg.rf.25173d12a53c03ee1b12dbc1c023f7d6.jpg', 'class1_199_jpg.rf.7470f7f5a9af05a8cab23a126ab247b1.jpg', 'class2_151_jpg.rf.7c9b4ff5801d8817a3da4485cb3a52d2.jpg', 'Industrial-3-Part-Skymaster-insitu_jpg.rf.3655be228fc86e1053c10a51a5d16b34.jpg', '-2252-_png_jpg.rf.5d2ba68a39912deb9e4383661418224f.jpg', 'autox6_mp4-157_jpg.rf.0bb6fec008de80af30afd18d1a6c676f.jpg', 'amz_02354_png_jpg.rf.05804b93377b6f8d38b6e61553c4c129.jpg', 'youtube-229_jpg.rf.d5f55a3c41b3bbc9c0408db11fd3182f.jpg', 'image_326_jpg.rf.ea420584500c363c0851769a46b1ea3e.jpg', 'IMG_5850_jpg.rf.2aa73bed7732daebfbde3f13fa13f740.jpg', 'construction-246-_jpg.rf.bded1f9cc77f185a6281e371634a4759.jpg', '2008_008444_jpg.rf.88f63ad836e2885c2e4d56d8f4ebf471.jpg', 'class2_074_jpg.rf.fcad9abb23e115e251789cae2020ab58.jpg', 'amz_02354_png_jpg.rf.a3aba4dcbc962e937a2b590392aec320.jpg', 'construction-4-_mp4-188_jpg.rf.b432a7682ba15224171e52a9c7d30a71.jpg', 'class5_012_jpg.rf.91a8109030706b5ab458c84d5aadcf67.jpg', 'amz_01638_png_jpg.rf.fc30c65fb3c1e97e7114ecb396a1004b.jpg', 'youtube-661_jpg.rf.fa385cb41313359cf19b3a20a78d944f.jpg', 'construction-3-_mp4-122_jpg.rf.0bf7d059fd927edf3286b16f9f4fc764.jpg', 'Image_991_jpg.rf.bcf09e9cb1b50e75676d26026b1dd6e6.jpg', 'londres_023_jpg.rf.f769008a6a62c2c3fad47b312f95a5cc.jpg', 'image_191_jpg.rf.71069501abb9c1241f65f97034042a1c.jpg', '2008_008618_jpg.rf.36f88cd9160d2a0be857a1f22210540b.jpg', '005376_jpg.rf.0c1077624516cc048e465b4a675ce5e2.jpg', 'construction-528-_jpg.rf.cf2c53e133b7c53f3374d4bb2e6c6b89.jpg', 'construction-3-_mp4-148_jpg.rf.b032a56f7ba893a520c79ed256a65f02.jpg', 'youtube-188_jpg.rf.2b59761677c691be543a13bd9792f616.jpg', 'youtube-645_jpg.rf.b1b8eab76ceffb9ed93fee8ed2bbed86.jpg', 'youtube-175_jpg.rf.923def3bc3a0cbe771c4f938bea6c297.jpg', 'image_880_jpg.rf.be962d8d02f0e9f8c7fb77cb53594529.jpg', 'youtube-668_jpg.rf.4aa90caeca7a6635021aea2a4f3ccf13.jpg', 'construction-434-_jpg.rf.d5ba4f33db856f8fe617d0283dbba3bb.jpg', 'video_CDC-YOUTUBE_mp4-50_jpg.rf.cb32d15d49f5f5a43a828b26ef50c6f9.jpg', 'class1_253_jpg.rf.6f354ca9b3b40523fcd3c44e935ad835.jpg', '2_jpg.rf.81cecacca0143515726201efb42fe5b6.jpg', 'youtube-303_jpg.rf.a516811dbe3ba18ff8c6e196490c1789.jpg', 'construction-560-_jpg.rf.114f9f0f47688c4843cc7cd8a35c95c8.jpg', 'autox5_mp4-34_jpg.rf.e0c7d0632b6b6ec9aae7b89a2b096bea.jpg', 'image_875_jpg.rf.3d674469d92b9dc298a57c5468b95e1f.jpg', 'construction-4-_mp4-189_jpg.rf.d1e7f3d623c27f0779083ec386106007.jpg', 'IMG_5847_jpg.rf.c9bb83b73ce7dfdec5f3a37f18a5fc4b.jpg', 'construction-5-_mp4-98_jpg.rf.d740dd74b71d71e5b4377878190090ad.jpg', '02629_jpg.rf.1c71d128f3dca9b80504e5e7163508bc.jpg', 'construction-4-_mp4-185_jpg.rf.2f9a20acb20029a8d99caf5f3b76e0b3.jpg', 'IMG_5024_mp4-5_jpg.rf.d30dafa5092b6bf3be54c97d9ba8af12.jpg', 'class1_235_jpg.rf.b8c6421174b3ec692ff917bb380968e2.jpg', '598_jpg.rf.92e4f3ce086a97c13042066ab56e4725.jpg', 'youtube-242_jpg.rf.a071a5824b6c309c3360741639d653e8.jpg', '2009_004301_jpg.rf.91ec90a81cecd19e78920c6ceaf0d01e.jpg', 'airport_inside_0214_jpg.rf.55aa735ddec0ec8b610b74d2cc8e840c.jpg', 'IMG_5851_jpg.rf.61c635069db71ba9ca15d73e7f4d860c.jpg', 'youtube-395_jpg.rf.adc53c60bee577e3e1a70893ba7dfbdd.jpg', 'construction-434-_jpg.rf.0da1846417898f4705b991db5ddf9892.jpg', 'youtube-574_jpg.rf.3e198affe680e93fff82325572cc6972.jpg', 'construction-693-_jpg.rf.1b09f74fb2b1e1f685580241cb6c368f.jpg', 'fnacc_corridor_jpg.rf.9650bd5f5ec69e22870d64a7e5d6452b.jpg', 'ppe_0750_jpg.rf.6a25fb7ef7bba0bbadeaa81926f2500c.jpg', 'construction-4-_mp4-38_jpg.rf.60ef8acdb20ee1db1643bdc4e0ed9838.jpg', 'IMG_0873_MOV-10_jpg.rf.14fa8d79b68f5e05ad10827bf55d7d2b.jpg', 'youtube-459_jpg.rf.f805f9dac7087523ded2d9abcc092d76.jpg', 'youtube-254_jpg.rf.1939cc2235cb0e0fa9498e877a191892.jpg', 'YouTube_FreeStockFootage_People-wearing-face-mask_Empty-Street_Covid19-D_DbgrvhlGs-720p_mp4-11_jpg.rf.beca7821153673629c7d133ac8e4a71e.jpg', 'image_288_jpg.rf.f3ce8a0cb0824f37d91f151e6bc9e4e8.jpg', 'IMG_5848_jpg.rf.f85d11dd4ca63822364c1c1ebb1c23db.jpg', 'construction-813-_jpg.rf.5399e99ca598ff02316d420184b77a09.jpg', 'class2_151_jpg.rf.c690c0834b8a4d77844db032744a2e96.jpg', 'Movie-on-10-31-22-at-10_08-AM_mov-0_jpg.rf.4d7f373a15931dfd2572e11460cdda90.jpg', 'youtube-332_jpg.rf.b7a75e3e3e84a76bfe76ff228d95d664.jpg', '005577_jpg.rf.f153278ef72ca14b0fee9d9c16331fa2.jpg', 'construction-4-_mp4-94_jpg.rf.2b9ba76d627d94a28cf92437d21569cc.jpg', 'IMG_0871_MOV-39_jpg.rf.914e1002113e41ada32a1a90a66aab9a.jpg', 'class5_012_jpg.rf.94da244a7179a22b22715a0a69a1086b.jpg', 'image_23_jpg.rf.4d595f95fa30ca00a4e0dac39d6d0447.jpg', 'ins30_jpg.rf.9a68c27ba37a2ff961e674ab0a791c0d.jpg', 'Inside-merge_mov-16_jpg.rf.509243c79928e5eb4f9e9c448fd01aea.jpg', '-2252-_png_jpg.rf.f1af5d3457c140c4af5f63f7ac6f79f4.jpg', '005773_jpg.rf.f74645690452329b76e09a3fe0a26735.jpg', 'construction-813-_jpg.rf.5e884cd4df5ca5b9638ff04197fca7b5.jpg', 'autox6_mp4-20_jpg.rf.9c0e1ceb391e1bad75ca88cf9b6ba045.jpg', 'youtube-709_jpg.rf.53c48ecb7866e3081701207f656fccc2.jpg', 'construction-897-_jpg.rf.71a3bca2df2ced388a3e28c47d6b85e7.jpg', 'construction-682-_jpg.rf.420357ac3472a3dfe9631df6dcb809d0.jpg', 'construction-560-_jpg.rf.a353d8779de14a95c1cd52bfbf47c368.jpg', 'youtube-567_jpg.rf.290d0d726e3263a6dd0985a5641acdb6.jpg', 'construction-5-_mp4-48_jpg.rf.4fdbba397c6dbde429373640d634e935.jpg', 'youtube-615_jpg.rf.ef4781ab78ef34a83cae9a6c44658dcf.jpg', 'image_796_jpg.rf.853d0ea8303cedda3b36c59f65f03cbe.jpg', 'image_435_jpg.rf.b7353391129378f1de81fe5ac436d72f.jpg', 'IMG_0871_MOV-39_jpg.rf.b1ef6aecc28e153eeb71c698cee34c0f.jpg', 'youtube-407_jpg.rf.c9d017f8efbd7555d23f79504a2dfbaf.jpg', 'IMG_0871_mp4-9_jpg.rf.2f7c21e75f95f0f1b1803a708e06f342.jpg', 'image_241_jpg.rf.179998a1907f7ec0efb31058dfadfcfc.jpg', 'youtube-554_jpg.rf.9546dec733b426a9358402a0f27b2648.jpg', 'image_498_jpg.rf.635c6a6b76f2377a87be191023c9f3a9.jpg', 'youtube-18_jpg.rf.d2817da497a7109e0388ea1550d9901a.jpg', 'n190039_jpg.rf.88627d9e82a53fef7f6c11b7029faeaf.jpg', 'image_46_jpg.rf.fca0eb9eb04c5c3fc20e3783f18f56f2.jpg', 'n190039_jpg.rf.ac2ef3422c18ec974d83ba84b23e5b2c.jpg', 'bowling_0014_jpg.rf.fa3a779743c3d783023951b5bfc09916.jpg', 'autox4_mp4-42_jpg.rf.b46d66b710aa73867b319e1c40104df9.jpg', 'construction-741-_jpg.rf.41c3f830c4dfdc4f555898a2864672f1.jpg', '2009_004301_jpg.rf.f6d3387ae733775532ac78bc18756f07.jpg', 'youtube-360_jpg.rf.9bccf41e7070b3ed0f24dc61e71609a9.jpg', 'image_246_jpg.rf.5b09f63561fa416c6e982b459acf98d4.jpg', 'autox4_mp4-42_jpg.rf.168d938b73a3fad1e02467e01689fb8d.jpg', 'construction-1116-_jpg.rf.d86e88d4a8ced388b86abff05c5aeefe.jpg', 'youtube-197_jpg.rf.7f0d9cdc6064fb94be0392bea9c984e7.jpg', 'youtube-731_jpg.rf.47b70ce0a8b8a93aca5916119175a04c.jpg', 'construction-112-_jpg.rf.f8d9f3850971d148a63d2c102197a651.jpg', 'image_731_jpg.rf.5659c6a57ec8c695269d4e192f3ace10.jpg', 'youtube-645_jpg.rf.8a5e2742de2430f50d2641fa3e7151cf.jpg', 'construction-976-_jpg.rf.aa9cd497223593bb3d528673dbeb75f5.jpg', '-1975-_png_jpg.rf.b5622016579bca7e2e993de3470405e0.jpg', 'youtube-64_jpg.rf.333df47a2727bb154654857a9b997445.jpg', '2009_000063_jpg.rf.ac4540391143af1302719e3168371e12.jpg', 'RPReplay_Final1667001201_MP4-55_jpg.rf.c8d6c2e9f831b945ef1ae37dbf74279c.jpg', 'construction-1115-_jpg.rf.f4e84bf10d14c55df148f2f8ea589760.jpg', 'YouTube-FreeStockFootage_Child-playing-with-parents-JoyLaughterHD-RQ_qqCZOkZk-720p_mp4-42_jpg.rf.e48e1b080b1e11b2dd67076404d70931.jpg', 'Image_1009_jpg.rf.34eb16e960f75d46499ea6ab6237dabf.jpg', 'RPReplay_Final1667001201_MP4-370_jpg.rf.5c21800e4a180039fa8c029132eaa81d.jpg', 'airport_inside_0073_jpg.rf.22bc836b34109ced850c762d4213727d.jpg', '002682_jpg.rf.495badbe291ebb8518eec8a9d947f0c7.jpg', 'youtube-829_jpg.rf.dea2669b7b26f62b24e48dbfcf6d28f3.jpg', '2008_008600_jpg.rf.d8f5f9cf688bbe34999c4fdea17bc8bf.jpg', 'Image_1021_jpg.rf.c0569909c0a161ddae0bbf3446b84642.jpg', 'ins30_jpg.rf.cd7d441fa802b4042ff89c2bf9a6a013.jpg', 'youtube-589_jpg.rf.07d0bad22d2eb2e35280ae94ba8d359f.jpg', 'image_527_jpg.rf.b58d8bf71e2a9ae6c06f1dd895c8f5c3.jpg', 'YouTube_FreeStockFootage_People-wearing-face-mask_Empty-Street_Covid19-D_DbgrvhlGs-720p_mp4-11_jpg.rf.aef8e3cdccf0305e2c8237fb6734dc69.jpg', 'construction-1116-_jpg.rf.293365d3885eed0bcae63201c5ca15f6.jpg', 'image_829_jpg.rf.5378c70ffdef0f8e67e904614f4354d1.jpg', 'construction-1-_mp4-64_jpg.rf.92efd1b50f4e66f245f5705e2d6b7342.jpg', 'image_39_jpg.rf.ae457b40ef2ab2b4b0e24718388019ea.jpg', 'maksssksksss795_png_jpg.rf.d3b354627736744726846a775f91d887.jpg', '005376_jpg.rf.b5f5bae65dbd647030aa3a08c16f17f0.jpg', '616_jpg.rf.fdef094924d19a5cd197494c1cb81759.jpg', '005773_jpg.rf.8d8eb7d11388f2283ec465d523c98a6a.jpg', 'construction-860-_jpg.rf.e5cafb3fde90c38990c846516ac4996c.jpg', '2009_000280_jpg.rf.7c269bca3935b65ae9bf2d15593b9711.jpg', '006012_jpg.rf.57e2757e014f88ed990284daa18faed6.jpg', 'IMG_3100_mp4-23_jpg.rf.d2ec775d08f151313efa1364ccbd6d7f.jpg', 'youtube-502_jpg.rf.c3320c43830b6fc9bbcb449d42c5a810.jpg', 'IMG_3100_mp4-0_jpg.rf.68984554e9decf5117f6fc2e2fb2d8b5.jpg', 'Movie-on-10-31-22-at-10_08-AM_mov-14_jpg.rf.77fd7a99151657fe274f08f9506927d9.jpg', 'image_255_jpg.rf.5037331638f2a0af78d018b8a719dfd9.jpg', 'youtube-731_jpg.rf.3d6e40e059da03693975100ae8a204d6.jpg', 'youtube-42_jpg.rf.3310ac1e447d6d4971d1237670eeabc0.jpg', 'youtube-554_jpg.rf.dcdb088f996430efdc855565535f7c50.jpg', 'ppe_0015_jpg.rf.e9459752d7ff76c1d47841348f62b534.jpg', 'ppe_0491_jpg.rf.f7d47380ac16da405eb34a6a83171afc.jpg', 'youtube-646_jpg.rf.26b91c9dd7980bda27b42271533e4734.jpg', '005100_jpg.rf.8f58de6f4be40f7e676c1e35773b2056.jpg', 'construction-986-_jpg.rf.3e843a82fab27d66c13283ea6e0cb2f6.jpg', 'class1_199_jpg.rf.25ac2f354750de8592d134101f96dec8.jpg', 'airport_inside_0449_jpg.rf.96ce7258cff66f91dc199992535159d2.jpg', 'bowling_0014_jpg.rf.3868e64af06f185495043f847b0d5aab.jpg', '2008_008753_jpg.rf.186c87c81cd6acbc5dbd5a24cdc48033.jpg', 'youtube-29_jpg.rf.996f85a3a30c3e69358f2013e7897e19.jpg', 'construction-860-_jpg.rf.94811593888a6691da4f58ff3b7c7175.jpg', '005100_jpg.rf.94a94bc12f13609d6c57cbd13100dd8e.jpg', 'construction-844-_jpg.rf.a7627602fbf3ea6d5ca64bc7782706ff.jpg', 'image_95_jpg.rf.5a359558ad2cb6996d1053e9bcb16960.jpg', 'IMG_0871_mp4-9_jpg.rf.e58e573ca41180b78bf69f552d78f1ba.jpg', '2008_008600_jpg.rf.fbcb0255367052070ef10f94875ec8e6.jpg', 'construction-267-_jpg.rf.222246f7ce5e3109de00144c4f603292.jpg', '2008_008618_jpg.rf.31e87a24eebedbd40bb9b22f0d0fe788.jpg', 'youtube-824_jpg.rf.7c7e967cd3132bc0a9236facb9d8a9b8.jpg', 'construction-4-_mp4-41_jpg.rf.ab0b49bfa0036086c3d484b988e99934.jpg', '2009_002711_jpg.rf.2432192dc727d132f2eb4e85daf069de.jpg', 'youtube-534_jpg.rf.b99e856a6009778e822431e4e4858a82.jpg', 'youtube-303_jpg.rf.9682cdf3e474e58bf4dd2d23cdf55d98.jpg', 'youtube-492_jpg.rf.86e61eaaffcdff5e4a71394055a3d967.jpg', 'amz_01638_png_jpg.rf.92c962d17e176a4786e34eac1c7f6fe3.jpg', '2009_004148_jpg.rf.5a40d87b1f2f75213b65d0b6d3cc9ee1.jpg', 'Movie-on-10-31-22-at-10_08-AM_mov-28_jpg.rf.1fe0d6f0aac876e1c14d2c6752ecb47b.jpg', 'mask-wearing-1632932085584_png_jpg.rf.20c1b33f4b3995a29499e671565617e5.jpg', 'construction-246-_jpg.rf.c154f584dcea0a9d559484f0f2c14734.jpg', 'IMG_3103_mp4-15_jpg.rf.50d17fb072207d6adc1aa10293ea50bd.jpg', 'construction-3-_mp4-148_jpg.rf.07346a7ecc8e3fe6a1d39371f416e540.jpg', 'youtube-131_jpg.rf.87ec337892f42d6dae5c729a66b463ac.jpg', 'youtube-348_jpg.rf.afbf521c4e2d7f221b58b6bbc3f39f4f.jpg', 'image_55_jpg.rf.88ca3048372d91f49c80084e75cc41de.jpg', 'image_55_jpg.rf.c2bafab72e0cdd8f765964b73df61128.jpg', 'image_18_jpg.rf.a7f18f0fb9fb1c0bebd2baf096afa9f9.jpg', 'IMG_0871_mp4-0_jpg.rf.4abdea6d3496fff646d9cb9abdee22d8.jpg', 'image_13_jpg.rf.2b8a935fb25cb33b55fa32f6906d63ad.jpg', 'youtube-209_jpg.rf.45c339647db05b692016e826489f33f8.jpg', 'youtube-464_jpg.rf.7bb53b3a3ff538572b629a90c80ee56d.jpg', 'IMG_9949-1-_mp4-24_jpg.rf.4e70dafee713880ae7bef777adaf7f09.jpg', 'youtube-228_jpg.rf.c84cc732daaafe38262dd837acb9f0a7.jpg', '1582_jpg.rf.6b13cf235d91a186b9849393992d26d9.jpg', 'image_833_jpg.rf.c8c598680e131743899f326fe3628267.jpg', 'youtube-564_jpg.rf.0bd1880a77344188952361b26e244871.jpg', 'youtube-636_jpg.rf.623eb323389f62bea29c28bd49793022.jpg', 'image_1006_jpg.rf.f3a3c81a1ad91fc3f4432c9e3233a348.jpg', 'IMG_5850_jpg.rf.90ccf023db51c6905c0e271534e707b5.jpg', 'image_527_jpg.rf.d77ff73555880aaa63b1577d5850168f.jpg', 'construction-212-_jpg.rf.78a7d836a9b79b59b0d51323619e63d9.jpg', '2008_008382_jpg.rf.9c0e50eae212ceaba5d487cfc1789a8d.jpg', 'IMG_3103_mp4-3_jpg.rf.b57a67cc9edcb3ac7ee87b2e14e56605.jpg', 'construction-260-_jpg.rf.b8584809048dd6843855f0f8c5b0a7a9.jpg', 'class5_012_jpg.rf.b9584b5d299a1a27b65bea64b58c37ff.jpg', 'image_257_jpg.rf.fd3219a7fb8439fe4f600d235ca920e5.jpg', 'ppe_1212_jpg.rf.5d9175173a153a8b5bf1643129b3a349.jpg', 'IMG_3100_mp4-24_jpg.rf.b29ff2e9363136c15ab19cac4cda72b5.jpg', 'IMG_0871_mp4-14_jpg.rf.67597db5dc2bad280121bbd22170d9d5.jpg', '727_jpg.rf.50453fc49894c5dab11c12563b61938b.jpg', 'ppe_0750_jpg.rf.59c05e6f5064e20add59ff074c518073.jpg', 'construction-1099-_jpg.rf.aadb8d817921f24038d2f6ecd0a78b75.jpg', 'construction-253-_jpg.rf.3e850898ed55f86eced4486e4cb1840f.jpg', '-3394-_png_jpg.rf.55aa7de8ec0bc72fd08ac6c23fd9e7a6.jpg', 'youtube-579_jpg.rf.fb63d26647576c4068406dd26f6cae42.jpg', 'class2_093_jpg.rf.32f5a4ec255bd410a88b1d428d36b978.jpg', 'img_038_jpg.rf.bb15533a376bd72bc9380db78dfcc649.jpg', '2009_000379_jpg.rf.85d67f69b0f051e37d393b7ada4500df.jpg', 'image_620_jpg.rf.491476468415f41cd5c4be5debe9b6ba.jpg', '598_jpg.rf.18076700a0d087010905850e75759dd0.jpg', 'construction-816-_jpg.rf.dcd3ed6a69a914c9f54050d3e07ca5a8.jpg', 'youtube-44_jpg.rf.92002390c73044c6cbf117f81e542eb6.jpg', 'construction-331-_jpg.rf.52581f5e20bb001a25462041667c51e6.jpg', 'image_716_jpg.rf.09d95b35eeade4e91392ea5ca06d7595.jpg', 'image_379_jpg.rf.a90539fc04296d6c7fd0364dd45e5d3b.jpg', 'construction-763-_jpg.rf.b1b2992eab87ad60c8b0cc6c71a42ee1.jpg', '005239_jpg.rf.20727bffc9c5afe39c9bfdddf3a4f222.jpg', 'construction-821-_jpg.rf.098b834846b3be5f1b24ef6dbc3a30a4.jpg', 'image_732_jpg.rf.7e34583546e61772c24efb92dcb60fe8.jpg', 'image_176_jpg.rf.1716b2e67aed8cdf829114b18ad9a099.jpg', 'youtube-64_jpg.rf.863242580b0ac922541b8f479eaaf5ac.jpg', 'Nhh_img_141_jpg.rf.9c0deb5a98f350e6a55e5e0a2baf5b57.jpg', 'Movie-on-10-31-22-at-10_08-AM_mov-0_jpg.rf.17449a231054cf8460daca7adc59c09c.jpg', 'image_379_jpg.rf.77d7bc1ae0d32bf5a2ca4bc2db0b8f56.jpg', 'youtube-49_jpg.rf.eecc0008cd5c3a038f1981f09494321c.jpg', 'construction-2-_mp4-15_jpg.rf.a5fa6e719e0427f773a54c8d4cc19a1d.jpg', 'image_757_jpg.rf.7b0a8bc8ca385ef69f92a05a4d7cabe2.jpg', 'move_in_corridor_jpg.rf.6ab9a86dad87653d6f45f5a8e51a0efa.jpg', 'construction-547-_jpg.rf.c52e164f4ba0cb32256dab37ae4ac8c6.jpg', 'construction-1-_mp4-51_jpg.rf.918a7bdc4ca148b6af590b9aa79bb890.jpg', 'construction-305-_jpg.rf.d6bf62f198a43cec387208b956a3c8f7.jpg', '727_jpg.rf.88b4842b25f06d9a0abc65e5200ae5b5.jpg', 'youtube-534_jpg.rf.95e5ec43eaf6f5570750ad6944d9b11e.jpg', 'Movie-on-10-31-22-at-10_08-AM_mov-9_jpg.rf.9c151802b6a69d088e7a9c25c567f3dd.jpg', 'youtube-622_jpg.rf.c2168764d6c0902f3aeeda7ea0706c24.jpg', 'image_28_jpg.rf.5362986b509d3f803a13895c369a03e9.jpg', '707_jpg.rf.bca714d4d4b04e93b580bf480cd071de.jpg', '931_jpg.rf.3fbfec4632048a0d850726a04954a2d6.jpg', 'IMG_9949-1-_mp4-63_jpg.rf.23b3f6343eb2c857c3fddd2fd0b9307e.jpg', 'youtube-731_jpg.rf.e4515115515cca8190fc1dca7f73256b.jpg', 'youtube-628_jpg.rf.062f20d445a5c8951bdebb2e64e3fd91.jpg', '2008_008364_jpg.rf.8b5c0174f04094705ab872fc100939a5.jpg', 'image_181_jpg.rf.b618759936300d0504ae588b7177ee2d.jpg', 'image_255_jpg.rf.b01b03cef655a3666e1152394a055b02.jpg', 'youtube-246_jpg.rf.9a231d454c623fc354c903391dbf2515.jpg', 'youtube-234_jpg.rf.ac9a9ba63409a21e875187ccdb02a91b.jpg', 'construction-1029-_jpg.rf.dd6bee328a829fc5e57997df9428ab4b.jpg', 'construction-3-_mp4-122_jpg.rf.63834f13775dce36318f7dea0ade6f66.jpg', '2008_008337_jpg.rf.b3d479181e4c04ff814ab55502b8055d.jpg', 'RPReplay_Final1667001201_MP4-55_jpg.rf.4f50d4817d682aa2176809573e5f3a19.jpg', 'construction-543-_jpg.rf.e521748f6ab8083fb9705f92e1f4bf02.jpg', 'IMG_0871_mp4-24_jpg.rf.4534d237f8e29efbb855e646f6090edb.jpg', 'construction-4-_mp4-38_jpg.rf.b6b2776f594852b65c5a0a6e7c1fc9d2.jpg', 'maksssksksss710_png_jpg.rf.c7d70b8fc7c19e60cf23d796b5194b49.jpg', 'youtube-228_jpg.rf.44fa319ea27db11bc2e5566fd4f72f3a.jpg', 'youtube-519_jpg.rf.87d82e436cdd1af634d5ce239b333d0f.jpg', 'youtube-42_jpg.rf.ea069358ab213d776e9e9fb675dd9493.jpg', 'image_13_jpg.rf.4bfa0a269577590f4f27b3b92ecbe117.jpg', 'youtube-348_jpg.rf.d60c9d67699236d8bf1be01b619db6fd.jpg', 'youtube-254_jpg.rf.e4f247b7a5566b9a03d834127b9c2683.jpg', 'construction-5-_mp4-96_jpg.rf.b34b00ccea66baa05cf4aa1db72c338b.jpg', 'construction-4-_mp4-188_jpg.rf.178830ca68bff7d8d67e3222bcc993e0.jpg', 'image_784_jpg.rf.d2c68db9d95f69548f5424ecfebca1ad.jpg', 'youtube-409_jpg.rf.131f18f30d7fe2bb76dd876d0e3f1941.jpg', 'image_435_jpg.rf.ea65b0ca9d098b801b88082988050c4e.jpg', 'youtube-57_jpg.rf.ea273bcf5a2ff4438d449ffa5a2db852.jpg', 'ppe_0029_jpg.rf.68d73a92947e699429310cfc21709e56.jpg', 'IMG_7211_PNG_jpg.rf.53137660a8abb36a2036583aebaccc01.jpg', '329_jpg.rf.3a8533cdbd7c8755432f89c212d22719.jpg', 'image_818_jpg.rf.08992adf635b5399deabf2fcf25c9f98.jpg', 'youtube-815_jpg.rf.0d31438a2c4b4e1ae240b81614469ba4.jpg', 'youtube-502_jpg.rf.ed8e508d05b59b2d3676414522c5d94f.jpg', 'construction-212-_jpg.rf.c2e946e66af55cde7a9039b41eab1fdb.jpg', 'youtube-571_jpg.rf.4b3c9270b37ac373025b12708d33df09.jpg', '01437_jpg.rf.dd545905fd49027442d36f029745a7c3.jpg', 'Image_1025_jpg.rf.5f717caaf19eef8596c6b891131909ab.jpg', 'youtube-464_jpg.rf.355495bd54c66f71e909fa906b77e184.jpg', 'youtube-507_jpg.rf.60bda088152f43f075e6a2826e93aaf1.jpg', '-I1-MS09uaqsLdGTFkgnS0Rcg1mmPyAj95ySg_eckoM_jpeg_jpg.rf.fb09ca92aa0016318337101cb73199ae.jpg', 'Movie-on-10-31-22-at-10_08-AM_mov-15_jpg.rf.71ec98f5b5e5d497c2de8d9edaf8c7b8.jpg', 'youtube-391_jpg.rf.f2fc01601297041149e8653fe4093f0e.jpg', 'construction-142-_jpg.rf.c3ba99b04533582e3fc60dbeae85ab17.jpg', 'construction-142-_jpg.rf.53227c120a3027506c31c03c65563d0b.jpg', '003184_jpg.rf.ff0c89d68480e029f33402d458c7531c.jpg', 'autox2_mp4-74_jpg.rf.dc717b3f997effa8bcd6e23c5ce2a029.jpg', 'construction-4-_mp4-27_jpg.rf.59369fee4267c34c2a91da4e0e51acce.jpg', 'youtube-274_jpg.rf.6bcb25893f13d04e647f79a8f7484cf1.jpg', 'construction-986-_jpg.rf.abee995f420532ca7f4f0a1fa4b5ac7d.jpg', '004720_jpg.rf.38351f09d6df1004a9d6fccb2f1cdf5c.jpg', '494_jpg.rf.ea9ca8e7391f4c12e1b63c0aa31760e9.jpg', 'construction-523-_jpg.rf.ef21f97e44dd5015938e07992baeee1a.jpg', 'youtube-170_jpg.rf.f371d64f8eec000f8c0ea59ab367b71e.jpg', 'ins30_jpg.rf.4b8b181f8922dd32cb4a4148b83f2f1d.jpg', '006118_jpg.rf.68e3bf2321bb87ec786d9fd5d60cb2a5.jpg', 'construction-844-_jpg.rf.c183c41efcdbea3de1c46ea27a41887a.jpg', 'youtube-360_jpg.rf.7919b4215e055f4ac79add205695891d.jpg', 'youtube-44_jpg.rf.1d571bccfb30ef3f7ad8d2b53dcb64e0.jpg', 'construction-2-_mp4-113_jpg.rf.ca0ff2e1e2871ab3b689cd8dde311be7.jpg', 'image_937_jpg.rf.1b2ad33f8d4c5ec04341d2f6d1a13e70.jpg', 'additional_tests-Nomask-wearing_mp4-35_jpg.rf.577a53ee9e1896cee0ff0fcfddd4b937.jpg', 'IMG_3103_mp4-11_jpg.rf.0fb9f7898eb8b6542d6089c1deecb273.jpg', 'image_818_jpg.rf.1d3a358731fc9e39e5ee58afa7f0e5e5.jpg', '2009_002883_jpg.rf.d10587ac3861e970e5a2bec61ef90b26.jpg', 'construction-682-_jpg.rf.f3a78ec545db4329587ad62582e5f3cb.jpg', '129_jpg.rf.6ffe5c397bf302ae2bf05108d292a3f8.jpg', 'img_037_jpg.rf.7ac1fae45ffb804a605d797a9675b297.jpg', 'construction-1015-_jpg.rf.7952ff5ef6a051ccadee219cdcc74a86.jpg', 'IMG_0871_mp4-9_jpg.rf.85b15a3da946c2c749da4c447eaf1592.jpg', 'airport_inside_0460_jpg.rf.e493c05d450ed8129338e21610922199.jpg', 'youtube-396_jpg.rf.caa896f1df9fbadcefce4fe79a8be683.jpg', 'youtube-499_jpg.rf.422cea5362e8675e93b7769d6a605011.jpg', 'construction-3-_mp4-67_jpg.rf.2ac209d6daf4ac7a4247a4ee28385fe8.jpg', 'image_880_jpg.rf.9fc48cdadc429034a5868be1d6ca6f5a.jpg', 'image_937_jpg.rf.d6f7ccf07ee21b93ea80e2a5f1f20c23.jpg', 'IMG_0871_MOV-30_jpg.rf.e102dc225c297966196cf0f8f8c6e239.jpg', '-1680-_png_jpg.rf.19e88a5022427045071da3f267825d67.jpg', 'construction-2-_mp4-178_jpg.rf.0b86b7829e2da46f66cbf5dddb677a82.jpg', 'image_435_jpg.rf.acd9bfe83c9ddd61febf6b792d8d074a.jpg', 'construction-2-_mp4-219_jpg.rf.1498e9d4c6c28b283f27aad0187aed96.jpg', 'video_CDC-YOUTUBE_mp4-50_jpg.rf.4912d4cb665e1ab8243c28d9c3039ae8.jpg', 'airport_inside_0550_jpg.rf.e4d7eb4a0f8870365fb2518f58e17459.jpg', 'youtube-303_jpg.rf.07b3e04bed6cfb84b6f10f2c02a305c3.jpg', 'ppe_0738_jpg.rf.cc3eb93fe1d414d1d3ee07d70ba46fb5.jpg', 'construction-1015-_jpg.rf.430489f60abd9b982a14dd7425e577c7.jpg', 'IMG_5847_jpg.rf.8a3aa99c015f474af592cf6196d767b5.jpg', 'RPReplay_Final1667001201_MP4-79_jpg.rf.c1ef8cde2ddaef68e79e186a1623c813.jpg', '01235_jpg.rf.5602858e3d72530c62b1d2f4c3e15770.jpg', '2009_000379_jpg.rf.8a537e55ba2654835278f344da61abfe.jpg', 'IMG_0871_mp4-10_jpg.rf.eb5cded28302977870c452bf3b1df11e.jpg', 'construction-5-_mp4-30_jpg.rf.7cf816e9a4e83c6d9a256ec0acdcb913.jpg', 'image_757_jpg.rf.97ce10366965d7ed2207c0636961408c.jpg', 'youtube-568_jpg.rf.caa58267c551be062e5cc36918405af9.jpg', 'IMG_3100_mp4-0_jpg.rf.8e364de5178639165a16329b5c1b0f82.jpg', 'youtube-832_jpg.rf.ecb937433f6b83437779864849489079.jpg', 'youtube-693_jpg.rf.a48f08b9f05f3c39a406fd1eb9aab12e.jpg', 'youtube-486_jpg.rf.7ed1717194f2f52486146320aa6f41a5.jpg', '-2406-_png_jpg.rf.90ca13003ffd103df1251e958b0fd135.jpg', 'IMG_7286_JPG_jpg.rf.68ad9f1a3104a6a4c22786cc33552e9c.jpg', 'construction-1-_mp4-46_jpg.rf.01a41b1832bcad9c82d2c68ac77d8b38.jpg', 'youtube-376_jpg.rf.bea47bff526392e49df9e9cbcc761e7d.jpg', 'image_575_jpg.rf.c0a0279908ff59e2af4c1724cb945620.jpg', 'youtube-806_jpg.rf.a1aba01a08a482a3fbee13720838ff96.jpg', 'construction-5-_mp4-30_jpg.rf.527821dcd495003327e1d90baeb2f8d3.jpg', 'youtube-645_jpg.rf.ad2e663924cfcee098cd2d2f72dcf238.jpg', 'class2_158_jpg.rf.303db217aab234aba913434a71b8d55d.jpg', 'image_829_jpg.rf.b2c6df2ec1d3dbe9e43ab5f86c21fad0.jpg', 'youtube-824_jpg.rf.52a1bda32589a2e4564cc3f21f3dfb6b.jpg', 'youtube-848_jpg.rf.2ae884f82299c0a160514ba977624182.jpg', 'image_257_jpg.rf.ab68fb78a1ff77d6e41ec5f8fb17a8dd.jpg', 'ppe_0738_jpg.rf.0d196ef7d084c400cd416c81c785642f.jpg', 'image_246_jpg.rf.a4ded3f10e08bb05dd6afcd9c758e91d.jpg', 'construction-523-_jpg.rf.269c0f01c12f196d4de7511811a10dc7.jpg', 'image_796_jpg.rf.e8e096687e5a05e79328b6618b693676.jpg', '01235_jpg.rf.309f857849c1804ab1f2f1f168902f50.jpg', 'image_23_jpg.rf.f140ebb7ae3740e5f867a899ec44e5e2.jpg', 'mask-wearing-1632933572733_png_jpg.rf.9ed180761e32fbbc11dbe2220445c632.jpg', '002458_jpg.rf.dca744088199d83f8e9236beda1f336b.jpg', 'move_in_corridor_jpg.rf.c13fac4f09c8776ba3ed1789fb1645ad.jpg', 'Movie-on-10-31-22-at-10_08-AM_mov-13_jpg.rf.e25ec017fd5d1db9e08c5e3a40d53214.jpg', 'image_731_jpg.rf.73a783ca018f76b895cf5cd2355ac1aa.jpg', 'image_16_jpg.rf.a3f1d05e403a63ada89669d9b61a1276.jpg', 'youtube-61_jpg.rf.4544dac06a788293a264c29adb5c1fbf.jpg', 'mask-wearing-1632933572733_png_jpg.rf.d1dfda64eb6981fe3fdad9f598ab047a.jpg', 'construction-3-_mp4-211_jpg.rf.c91213405dec99608bbb8f739e567e8d.jpg', 'image_986_jpg.rf.2fd4acceeb217b24062956a847f7dc61.jpg', 'construction-3-_mp4-23_jpg.rf.d8cd3b06d19d953b57e6e010c2212c81.jpg', 'construction-142-_jpg.rf.c9fa15249bd2798628a92f5fecba86d2.jpg', 'REVZGCBIJNQPMIIXOKDCQA3GJI_jpg.rf.b16c101282ee19137c82a92271433fd9.jpg', 'image_181_jpg.rf.cd6c683a112d80f17f33d55553f431c0.jpg', 'youtube-460_jpg.rf.faf17ea4f6f46a51cc51629c29946240.jpg', '-2297-_png_jpg.rf.c11b54951365d9db2ce38e43da5a2482.jpg', 'construction-4-_mp4-127_jpg.rf.07956c5256292dc302a129cef45c39c0.jpg', 'image_16_jpg.rf.2a50dbc7c159879fb80f6c29905b69f3.jpg', 'n457047_jpg.rf.50fd5a986202af938990ee887b0e4d74.jpg', 'img_037_jpg.rf.443cb1ae396e00501bef3e2b8eac8af4.jpg', 'construction-753-_jpg.rf.79c6f65288af95c6a5d4c2b1d2b263d8.jpg', 'IMG_3103_mp4-11_jpg.rf.605a9a63de885d697157fad2a64d426f.jpg', 'youtube-641_jpg.rf.f8e9bcb9a5aba1a0fab955a47ea38760.jpg', 'youtube-622_jpg.rf.05aa5b08154e5b2ae45002d5a742b1da.jpg', 'ppe_0491_jpg.rf.4f334efca51ba5b5f9c6a95a94de1ba4.jpg', 'youtube-567_jpg.rf.d531bc4a7eb30dfe6bcaaf760ebad872.jpg', 'youtube-134_jpg.rf.8c2a6336edd07a69318445ce085a35f8.jpg', 'youtube-499_jpg.rf.108e4f13fd0e76422d399dea68b7b744.jpg', 'image_93_jpg.rf.97948cc2b280754b3fb39d6b0318261a.jpg', 'construction-5-_mp4-29_jpg.rf.b3d72d5b8af0726c69bd9a4387dcc631.jpg', 'ka_00884_png_jpg.rf.32f17b2c4943e345a32765b1ce0ac3e9.jpg', 'IMG_0871_MOV-30_jpg.rf.2134662fedec3bb07d20eb107c911520.jpg', 'img_038_jpg.rf.f2b56508a79bfcc1b83e3b1a54d40696.jpg', 'youtube-207_jpg.rf.1dfc95d60337990bec28b0f132c148ec.jpg', 'mask-wearing-1632932085584_png_jpg.rf.4bf437edc7d0549c380eca13c47dbc53.jpg', 'youtube-550_jpg.rf.2868d7a41481681d5455497e2d865591.jpg', 'image_326_jpg.rf.268c733f1ea6e27ba95a8fba388109d0.jpg', 'youtube-829_jpg.rf.85e5bd83de072b517118d5cc45694535.jpg', 'airport_inside_0363_jpg.rf.b84ed2a27c7787c847a869219c2fdaa2.jpg', 'youtube-709_jpg.rf.80681d4729a022bfc1bf6073aadc6f20.jpg', 'IMG_0871_mp4-9_jpg.rf.10d76da3d609f47d2f5d167300168987.jpg', 'construction-543-_jpg.rf.4ac68b4606a6eecb76a48df1ae8ae96a.jpg', 'ins30_jpg.rf.e30d92fec606131c43538afd2c08efbd.jpg', 'mo-justin-mask-NoMask_mov-34_jpg.rf.bdfdb1c5d02e23112cc901dcac98ce67.jpg', 'IMG_0871_mp4-21_jpg.rf.b0e2a552b62ea3eb6658a5496f6c57f1.jpg', 'youtube-235_jpg.rf.f136e4455ee18e0a5fd25415f3eb1381.jpg', 'image_941_jpg.rf.d95b7d6f952668967060bb1c0df36c4f.jpg', '4c43875bc97cdaece84ac6ce555235f1_jpg.rf.8bffc5f836784d47dd928f9a50c72a2c.jpg', 'youtube-809_jpg.rf.c2ab627778ab1c33e77266fd79e6c117.jpg', 'youtube-252_jpg.rf.00af025f2854a4f79fbd9a657ca0f335.jpg', 'ins27_jpg.rf.3528045206c6b33291620e4638378ffd.jpg', 'MariusConePic60_png_jpg.rf.b0a75275cc2fdadceedf0e6452a04678.jpg', '-2406-_png_jpg.rf.e4afdc64224be4738b1cdacd09d1c483.jpg', 'IMG_0871_mp4-13_jpg.rf.d8e40959c6947386bf3885280312b58c.jpg', 'construction-2-_mp4-15_jpg.rf.94d743aaa79935634d2cc4ea6a5bfe2c.jpg', 'youtube-230_jpg.rf.1892d9772f890c9e7a3533235a85887e.jpg', 'construction-753-_jpg.rf.dd5aec5cecb776e35bf0f0b95627932f.jpg', 'construction-5-_mp4-98_jpg.rf.02e8260150fd9b4d149ebdf1b77ae87b.jpg', 'construction-5-_mp4-136_jpg.rf.3f565846fbd70422e73d09aab8c2c2b4.jpg', '2009_000379_jpg.rf.3a55d8966c384074dcf9796a6b60e32d.jpg', 'construction-3-_mp4-166_jpg.rf.86f6e6b28c259a6dfa2a469f129c2441.jpg', '2_jpg.rf.5d1d2457d0de245aa673442ac06891df.jpg', 'Image_995_jpg.rf.3b80546909b3559f8b16499a38571d88.jpg', 'youtube-837_jpg.rf.1b09fa4284f78dbb865099f70462cfad.jpg', '02629_jpg.rf.b9355827a29589ddae4528281e89a885.jpg', 'construction-1099-_jpg.rf.bb495a41d6ea301e0032d76b262640dd.jpg', 'construction-5-_mp4-161_jpg.rf.eeb48446f8aa7bf427983cc229fc22c0.jpg', 'Movie-on-10-31-22-at-10_08-AM_mov-10_jpg.rf.74c78a30315920d466512661db205c5a.jpg', '60_jpg.rf.5827b492f3c06df6e2572f69866a3b49.jpg', 'construction-207-_jpg.rf.67da281e0dc359a3d8e0ff40b561dfac.jpg', 'image_781_jpg.rf.1440f310fa162f472f63301fdaaf62fa.jpg', 'youtube-395_jpg.rf.2aecddbbf7004c6240b8e0b20b6ad020.jpg', 'image_721_jpg.rf.24fc8a861c4a80e9312d55453bcfd926.jpg', 'youtube-459_jpg.rf.0cb0664d323d2c5610c34fcfcb706be5.jpg', 'youtube-197_jpg.rf.85f809ae1a9cbc6d2d95bd7d28bc461d.jpg', 'amz_04178_png_jpg.rf.4313b414c237d190af0ad60830b5bd4c.jpg', 'construction-305-_jpg.rf.7212ecf73d86bcd5fbfc5611f3e08b8a.jpg', 'youtube-568_jpg.rf.b8066e857c2560d855270853a5afbea3.jpg', 'Inside-merge_mov-16_jpg.rf.2d9d3295904e1c9452977ff359637d27.jpg', 'Movie-on-10-31-22-at-10_08-AM_mov-27_jpg.rf.388af137d979efeec7eb6bac90f3728b.jpg', '2009_000063_jpg.rf.bc5d41d82310a6d4decffa753de9b2eb.jpg', 'construction-2-_mp4-213_jpg.rf.3dc254f0ee3f229e0766837fcb916d24.jpg', 'youtube-362_jpg.rf.fe798d76b8ab678f3d86dae831b2e09a.jpg', 'n190039_jpg.rf.8d25d64c2c6cc1fd56cafbe151d2d32a.jpg', 'construction-844-_jpg.rf.cfda77282f185f7885d3bce88583dbe7.jpg', 'construction-5-_mp4-29_jpg.rf.3aa8761e72a2a70eaae36cc6215f9618.jpg', 'construction-1015-_jpg.rf.b72ccaf38436e2085a4b0556d337da38.jpg', 'youtube-480_jpg.rf.89afcc56a64d10e3d0b7c1d6a49b3c27.jpg', 'youtube-709_jpg.rf.25b93351042304554ba1fc60eb8ce451.jpg', 'image_337_jpg.rf.ca3aa462235185a1d309798f889f14fa.jpg', '2009_003000_jpg.rf.cf61f4b407ecc0250f3f8a204311e086.jpg', 'IMG_5847_jpg.rf.c4a1a43cc7ddc97ffd628bbd61204511.jpg', 'hqdefault_jpg.rf.15058891e8e34cb59338ac40e7c1ba67.jpg', 'youtube-682_jpg.rf.1b6032eab51a0902f1d56ff7425c5f2a.jpg', 'youtube-813_jpg.rf.b9c7825c3711b9f313376a12b75553f3.jpg', '2008_008526_jpg.rf.a1eb584550fe5b07c45425a258c66052.jpg', 'image_95_jpg.rf.01a4e40a282db6f049ac60156a611923.jpg', 'youtube-651_jpg.rf.2e6e94353f949ae2b161172623470230.jpg', 'image_314_jpg.rf.3496a5fdbb273b0f8388224cd07a6dfe.jpg', 'class2_151_jpg.rf.1bbd03c09d03633a0fd61f32543da73e.jpg', 'youtube-519_jpg.rf.9f89f818578f6aac6486b358a28d1fe1.jpg', 'smartmi-3pcs-filter-mask-pm25-haze-dustproof-mask-with-vent_jpg.rf.419267d856e963880de8dc3f15b3520f.jpg', 'image_566_jpg.rf.50ab19696fafd47d14ff508a70cc4911.jpg', 'n457047_jpg.rf.254d1968e99ec5d7bc5e946c03f0c5ae.jpg', 'construction-523-_jpg.rf.398c68aba3492f7ba13e48f7399c8344.jpg', 'ins27_jpg.rf.7f942b588422984e5543ddf5add7b2f0.jpg', 'youtube-221_jpg.rf.1f2f1da597212a707dd3529618089532.jpg', '006118_jpg.rf.3a398e4f8ef5bf8cd84c4fc4a6f36ac6.jpg', '01094_jpg.rf.ada3cfdaa41584a1f44bc13caea976fc.jpg', 'construction-2-_mp4-178_jpg.rf.79f0a5b662d06a476cc9a5c9ff703edc.jpg', 'construction-260-_jpg.rf.339601ad6502461bf6ffcd18d61629a2.jpg', 'IMG_0871_mp4-1_jpg.rf.c93495dc1c470abfba67c34e2c21f695.jpg', 'youtube-667_jpg.rf.83a1f7d903a7d652fa31dff151768768.jpg', '2009_000280_jpg.rf.ec836370fef6cf224c1c349c5814fce5.jpg', 'image_965_jpg.rf.32be902c417d44539c1ac160a6eaf926.jpg', 'youtube-274_jpg.rf.ed75407538cec1770e72d1c0d034a380.jpg', 'n457047_jpg.rf.a5f4e8326c8d7531216377815de4cf73.jpg', '60_jpg.rf.1f7012c2b0ee548df03ff592fe324835.jpg', 'construction-741-_jpg.rf.49657de04621c1d8f3e6dbc94ecea094.jpg', 'helmet999863_jpg.rf.d7ca5e7209a0eaeb5d36d2b4a3f5e188.jpg', 'image_296_jpg.rf.cbfc96ac0666e1a1a4dd5018da3860b5.jpg', '129_jpg.rf.3ddb7831c49cc812f103617cf0da07fa.jpg', 'youtube-710_jpg.rf.d08ee99ca13439d01a7043769a077240.jpg', 'youtube-667_jpg.rf.8c29596b7486388ed0cdf3da93f73cd4.jpg', 'construction-4-_mp4-27_jpg.rf.bde361a7760285a4b0274f6bb349aacd.jpg', 'image_475_jpg.rf.f805d2b598de611f7fde3102264a8ba2.jpg', 'class1_075_jpg.rf.2a623fcaaa9ee3c192f00ce605dc44f6.jpg', 'image_662_jpg.rf.4987ba3969cb084b582b28d40cc841a8.jpg', 'RPReplay_Final1667001201_MP4-21_jpg.rf.e9d5fab8ccd4722fe717c6730013fa8b.jpg', 'youtube-573_jpg.rf.55bbcdf0ada291ba06c267099e0c2138.jpg', 'construction-872-_jpg.rf.3403cad2f0566950b232268f3685fc9d.jpg', 'construction-2-_mp4-210_jpg.rf.1222f0c74009045d57808b9e1fe6f12e.jpg', 'Movie-on-10-31-22-at-10_08-AM_mov-13_jpg.rf.fdc3e4fff2b5b5527949aded65a9253d.jpg', '2009_004301_jpg.rf.dcb85d0f7d931a7de69072529b41a5df.jpg', 'youtube-695_jpg.rf.8cb0e9aacc4be7b425ce1bac55459916.jpg', '494_jpg.rf.44f6e7003c8d642d073affd1936673ec.jpg', 'youtube-361_jpg.rf.2db640272b60b264138c07d0a9a9fe9a.jpg', 'image_647_jpg.rf.a2d892f4d8679dc8ca0bbea635a777b5.jpg', 'youtube-137_jpg.rf.a761859e466a5a0599f0bb01c8742536.jpg', 'youtube-188_jpg.rf.751f7dc08b4a79d9c1fdc4b67fbbb4df.jpg', 'youtube-571_jpg.rf.16636d62c99271b2ae6a35563a84caac.jpg', 'maksssksksss710_png_jpg.rf.e7bbdcc722733d7a08dd5165c36f927a.jpg', 'youtube-710_jpg.rf.a632153f709e275551380bd68e23dc55.jpg', 'construction-3-_mp4-14_jpg.rf.d268b03dd1f2e079d15f38ceba312178.jpg', 'construction-528-_jpg.rf.3578451e1fd09479e3ddb770aafd00e5.jpg', 'Nhh_img_141_jpg.rf.b3b99b5e377f3992e933b2e200d6c05c.jpg', 'construction-560-_jpg.rf.77991e7505048da45e44fa988ce9ee0a.jpg', 'construction-1099-_jpg.rf.feeacd8e655f29f874d6bf1ae57cf022.jpg', 'autox4_mp4-111_jpg.rf.670b776d44304ea66fd4bae077abee1d.jpg', 'youtube-196_jpg.rf.1d5478c5f934135811d726c6916596cd.jpg', 'mask-wearing-1632932085584_png_jpg.rf.fc6a1e9ce29ec295230ed2ea10adaebd.jpg', 'ppe_1212_jpg.rf.834b93389dad99ebaa558080c8e4b328.jpg', 'image_818_jpg.rf.70eb74f10fcceabf24a58bd6d208ce34.jpg', 'autox3_mp4-49_jpg.rf.4c81fb7708e129cbed49607d657d75d4.jpg', 'youtube-497_jpg.rf.15a2d595c0c22f68de5da8b27891c29d.jpg', 'Screenshot_20210830-123141_Instagram_jpg.rf.eee49b0c99613c4cd2db2490d7d58cc9.jpg', 'ppe_1212_jpg.rf.46bf7e3788647c55a07689a6794c69ef.jpg', 'youtube-646_jpg.rf.ccad877b36f0a6ba6e3ebf50bb96883f.jpg', 'construction-435-_jpg.rf.3c115485f2e5d31dabe17b006f656489.jpg', 'IMG_9949-1-_mp4-24_jpg.rf.dce341f63f0481f31c3357bfba3f976c.jpg', 'youtube-60_jpg.rf.26d94d2901a2173354e5b1112b8466e1.jpg', 'image_937_jpg.rf.2136ef2fc5b81626a2607acc627e0120.jpg', 'RPReplay_Final1667001201_MP4-370_jpg.rf.530e18112042793011dbdb674c18d822.jpg', 'mo-justin-mask-NoMask_mov-34_jpg.rf.4e6773ec3cd044e328b6a0b1a7d08fca.jpg', 'construction-528-_jpg.rf.fda69fe0d66335b4bfa3cc37671f3a68.jpg', 'image_678_jpg.rf.e1fd3af4360ff5291b3d6754a5e2ca98.jpg', 'youtube-187_jpg.rf.dd06929c6ea565648b8156753b8b00c9.jpg', 'image_93_jpg.rf.ac1d4cd997f4c63871d6412021e10126.jpg', 'construction-5-_mp4-136_jpg.rf.61f13f9398c539e73446daa76339f1dc.jpg', 'construction-4-_mp4-185_jpg.rf.5f0cdc069950fef0612a420cc85778b2.jpg', 'autox6_mp4-80_jpg.rf.e170abed2946f1e3909ce9747becd353.jpg', '1288788-une-employee-aide-des-voyageurs-en-provenance-de-chine-le-26-janvier-2020-a-l-aeroport-de-roissy_jpg.rf.35ed51188a266a262a24924aa32463a0.jpg', 'IMG_9949-1-_mp4-6_jpg.rf.a680f2403994b4c82fa353a5bd97e81c.jpg', 'smartmi-3pcs-filter-mask-pm25-haze-dustproof-mask-with-vent_jpg.rf.fafba71146172ece742c0a49188bb99b.jpg', 'youtube-615_jpg.rf.c3ec7544a5b9e33128ebdf2b934b5f39.jpg', 'hqdefault_jpg.rf.9c0863c96b57eb241f4ad482dd6a545d.jpg', 'Image_1025_jpg.rf.c07c37849002f2eeadac6e7229413f44.jpg', 'youtube-272_jpg.rf.bf7c90ad1b2d70c8a8cf63ec878b0aed.jpg', 'youtube-636_jpg.rf.40924fc22b1b9bdc87b00a0d75c84da4.jpg', 'additional_tests-Nomask-wearing_mp4-35_jpg.rf.3585f3a01afcfd9cf8d2f1660e331084.jpg', 'youtube-362_jpg.rf.ff5eaedf860709baf22efbed1c407ca6.jpg', 'construction-5-_mp4-98_jpg.rf.05762e5e45e5c6a0583810b8b628b8e8.jpg', 'image_326_jpg.rf.85023ef88dd7e276c124a328c28dc9a4.jpg', 'youtube-499_jpg.rf.1c880d19f0139524ac072315afbada2d.jpg', 'youtube-423_jpg.rf.edc550e0423567c04fede8578fedb011.jpg', '2008_008600_jpg.rf.1e30fdd484a479256bd540cc92dc375b.jpg', '-1670-_png_jpg.rf.3cb172ea2c4165c19ae2dd498b38f929.jpg', 'class1_199_jpg.rf.2250978db6c0152db7ef02b384754b37.jpg', '2009_004301_jpg.rf.950def400852f7e9096bb7a2c7c5e900.jpg', 'construction-5-_mp4-136_jpg.rf.4de970ffc60aa2cda3fb97f03350384a.jpg', 'construction-5-_mp4-75_jpg.rf.0a5bbd753cfb38da9a58c21168decc50.jpg', 'construction-4-_mp4-185_jpg.rf.26277f4a69505170ed97b9da60fb22fc.jpg', 'Industrial-3-Part-Skymaster-insitu_jpg.rf.b8b0caef1419e9ebab1f75f780f91acb.jpg', 'construction-4-_mp4-189_jpg.rf.638a50850f41c580bc4cb85684025a84.jpg', '2008_008629_jpg.rf.61500c26db60c3df2396ffe74f4f07cf.jpg', '001425_jpg.rf.8d9766a13f37413d9a9b509766897167.jpg', 'youtube-49_jpg.rf.bd9ddefd0f16a43403ec2cc1808b2baf.jpg', 'Image_995_jpg.rf.ce3948922b1aca03e2b3fbd247bc9150.jpg', 'amz_04178_png_jpg.rf.4da0ffe1b77c2dd1e122ab212d27b525.jpg', 'Image_1021_jpg.rf.a634f371a9b4f20d220232a0a199e146.jpg', '-2544-_png_jpg.rf.cbcb183dbec853ee769df1327119472b.jpg', 'youtube-813_jpg.rf.f0b08055ea368a39e7846182b7af0102.jpg', '329_jpg.rf.1f99013be8407ede7c9df84d93b6a700.jpg', 'youtube-134_jpg.rf.59120be62c1ba1208bbd3222fb65bfd7.jpg', 'construction-619-_jpg.rf.a55792fce1fec65b17f4631c5330e0a5.jpg', '616_jpg.rf.e95fe500cd53ff0a1278f730331d00c4.jpg', 'ppe_0750_jpg.rf.61c463517d619e03e3baf0d413c99315.jpg', 'youtube-209_jpg.rf.8eb69019cfb7e173c47442a5ceac5900.jpg', 'youtube-806_jpg.rf.ff8ae63dc54a045842f720ea04194dcb.jpg', 'construction-2-_mp4-15_jpg.rf.5a2a37538c16a83554327e6f910dde88.jpg', 'autox5_mp4-34_jpg.rf.3b424b05f74f7befdf767c9d9d8cc156.jpg', 'construction-118-_jpg.rf.71912edae594bbed121901d051e4e04c.jpg', 'youtube-188_jpg.rf.7ea2bff688373c2690369aa4b4d9862a.jpg', 'image_176_jpg.rf.3b4e79118b1e2e1aaab28383d462f3ab.jpg', 'construction-3-_mp4-14_jpg.rf.1346121356493c3795a0f7f42d3fcc88.jpg', 'youtube-560_jpg.rf.d7214d49543b694fd28746215c01049c.jpg', 'IMG_3094_mp4-45_jpg.rf.aa91d0d906646ecc9f16df6a94a68d12.jpg', 'youtube-693_jpg.rf.52fec3a45fb4c747d62c2b581d831c89.jpg', 'construction-4-_mp4-19_jpg.rf.0e0c0646c5203de125745b30b9a352c8.jpg', 'MariusConePic60_png_jpg.rf.82315d1290db9082ae25297a9007311b.jpg', 'youtube-837_jpg.rf.ba028856408fe5c32864742ea227a7e8.jpg', 'class2_187_jpg.rf.255a27589e0942a9a2a13f5062d00182.jpg', 'youtube-571_jpg.rf.2ba401a7dbbdb20ed5cb34d063311ffa.jpg', 'bookstore_38_02_altavista_jpg.rf.76d6e2768892d1648dfd64dddb51316f.jpg', 'Movie-on-10-31-22-at-10_08-AM_mov-0_jpg.rf.43171cee09f9560ebeded58e2d5832e9.jpg', 'image_937_jpg.rf.dfdffde0e8f3b3a59aa0db75a4fcc8dc.jpg', 'youtube-242_jpg.rf.87ad9787a533c8f99b1c899502527ce4.jpg', 'img_037_jpg.rf.213e8a4157d9d618448c93c0326606e6.jpg', 'image_1004_jpg.rf.b214044582d882b35bc97ae766d7f518.jpg', 'class2_158_jpg.rf.8ca0f8054053f5210eedc8c62687fe98.jpg', 'youtube-266_jpg.rf.11f1d5063b9db18dd346c2c5fe9b3524.jpg', 'construction-5-_mp4-98_jpg.rf.7d678538e71bb2272fa290c4ab7760ab.jpg', '165_jpg.rf.8e28e2ec55d7ab727f8a5cd072024dd2.jpg', 'construction-753-_jpg.rf.849b0aba5bde9a36732a6f9a7839eac9.jpg', 'image_743_jpg.rf.062cdfe451165053d002809e11c43073.jpg', 'image_426_jpg.rf.6eb05d6561fe07b57de084e6dd4f1479.jpg', '588_jpg.rf.54ec47216c5574b0f185e8e3d2104441.jpg', 'IMG_7211_PNG_jpg.rf.436a55ef9789c8bcb84261a58c72fb3b.jpg', 'youtube-242_jpg.rf.abca1cc102d6a680b50ea76207a752f3.jpg', 'youtube-137_jpg.rf.655f978410609149efe49e2f10031d2f.jpg', 'youtube-300_jpg.rf.f9854531d289c54ada6069fb0b68d2b4.jpg', 'youtube-564_jpg.rf.4d53a205cd034c39472c8ceebf3af69d.jpg', 'youtube-384_jpg.rf.b3afeb9b45c1193d7c67d95ef24dab3d.jpg', 'youtube-61_jpg.rf.2f8ea247e5f46e06042d18ba0dec8fdb.jpg', 'construction-142-_jpg.rf.c313f46a8dd97e812be46b56862ee0ed.jpg', 'youtube-571_jpg.rf.c6146b84a8ca2869cb5c52f72eded67b.jpg', 'Nhh_img_141_jpg.rf.539c94589100406bbd49401adc520de1.jpg', 'image_426_jpg.rf.77fdc5e051ecdcd4dbc26e25df161a42.jpg', '277_jpg.rf.e533863ccfdd0dba4c8d7089ef7b965d.jpg', '277_jpg.rf.004c580eed497695eabbf509a273bb9e.jpg', 'construction-246-_jpg.rf.14aa29bcdbdea08faea88cc0f97d3db7.jpg', 'IMG_5024_mp4-5_jpg.rf.29486c821e09b032fafdda06d7c86434.jpg', 'Libreria_09_20_altavista_jpg.rf.4ac020cfe29c2ad86b310d0f602d84d1.jpg', 'construction-821-_jpg.rf.e115e26ca11f1107503c01c9b2d4f404.jpg', 'img_038_jpg.rf.aa4c4ac5cc928cadd107d7fe5ab3b8ef.jpg', 'construction-705-_jpg.rf.0e2bd9143ae68c7407a69b26ac17232c.jpg', 'IMG_0871_mp4-21_jpg.rf.b43a82de9b1f1db1f9fcf8b57fe636e7.jpg', 'youtube-170_jpg.rf.271811f43fc83abd75aaeaad926b43d6.jpg', 'image_95_jpg.rf.d7f474ed656cfafee7bf4a8ce79f2fcc.jpg', 'youtube-829_jpg.rf.8a28fd44dfc3d1e6af171a7958a4aec1.jpg', 'ppe_0029_jpg.rf.d5722a09add4a8032fdef2f6c6fa0861.jpg', 'p65621379_jpg.rf.1ab9898a2e211d13e721dd76c6a5a454.jpg', 'youtube-246_jpg.rf.525a6596d54a9c90127b78128bb82855.jpg', '2_jpg.rf.90ee66d55026ceb2e487c40a501b81f8.jpg', 'youtube-409_jpg.rf.c726b395a9167bfb3f5379155f6a43c9.jpg', 'hqdefault_jpg.rf.9b6deb29f2b6c1e6e3ef167a8ecb1b9f.jpg', 'construction-1-_mp4-46_jpg.rf.4ba287f4dd6fff9aadf4b49e0171de48.jpg', 'image_337_jpg.rf.384b81a87dd39579a75d705d9870d88a.jpg', '2009_000280_jpg.rf.90c8b34923112435cd8778196f2a2100.jpg', 'construction-3-_mp4-148_jpg.rf.b7b07362ee93800883c6d31ba0b7ade1.jpg', 'construction-693-_jpg.rf.9c967ca4147923ccdf1f58b3df441a8f.jpg', 'construction-507-_jpg.rf.82647995d5c71c87aabe15f5ea23d088.jpg', 'construction-649-_jpg.rf.99870a2bf5ae5405710b62306f58a3ae.jpg', 'youtube-345_jpg.rf.70a980cb709ab5ea2317ccc1cc1195e5.jpg', '-2270-_png_jpg.rf.4b73cc556e91bc8c587c923e348717f9.jpg', 'image_321_jpg.rf.7637c30937425c6bdbc08729f2061840.jpg', 'image_875_jpg.rf.3e0310b562aea94a81d054a40fcdc146.jpg', 'youtube-303_jpg.rf.cdf28e1cc8d4407f46e083963ec5560a.jpg', 'class1_199_jpg.rf.40b9ed9b838a4ec0c2fe23d234a34914.jpg', 'IMG_3100_mp4-15_jpg.rf.76fab6fd46f346e7c54cbe7871091557.jpg', '-1975-_png_jpg.rf.c2be4021c4d6452f7941be256160f957.jpg', '135e-huxwryw6451820_jpg.rf.c9c6258ad45ebf19f75149b6d5c69134.jpg', 'image_781_jpg.rf.35f24a738bc773816b5b8403305a8575.jpg', 'image_716_jpg.rf.d20e2f34a0f4320dd0fa6d078967235c.jpg', 'construction-5-_mp4-69_jpg.rf.bf00d48267e40f1a03889865671ecba0.jpg', 'youtube-506_jpg.rf.514b3b151b1e7ab2758985145e88355d.jpg', 'construction-507-_jpg.rf.f34e6dff28e95f62951544db53e7ce64.jpg', 'IMG_9949-1-_mp4-6_jpg.rf.a5dcdd2976abcef414d4d4ce0c1f537f.jpg', 'youtube-242_jpg.rf.195cbbac8b1527fe62db390ae80f210f.jpg', 'image_880_jpg.rf.7ae0f3f78e9faa62399d04b1257a879f.jpg', 'ppe_0629_jpg.rf.2ce72e23a7a0e2842971a32b45f71b38.jpg', 'image_732_jpg.rf.ff1ef6132b5697473bd7c4193f95b996.jpg', 'image_527_jpg.rf.195d9418c90bc4368699ef7e3be727b4.jpg', 'Movie-on-10-31-22-at-10_08-AM_mov-9_jpg.rf.ef54b5e3163b15404afe12f96f0d3fd0.jpg', '235_jpg.rf.f5758d235eb011824ff40d7188b17bdf.jpg', 'youtube-651_jpg.rf.a200e7467cde04aa5c59d3fccc8c39fd.jpg', 'youtube-855_jpg.rf.8423bd3eccf6197cf223448ef5dba5bc.jpg', 'construction-4-_mp4-89_jpg.rf.7ad949dbe6175f71ce099daf5dce5b6e.jpg', 'img17_jpg.rf.ae8adc31923d27a04747ccd334b12e7f.jpg', 'Image_1037_jpg.rf.5ff93f8ea02ad4f0c1a0fe898de80745.jpg', 'youtube-641_jpg.rf.40acd498e1dbac24565dacedd4cc7dbb.jpg', 'construction-135-_jpg.rf.618bee32c743ba48ed00129f77b8d2ec.jpg', 'youtube-396_jpg.rf.4f572c63abb01bb67be5e300f0f0f34c.jpg', '005310_jpg.rf.31b8beb7dd8e338e4818d2e1a648656f.jpg', 'IMG_5850_jpg.rf.03ab0fe3cfb17b8bab4c149542d6b970.jpg', 'youtube-474_jpg.rf.a83afe8f012f7c5c51bd973bd4efc3c1.jpg', 'youtube-618_jpg.rf.fb80997b1ffbc44d3e874418c1750e3c.jpg', 'construction-5-_mp4-136_jpg.rf.5781617c5a56e26adb37b2889ca6a0b8.jpg', 'youtube-457_jpg.rf.2d689c0133ef87350ad8b8896690328a.jpg', '2008_008652_jpg.rf.fdf7e303604d0fb6feb39b62d8469cf5.jpg', 'construction-369-_jpg.rf.98c9543f7396a23f7b5699baaba4c0df.jpg', 'construction-4-_mp4-41_jpg.rf.52ca8fcab8ce72c4dee7fefc91681934.jpg', 'IMG_5024_mp4-2_jpg.rf.d79771c23f9e7097b751911545c4953f.jpg', 'ppe_0738_jpg.rf.4d42af3573ee3bfa59b159381d35b80b.jpg', 'image_575_jpg.rf.dc2951b0cc83d450252fd1a231cd0cf1.jpg', 'Movie-on-10-31-22-at-10_08-AM_mov-5_jpg.rf.ae62adc4da946a9f83c961d284e9c682.jpg', '005773_jpg.rf.7918c8b086473cb1e6fcae60d5ad24e0.jpg', 'youtube-209_jpg.rf.7481790dcb493c4fb30559657779a131.jpg', 'image_662_jpg.rf.8ca986b03ea30d8485ccedfd44295260.jpg', 'youtube-13_jpg.rf.bdcb46ab993ee2815a07132eda834c6a.jpg', 'youtube-667_jpg.rf.fe3d1eb0c1a9987687dda320249bbae1.jpg', 'construction-305-_jpg.rf.a695e0f5685a2f573642f4bffe29d357.jpg', 'image_498_jpg.rf.be7e844b9c7ed3a290bc19aa3be5ac20.jpg', 'image_153_jpg.rf.da2dfd3346476f74fa1ddc0690c5defc.jpg', 'youtube-480_jpg.rf.a1f30706658bee44054e92dcb51a2192.jpg', 'autox4_mp4-111_jpg.rf.15a778bacc51e10bed531cd379353724.jpg', 'youtube-628_jpg.rf.eacf6a98a4e100daf54a5ab254f0191b.jpg', 'youtube-230_jpg.rf.7b66ab32ce1d6db9d1ef161833e31ab6.jpg', 'construction-5-_mp4-48_jpg.rf.82ca9f1ab7f0394a237c4938bdd913f9.jpg', 'autox6_mp4-157_jpg.rf.ed679126806aeab74db2f3b9d1a728f3.jpg', 'IMG_0871_mp4-14_jpg.rf.4249d6aee12719fea3c83506c8ccdaa3.jpg', 'image_31_jpg.rf.226995ca044d4a0348dcea8ae45d537a.jpg', 'youtube-64_jpg.rf.ee045f5e9670d7422490492b71801bac.jpg', 'IMG_5024_mp4-4_jpg.rf.08799e35cf749effcd52a5df4ec02d04.jpg', '2008_008600_jpg.rf.5fd794e6172b7258cb20bdefccf7af67.jpg', 'youtube-560_jpg.rf.bf09771b2e40ad774e1ccab9bb930919.jpg', 'IMG_3100_mp4-6_jpg.rf.dee1486806bef37ff0bc3ed372df81b3.jpg', '-2406-_png_jpg.rf.58e52da2e6d3e816d59d716f3a2a1ae2.jpg', 'youtube-196_jpg.rf.df3c8acab8adcce2adc69e1ae58abca1.jpg', 'image_288_jpg.rf.b1293d82f4892b97d0592ad08d205650.jpg', 'youtube-175_jpg.rf.ba471e0986c08a35632797168134f08b.jpg', 'image_498_jpg.rf.0a2642929e878c561b35e7eb1d8ece8a.jpg', 'YouTube_FreeStockFootage_People-wearing-face-mask_Empty-Street_Covid19-D_DbgrvhlGs-720p_mp4-11_jpg.rf.1939c26f45d953e4a423d3cf9958dfca.jpg', '-2270-_png_jpg.rf.6455ef559e463c1fca6b0d6d69da3ffb.jpg', 'youtube-196_jpg.rf.949f50bfd27d739dbbab25d266456419.jpg', 'image_39_jpg.rf.05703385c8acf10754c714403717d287.jpg', 'construction-618-_jpg.rf.56a444a99835f33971ab324800b81b7b.jpg', 'youtube-246_jpg.rf.abc5b268245a19116e3001ccbf93af2f.jpg', 'IMG_9949-1-_mp4-24_jpg.rf.f1b40eef5d1dface15afbb3d296fb4c9.jpg', 'p65621379_jpg.rf.00d56f3bb60d7b74546bd950b530247c.jpg', 'youtube-809_jpg.rf.3c8a20a2fb74b66621e6e9ab0aa92106.jpg', 'construction-305-_jpg.rf.f3631b40d6158e6dd009e5f237d42422.jpg', 'IMG_3103_mp4-1_jpg.rf.a85e4a0f9df714dac02831fb88082d2c.jpg', 'construction-253-_jpg.rf.7db6b21086f397355d9373f0d575e148.jpg', 'image_426_jpg.rf.4580f9223554a212044814714cc75586.jpg', 'youtube-573_jpg.rf.8c4e98277745cc2f09001aba21b3d4a8.jpg', 'construction-253-_jpg.rf.0590780a5e0f86c9f306c71d7c3a3c6b.jpg', 'youtube-18_jpg.rf.eece44b86f6a81571decd1bb9ad11578.jpg', 'youtube-61_jpg.rf.5d55405b33932b77ba587e16cb8ab56a.jpg', '001425_jpg.rf.ee12b5cd77b14d4b6edbec28be0b9b28.jpg', 'IMG_7211_PNG_jpg.rf.6114b3b603b72886bde2507762ffb713.jpg', 'image_418_jpg.rf.94cdaf3339a7193dc00d0f07da971d4d.jpg', 'Movie-on-10-31-22-at-10_08-AM_mov-28_jpg.rf.19fc8076a9b40a6d0126deea4050d2fb.jpg', 'construction-1062-_jpg.rf.30c06a00f2aef933ecf9aaa4b95f1320.jpg', 'construction-684-_jpg.rf.22733637c2460c60fc4cbaaf26b1a722.jpg', 'youtube-295_jpg.rf.acc7e503322d516b86a0638f98f975b3.jpg', 'construction-4-_mp4-185_jpg.rf.e3ae03d80feff5c97b521f5acda20c42.jpg', 'IMG_3100_mp4-6_jpg.rf.7cccca092c407beef90e1a53f83ab88d.jpg', '2008_008526_jpg.rf.b9241d674aac7899827bcc5db9486bdc.jpg', 'image_781_jpg.rf.48121c8c51335dc21d89cbac2412d31e.jpg', 'IMG_3100_mp4-25_jpg.rf.ddd7840e3d846cddfcc13d99f4a6999b.jpg', '005577_jpg.rf.566862c761348eb4f58647d4d420213b.jpg', 'image_221_jpg.rf.ea323c63ed077f960309350f17478702.jpg', 'image_861_jpg.rf.44045e1408d7d09c8e41903158c121ff.jpg', '2008_008593_jpg.rf.a6f37b5452eb88ac2cd643e744e78529.jpg', 'IMG_0871_mp4-13_jpg.rf.45050c60edb973136cb5d3f59ba29883.jpg', 'airport_inside_0363_jpg.rf.365291e514d607750e19f54ac0c9fd8c.jpg', '-2252-_png_jpg.rf.a71a293e8fb2e65c9b851ee278fbc4c0.jpg', 'autox6_mp4-157_jpg.rf.5083cfa42053e2766397344e36be6ca8.jpg', 'IMG_7286_JPG_jpg.rf.163e2f93984512595dc662c098c14455.jpg', 'youtube-448_jpg.rf.d5ba5cfa93fdd4d8610d02627f9b7761.jpg', 'image_475_jpg.rf.fe0fbe9d9078e375daa15d81a6eb20ab.jpg', 'image_255_jpg.rf.422e26c6191794cbd77a3a8cc6d496c9.jpg', 'construction-753-_jpg.rf.c51bed05b86b7114bf8279c77899da6e.jpg', 'image_379_jpg.rf.54efebfb83a98bf4589d896c36fc717b.jpg', '-2252-_png_jpg.rf.e294c55ec43d0a8f1eb80b7a52de697f.jpg', 'construction-3-_mp4-122_jpg.rf.7bb280627f23963d8fc187e624716358.jpg', 'Movie-on-10-31-22-at-10_08-AM_mov-27_jpg.rf.8b326224cea34727d375d9e28fc34ffe.jpg', 'youtube-221_jpg.rf.14f433ce625eee736701c289e21bc013.jpg', 'construction-1-_mp4-115_jpg.rf.d0c6fa0cdb93e0dcda95fcf82b93d7f2.jpg', 'image_732_jpg.rf.af374ccbe8138d01281f7716a133c712.jpg', 'IMG_0871_mp4-23_jpg.rf.7042315ee68e17ead44f4637c6e7fdab.jpg', '60_jpg.rf.4edf14ca3e3d857d2a32b33adbc6e1c1.jpg', 'youtube-661_jpg.rf.b0177efa16cf7ba6922a4e938fca6d00.jpg', 'IMG_3103_mp4-10_jpg.rf.1379c718e5cd5a6021da12fa73e6138b.jpg', 'construction-649-_jpg.rf.489dbb82d11a1199603b21cd507c75f4.jpg', 'image_153_jpg.rf.513389c7049c5ff59a3cbef8c20decf3.jpg', 'construction-434-_jpg.rf.3bc7d72cfb1fd34c037931a5fc361028.jpg', 'youtube-396_jpg.rf.b4ba18ab11ba9100d19819e75a887129.jpg', 'construction-142-_jpg.rf.d11551af177b7b30b97be894c66dae1d.jpg', 'IMG_3100_mp4-24_jpg.rf.80e4e03da7a762652a41859d95f33734.jpg', '707_jpg.rf.db3baced2a7a966138cf88c7cb95f522.jpg', '2009_000063_jpg.rf.de3b6f86a7cfb5a006cc81653ebe0868.jpg', 'move_in_corridor_jpg.rf.732ef1db38c1ab08afb0d8f457545a5f.jpg', 'construction-5-_mp4-136_jpg.rf.aeb3616a8195ab797c209691b9440b21.jpg', 'ppe_0015_jpg.rf.1637e0c40555dc87aec1266445b69e23.jpg', 'IMG_5024_mp4-5_jpg.rf.6cd31342886e81ced03d5af2ece44767.jpg', 'IMG_3103_mp4-10_jpg.rf.f2d3fa318cf73ee2e63d1c750edda1e7.jpg', 'ppe_0029_jpg.rf.3c177b00342fbffb26ee62203529551c.jpg', 'construction-821-_jpg.rf.a04939802a615158c97664c40de41013.jpg', 'youtube-242_jpg.rf.3a9e88e1fe5ea142ca0867917f4be979.jpg', 'IMG_4921-2_mp4-40_jpg.rf.ed65cd53f5ac4d4f278c4cf9359d0b79.jpg', '000415_jpg.rf.6b9ff926deef3b67d6cb46c8bd2b2366.jpg', '2008_008444_jpg.rf.260d91b51ebae045fe3a5ed752628307.jpg', 'construction-2-_mp4-210_jpg.rf.97c7ed3b362a658e69e582e794a29994.jpg', 'IMG_4921-2_mp4-40_jpg.rf.b4e6373d7be3e64e60435387d8b8d701.jpg', 'youtube-254_jpg.rf.a085617a9e38ff51004011a35f3ec95b.jpg', '2_jpg.rf.b6161c4d7722be0e92af7b88e8391da5.jpg', 'youtube-196_jpg.rf.b27679ce8ec2a7e46370da314efd0a44.jpg', 'IMG_0871_mp4-24_jpg.rf.e185f434f777196a7ee734b6cd6e3eee.jpg', 'youtube-504_jpg.rf.7c1e0634deed1692079bcccf98f4477f.jpg', '-2297-_png_jpg.rf.feeef4f36bc6dfc96b77a1f7f686fb6c.jpg', 'youtube-345_jpg.rf.894913690905774e15b79590f76b14d2.jpg', 'youtube-849_jpg.rf.5d8edd60e5719fa55ed85fc67d814a89.jpg', 'construction-1-_mp4-64_jpg.rf.82630b3884bea0665bee75d3f3251c15.jpg', '2009_002883_jpg.rf.14d86d27fb802b8d26403c723c3e4c33.jpg', 'youtube-61_jpg.rf.0b22869fe6da04a763f3e1f2a216c55b.jpg', 'youtube-636_jpg.rf.964f510075988212d7b22be0cd7b80d8.jpg', 'Movie-on-10-31-22-at-10_08-AM_mov-28_jpg.rf.34703946fabeb4f2f48029381dd98237.jpg', 'autox6_mp4-80_jpg.rf.44eee52828ea57aaaac102dfbcc55e45.jpg', 'construction-649-_jpg.rf.684e6f30445a032c9fdfa9cfe9d9a752.jpg', 'construction-684-_jpg.rf.7963a972eb4b888dcd876e0b10c824e6.jpg', 'youtube-116_jpg.rf.ed1c428003f3de7b62ccf0219d4c1316.jpg', 'IMG_3103_mp4-10_jpg.rf.ab20fda596db2bee8ea7b28eca640c21.jpg', 'IMG_3100_mp4-2_jpg.rf.c28f7521c16c937d5b308d185151f610.jpg', 'autox3_mp4-49_jpg.rf.8f4c370974dd8ccbba690d745472f76c.jpg', 'youtube-731_jpg.rf.75f1bb8c05e0e1ba3667e6b1fbce8250.jpg', 'class1_075_jpg.rf.e3831cb374ca34da6761df50b874cbc9.jpg', 'construction-3-_mp4-162_jpg.rf.d5b9deac1a1c1205d223e3d604afdd09.jpg', 'RPReplay_Final1667001201_MP4-79_jpg.rf.cb6d55eeb92582ac4204e5799a080230.jpg', 'construction-528-_jpg.rf.8aca598ebfb9d8074d1e7f4763674d73.jpg', 'youtube-57_jpg.rf.41958971dfc7999e339ba42825f6f12d.jpg', 'Screenshot_20210830-123141_Instagram_jpg.rf.b67fad686e2627a75caef191e13072e4.jpg', 'construction-872-_jpg.rf.5bd5245429e828eddf7be1afcb9080de.jpg', 'Image_1009_jpg.rf.7e8e17c1edb556205d0418d1e0a29522.jpg', 'image_170_jpg.rf.e01f9e0379c6073e0463f37eab94dd77.jpg', 'youtube-235_jpg.rf.426511762b282049df69f0463aed5d93.jpg', 'construction-4-_mp4-127_jpg.rf.369dffc6c0812c73e687686e68e9bde3.jpg', 'image_296_jpg.rf.f15597161ae5df59ecb09ae9e1202399.jpg', 'image_1006_jpg.rf.4b9023dd190b5e5fe196969df1040761.jpg', '01094_jpg.rf.a353aa741bea05e999eed430fbca7d6b.jpg', 'image_28_jpg.rf.83228814ea921754456d144a3d128bf4.jpg', 'construction-5-_mp4-98_jpg.rf.f30eaa2acd13890a1ec29645af90bab9.jpg', 'mms_00691_jpg.rf.1d6b11c8456794ca415e4e5f1e96e807.jpg', '2009_002711_jpg.rf.9014fa0e9a77a787d9a8e3d03b984081.jpg', '001425_jpg.rf.85bc2e1d337adb66e78e393c2aecff1c.jpg', '005239_jpg.rf.e2238d4058c251acf13fce7ed0319bae.jpg', 'youtube-61_jpg.rf.1b26ec9c12255c8a7d19cddda5850f5f.jpg', 'youtube-235_jpg.rf.186371c5383e0dbaaa3f71f3f3dab88c.jpg', 'construction-897-_jpg.rf.a26d42c31f4f84d40c077e063c6d5b0c.jpg', 'Nhh_img_141_jpg.rf.1b615e2b5d479ae03e4d97708c3387f9.jpg', 'image_39_jpg.rf.ede6d4b674c4f2034325cd0fdbcb2dbd.jpg', 'Screenshot_20210830-123141_Instagram_jpg.rf.cf87553f734ba5173fd4f575167ade7d.jpg', '-2270-_png_jpg.rf.cc2c95b44846f13084b60e847aaa692a.jpg', 'image_829_jpg.rf.cc0e980e8fea6a67f92ba58c85429f98.jpg', 'construction-705-_jpg.rf.d76333a45a7d164a5ecbc40f95379d95.jpg', 'youtube-235_jpg.rf.4b25a9ac4d779e264f91b96f950f61e1.jpg', 'image_321_jpg.rf.3172aebe86cc69469861c2956fe9e05d.jpg', 'image_678_jpg.rf.32fc8ac69b0d4313b96b3713a5cd1745.jpg', '4c43875bc97cdaece84ac6ce555235f1_jpg.rf.f7fa31a18ba1d08f8e9d322265241f8c.jpg', 'image_31_jpg.rf.678c31291633a15b98915ef7cda5a516.jpg', 'smartmi-3pcs-filter-mask-pm25-haze-dustproof-mask-with-vent_jpg.rf.79f2ac44db8c468f5e8f2605b25ef935.jpg', 'YouTube_FreeStockFootage_People-wearing-face-mask_Empty-Street_Covid19-D_DbgrvhlGs-720p_mp4-11_jpg.rf.057bb111725e4c37ef3a24e9fe9c76e0.jpg', 'maksssksksss795_png_jpg.rf.13d6bd52e2cd1552e43ff111641e7dd0.jpg', 'image_833_jpg.rf.550df56bda117a625df46ce9c44e457c.jpg', 'youtube-589_jpg.rf.3d7feeffd99331e03adfca8c51e5e325.jpg', 'youtube-116_jpg.rf.1bc83b2e281de5b3f15be640b02cf4cf.jpg', 'construction-872-_jpg.rf.d5a3857b1b2073061ba4ddd0aeb5fe84.jpg', 'class2_074_jpg.rf.ae4be5b9019c6a7f0239923b379aaa78.jpg', 'youtube-435_jpg.rf.b2cdb9d22be30935907246df6a8ea86d.jpg', 'youtube-699_jpg.rf.553ad81fae79c4e278ac25c772a9b9b8.jpg', 'Nhh_img_141_jpg.rf.8ef07d1dae8ae9c7dfe47318d8b9c202.jpg', '003184_jpg.rf.e8a5cc8317ac032f832ce528240edf35.jpg', 'bowling_0014_jpg.rf.3a4e573cb2c7f888fec2b6a710c60be9.jpg', 'youtube-829_jpg.rf.fd67c22d0d1125efb6f0a23b0c460c77.jpg', 'youtube-60_jpg.rf.c71d352bf4375d6b743d9c58444d04d0.jpg', 'Mask2_mov-44_jpg.rf.78134bef16472818ae01aaa08b2f9a65.jpg', 'youtube-376_jpg.rf.46021b529c258b26fdaef182a608a53e.jpg', 'image_743_jpg.rf.c95f7066332dd202339051309e82d4eb.jpg', 'youtube-230_jpg.rf.462aca78b71bedb66bce8aeef766a9af.jpg', 'construction-507-_jpg.rf.61164c54bfdd0bb7f8b4ad85df86119f.jpg', 'construction-708-_jpg.rf.d7ef7ae688a4d558cb2f299e577775f9.jpg', 'youtube-502_jpg.rf.a12c146909c4f2cc577710149c449ecd.jpg', 'youtube-639_jpg.rf.31820317a457e2ca8001577f46b6220e.jpg', 'autox4_mp4-42_jpg.rf.7cd00519a8916b471f617fc9d406eb8b.jpg', 'image_31_jpg.rf.df389b809c126343ee86d041142c8935.jpg', '1288788-une-employee-aide-des-voyageurs-en-provenance-de-chine-le-26-janvier-2020-a-l-aeroport-de-roissy_jpg.rf.c0a0407a94e7eeb441a235b51752d178.jpg', 'image_716_jpg.rf.0cce750055b198889ee669b4a0246957.jpg', 'youtube-855_jpg.rf.016160b803b33611610bba867ebb078c.jpg', 'Movie-on-10-31-22-at-10_08-AM_mov-5_jpg.rf.709a3dfb442616bb46e772602d8417c0.jpg', 'youtube-806_jpg.rf.c8952e265f0c4af327b56f43b365537a.jpg', 'image_13_jpg.rf.d2935ec7b305c381c6b298ca98f24a1a.jpg', 'bookstore_38_02_altavista_jpg.rf.75e95418a92b328483c1c1ef9859b0ac.jpg', 'youtube-435_jpg.rf.e1f595de41eb39a1e878759770aeaa9a.jpg', 'IMG_0871_mp4-13_jpg.rf.8cf0592cc8621a5b9c3322bb071db031.jpg', 'image_833_jpg.rf.66e2de7c05f5df0dd6c1a0657d60f994.jpg', 'youtube-242_jpg.rf.bb757a2589bdbb15858743a6ff9f7699.jpg', 'image_743_jpg.rf.816375116a2ff7c77fecebf9206daf94.jpg', 'YouTube-FreeStockFootage_Child-playing-with-parents-JoyLaughterHD-RQ_qqCZOkZk-720p_mp4-42_jpg.rf.24f70d1d2b1dfabb4b50ec9aa1a44302.jpg', 'p65621379_jpg.rf.5735572551e7f087e9ba38b09f0b3646.jpg', 'image_566_jpg.rf.077fd5f720f734a4087c020d58b16269.jpg', 'youtube-573_jpg.rf.8ad2ef64817ad42a2acf4c7878ed5e60.jpg', 'ppe_1212_jpg.rf.7bb612bc84ecb56f461512ddcb0cc5c9.jpg', 'youtube-474_jpg.rf.5a19e0cfc81b8d82788a127768e8e354.jpg', 'Libreria_09_20_altavista_jpg.rf.37034555ce000a9156534c8ffb6736d0.jpg', '-2270-_png_jpg.rf.5bbc03681c0dfcdd978be9723da2cee2.jpg', 'image_221_jpg.rf.48896f8df2ad2199102cfaff5fff3472.jpg', 'construction-347-_jpg.rf.93d15a4e3702fc5d9284d9f1cabb832c.jpg', 'IMG_3103_mp4-17_jpg.rf.2ff2b16a7d9b2a53552695c49fb34105.jpg', 'construction-3-_mp4-23_jpg.rf.89d36ba8fa7060b226d63d08223458d9.jpg', 'construction-5-_mp4-69_jpg.rf.23a3f9feb8b2a30b45189f742b62abd2.jpg', 'construction-1050-_jpg.rf.f168e4351cfac6996af2ba1b29652cab.jpg', '-2297-_png_jpg.rf.1d5b556861b3c2f1b54baa569a52cb1c.jpg', 'youtube-848_jpg.rf.420254c4553963c6c3d957e2cc961a34.jpg', '002654_jpg.rf.91da067adc57784316a2dc4685f239e0.jpg', 'IMG_5024_mp4-4_jpg.rf.02dc33f0f0ffc6b8eab4a796f01b3e79.jpg', 'image_833_jpg.rf.3ea30907534274005c210558c69f531a.jpg', 'Image_1037_jpg.rf.872488c3380b84757e8f117351a46005.jpg', 'image_379_jpg.rf.76f16ba57fbf5e06f4a16739bf1b643c.jpg', 'autox4_mp4-112_jpg.rf.7cc302ad3018179e980d430dacb22f9d.jpg', 'construction-619-_jpg.rf.dc01af03cac6c0e921cf55d5d8e8465d.jpg', 'youtube-574_jpg.rf.ec53f3e134d613ec561e1f7fb9e56db2.jpg', '405_jpg.rf.0a37dfa7a6cc2efb13be8591aef13ca6.jpg', 'image_678_jpg.rf.5c07f3a8e380b2683312bb73284eb9ff.jpg', 'Apple-Tests-Face-ID-Feature-While-Wearing-a-Mask-Shorts_mp4-51_jpg.rf.27396fc04a6ccea3ce80c61bfd773d3c.jpg', 'youtube-645_jpg.rf.678dd020ed3048e268f7768a6df08cf8.jpg', 'image_257_jpg.rf.d4630ce8c7553aa88c3ec41431a01621.jpg', 'image_560_jpg.rf.6c6d505912c78a83a850fd0e05dd3002.jpg', 'youtube-407_jpg.rf.dda53fd876a4038b177e007c5948a3f5.jpg', 'image_620_jpg.rf.8b25201db0567e624c5ee9b60f2bfc63.jpg', 'construction-3-_mp4-14_jpg.rf.bad949e91ac4c4967902a801e80bd803.jpg', 'image_704_jpg.rf.dd50958a6a62180bb467e72956b08c78.jpg', 'construction-5-_mp4-135_jpg.rf.6999ef662dd514389ed19622a37a2a93.jpg', 'IMG_3100_mp4-2_jpg.rf.bde377ae23066dfe925f09789c2bbdef.jpg', 'img_037_jpg.rf.3172ab1c0bf89864c11461334e9c7f8c.jpg', '2008_008364_jpg.rf.6c09ae7ec7500b18c2f9175f7ae996c9.jpg', 'airport_inside_0214_jpg.rf.60a3f329d3b1db0658aa045ba6a77fdc.jpg', 'youtube-376_jpg.rf.3718c769c7b35997d6ce58fecc01d438.jpg', '931_jpg.rf.f34dd82ef95234e3b6db3832ece39491.jpg', 'image_18_jpg.rf.9be3756f23d3a5e6f69968bff1830bfa.jpg', 'image_986_jpg.rf.109f5a671b9dc6f2f574773b9adc4f7d.jpg', '1582_jpg.rf.a067bc50920883d43cd5cab0a1966ad4.jpg', 'image_46_jpg.rf.424d191f6c0ad06155c8fb53f662d005.jpg', '002654_jpg.rf.893fab88ba85b2b20f6a1654447abb2a.jpg', 'construction-618-_jpg.rf.eef05f234b24341cde01eb8ca476781e.jpg', 'image_861_jpg.rf.dfe1552c7796b53e288441abfa5e9316.jpg', 'youtube-57_jpg.rf.87a1f2203f761f29bdf0543239ec739d.jpg', 'IMG_3100_mp4-25_jpg.rf.3bbcfef23f20b2cf747256793dcfc615.jpg', 'construction-2-_mp4-113_jpg.rf.b9c7bbcaf17702d65b9cccb60a39bb47.jpg', 'image_50_jpg.rf.98159c6be48071b9ae87b456ef4a285e.jpg', 'youtube-618_jpg.rf.d8eab6517bd8e0a0aa5e6881a8a3b0b3.jpg', 'Image_991_jpg.rf.9966252c3fda2a50e25e9db82132e6a3.jpg', '2009_002711_jpg.rf.c5342ac0316773ec167d3bc6f61ec8ac.jpg', 'construction-4-_mp4-19_jpg.rf.6a01da119397d148788b4614bbb4207b.jpg', 'image_757_jpg.rf.0b5fe9980f12489e1ca7ee83428e6b36.jpg', 'IMG_0871_mp4-0_jpg.rf.3c56f6f0e15308cd3691329655b205e1.jpg', 'IMG_0871_mp4-1_jpg.rf.c1fa056cf1040dad968c2b3a16cd484f.jpg', 'youtube-116_jpg.rf.824079ec283281c08f2004e9b3eebc42.jpg', 'construction-708-_jpg.rf.8412869d37074b8796769c0d431af32e.jpg', 'IMG_3103_mp4-3_jpg.rf.a0a4ec4e54b1f1b04803df827c6329c8.jpg', 'construction-112-_jpg.rf.699d3c5a3155bb76ee6e10e842cc24de.jpg', 'youtube-361_jpg.rf.22ee204bd5283237a0631f328df73e69.jpg', '2008_008364_jpg.rf.7e993c289a92cc10642f3c86fd49615e.jpg', 'youtube-235_jpg.rf.145865b91fed5333f9e75f4d72a8c3fc.jpg', 'image_566_jpg.rf.4f5d3f4e6da64c3b0192d3298d4d04ed.jpg', 'front_crawling_00088_jpg.rf.538a4f0a7b1b14a1e2c0295ec55e3b53.jpg', 'Apple-Tests-Face-ID-Feature-While-Wearing-a-Mask-Shorts_mp4-51_jpg.rf.74c8055c0e237b07789f149d71a06444.jpg', 'construction-816-_jpg.rf.9bc25654e962c8a8070928911f5195ad.jpg', 'IMG_3100_mp4-24_jpg.rf.a1ad61ea42e6b66a57d801f7d0878c0e.jpg', 'youtube-260_jpg.rf.9682bc1741d7642e66d56832930de422.jpg', 'IMG_5848_jpg.rf.276bb36b3b72258634e631184da7852d.jpg', 'youtube-230_jpg.rf.8c88cdcc6732cbf4431747bef40863c4.jpg', 'hqdefault_jpg.rf.4706073e06174142f831b93adb16f07d.jpg', '2008_008593_jpg.rf.fa226868652307ad79a6e9a0ec013a1e.jpg', '2009_004148_jpg.rf.20ee0ed182f1410ef10f130001b67a14.jpg', 'construction-369-_jpg.rf.23dd790f943919d62800543641ea8474.jpg', '004720_jpg.rf.2c90819deb7a595e4201b6be21fe29ec.jpg', 'image_314_jpg.rf.f06eff57647e89b591bbc8705bec3475.jpg', 'autox3_mp4-49_jpg.rf.6121fb64e33a8b42f4492a6a9740edc2.jpg', 'construction-5-_mp4-135_jpg.rf.f7409d777b9b29b4565546cde4ffa927.jpg', 'youtube-579_jpg.rf.0553c682a240e85b7d1367fec9da21e6.jpg', 'w1240-p16x9-fa978043deff83fed485af12d16e39c61398fc30_jpg.rf.ed6e2c2cfd30a52bfeb2e2a7eafc93c0.jpg', '2008_008364_jpg.rf.bedc4a85a4f7f5d50ebf3f3f62cf1500.jpg', '-2544-_png_jpg.rf.dcf58552354021e725e2535105969f5a.jpg', '-1975-_png_jpg.rf.f0c6b10f9762a19849b0fb7f1654c001.jpg', 'youtube-116_jpg.rf.b6805cadcdff7c45cb410b69a73ca293.jpg', 'youtube-554_jpg.rf.7c697c7deea9995a0145e96cb7a23797.jpg', 'image_624_jpg.rf.300c4ba33e4ebba976d92ff7e547f58e.jpg', 'youtube-51_jpg.rf.aa7c8977184675aa773c6d399e1f224c.jpg', 'image_1004_jpg.rf.57bc4c7a8f1d5f7737d9c7dc5827d7f5.jpg', 'youtube-360_jpg.rf.16fc1037fb64a35c8c2acad6f366915d.jpg', 'construction-3-_mp4-14_jpg.rf.f3027b7117e0f1c6cf0d007ca62c2d30.jpg', 'image_294_jpg.rf.42bccbf87a08517227f2506fd6c13592.jpg', 'youtube-396_jpg.rf.7501d10509b2c151d5eae679f8e5e5de.jpg', 'image_721_jpg.rf.65605ae6d8fa269e1a191c78ccb17894.jpg', 'autox6_mp4-20_jpg.rf.2ea83677536cb5929e57581ab983827b.jpg', 'youtube-574_jpg.rf.7c5c0939b72ebede4176b05f7443bc7c.jpg', 'youtube-13_jpg.rf.7f6ecc3e5497f54e3146fa73d8936ade.jpg', 'construction-2-_mp4-213_jpg.rf.796b34b4516cfb4f1aefddbb912f01b5.jpg', 'youtube-824_jpg.rf.c3657af2cfe0258c9c311523f03a2917.jpg', 'autox4_mp4-42_jpg.rf.146b0e51a6d2ed699aba1c2f0fccc723.jpg', 'youtube-682_jpg.rf.a221074889b2fed3fd62246bf4774bce.jpg', 'Image_1037_jpg.rf.85437bdf81bc2591c070b50693ee8f1f.jpg', 'youtube-260_jpg.rf.cecb7cbad4d0e82722464d408d2073c9.jpg', 'image_120_jpg.rf.ced22b7f72738e282041434526f0d32c.jpg', 'IMG_4921-2_mp4-40_jpg.rf.89c53f3f884478413a868cd4c6bf1067.jpg', 'Image_1021_jpg.rf.e0b3cf8a2d216a9599f0d3957f7effd5.jpg', 'construction-207-_jpg.rf.8a3fce7280ed193217b1b4e9bc472c32.jpg', 'construction-4-_mp4-41_jpg.rf.f6fa04b0e08026d620829a2ff14b6c32.jpg', 'youtube-628_jpg.rf.d427d0722bf65a27b71bb4ef33451f84.jpg', 'construction-118-_jpg.rf.97ebf941e2db53ff604959f7fb3adbda.jpg', 'construction-2-_mp4-12_jpg.rf.26f2ced069d37f4b768da48c5ef0f5e2.jpg', 'IMG_3100_mp4-15_jpg.rf.f9df1006248df05f97c270dcd1620bec.jpg', '627_jpg.rf.152dc625cfce3681ec3b2b907efea26c.jpg', 'youtube-44_jpg.rf.44c112804b26c917732c97277de4842c.jpg', 'REVZGCBIJNQPMIIXOKDCQA3GJI_jpg.rf.84eab5aab0a00caca84f2c1bf3318f25.jpg', 'ppe_0750_jpg.rf.3c6c7e7f41b061e2116d8ca06c781cfd.jpg', 'ppe_0985_jpg.rf.eacb646068f880279717582a587aaaf9.jpg', 'youtube-64_jpg.rf.d1ef98ecec242ae069270ff89347d925.jpg', '2009_002711_jpg.rf.f0563c83394a79e936b0ecec2658ec97.jpg', 'youtube-812_jpg.rf.c99750442be9a6d08888a8dcbb2fa62b.jpg', 'image_743_jpg.rf.b82c9548b6bb067d207541efc1c80513.jpg', 'youtube-709_jpg.rf.c67448753df01a846b96b11b26101d80.jpg', 'youtube-242_jpg.rf.91b9d0cecaa2c686c4c49a7d21e5c02b.jpg', '01437_jpg.rf.7839171efbe212f40b2c6ce1f3c8819b.jpg', '002682_jpg.rf.b5f6e4d4f429c574db5367b57dad17ff.jpg', 'IMG_3100_mp4-2_jpg.rf.58de1db8826e4221df63fd980b823844.jpg', 'Screenshot_20210830-123141_Instagram_jpg.rf.ab3ed7ef93b1cc4763e8b15a2eda02a1.jpg', 'youtube-848_jpg.rf.edb70b1c78b78eb0e137fa8bd4b17575.jpg', 'construction-5-_mp4-39_jpg.rf.c209156691b8954bf0bd2732bbcacf18.jpg', 'construction-5-_mp4-137_jpg.rf.1ab866f667b59aebe91a95912bc348be.jpg', 'youtube-622_jpg.rf.227bf75c5b7e51d3208d32dd248f83f7.jpg', 'construction-1-_mp4-115_jpg.rf.4dccb4f6ffaaa020f6b83ad8f7f8554f.jpg', '277_jpg.rf.1f9c34c877f19f92f71b8325c99b89a5.jpg', 'construction-5-_mp4-69_jpg.rf.db2363bd2d668608b713c20e248158b5.jpg', '2008_008753_jpg.rf.96b05f76830c2a6d37ddd3d669725532.jpg', '-1680-_png_jpg.rf.fc3fb462afe2de723f6bc348720198f5.jpg', 'IMG_5851_jpg.rf.e86249fb1684ab8fe574800182fd3d58.jpg', 'construction-4-_mp4-27_jpg.rf.6e128e68e8731b6daca9271077e4f8a0.jpg', 'construction-5-_mp4-135_jpg.rf.ee1df1fe116d2b73503f786f2893aadd.jpg', 'construction-731-_jpg.rf.74c1bf3dd3936f126806047dd71df558.jpg', 'youtube-497_jpg.rf.fa62909c54b1927602668c56527571b4.jpg', '707_jpg.rf.7f919876d3848975af00bd13370ba92f.jpg', '2008_008337_jpg.rf.5590da143ecce5f4a253645df18158c1.jpg', 'construction-1-_mp4-46_jpg.rf.173fff469373f847a78f437636cbbfe7.jpg', 'image_241_jpg.rf.ae5c13350042cce95f3e4cbc5b629b6d.jpg', 'image_624_jpg.rf.6606bdfe781b8863d9823eb7bb867a28.jpg', 'youtube-709_jpg.rf.34745146d2ae2dbc7b5605b15d06c949.jpg', 'image_13_jpg.rf.c8b3eebd3caa8e8b980753e055ec6e0a.jpg', '002458_jpg.rf.5920dd0b127455ba3892de5ce09611e2.jpg', 'construction-976-_jpg.rf.8c3de975886ffa761d4890c65691cece.jpg', 'construction-572-_jpg.rf.e2b425bdd9d13b5d0f5c6362a81f21f4.jpg', 'youtube-254_jpg.rf.6b36672be6f16090ce5afef24fa83f1d.jpg', 'youtube-571_jpg.rf.445722ace33f1fd733756c215912b3a8.jpg', 'youtube-504_jpg.rf.586cfb3ab06e7ec9cd9846fb1414fd7d.jpg', '727_jpg.rf.58c264f473552ed0c30df918d68122da.jpg', 'construction-682-_jpg.rf.4f5711298668cec5cf63e8c7f8d7541d.jpg', 'youtube-276_jpg.rf.c3164d2b38f7d28b4f840daceb1de822.jpg', 'construction-5-_mp4-75_jpg.rf.289034d906e0ff963e0ba2ba80fcdce9.jpg', 'construction-844-_jpg.rf.9374d63a45b73f848efaa07e7beebf57.jpg', 'image_829_jpg.rf.39f673b4372b452d8c687e3fcdce765d.jpg', 'mms_00692_jpg.rf.172c70de90c7f0170272abdf699d97b1.jpg', 'autox4_mp4-112_jpg.rf.f19a9dc748d2bcfebbedbf5877b6f76e.jpg', 'IMG_3103_mp4-15_jpg.rf.79e6d35cd4a465fd7ec0d4dd031673ff.jpg', 'image_120_jpg.rf.530c86dfc54a97d88c9b090eeaafb7c2.jpg', '329_jpg.rf.4a5e5473d213e592580c29c03b2db094.jpg', 'youtube-165_jpg.rf.e6ee3b2accd8d127ef2d8aa1964cd0d4.jpg', '006118_jpg.rf.3bb10bffe280d9846dec2c95585a3658.jpg', 'youtube-480_jpg.rf.77f9c16588cc063d8996df3d0b484f67.jpg', 'mms_00691_jpg.rf.dcec30837206b02a1e5bdb85bd49de37.jpg', 'construction-844-_jpg.rf.5ffd5589cd69ddbbb3b14b5846753908.jpg', 'youtube-234_jpg.rf.d98b2edbf5883bd854d4bdd4b9427b6a.jpg', 'youtube-224_jpg.rf.e9877c51ff8b8cae6c2b865faa2e01df.jpg', 'youtube-567_jpg.rf.f0d363edf6b7832ec61698ecfc457e48.jpg', '235_jpg.rf.ecd6121b665ab2bbdac1899ab058d2d3.jpg', 'youtube-497_jpg.rf.de718ed675c4ac0cb19ccccac738aeb2.jpg', 'IMG_0871_MOV-39_jpg.rf.41a6a9b70c2a41fa45e39600600ce0ed.jpg', 'youtube-29_jpg.rf.7be45ddfea22f012183920e9f2dac0a6.jpg', 'class2_151_jpg.rf.bd3a6afc6980ba1938fc0791be100536.jpg', '005376_jpg.rf.2a20e5687918f570b05628736b28e9b4.jpg', 'youtube-519_jpg.rf.79bce9674838d4bbfdeb3bcd9eef040e.jpg', 'autox6_mp4-157_jpg.rf.b63cdf38ad7d4f47f511babad4ea2458.jpg', 'youtube-622_jpg.rf.a5440f236330dd579ed80c8154b4a1d0.jpg', 'youtube-661_jpg.rf.b0ae3ac48fdc989a2fc886f789d6b951.jpg', 'autox4_mp4-111_jpg.rf.dd047d61ebf9b70f351d8faf0e850fe9.jpg', 'IMG_0871_mp4-1_jpg.rf.7f7885aea560be0f8179588784380905.jpg', 'youtube-667_jpg.rf.d2f2249f002ec216499a1284b54abb00.jpg', 'construction-1050-_jpg.rf.6906df9b82b1cfb9a06fe3fa8aa1ad3f.jpg', 'class1_075_jpg.rf.f7bb65e5958e262cf9b3ab5ea58eb1c3.jpg', 'construction-816-_jpg.rf.8dc9e2198fc86bd12a488c34fc4fa02e.jpg', 'youtube-272_jpg.rf.7dd66440ef8aa37bd17d50705dd38ccf.jpg', 'youtube-137_jpg.rf.90bf389d1e857adcc5f447325cb571c6.jpg', 'ppe_0629_jpg.rf.5b22ac96e5d13708ad0d3c760684ed67.jpg', '405_jpg.rf.d32a5c5e31bf063c660923d082f43e83.jpg', '006858_jpg.rf.fac7da50abd77496b63cb83cca271507.jpg', '-I1-MS09uaqsLdGTFkgnS0Rcg1mmPyAj95ySg_eckoM_jpeg_jpg.rf.b6fe400473371645e17e76a323691b4b.jpg', 'bowling_0014_jpg.rf.d28f01392e1078bf8ad121aa9c94fcea.jpg', 'image_28_jpg.rf.188dcca832e3ca1c9e9597e352ca7aa1.jpg', 'image_337_jpg.rf.961796940b13502ddc37ed2a2e063cee.jpg', 'IMG_0871_MOV-39_jpg.rf.20053de5df260249bf93e767a4c62c8b.jpg', 'RPReplay_Final1667001201_MP4-79_jpg.rf.0fcc7de22dfa5f7992a47c7ff06b0d16.jpg', 'youtube-229_jpg.rf.1abc159f7f5710e59b83f731b3d71378.jpg', 'construction-331-_jpg.rf.a81eec9d26ee319d3d0cc6692ad1018c.jpg', 'YouTube-FreeStockFootage_Child-playing-with-parents-JoyLaughterHD-RQ_qqCZOkZk-720p_mp4-42_jpg.rf.eb3adf1c60e2f4b74334f3dbc1a1b88e.jpg', 'image_875_jpg.rf.5deddf512753ad8bc975db3f71810b82.jpg', 'RTX7CD4D-e1580252893876_jpg.rf.7781041fba565aa3f08b820e1220ad2e.jpg', 'construction-2-_mp4-12_jpg.rf.303c49beb1cd6415e78e95affd27ec7e.jpg', 'youtube-274_jpg.rf.cad3d673d4f2730f63202db35975429b.jpg', 'RPReplay_Final1667001201_MP4-79_jpg.rf.a31577e9de8bac4f2ea33df90a0f0ccc.jpg', 'youtube-260_jpg.rf.bf204cb73ecb38d4c88045354ba687d1.jpg', 'helmet999863_jpg.rf.532399683d5b56a404e935b18b13b9c3.jpg', 'construction-4-_mp4-182_jpg.rf.492a9e7be9451e34149bcbcb89c11810.jpg', 'image_120_jpg.rf.b4d103c7a293cc87c8ce4fda188d1096.jpg', 'amz_01638_png_jpg.rf.f7e798738c704d161996d8dbfba2a994.jpg', 'Image_1025_jpg.rf.61268a2f144c707d1190c9370721cb9e.jpg', 'front_crawling_00088_jpg.rf.7f5ce5d70f21af8e25741e12f0bfbae7.jpg', 'IMG_0871_mp4-1_jpg.rf.5489c13165e43f0f28ee0b835777c06f.jpg', 'construction-207-_jpg.rf.2d637019ba12c4961982789fedfd3c12.jpg', 'image_662_jpg.rf.c01ed16d038c373ff7519aa09965201b.jpg', 'construction-855-_jpg.rf.3631ade3b57ef3e8c3acd6104bfbd1e0.jpg', 'construction-331-_jpg.rf.6e4ab1a9fee846e9c5516261f7b60b85.jpg', 'n190039_jpg.rf.e81596a1eda409a3f441c38bd7da6d2a.jpg', 'youtube-448_jpg.rf.a9f2d6af79f45605b867ec6fac63d53c.jpg', 'youtube-197_jpg.rf.befb7861a598e77e4dd2353f116c7d50.jpg', '-2406-_png_jpg.rf.8819ae56f2a6b0101846514ded8ac8d7.jpg', '2009_000063_jpg.rf.c749876f44dd889271116bd4db04dc12.jpg', 'youtube-252_jpg.rf.e9a5f72cd76d2c8a603d445843eb92f1.jpg', 'airport_inside_0449_jpg.rf.87b0d9fee1d40187fda42a192a59d5af.jpg', 'class2_158_jpg.rf.e36164a84f58c26b39f986eb6e01bbf2.jpg', 'youtube-550_jpg.rf.ecfaefad29921794973e7f5f6ad83500.jpg', 'IMG_0871_mp4-14_jpg.rf.48abbd1245bad1c0b012ec3b52cad710.jpg', 'Inside-merge_mov-16_jpg.rf.064c243f380d31af030bd1b7508e472f.jpg', 'Movie-on-10-31-22-at-10_08-AM_mov-14_jpg.rf.28d2371d0c22551ce422ac53cdcfb304.jpg', 'IMG_3103_mp4-10_jpg.rf.83600aa22f9978a4f87c3f9fffc222d4.jpg', 'youtube-25_jpg.rf.e139b5218288ad035d5a201d1b115793.jpg', 'construction-4-_mp4-27_jpg.rf.307c9cc40f7d992120eeee5a5c2bf9b4.jpg', 'youtube-695_jpg.rf.4c25a8537275a63e5c32e0f48e03ad7c.jpg', 'construction-731-_jpg.rf.20e3d7c26bf8c63c65ae274555773e95.jpg', 'construction-816-_jpg.rf.4eb09507ed79cabd33624b75bf79325b.jpg', 'youtube-507_jpg.rf.9dd5d0a2881420c1b72fa4749c1d8830.jpg', 'Movie-on-10-31-22-at-10_08-AM_mov-10_jpg.rf.9aa13660a190b7e065d7af4ffe14241b.jpg', 'IMG_3100_mp4-2_jpg.rf.87e69eb0f5f24cbadcca3fbfe8ca029c.jpg', 'image_875_jpg.rf.82ae9f3b1c857b673efe63fc38fc63ad.jpg', 'youtube-486_jpg.rf.a9d7cf6adc01f16228d02abd8c30bcf7.jpg', 'youtube-276_jpg.rf.a805c0570527ab12069eb5c77b6caf83.jpg', 'IMG_3103_mp4-1_jpg.rf.98922ba5765b76f9e6c26b714b90f5d8.jpg', 'MariusConePic60_png_jpg.rf.2113312268bdc5cb2ae311e1a713af16.jpg', 'londres_023_jpg.rf.aa01188945c0c281f478311642fc796f.jpg', '-1680-_png_jpg.rf.aac88b5b6fa0becf6442572810f8cf76.jpg', 'airport_inside_0449_jpg.rf.22ef0328c4e2f82d4914c26b9402595d.jpg', 'image_337_jpg.rf.d140a30f5e7ac00823e0cda3ae4148b7.jpg', 'youtube-726_jpg.rf.fb84745ec01c66f2b69157d913cab155.jpg', 'IMG_5024_mp4-2_jpg.rf.f14476eee4096607def4cd1f1883ca5d.jpg', 'autox6_mp4-20_jpg.rf.ba6134721c0c752e7142a6299d2f04e9.jpg', 'youtube-507_jpg.rf.d92c828e6ccb5167f91263e147c80e61.jpg', '005773_jpg.rf.db74cb55673015df5c01266d0965c1e0.jpg', 'IMG_3100_mp4-2_jpg.rf.4d46f38425296af74814d1f0506575b4.jpg', 'RPReplay_Final1667001201_MP4-334_jpg.rf.1e326e46bbffaa3205105d6db73fc7e9.jpg', 'IMG_5851_jpg.rf.1e2a9117128d23630020de5b6b717ae2.jpg', 'IMG_9949-1-_mp4-63_jpg.rf.65042c1efe0eb9bb51a1b14ab8b0033d.jpg', 'youtube-550_jpg.rf.ca2b4e9e24ac87d20d6223ac8785b650.jpg', 'image_1006_jpg.rf.5e39c8122bbd1356d4a8e7d8277d89fb.jpg', 'youtube-506_jpg.rf.a875a18a89c3e735c82a495101f27c82.jpg', 'youtube-170_jpg.rf.8d44e32dcefe974fc0173d7b8bd4753e.jpg', 'IMG_0871_mp4-13_jpg.rf.01f41c3465981dfb5c5894f36dbe7405.jpg', 'class5_012_jpg.rf.8f62f85be581e150ad39081778d76bd2.jpg', 'youtube-837_jpg.rf.cb9d104a7df8e2da5bc8e7e3645b3349.jpg', 'youtube-474_jpg.rf.31405beb62e0abdee684b44bbb69b242.jpg', 'mask-wearing-1632932085584_png_jpg.rf.a2d2e5702d2eec45420a4e9b1aa215d4.jpg', '-I1-MS09uaqsLdGTFkgnS0Rcg1mmPyAj95ySg_eckoM_jpeg_jpg.rf.8691072d7687a7a3251efdf544326795.jpg', '165_jpg.rf.8b803b2c10eb3a316412e867ee14eaf5.jpg', 'ppe_0985_jpg.rf.1210df4da3a12e8cadf70cd70e38e7c1.jpg', 'image_575_jpg.rf.68c40d183d915fcd15ec4ace1e77e341.jpg', 'IMG_3094_mp4-45_jpg.rf.b65aa0f84dbec2f2cb4e46553b791704.jpg', 'construction-649-_jpg.rf.d57527f5b80000d1931bdb5d407e3a44.jpg', 'construction-1115-_jpg.rf.3e6520c600d6e3782916f8b157b8b46a.jpg', 'construction-1115-_jpg.rf.65aea4ef94ae0c57a90b44eb2056a940.jpg', 'image_435_jpg.rf.755d9fa0771802a3b95652a9aac68093.jpg', 'youtube-57_jpg.rf.0cc0715dd80cc227cb0881b170dc7c50.jpg', 'construction-3-_mp4-148_jpg.rf.20ec335e8625ddb4da3d7d656718c1bd.jpg', 'youtube-348_jpg.rf.1aabd2813662bd7b86584c03b43ea2bc.jpg', 'n457047_jpg.rf.a714b0b010973b624497d7a67f4c8816.jpg', 'youtube-815_jpg.rf.db67913f887fa4d91d6720efe21bbf81.jpg', 'IMG_5024_mp4-5_jpg.rf.9098e69dc2ea3056f2691059d073ac89.jpg', 'construction-855-_jpg.rf.2c9f8208d07994d0cca23ba7d0a3f16b.jpg', 'ppe_0738_jpg.rf.467cbe79a9e488c7c8c336e19d88d0c4.jpg', 'construction-986-_jpg.rf.1cb591ab919d5ad35df680d527f7979a.jpg', 'youtube-504_jpg.rf.241ea52c86257e2116da083c77deb845.jpg', 'image_321_jpg.rf.7cc6643afa0d1d377bb7b3e593e43acd.jpg', 'autox2_mp4-74_jpg.rf.e5934c988b04332afcc78cbf926e9dd3.jpg', 'youtube-812_jpg.rf.82eda1727affc6d6d65534e9291d4e50.jpg', 'Inside-merge_mov-16_jpg.rf.6c01f603e4e10decc54abf1947db7fae.jpg', 'image_39_jpg.rf.52fe6910795b92e2aac4d25c1ff72722.jpg', 'class2_187_jpg.rf.41c31a0f0e9d59715b6d91d66a6ee5ac.jpg', 'maksssksksss710_png_jpg.rf.c3c3d6e4c3e35d2fb1bb19311ba73056.jpg', 'construction-708-_jpg.rf.4e32fc46ba7c1ce57833437ef93e6f77.jpg', '005239_jpg.rf.205d328d802b9bbcdb0b1a55cb86756f.jpg', 'image_965_jpg.rf.b32ac9c5c122adb5851e5a680a6d745d.jpg', 'image_221_jpg.rf.ae016b16cd940612fcf0454f1fe5d4a9.jpg', 'autox4_mp4-112_jpg.rf.dfb0c2b0da41e5c1cc6287d06ee92aea.jpg', 'youtube-651_jpg.rf.b2c4f5c904997039262f6aad836b864c.jpg', '-2252-_png_jpg.rf.959ef543a1a8383d7ea395bec26b1030.jpg', 'ezgif-frame-049_jpg.rf.b48bcc3d61ced355cb30ff2df96a6925.jpg', 'youtube-699_jpg.rf.816d0269b7cb1a8621904f2e0b48624f.jpg', 'youtube-695_jpg.rf.19a86e22fe4a33c49cba7546d5e6498d.jpg', '2008_008593_jpg.rf.326b2332c5ad72b7eb4ff01251abbf4e.jpg', 'youtube-295_jpg.rf.91d8f30e9ef707a29bc71993bafc3cc0.jpg', 'youtube-579_jpg.rf.63915f1d2bdbbf415e11659ea0024168.jpg', 'IMG_0871_mp4-0_jpg.rf.11d5df8c120c11a75e9f69a06f8fff16.jpg', '329_jpg.rf.fbb0984fcb0cdd40c954287ddad65b29.jpg', 'youtube-837_jpg.rf.1014828b1c5f9174e5dad2b8e744b86b.jpg', 'construction-112-_jpg.rf.7a5466131778ab7835ee50d29040fb1e.jpg', 'image_673_jpg.rf.2d060997ea449f2a81778629a44ec187.jpg', 'youtube-693_jpg.rf.71b09193e1c12911ffd92e1647e3ef14.jpg', 'mms_00691_jpg.rf.bbc034a90a824c2b05b2081f3a4c06c5.jpg', 'youtube-457_jpg.rf.68083426ed75d1e46ed28567e4245843.jpg', 'bookstore_38_02_altavista_jpg.rf.79035ad5581fdab7e754f904debfb905.jpg', 'youtube-384_jpg.rf.0bcf89652762afb44edadfaf2690b3ac.jpg', 'image_435_jpg.rf.937d1472b0bb03a48c1e2766b20fd283.jpg', '2008_008618_jpg.rf.08333b53ff8de881498a70bac2f1cec6.jpg', 'image_796_jpg.rf.999fd298ae6666a80a6394f2ca7ed999.jpg', '2009_000280_jpg.rf.c0c50e450c51eaea4420ea8611432a27.jpg', 'youtube-175_jpg.rf.cfba3ce688aeb8f4fca66b201ab8b933.jpg', 'youtube-134_jpg.rf.840e0f602e0c938e439221ddfe6dfd04.jpg', 'youtube-300_jpg.rf.ed1370f0e2150986042b633380be1be5.jpg', 'move_in_corridor_jpg.rf.370d9cb06aac096c65e2973a720c2afc.jpg', 'construction-5-_mp4-48_jpg.rf.fd5477e7199642ffa7a483b1b0ce6af2.jpg', 'ppe_0491_jpg.rf.1c27756b6705c215f08a091a08f31522.jpg', 'youtube-49_jpg.rf.dd69eec01082ff31e87b46c4b616b5b0.jpg', 'amz_02354_png_jpg.rf.921443ff67fe49b2185683dd5bbca1f1.jpg', 'image_673_jpg.rf.5b0d43297701b36d7b9f870dabf04752.jpg', 'construction-331-_jpg.rf.ea29c106612a81b5265ea538ee457638.jpg', 'youtube-710_jpg.rf.676309e8bb0b7465a6fc6ae233c91011.jpg', 'youtube-42_jpg.rf.ff319d323fa3973bd5b2d8784419e2b1.jpg', 'IMG_4921-2_mp4-40_jpg.rf.4c12e2beca4e02b9674e6e64aa58c693.jpg', 'Image_995_jpg.rf.373662c6eae51c30a6b2a6e78dc77403.jpg', '2009_002711_jpg.rf.6fc864b0aeea496698e8d8f650729efa.jpg', 'youtube-668_jpg.rf.4095d62a6fef2faf0b30f6434d8721e0.jpg', 'construction-385-_jpg.rf.ea84b7922f7cd0d24543b4692b698501.jpg', 'image_716_jpg.rf.e6032ddfeb46974638f84f6cb71a24fe.jpg', 'p65621379_jpg.rf.d0149504b7cfc4bdaa4fceb5a54f7a9e.jpg', 'youtube-457_jpg.rf.5af4fbc8b3cfa887a55b9d45a7f3e547.jpg', 'image_321_jpg.rf.f4432cc1ed4ecde1f2c4dde752eb4ef8.jpg', 'youtube-492_jpg.rf.07887b4bb1f23685611b54f5b3861be7.jpg', 'youtube-682_jpg.rf.99f339a7bafc1582a19cd354e3ce059d.jpg', 'class2_158_jpg.rf.0de7df666b9a2c4e63baada2bf7a6c4f.jpg', 'airport_inside_0460_jpg.rf.a412becf4d099d3a7a8f5bd61cbab0e2.jpg', 'youtube-618_jpg.rf.215bc57133071439545a509f9f00d301.jpg', 'youtube-806_jpg.rf.3936fe02845166f31a01d107b81c2243.jpg', 'IMG_5024_mp4-5_jpg.rf.3ff4b4132d97c95bc32540e903c5f440.jpg', 'youtube-815_jpg.rf.efcb04fd1022521a86e34b4fde943808.jpg', 'construction-1-_mp4-60_jpg.rf.c6eeedbfe53887330879b637eddecfbb.jpg', 'construction-547-_jpg.rf.06ac6a710305132de8e64a49e4ec05b8.jpg', '616_jpg.rf.05c63c91f6ce5efe80d1f6b70d757dc8.jpg', 'image_1004_jpg.rf.70292dd6d2f3d96f832d44776dda9dab.jpg', 'image_941_jpg.rf.0d7df052dcf719eb98f3c4de6c663af4.jpg', 'construction-1-_mp4-60_jpg.rf.30b09a8c2865e4922520e7d022dd9c61.jpg', 'image_93_jpg.rf.9ab670caa839d1b471864a68fc7f31bb.jpg', 'image_784_jpg.rf.41090f7f0ee0910e7726080756d0f2ea.jpg', 'youtube-234_jpg.rf.701a07861feb9ea391993ea44e385111.jpg', 'youtube-332_jpg.rf.82f4c8313fe8be426230e99f36c15fdb.jpg', '277_jpg.rf.093e99de12a75b9c38c17759345870aa.jpg', 'construction-705-_jpg.rf.b064a30b3f33dd3df26665ded88b3c60.jpg', 'youtube-235_jpg.rf.d74dc522af91254ee2d7fea16a61d4d6.jpg', 'construction-1115-_jpg.rf.a5f28dfa40323a63fb7141203e921cff.jpg', 'image_55_jpg.rf.4f4acd932047860fa58ac1e9e5c91c46.jpg', 'youtube-344_jpg.rf.443d1c9ae3cb991d3480ba0e3f026e58.jpg', 'construction-708-_jpg.rf.9f1f70baaef9412fd85d56d0793fc672.jpg', 'IMG_3100_mp4-23_jpg.rf.ceb0438cf124f0128fd85d689bffe22d.jpg', 'youtube-459_jpg.rf.c9ac0b0598c3d80339b8e71c6bd00cc7.jpg', 'image_321_jpg.rf.663d4872dafe186593870f58aecf967a.jpg', 'IMG_3103_mp4-17_jpg.rf.624a189394a4c43b80b03a34211d0c2a.jpg', '02629_jpg.rf.c3231f30e24be87a70d431d81ae730ee.jpg', 'youtube-519_jpg.rf.ef7eac749be35c2cd30dcd8354de7a5d.jpg', '727_jpg.rf.fb24f3c0038f7e32d4b4199ecc7c937e.jpg', 'Libreria_09_20_altavista_jpg.rf.d79257bf1899bfd0f07a2851670fc455.jpg', 'IMG_9949-1-_mp4-63_jpg.rf.6d04c0ff1a95e4309a859fe65031ebe3.jpg', 'youtube-832_jpg.rf.fd422fc645f0412c547da78aea7f856f.jpg', 'youtube-460_jpg.rf.d2dee92d138a460505332c0a5dd32432.jpg', 'youtube-497_jpg.rf.b8b5f459b6bf69cc2383c6f8f7de916d.jpg', 'youtube-274_jpg.rf.210bbecc47b79db3612a94b1930eaf9b.jpg', 'ppe_0015_jpg.rf.371607a3e9a7ecac36a75f2f9877ee94.jpg', 'construction-5-_mp4-30_jpg.rf.c2c7b6840df377580a7cafbae3f39794.jpg', 'Movie-on-10-31-22-at-10_08-AM_mov-5_jpg.rf.074ef90b407a15d79870f6408e7a7da9.jpg', 'construction-385-_jpg.rf.d59ccb2166c957d8483378da1a273bbd.jpg', 'construction-4-_mp4-38_jpg.rf.2e5287c7925dbf5a8ef8422c0e6fee27.jpg', '01437_jpg.rf.ee92d3e0667ed377273097b6ddec65f6.jpg', 'youtube-457_jpg.rf.10ec1e8ec33f49a09f58e020e3e03542.jpg', 'youtube-504_jpg.rf.8793f585bd8d7c256ee8bcef8b806dfd.jpg', 'youtube-300_jpg.rf.57170db9cbd4fda921dd4f10721efa34.jpg', '627_jpg.rf.88c9bd753317933682dfb7618c406ee1.jpg', 'helmet999595_jpg.rf.490d4ca004264ef763e06e9256e0a2fc.jpg', 'airport_inside_0550_jpg.rf.f2c346802de743043297e70687160686.jpg', 'image_841_jpg.rf.042e14097ac20b8e81bb76017ee79c1d.jpg', 'autox2_mp4-74_jpg.rf.bf9aaf27108385d7246130699dd1556c.jpg', 'mms_00692_jpg.rf.aec50254ecb9bcc5c3c2edcdb4a539b4.jpg', 'IMG_0871_mp4-14_jpg.rf.e5d60da96c5096a3c35f0c58b1abb112.jpg', 'image_191_jpg.rf.6696088664acbaad513226dc2962d19b.jpg', 'construction-619-_jpg.rf.a59235e60c4da86f5647c8b8bd506ebd.jpg', 'construction-5-_mp4-135_jpg.rf.02aba8687f6a54763ddaa03a479ff3dc.jpg', 'construction-1116-_jpg.rf.da7f8f05689a5daf50a70fd109bb4a8f.jpg', 'youtube-534_jpg.rf.623ddd4b9d44ac36ebe4d106ba859247.jpg', '405_jpg.rf.534cf3056a780b84def0ce12ced849b7.jpg', '005310_jpg.rf.5b524ed76d3e591d22c323212f22943f.jpg', 'image_740_jpg.rf.49eabcd34fc8c43bde0320f3aebff84d.jpg', 'class1_075_jpg.rf.a03d62c65431fdb47562593e28991d07.jpg', 'construction-2-_mp4-210_jpg.rf.6e3354f079d01a5c68d56911020e31ce.jpg', 'youtube-131_jpg.rf.39bc29951a25ed8fe34bdf05599d8b5e.jpg', '002654_jpg.rf.ff1deb021121bfef83e8a9152093596e.jpg', '006118_jpg.rf.52041b1d83e4a812028b6ead912c00e5.jpg', 'Movie-on-10-31-22-at-10_08-AM_mov-0_jpg.rf.2515251d95f3983654cb680fac4e37bb.jpg', 'IMG_0873_MOV-10_jpg.rf.1ac5cdcd2d574d5619df3c42326276cb.jpg', '2008_008618_jpg.rf.83d27bf2a3b03d840da408f29f6d5864.jpg', 'autox4_mp4-42_jpg.rf.b99f0b25bd84cdd7fb96017ebd68e303.jpg', '2009_003000_jpg.rf.16e6d9c2516e182a4343111e8d26a81b.jpg', 'youtube-849_jpg.rf.dfaabf6f93250fdbe0809582859b6397.jpg', 'IMG_9949-1-_mp4-6_jpg.rf.724b80a9e2863bfa9d11c8307e518414.jpg', 'autox6_mp4-157_jpg.rf.6691e2b4c1959679de0f67afd80747fe.jpg', '2_jpg.rf.2a2cafa3fd6db594c2f3a46f971b1c14.jpg', 'image_288_jpg.rf.cc732dd1330cb00ab835c7f48e7dc741.jpg', '588_jpg.rf.f4b4ae3e5ee90c957a0b8a62cbd88954.jpg', 'construction-1029-_jpg.rf.f34331d792a26cbe94ef77e3251989ac.jpg', 'construction-4-_mp4-41_jpg.rf.7b69173a420f4e678956e3796fed8ee5.jpg', 'autox5_mp4-34_jpg.rf.9355e6d129f90d4f5be17f3f93259086.jpg', 'image_294_jpg.rf.53e6b4b1a469feee090f8debd1dbbaaa.jpg', 'youtube-622_jpg.rf.5cedb2fa20d0d25a6d0d775bdd1e09e2.jpg', 'img17_jpg.rf.f86a56da765e0be917a7e394bb830282.jpg', 'class1_235_jpg.rf.c95e6d030c77585b441564c612b5ec8b.jpg', 'construction-3-_mp4-23_jpg.rf.2d222c86e70657ebc42c765548e6c3ca.jpg', 'image_662_jpg.rf.884cebb84cbee6e965a07fc98156768c.jpg', 'class2_074_jpg.rf.d4fadd17507ab4d4dd45169d813be813.jpg', 'airport_inside_0460_jpg.rf.aae905a80f304e8b4a3e3c738887490b.jpg', 'construction-897-_jpg.rf.7db8bb44a664e76878ebd2156a59b5a6.jpg', 'class5_012_jpg.rf.75ad7a3fa454c7d20bacf9e322ef64ac.jpg', 'Movie-on-10-31-22-at-10_08-AM_mov-3_jpg.rf.bbe3b996c43b5fb58eb28b099c5e4c8d.jpg', '005310_jpg.rf.83e6f0a246ede1e981765bf75cb7b067.jpg', 'construction-5-_mp4-161_jpg.rf.631bd222a82425dbe1dc30b8fe42dc39.jpg', '2008_008652_jpg.rf.d00034b7c4abe7242379f832445178bd.jpg', 'airport_inside_0214_jpg.rf.5d8c6637d7185213fa66cfa76f1750ec.jpg', 'airport_inside_0073_jpg.rf.44956bc5c96d8c7ef52f49f67e3c907a.jpg', 'Apple-Tests-Face-ID-Feature-While-Wearing-a-Mask-Shorts_mp4-51_jpg.rf.c943db9b286389250ee78674432c1ccb.jpg', 'construction-1-_mp4-51_jpg.rf.3d017fb1c926511b1e0aea478e16aa2f.jpg', 'image_176_jpg.rf.bba93125abaf13dc2267c1b71ab20e33.jpg', 'IMG_0871_mp4-10_jpg.rf.810515f8a9482007ff07d4d5d5126252.jpg', 'youtube-423_jpg.rf.bf9fc0c0d995c3a68c30efecc38daf40.jpg', 'IMG_0871_mp4-10_jpg.rf.316b943fdf8f56161e0005bb9c4ec0b2.jpg', 'IMG_3094_mp4-45_jpg.rf.9acc24b88ff1809064a0f6506e2fbfd6.jpg', 'image_246_jpg.rf.621beeead20488bd72251d6546e059bb.jpg', 'youtube-221_jpg.rf.3a2b829e17c5030726fbd51e28c02aed.jpg', 'image_560_jpg.rf.cec604e4e8173d635fc4c4170df9d739.jpg', 'youtube-187_jpg.rf.0aeddf391e62f89eb388ecc1dee1fdc2.jpg', 'construction-2-_mp4-113_jpg.rf.22f74f290e2fa8942d2cc57141573823.jpg', 'youtube-855_jpg.rf.c1f7df1e079c07197ea93a64a0ac27ee.jpg', 'IMG_3103_mp4-17_jpg.rf.2d4d89d339436c10ec2adc175b51b607.jpg', 'construction-5-_mp4-161_jpg.rf.414bb7266d8b44f253dab7b65d7da37c.jpg', 'construction-1-_mp4-64_jpg.rf.b2ae0a3b107077c64df0812b0f8d2531.jpg', 'construction-4-_mp4-182_jpg.rf.f72c3426b5e987bc41302d8309dcc192.jpg', 'IMG_5024_mp4-2_jpg.rf.c5b2608e4802e3b71e2e51862b3e1542.jpg', '006858_jpg.rf.ac43228cb397ef00766c39531a03e4d5.jpg', 'IMG_5848_jpg.rf.aa5200d20d0077ac8de0eb01adda820f.jpg', 'image_23_jpg.rf.09b499c4e1e505b1d44817741c2dbfee.jpg', 'RPReplay_Final1667001201_MP4-55_jpg.rf.a4b3b31384a7f232413a5a84ca3136d7.jpg', 'construction-2-_mp4-219_jpg.rf.e149ec4783f96c308569ab885cf98edf.jpg', 'youtube-10_jpg.rf.9adb84fcf6c62e6fa0ff3bb05ab87d26.jpg', 'construction-855-_jpg.rf.0867d4ce5a9cc9d8f87bd90a5214c7eb.jpg', 'youtube-409_jpg.rf.bf0ce5249d8b18dd283cf404632d1125.jpg', '2008_008526_jpg.rf.73bbaeff54aafabd9a49d2fdbedb4453.jpg', 'youtube-407_jpg.rf.1b0ab03157f1b44aa5afca50be370206.jpg', 'autox6_mp4-80_jpg.rf.0cebdad4d9d8f205f998ceaad09ea576.jpg', 'image_941_jpg.rf.9570ad17d6b6aea50acf4c523302de2c.jpg', 'image_841_jpg.rf.ed1f5c0186f06cf6cf8434322ea8031f.jpg', 'youtube-567_jpg.rf.f8bd150bb94a697fcef528db89ed716a.jpg', 'IMG_0871_mp4-5_jpg.rf.d8a9e349bf878db698469433d9778d75.jpg', 'ppe_1212_jpg.rf.3fb3352674da0bad368f663c349f98c3.jpg', 'construction-3-_mp4-211_jpg.rf.09e6543350a247f05d10cc7852422156.jpg', 'image_721_jpg.rf.93654c7e0f2c3542b16242a703a5ebee.jpg', 'class1_235_jpg.rf.fd08fc930ee03765015b1177903d0b4f.jpg', 'image_191_jpg.rf.59271cba397d6b83766e3a41807fdf2d.jpg', '005310_jpg.rf.462b38e32ee1aed612c4ed119dc9a06e.jpg', 'class2_093_jpg.rf.b48cd3eb2f144761b47c5bde4214a34f.jpg', 'youtube-197_jpg.rf.84e48afd1eb2f504aecfb6456a196950.jpg', 'image_624_jpg.rf.f62d07b53d05ad529896b9db8c7bd08e.jpg', 'construction-2-_mp4-213_jpg.rf.db5dce09a34596f043d005b316590eaf.jpg', 'ppe_0985_jpg.rf.0f64a0473bdc767099a74d9b34f1725f.jpg', 'construction-753-_jpg.rf.b63e0f4f634c86f02483ced3783fe0d3.jpg', 'construction-5-_mp4-69_jpg.rf.eab734f9271694a94187a7d14d7135d2.jpg', 'construction-649-_jpg.rf.fdc92ef7b8a44c1d32ddb0165cc8f4cf.jpg', 'image_18_jpg.rf.335e252ed8e6e0e4c83d801d98deaed3.jpg', 'Movie-on-10-31-22-at-10_08-AM_mov-27_jpg.rf.f10be4f4f70251914ecd0a0c1de06aca.jpg', '005577_jpg.rf.6e948a65b0aa8a6128bec802e1131620.jpg', 'image_16_jpg.rf.db35e5e260e92cbfb80c0bbc18204610.jpg', 'mms_00691_jpg.rf.3de5fb292ef5fd607a5ec5e259a09648.jpg', '2_jpg.rf.7c5f480de276d0dbd11edbcc4a81c19f.jpg', 'construction-1-_mp4-51_jpg.rf.f7430f8f526701eb1a93b124ae3e7c8c.jpg', 'youtube-44_jpg.rf.c4c437c06a7372f5fa6c627e99611d50.jpg', '005239_jpg.rf.b30f66b565561c64979bb7869ab4a970.jpg', 'youtube-579_jpg.rf.2e8ec58ecee119571d0d63434430c40f.jpg', 'IMG_3100_mp4-5_jpg.rf.ce4fac119218ae0c5d586d7f338c1c0e.jpg', 'IMG_3100_mp4-23_jpg.rf.111461b3bc308932167364e329194edd.jpg', '235_jpg.rf.b3db12fa2baf556ce9956e8c4312cd61.jpg', '329_jpg.rf.545ddf049ed04f83620fd7ddb5bf6f87.jpg', 'Movie-on-10-31-22-at-10_08-AM_mov-5_jpg.rf.6d957ecf12077688ccc87f61d8607ad8.jpg', 'youtube-362_jpg.rf.cac568e5332482b8b1d7c58abb5c5096.jpg', '2009_002883_jpg.rf.e9b784c222a40531120bae836f293598.jpg', 'IMG_0871_mp4-9_jpg.rf.ee7ddc04f4e0e9379b1df6e6c3777ca8.jpg', 'REVZGCBIJNQPMIIXOKDCQA3GJI_jpg.rf.7137c1768ca8bb678f8023804f2dc9d4.jpg', 'Screenshot_20210830-123141_Instagram_jpg.rf.4a3c4007565eaaf662d7a5c802e44e45.jpg', 'youtube-668_jpg.rf.179b654b1f4c6574010186dd4fbdd475.jpg', 'youtube-710_jpg.rf.336082a2d1af65c8d9184fe1dbdf7ac1.jpg', 'construction-860-_jpg.rf.77b38f4a23ba38bebc990ab42f9a10e9.jpg', 'airport_inside_0363_jpg.rf.0c8e1d8f49a8f7f8fa0fd1be8019db94.jpg', 'construction-347-_jpg.rf.135164f845ccb489767b2085e6bf4580.jpg', 'IMG_0871_MOV-30_jpg.rf.4d588016dab520bbafc27f87b95926dc.jpg', 'construction-1062-_jpg.rf.86db01e6cdf1325ed46f34fb10e1a6c9.jpg', 'construction-741-_jpg.rf.38144cb2f377dbac8fedb2d4146fe527.jpg', 'construction-731-_jpg.rf.15548357954fc8dcbf4e316024c0fa8a.jpg', 'youtube-407_jpg.rf.eae2e6f24c92ca184c3bb29e091d8216.jpg', 'youtube-636_jpg.rf.318c65bf83a7e87d99faa6dc38982a11.jpg', 'youtube-270_jpg.rf.9ae5283f885f67c55f351ac2d03e2053.jpg', '005100_jpg.rf.d4b1f7a747d0ebfd6f25d164a3cbb10b.jpg', 'youtube-345_jpg.rf.acf10b19ca143688581071905c336f1d.jpg', 'Image_1037_jpg.rf.217089bf7b79d7f9ab1e5543954fd72f.jpg', '-2270-_png_jpg.rf.fb11c18eea1ddb410b1b561de012a9f9.jpg', 'autox6_mp4-80_jpg.rf.bb5a118aef4a7d884142dfc74891d0bf.jpg', 'youtube-589_jpg.rf.f15c26404164eec6ab99da19a4c127e5.jpg', 'construction-1-_mp4-51_jpg.rf.8bba7b3f3b5111e581d7d5a0bdb07604.jpg', '005180_jpg.rf.77e5bbc190a7bde710749bae284e6fff.jpg', 'image_418_jpg.rf.d49e2182f8425681855e713b6d37839c.jpg', 'construction-5-_mp4-39_jpg.rf.c2cf15dcfe418d02b74133b56a81de66.jpg', 'youtube-813_jpg.rf.394e935ab265f4a722685abfa5c64aca.jpg', 'IMG_0871_mp4-23_jpg.rf.061fdff3061f58b2c5712ddb616d642c.jpg', 'front_crawling_00088_jpg.rf.af7fe16deed2aa3cdd189eee2a70c605.jpg', 'construction-268-_jpg.rf.490efdae0552a8fd8c71a6f6a2a6f6ea.jpg', 'IMG_7211_PNG_jpg.rf.fd9624eec1df134b37ca87b492398d07.jpg', 'youtube-254_jpg.rf.511e3d5737b7272af3965f5ddfe4ac25.jpg', 'youtube-564_jpg.rf.bb1e1e7b8cbbf050ca00be0128f428cc.jpg', 'youtube-384_jpg.rf.b68e01bd9465f42161d0ef3c0b378b94.jpg', 'construction-369-_jpg.rf.30fa5e9b5231010dabadf061d2db52d3.jpg', 'IMG_3103_mp4-1_jpg.rf.a6c869480023273b342a6e8b334829d3.jpg', 'youtube-209_jpg.rf.96d7162aeb580a1dc36c5fbbc2f2777a.jpg', '2008_008382_jpg.rf.23c52bce2cca27ec7c476e91b24de0ae.jpg', '003184_jpg.rf.e7b83a5faa2513c5d2201944e2b2bd17.jpg', 'construction-1-_mp4-115_jpg.rf.2aa43302e55d176724bc0d99dcea9663.jpg', '494_jpg.rf.10fc39826f79a214ec850d3adb62bf81.jpg', 'image_61_jpg.rf.08e449f739bae2e9c59d32c7c44c5571.jpg', 'ka_00884_png_jpg.rf.5912129e6c0091ed6788779296afa957.jpg', 'IMG_0871_mp4-20_jpg.rf.b48c445c1a77f7a3c915978dff3d24a6.jpg', 'image_1006_jpg.rf.13f80aa18a4be93fe186e58af82339dd.jpg', 'construction-547-_jpg.rf.017820bddb0437be352dba7b5836a545.jpg', 'image_241_jpg.rf.15108c94dc04d438c25f0ccc715215bf.jpg', 'youtube-49_jpg.rf.5a44fe43dd47987a1b67b83e743ea9ce.jpg', '2009_000280_jpg.rf.14ea05d770d7a1cdd2ee28b6d7901c86.jpg', 'Image_1025_jpg.rf.f4f8eed01172df173ae33e8e0e292a80.jpg', 'youtube-25_jpg.rf.c6a708cbe0bf9c7ff4dc904902fadad6.jpg', '02629_jpg.rf.a7248eecf328be2e0b9794d850bf379a.jpg', '-3394-_png_jpg.rf.61441b8707107e91850cd9f576dd0ce8.jpg', 'image_31_jpg.rf.e73e43acd927e29c86e1295201f71aef.jpg', 'construction-5-_mp4-29_jpg.rf.b7652df82dc2ed8f6d3cf36fcebfe790.jpg', 'autox3_mp4-49_jpg.rf.8ddb4986f36cc784dbfbd9be67369d29.jpg', 'image_622_jpg.rf.7f40278be1943ab3e52ff7a990435ef0.jpg', 'youtube-10_jpg.rf.0438de9a621f30ef7c45cb49d9c4200c.jpg', 'image_818_jpg.rf.d8b4fb6e814eaadb784c7ceeda8fcfe8.jpg', '2008_008629_jpg.rf.85c2d54a785a02b9c6ee6e00321549aa.jpg', 'construction-976-_jpg.rf.fc85a7cb525c1168c7ce7a7e26b53a07.jpg', 'image_986_jpg.rf.804ca97679a176c1e595e0c180584238.jpg', '005180_jpg.rf.765ddd4046b2ce2755fde8140f5009f1.jpg', 'image_61_jpg.rf.a33e08a95825cb2760879674f3f61813.jpg', 'youtube-519_jpg.rf.23a11f97358aa93798f743b3fa8d5ffb.jpg', 'youtube-668_jpg.rf.72295ead27a2932c1d17219d9100779f.jpg', '2008_008364_jpg.rf.0457e5579a2dcd24852278b5657b25b5.jpg', 'youtube-210_jpg.rf.20c5e827a60cba37ba6a4247128cf9a2.jpg', 'youtube-276_jpg.rf.9dd339d208802462bc19a4f66967b3f7.jpg', 'construction-1029-_jpg.rf.99a91e79d6e2bf58dc80922f7d7c3adf.jpg', 'construction-331-_jpg.rf.6a529020c79917955c43e5d7087b73dd.jpg', 'construction-4-_mp4-182_jpg.rf.de6b154c40fe604072fbd94399a9328a.jpg', 'image_560_jpg.rf.371ae3c13657fb7104ef8761247fb62a.jpg', 'image_95_jpg.rf.5f7867b6006b00d85362aa37c436f967.jpg', 'autox2_mp4-74_jpg.rf.07cb844218c334c3a693d5c571ceafd9.jpg', 'construction-268-_jpg.rf.221b4a2ffc9ea512bdf6545a32a9ff33.jpg', 'image_257_jpg.rf.bfff661ac6ac336ed8736646a4f214cb.jpg', '006012_jpg.rf.2300bacf07c885b49cd596a85e5adda3.jpg', 'Movie-on-10-31-22-at-10_08-AM_mov-15_jpg.rf.bcfb839a9423f23eb2417ccca265d49f.jpg', 'image_986_jpg.rf.d2cec1db2c71cf8a8328440a6c165e0b.jpg', 'construction-3-_mp4-162_jpg.rf.52db765af29c85fdf701e0d4a7624fb4.jpg', 'construction-2-_mp4-210_jpg.rf.2499564f33bc763f58c65a576f4afdd0.jpg', 'Image_1021_jpg.rf.794cab9898f50fcb8d8ff3251f69b035.jpg', 'youtube-504_jpg.rf.898c82c61c0fcdedf81373003de9719a.jpg', 'Movie-on-10-31-22-at-10_08-AM_mov-15_jpg.rf.d8c4e4c2273020707d7d135ed2efb49a.jpg', 'youtube-196_jpg.rf.d9d5913fb05f3dfcc17d19e54e9ecbf6.jpg', 'youtube-224_jpg.rf.a9716401b7b5bc5d95eaf41d731d319e.jpg', 'video_CDC-YOUTUBE_mp4-60_jpg.rf.6f1bb05f4532d86f30b8df6f5936fdc7.jpg', 'construction-4-_mp4-127_jpg.rf.022b78f3bcdb6aeba49e4d1e9605233e.jpg', 'construction-2-_mp4-113_jpg.rf.657cf7274654eddca1d6c542cdee3dd0.jpg', 'Image_1021_jpg.rf.1d7075dbfe7fcdb52a6bcf29c295f3c6.jpg', 'construction-4-_mp4-127_jpg.rf.c8b5b8cd660a766336ecfcf953fe4305.jpg', 'Industrial-3-Part-Skymaster-insitu_jpg.rf.b88a96ba000fc3a64bc6b952abf133cc.jpg', 'youtube-170_jpg.rf.cc0e448b2db5c2583ed5a4de1b364edb.jpg', 'youtube-579_jpg.rf.db114ff0f07961521749739faca4fbcb.jpg', 'helmet999863_jpg.rf.4b2aa3285cf92a59ef1032ca51f5758b.jpg', 'Image_1037_jpg.rf.0fc0c99ae85a9af8a943b77ccd7c5c6c.jpg', 'ka_00884_png_jpg.rf.7e1eb708ba18a96826b2667c8da401be.jpg', 'amz_02354_png_jpg.rf.d74fcc68ca92923700f106656525292d.jpg', 'youtube-554_jpg.rf.5c89ae763397c5f2ccb61e63df485cb0.jpg', 'amz_04178_png_jpg.rf.8fdfcf920dc831c8c53c357531f5e7d7.jpg', 'youtube-210_jpg.rf.3f1db97359eab99f4c5034600951928d.jpg', 'image_379_jpg.rf.dc648cd829811bb21fb009c79ca313e4.jpg', 'construction-5-_mp4-75_jpg.rf.fc0027e06829c22dbe4e71c973a99069.jpg', 'youtube-661_jpg.rf.b991a8491c63f29355527e6b436aeece.jpg', 'IMG_5848_jpg.rf.2dc727dbdae4d8ec162b98b6ca5370b9.jpg', '004720_jpg.rf.0dcf5ce7437210bdf3d5e2f1bab5f21e.jpg', 'construction-267-_jpg.rf.5577b65d59239cdf1a583e3c0b335c9b.jpg', 'mo-justin-mask-NoMask_mov-34_jpg.rf.62cb0c331cd8bc5de64633216f8bf022.jpg', 'IMG_3103_mp4-17_jpg.rf.c5f53596221dcf72094046a2d08b6c0b.jpg', 'construction-1-_mp4-60_jpg.rf.645d185e1b6e0050a5c70dbd2136824c.jpg', 'construction-705-_jpg.rf.66d284e6c56937450749bb6f49c89001.jpg', 'Industrial-3-Part-Skymaster-insitu_jpg.rf.56bdfacf424d37bc7005ee6105f9f3f4.jpg', 'ins27_jpg.rf.89c98c782f6fc1aab397a1ca44a4af62.jpg', 'construction-5-_mp4-161_jpg.rf.ebbf17a82bd9ded610ceda99ba217ace.jpg', 'construction-4-_mp4-94_jpg.rf.faa54990813350bf15eebdb3d1ace03d.jpg', 'YouTube-FreeStockFootage_Child-playing-with-parents-JoyLaughterHD-RQ_qqCZOkZk-720p_mp4-42_jpg.rf.3d9c8da9d6790fd2f6e0bec895ca1a81.jpg', 'construction-1050-_jpg.rf.02208e58055900f0e9f2e8ded960c690.jpg', 'IMG_5024_mp4-4_jpg.rf.20e82f90e1a93960b6d3ba20323ee4d5.jpg', 'IMG_0873_MOV-10_jpg.rf.ad1474589c10090ed0c7f5bd4f26bedb.jpg', 'construction-560-_jpg.rf.6c3e097caafb9f23de0e94b6bb9c9684.jpg', 'youtube-134_jpg.rf.b9f98efd07116d2e25adbc9685b959ca.jpg', 'youtube-554_jpg.rf.6a371cf2476f48ed6ab0209f0a0b252d.jpg', 'IMG_3103_mp4-3_jpg.rf.a1a56319f7cc598049380bcf7f10ddfc.jpg', 'construction-5-_mp4-96_jpg.rf.fa2cc7cf3b5931a8ec0dfa59b68f5902.jpg', 'smartmi-3pcs-filter-mask-pm25-haze-dustproof-mask-with-vent_jpg.rf.ed44be4620775ca11a7d635b03667b97.jpg', '-3394-_png_jpg.rf.67a7a1f50f9315fa6119fc9fdc104839.jpg', 'construction-763-_jpg.rf.b7d10e3fc6006bc4d88e89194c52685c.jpg', 'ezgif-frame-049_jpg.rf.f3de004784deeeac18a38814323b3355.jpg', 'ppe_0629_jpg.rf.f74c54685a0dbe492f4d49b6bf0edfdd.jpg', 'youtube-832_jpg.rf.c023f5b9bb1c65636e5cab3064f7ab7b.jpg', 'youtube-812_jpg.rf.a5f34a08b407b48f43169f49917906a2.jpg', '002682_jpg.rf.29171c747ef34470238dd52b997917d8.jpg', 'image_257_jpg.rf.6b5b531a478ca8052f1c7d3eb63055bf.jpg', 'IMG_3100_mp4-17_jpg.rf.8fbd72f033989d9c7665a5e28a8fd2d4.jpg', 'Movie-on-10-31-22-at-10_08-AM_mov-9_jpg.rf.77e3475fc101643c603dd270881c431a.jpg', 'image_647_jpg.rf.b7ec397ad10c0d25b310680991e5b619.jpg', 'construction-369-_jpg.rf.93c7fff1119cddf6e1aa3ca99113d7c9.jpg', 'mms_00692_jpg.rf.a67d77e378aa35ede794ddd1946cc877.jpg', 'image_93_jpg.rf.fbc2f4ad1c8a06a166c5d2bb7fdcddda.jpg', 'image_784_jpg.rf.882564299bb5c1596ecdb26d5448f247.jpg', 'image_732_jpg.rf.7c28959bfc3cbbf97b386de3f53c5892.jpg', 'image_50_jpg.rf.ff8f3b4fd53f276bc9f14de2ac0924dd.jpg', 'youtube-486_jpg.rf.fad016b7440556a65ee408cf4d938f62.jpg', 'IMG_0871_mp4-14_jpg.rf.f15ba01608aa50381954ef8be5cc2c07.jpg', 'youtube-270_jpg.rf.4d12d412d22aad7d403e5ffb7a1c0797.jpg', 'airport_inside_0073_jpg.rf.405ba1048616d99ee5168b6affb4938e.jpg', 'youtube-423_jpg.rf.d0ec989fcfb1d783c32081989ef7c39c.jpg', 'image_475_jpg.rf.0dec553a921d58b2dfba1183323a196e.jpg', 'IMG_3103_mp4-10_jpg.rf.9217901c124f2f8c9d39c4a7348df43f.jpg', 'youtube-51_jpg.rf.7e1f61fc8aea97dd1ffa5ee9a64e8299.jpg', '2008_008652_jpg.rf.2ac7d064035687d4b82c8edeafbafd31.jpg', '2008_008753_jpg.rf.bb84d47d973f36b81330f3f44c0731f2.jpg', 'youtube-457_jpg.rf.05c5ec44a5f1cd8b304671f56b1bc7be.jpg', 'image_731_jpg.rf.17cfa9b22b1a08842a7bcd0219aff4b4.jpg', '005180_jpg.rf.07f95f7d40be1642632bca5a25661ec5.jpg', 'p65621379_jpg.rf.0b6c6decc1f55d5fe6afe977125b858a.jpg', '002654_jpg.rf.58b18dc4b2708f4f3c2f3f743a826b99.jpg', 'image_16_jpg.rf.41406ef870f95a81bd1d0aa68c897b3f.jpg', 'Movie-on-10-31-22-at-10_08-AM_mov-5_jpg.rf.598cd5f251a2fbbf918368bf198c25cf.jpg', 'construction-4-_mp4-94_jpg.rf.306d385f632cd1fdac5d7c649a4dc5e1.jpg', 'construction-5-_mp4-69_jpg.rf.8e6ec8dff332d388423c2656ef02e07e.jpg', '2009_000379_jpg.rf.f169216e75011872d9bbafd85c3b1010.jpg', 'youtube-448_jpg.rf.b29b6ae7868de9d3c673a9391e58eede.jpg', 'image_418_jpg.rf.96b18c21f436813921dafcbd73075457.jpg', '2008_008337_jpg.rf.d9c52a1f5351aea9e22393c29ac2436c.jpg', '2_jpg.rf.7baa8d1dade31fde5df99a239a274fab.jpg', 'construction-1-_mp4-51_jpg.rf.454b78e6417bac086bca70a98b9f6f79.jpg', 'Movie-on-10-31-22-at-10_08-AM_mov-27_jpg.rf.aebd9423b34f78792d7173acc6450290.jpg', 'construction-999-_jpg.rf.42f408dd8763c7b71e01ecad8d87ae20.jpg', 'youtube-384_jpg.rf.7e7e9554b607534351d62775b0355079.jpg', 'IMG_9949-1-_mp4-6_jpg.rf.0bb75ac9a85641251373c96f54595fde.jpg', 'maksssksksss795_png_jpg.rf.2cd6bc50151827c0161d439c2c995b00.jpg', '165_jpg.rf.c64f254d162c3ae612e21e5f8ab4962c.jpg', 'youtube-571_jpg.rf.5fc130ee5e1be7e125feda702b069de8.jpg', 'youtube-499_jpg.rf.770be9f4a896c3f7d05b353f13faaa08.jpg', 'IMG_3103_mp4-15_jpg.rf.ef479286773454db7f4260a06eec8836.jpg', 'youtube-235_jpg.rf.f437b5b9cfb68293d373c5b533083772.jpg', 'youtube-641_jpg.rf.4724b1e29ecd316e64dc41f811a3470d.jpg', 'image_302_jpg.rf.b454d24f87fcb222af99d76a757a9222.jpg', 'construction-207-_jpg.rf.b05aecc4f46dcd4bacc33a92067c51a7.jpg', 'IMG_9949-1-_mp4-24_jpg.rf.1526244bddbcfccb6b4090c068e2aa27.jpg', 'image_294_jpg.rf.fdf2e9830d2c9f9648463a48508cb539.jpg', 'construction-5-_mp4-137_jpg.rf.18429a947527af2fda1fba3874086ed4.jpg', '588_jpg.rf.0fa1d16e756d16422a39783c8f4926c1.jpg', '931_jpg.rf.fdd51314535382e1b440a98b49f060fd.jpg', 'RPReplay_Final1667001201_MP4-334_jpg.rf.f33a2325e096dc60c0118bcb6c706c72.jpg', 'class1_253_jpg.rf.1929d248256fadf2751deed3207a4326.jpg', 'construction-267-_jpg.rf.36fd4d82d55aa7d307deccc95bb1b68e.jpg', 'construction-3-_mp4-14_jpg.rf.39bf04e4984c0a5a3eace338c4c59499.jpg', 'construction-523-_jpg.rf.39fe60c11ac70b73c2cc469124bb1762.jpg', 'image_743_jpg.rf.7619332475f77a5c1ad116257b1ecd9d.jpg', '002458_jpg.rf.1b4000f1327c1a3d54d98bceebcde622.jpg', '01437_jpg.rf.f026cf7ba5513aa3755d04963571a8cc.jpg', 'youtube-348_jpg.rf.3623f117ae64ebd0dc1625ea14fade72.jpg', 'Image_1009_jpg.rf.0bf853f3b4fecf3a8bbe288872dd303e.jpg', '598_jpg.rf.eb88df29b6754e75da36398d182384c1.jpg', 'construction-684-_jpg.rf.d3a58971b9265ab6b677dba5f86593e3.jpg', 'youtube-224_jpg.rf.294c04b139675b7d7c335a0e1908fcbc.jpg', '2009_004301_jpg.rf.d7534033a977f8e93915559cdc4fd15e.jpg', '000415_jpg.rf.c62308395a66d63dfabcd495662a22e6.jpg', 'youtube-361_jpg.rf.f57807321fed0f42a348f58306403ca1.jpg', 'Movie-on-10-31-22-at-10_08-AM_mov-28_jpg.rf.d09472b2ed3b379a045a4ba8ac95dc85.jpg', 'youtube-360_jpg.rf.d8f4e53b70e15b71532d3e43a4dc948c.jpg', 'youtube-228_jpg.rf.86631d2324f9e5ecf334a439994d33de.jpg', 'youtube-210_jpg.rf.975a658362fc68236a1bbb411f7ae1ad.jpg', 'youtube-832_jpg.rf.8d9fc0352bb230129a4485a2f0aec4eb.jpg', 'youtube-51_jpg.rf.30dd5864d56e613fd5cbfa17c6c8d2fe.jpg', 'ppe_0029_jpg.rf.130a5bd882eaf7314cd82254f06f1a96.jpg', 'youtube-824_jpg.rf.f823acb225df022187a49a848be78f54.jpg', 'image_302_jpg.rf.d1e49a99a973868b0bb7ac26ac154552.jpg', 'airport_inside_0345_jpg.rf.68e541cd4d8c01f0f1e31ef8a0e5f9a5.jpg', 'image_560_jpg.rf.875cbd2977b258fd7efee784880bf40f.jpg', 'RTX7CD4D-e1580252893876_jpg.rf.440e3fa953f740b0f78757c7bfa93d11.jpg', 'RTX7CD4D-e1580252893876_jpg.rf.566997198d6f8131f0a1b5447da17974.jpg', 'youtube-49_jpg.rf.6b186aca14e415e245c0d9c01ae3865b.jpg', 'class2_074_jpg.rf.4a5533574b5d308ea1c6672f25bd030b.jpg', '2009_004148_jpg.rf.15237e8ab0bab257f48c8e0b97afeb71.jpg', 'youtube-726_jpg.rf.08f436dcdaeb181b4fc17028d60c2c3c.jpg', 'IMG_3103_mp4-17_jpg.rf.f4ab2ba525257f589db913357678e99b.jpg', 'youtube-809_jpg.rf.a21b56748f930ad24e3dd7c860430b22.jpg', 'Movie-on-10-31-22-at-10_08-AM_mov-28_jpg.rf.f08180b63e0129412eef90ad9f1ac293.jpg', 'youtube-651_jpg.rf.7cf7174eefd2010db67d1bb1bfd6be39.jpg', 'n190039_jpg.rf.b9a89f85281fec158031a656b666c415.jpg', 'youtube-693_jpg.rf.1fe523c5b5c19d9b16bfb8b8a20fb29f.jpg', 'image_296_jpg.rf.9c5575cedbe04636384f4221d86e7b02.jpg', 'img17_jpg.rf.be936e7557512db44c8435c729185e76.jpg', 'youtube-10_jpg.rf.8dc2241f467f75b7aec103f9a75b4321.jpg', 'IMG_0873_MOV-10_jpg.rf.91649c04a7357b4b1a46325be873536b.jpg', 'maksssksksss710_png_jpg.rf.1bb1ad9ca1220cf1be8cd970bc963006.jpg', 'image_46_jpg.rf.8b8b0c9c22bebd55286447c0f28b5cba.jpg', '-1670-_png_jpg.rf.dd5cb0a4d6da02d34f1dc003fb4ebca6.jpg', 'img_038_jpg.rf.e152b3af6aa26c6ffd65ade299de5771.jpg', 'image_527_jpg.rf.735b4a3234ed22f8d2d14d7d7bcae26c.jpg', 'youtube-589_jpg.rf.66e1e48a171f0813592728de2a1d44b1.jpg', 'construction-999-_jpg.rf.893965cca0e358ad7a8b1e883ec984d3.jpg', 'youtube-210_jpg.rf.aaa1c8020f94fbd33d24bdaba9d308cf.jpg', 'airport_inside_0345_jpg.rf.ab577506efdd8b488b66da38311af307.jpg', 'construction-682-_jpg.rf.7fa31c11b35ac8c5d57b09efcc6bebb1.jpg', 'IMG_3103_mp4-3_jpg.rf.32329e906db245dfec761d70409f4b17.jpg', 'construction-705-_jpg.rf.2c95558ac85804170ead0976dee79e93.jpg', '01094_jpg.rf.5f3dda8b6f1f7908983da80afb575e4e.jpg', 'youtube-730_jpg.rf.9cb949c7d69958d412a7eb3fb8d4e0c7.jpg', 'image_326_jpg.rf.ba69aade4530c10c5c29ebd0f357c225.jpg', '005100_jpg.rf.2994d16a99c03162e7b756fa13fdd3c5.jpg', '2008_008444_jpg.rf.429b802dc2a4bb0171d0b296fcb04454.jpg', 'IMG_0871_mp4-13_jpg.rf.d3e9161b0f1e5c4afec0fe6e3ff61883.jpg', 'construction-619-_jpg.rf.8181765b21d618233610f2c91a6057a4.jpg', '2008_008337_jpg.rf.74e6e11733218da0128165788cc3d7bb.jpg', 'bookstore_38_02_altavista_jpg.rf.2014a7d42d0d50e55923c9156f401037.jpg', 'construction-1099-_jpg.rf.ca716ce58849931be359cfcebf24b0fc.jpg', 'youtube-229_jpg.rf.5550c3f91704753036b10a4f6af95eaa.jpg', 'class1_235_jpg.rf.eb1beffcf8dccdc39a20bf88e0440788.jpg', 'construction-3-_mp4-148_jpg.rf.6439627b3462df42bbf01dd91b0a27da.jpg', 'autox5_mp4-34_jpg.rf.cc87f9ec9778844aea62a27a0ad2130f.jpg', 'youtube-196_jpg.rf.d91d071c343fb52c4e572d74079b21a4.jpg', 'Bookstore111_jpg.rf.2d384f1bdffb03527cd30bf40e210d6a.jpg', 'IMG_3100_mp4-23_jpg.rf.e863f14921c3e6bd77c777c790b5af72.jpg', 'construction-3-_mp4-166_jpg.rf.1ce1984044499b830a524061c57bfb7c.jpg', 'youtube-207_jpg.rf.dc738796008648ccf390c4bb1a721c76.jpg', 'ppe_0750_jpg.rf.81e0f8e91c20616315e03f93799ec5b7.jpg', 'ka_00884_png_jpg.rf.b2cbc7ec9bfafab8b58cdff0bdedfee9.jpg', '006118_jpg.rf.f747f08bf972bd350b70c282e547a71c.jpg', 'construction-2-_mp4-219_jpg.rf.0ad7ddf87079cf198c8d4c90fb679f49.jpg', 'construction-560-_jpg.rf.2ce0dca7431fa99fdc542ddb0b8f9651.jpg', 'ezgif-frame-049_jpg.rf.c7ef5dafa9ce1349c1f59b7ccb2133f6.jpg', 'youtube-731_jpg.rf.ba052cf8e90a7e1ca93844b1730d152d.jpg', 'image_16_jpg.rf.3571bc43ca60b330412ce3498c958839.jpg', 'youtube-618_jpg.rf.1657b2b21e87e95a776ec34f057b7a8b.jpg', 'Apple-Tests-Face-ID-Feature-While-Wearing-a-Mask-Shorts_mp4-51_jpg.rf.6e4aebb6aa9899d08aa5771931f80607.jpg', 'youtube-460_jpg.rf.c139e10c0facf98f3677e2fb847dfd74.jpg', 'construction-118-_jpg.rf.5ad695976c91b0a98153249e56b202d7.jpg', 'class2_074_jpg.rf.7f96a6a4219e4d934f7baf7cb8b4c41f.jpg', 'construction-5-_mp4-137_jpg.rf.7e1f934f6be9187e7d369869703657dc.jpg', 'construction-1029-_jpg.rf.e40ed9707d9ea79a66586b7eafe0ae52.jpg', 'image_426_jpg.rf.c89dce1cff780e9d86a5bf5f3b16459c.jpg', 'youtube-376_jpg.rf.7a1d82d72bed353e5118263152e0896f.jpg', 'img_038_jpg.rf.c9387fae49bc708d612f2ea1f6af8005.jpg', 'construction-1015-_jpg.rf.e0e5d33977d463d7d88bdf4bbc43b869.jpg', 'img_037_jpg.rf.174d9dde8845756e06baacc06c2098a3.jpg', 'IMG_5024_mp4-2_jpg.rf.ef79470223ea72c2c2a7604795c2d3da.jpg', '004720_jpg.rf.44b8db920085c7034b6b0637fa85fe11.jpg', 'image_426_jpg.rf.c7cde73ba46e86874c22e8b1bb2cf0fe.jpg', 'mo-justin-mask-NoMask_mov-34_jpg.rf.862437287915459ee551ea4e4cc9bdf6.jpg', 'youtube-376_jpg.rf.13083f5db5d0a9b433f3fde9c9234854.jpg', '598_jpg.rf.a7412d17da518abc68373b0c0e9edb08.jpg', 'youtube-391_jpg.rf.7b5d9b2652344f2cfacb205f4a3263a3.jpg', 'youtube-300_jpg.rf.d3c699a1d7e40b695296cddeb22f4a4a.jpg', 'construction-2-_mp4-113_jpg.rf.377be4d7db46984bac62a282d7db22f4.jpg', '005239_jpg.rf.aa730ea2e24bd8c190a67478c76d14ca.jpg', 'construction-135-_jpg.rf.42dfecd04d31bec9b04596d68fc2d01d.jpg', 'image_678_jpg.rf.21b0fd0f5371ac6bfa4c8d9cf61d6ca4.jpg', 'image_294_jpg.rf.a6b3f449c64aee5f74e1c46e85ab15a3.jpg', 'youtube-726_jpg.rf.22b3d2e534ca2afcc1e861a85e1ea167.jpg', 'IMG_7286_JPG_jpg.rf.fc99c7fb2b162c356ff703eeaaf6af1b.jpg', 'autox4_mp4-111_jpg.rf.2292cbeef0a5da66dd9fe1040822d3e9.jpg', 'construction-5-_mp4-75_jpg.rf.7d2e2174dc9edfdc8a1bab63ca89c39b.jpg', 'airport_inside_0345_jpg.rf.81733cc3cc37d665aabb9d11122ab053.jpg', '707_jpg.rf.f80fe033acefd7b34b04a0cd7fd162db.jpg', 'youtube-497_jpg.rf.e0f0250ef7939eb4813e9b2f57b1a5ff.jpg', 'fnacc_corridor_jpg.rf.005249dddbd7c5b872dbd60275319f1d.jpg', 'image_191_jpg.rf.a5bbd2d86e5d05079cbebf54436c0ace.jpg', 'image_296_jpg.rf.42613c980aa18fdbc30590a9668011a9.jpg', '2008_008444_jpg.rf.f54629aa3fa51422510e7e7ac5d5f39b.jpg', 'youtube-362_jpg.rf.def70d3c298a3444fa7c6c64e5cacddf.jpg', '006012_jpg.rf.eb12c4a250f91e1f6efb9781b2c78604.jpg', '01261_jpg.rf.ed956fe33a91f0a8537ffcbda6e8b3ab.jpg', 'airport_inside_0460_jpg.rf.6d6fd5be775da125c62929b9f90628b4.jpg', 'youtube-196_jpg.rf.19c2571d6042eddfa532c523d5a34817.jpg', 'construction-507-_jpg.rf.b860c2a88ce6fc719ca2a6465e5991c4.jpg', 'youtube-460_jpg.rf.186e39e79bdf1e04380ba03079331a2b.jpg', 'IMG_0871_mp4-23_jpg.rf.aa32c4b2d468efeee58c093fa92fd6cf.jpg', 'youtube-554_jpg.rf.1bbece061ee56eaa0b32cb0a392b42c8.jpg', 'Bookstore111_jpg.rf.61468d8cdf9e27204c825a3b14ce5410.jpg', 'img17_jpg.rf.e2bb3045663745e2d3fc69ec11845310.jpg', 'construction-1-_mp4-46_jpg.rf.02aaecb5779de6b8bd1dde4d0de11cd9.jpg', 'youtube-396_jpg.rf.92106c943a67e2d642d6a26040970f9f.jpg', 'youtube-221_jpg.rf.ebbeb87d2c85b473ffe09c3e3b6d88e3.jpg', 'youtube-376_jpg.rf.ae2fc4ffb957f714075a0c97ce35e8a1.jpg', 'airport_inside_0214_jpg.rf.9b019f9472eb1fe3abc0c60fb3369e67.jpg', 'youtube-409_jpg.rf.6c7eb5bd2a8543b62192a69b7cdf6e22.jpg', 'IMG_0871_mp4-23_jpg.rf.d607fb0a64fc766fd1af875a5b159789.jpg', 'youtube-13_jpg.rf.fd0d4d31a0ee44fc143df432649051fd.jpg', 'Movie-on-10-31-22-at-10_08-AM_mov-3_jpg.rf.3eccf410a77d6c12ed9fd789a3b8867b.jpg', 'construction-4-_mp4-89_jpg.rf.bfb1483dd3989a71df592291d66d94fe.jpg', 'youtube-165_jpg.rf.83bd25ccef7130f42dc72db173853c96.jpg', 'construction-2-_mp4-178_jpg.rf.b8c85b8264b4c4ac5f63983ea0ca05cf.jpg', 'construction-4-_mp4-89_jpg.rf.346054697ac0f316fcb36b5da4e1869b.jpg', 'Image_1009_jpg.rf.70bc8d863b6a6ee361a435519a7fe2de.jpg', 'Image_995_jpg.rf.7e67df0cbfe5d9ddd12ebd8d7a8a481c.jpg', 'construction-4-_mp4-185_jpg.rf.46455ef8e0ac8459810c8de85ba27787.jpg', 'youtube-615_jpg.rf.b0753ed0c5d860dca0ccfdaf074820bb.jpg', 'youtube-507_jpg.rf.e3928fd0a5c1e25ab42359aa1a34a6ad.jpg', 'youtube-260_jpg.rf.ebb38b7437d6b5d56951004d3c3a80ff.jpg', 'image_721_jpg.rf.4a4136fb39dcd1f7fbfeb6265e94f12b.jpg', '01437_jpg.rf.f33846f08de75ae3d897f2902747c725.jpg', 'construction-347-_jpg.rf.f5e15e0e36d3cc7fcfbf49d68c21f121.jpg', 'construction-207-_jpg.rf.d13e5186c072bfb87375bd06bfcf6414.jpg', 'youtube-730_jpg.rf.b55e41b07155a1b30073fb0e4da9e1b7.jpg', 'youtube-564_jpg.rf.b7ff2445bf314eaa4fb6aedb31537f37.jpg', 'image_288_jpg.rf.f6f38c0bae911e5f24207dc97476307a.jpg', 'Movie-on-10-31-22-at-10_08-AM_mov-10_jpg.rf.2afaba4c97c2c1d857f56a414abe9d7f.jpg', 'youtube-57_jpg.rf.c5900b5314a0bf5fbccd6e43998898bc.jpg', 'image_326_jpg.rf.d422a75b8604f734538583306e328bac.jpg', 'construction-816-_jpg.rf.62e21625240b95a16c38763d900eec32.jpg', 'construction-253-_jpg.rf.c67e3fcf3be1e96d7fec63a327b585f7.jpg', 'youtube-266_jpg.rf.94c0d2c8c89f261c57fc1b1997e60f0a.jpg', 'front_crawling_00088_jpg.rf.b451f3ce7244dfc630234b73c7e88f79.jpg', 'youtube-376_jpg.rf.c41c215d753588120c06cae7957ef83c.jpg', 'construction-4-_mp4-182_jpg.rf.6f936d9de1e32444b7c2a075e3e4305d.jpg', 'construction-1029-_jpg.rf.4b275026c8888b66ce2694d2dda856c3.jpg', 'youtube-332_jpg.rf.bd2882f0188e4e96db55817563b57e2d.jpg', 'image_622_jpg.rf.f659ef57ff19cb4e18962d96e8418d73.jpg', 'construction-731-_jpg.rf.fa15eb46b12aa81e7eab1bbbfbc1f983.jpg', 'image_678_jpg.rf.d08dc280ff6c031f30f59a759080ddf7.jpg', 'IMG_0871_MOV-39_jpg.rf.cad305edda519e95291dd63518835f82.jpg', 'RPReplay_Final1667001201_MP4-21_jpg.rf.19c9998d5c8e6029af7f5e5e34d14413.jpg', 'construction-976-_jpg.rf.13c87c91ed02802a372c418dbbfb9e65.jpg', 'youtube-693_jpg.rf.c5a5784a786a21f09fa8df370f71c2e6.jpg', 'construction-763-_jpg.rf.297581ce662979764c273bc4aa5c19c6.jpg', 'additional_tests-Nomask-wearing_mp4-35_jpg.rf.133f003b3b52925570bda04ec243b96d.jpg', 'Movie-on-10-31-22-at-10_08-AM_mov-13_jpg.rf.ce1043cc4496f9f6641cf0cd70ef6301.jpg', 'image_673_jpg.rf.b44d04f9697b9117551c2f180474eda3.jpg', 'class1_235_jpg.rf.a87e21e5f7dd890892224da02cc1098a.jpg', 'ins30_jpg.rf.7f166adf69fa78d310884393216ef467.jpg', 'youtube-272_jpg.rf.5deef8fcfff4a93414b4051aefb4067f.jpg', 'construction-860-_jpg.rf.8d0a63a9c38cadbae1e5c9ff94f2aa49.jpg', 'youtube-464_jpg.rf.3806bb90d6e44e83c13c4b61058d08d3.jpg', 'construction-872-_jpg.rf.d28124ddcbb715b1005b49b71d8019da.jpg', 'IMG_5024_mp4-2_jpg.rf.6010c9cc7112bad8ad73d19f4f44a0d0.jpg', 'youtube-242_jpg.rf.ecfb577d7a9e7a35dcc60b16ec4d47f4.jpg', '005100_jpg.rf.11d7bd86fe6608dc8ca416382c74d469.jpg', 'youtube-848_jpg.rf.34557233fc8c0c4c14d113ac78c85283.jpg', 'construction-731-_jpg.rf.2f78a9cbfcccb40f0d51d6761963e2f7.jpg', 'construction-212-_jpg.rf.dfc3cd38ed63f7b7f642f8b1cbb1b68e.jpg', 'IMG_3100_mp4-0_jpg.rf.c2682797779148fe3b487b59938676a4.jpg', '01261_jpg.rf.965dff8087002c174bf37951f02806a1.jpg', 'IMG_3100_mp4-17_jpg.rf.5cb34f635f907bb8dd64d8143522c94a.jpg', 'IMG_3100_mp4-5_jpg.rf.24d25a0ddd253fe224539c09efabd907.jpg', 'youtube-829_jpg.rf.3c5cf4e90ad5bc6817cd55a98c84e8b5.jpg', 'ppe_0491_jpg.rf.bd8c7a68df79fb79b2cdc0a6d4632a6e.jpg', 'youtube-165_jpg.rf.573132679269e58f0cb580a01fde37e7.jpg', 'IMG_0873_MOV-10_jpg.rf.17b2047359e0f35293c00cb035e84035.jpg', 'class2_158_jpg.rf.0ac72e367ada032364e70632897c268e.jpg', 'youtube-499_jpg.rf.e4dcff7127244607c7c6915495d3aa6f.jpg', 'autox4_mp4-112_jpg.rf.3b1a8122023b81e890aeff57ca8a1e04.jpg', 'image_18_jpg.rf.aab4fae499db35c3eeb73026ffa62380.jpg', 'Libreria_09_20_altavista_jpg.rf.21bb72e47994b3d520ec7b4aa603e8a7.jpg', 'image_880_jpg.rf.ce35870f18d9aec9717a1ba463a216f6.jpg', '-I1-MS09uaqsLdGTFkgnS0Rcg1mmPyAj95ySg_eckoM_jpeg_jpg.rf.10828c2a406f3e985c87926751704f49.jpg', '003184_jpg.rf.028bc555473f5424473dac253d2e6de4.jpg', 'airport_inside_0460_jpg.rf.08bdc9d5bdd94eda87888c1082b3871f.jpg', 'youtube-507_jpg.rf.a859758779df04ea778068a73b402d3c.jpg', 'image_622_jpg.rf.1b8c8b100526f72f09884c1cec3c43c5.jpg', 'youtube-474_jpg.rf.a69f31210940425bb2099ce9f6683645.jpg', 'IMG_0871_mp4-20_jpg.rf.189ac754788bcbde504cec9ccd800aa4.jpg', 'construction-212-_jpg.rf.0f02bc1536288f419c6d04b5f81ce251.jpg', 'construction-543-_jpg.rf.26fd2adfe49b41fe17f7190716a718fe.jpg', 'youtube-252_jpg.rf.778acded6daca1e48855fff20c04cc6f.jpg', '005310_jpg.rf.3fadf8fa69fb354db06bed4e42142276.jpg', 'autox6_mp4-20_jpg.rf.b5d35cc6e8a707c658604de70b53b465.jpg', 'additional_tests-Nomask-wearing_mp4-35_jpg.rf.20bdea6ebef0f4d4cdcd9a9c829eecbd.jpg', 'youtube-376_jpg.rf.c61408e540dbf2dd48990d07543db9b4.jpg', 'youtube-234_jpg.rf.97ccb9f5b78f4ec728aadd30b1a58446.jpg', 'youtube-534_jpg.rf.e37ccfef79303e75c180307a83f87fe2.jpg', 'Bookstore111_jpg.rf.49397b7bdc4e2a3fa4947b42a57be10e.jpg', 'youtube-18_jpg.rf.f881a0e8125381315c9391d4f03a13da.jpg', '01261_jpg.rf.ee044d42291843f1358960c4d8c1d466.jpg', 'IMG_0871_mp4-0_jpg.rf.d2bb01a4ef36bd16b42499f4c8cad4d7.jpg', 'construction-268-_jpg.rf.aa82a588d7af1763c37ec1570a2d218c.jpg', 'construction-2-_mp4-12_jpg.rf.0f1cfcc2d1a6b29de5100c53d1ffc4b8.jpg', 'construction-385-_jpg.rf.df8efee4943d3867e3ba784f9c995499.jpg', 'construction-1115-_jpg.rf.eedbec3ffbfd397bfcc8274956c249f0.jpg', 'ezgif-frame-049_jpg.rf.a3772345243245ad76fa5ab1ebcd7cc1.jpg', 'youtube-175_jpg.rf.42efa8b28ba1ccb4779c2b169023c27d.jpg', '2009_000063_jpg.rf.6ec3137de0a8c1ecdfd20ade2706e078.jpg', 'youtube-615_jpg.rf.7f41bbb94234c00582504401d4a76a60.jpg', 'youtube-409_jpg.rf.d70eb48869e92e3299d38a708da10fd6.jpg', 'construction-4-_mp4-165_jpg.rf.0ff0aeb885257372cf6482aa4ab3214d.jpg', 'mms_00692_jpg.rf.e9bae2709866463852036216b355d28a.jpg', '616_jpg.rf.440e1d2885969b920d1115e4dd9c95d3.jpg', 'youtube-131_jpg.rf.ff277dc6867c30778ecdb28d1da664c6.jpg', 'youtube-25_jpg.rf.30be35b92b01ff7ba8e43bd3b523dcbb.jpg', 'IMG_0871_mp4-20_jpg.rf.b4016db0173136b57f350620858525b2.jpg', 'construction-112-_jpg.rf.f19a394cc6b1ec78fb1df35e4e8005c9.jpg', 'image_732_jpg.rf.3e61e8858fc4d7ac702c276b3d416fbf.jpg', 'youtube-639_jpg.rf.351b2d526e4925e2d0bb07cca4f0609d.jpg', 'youtube-187_jpg.rf.d0fb1c496573385c29fa3013f9961164.jpg', 'video_CDC-YOUTUBE_mp4-50_jpg.rf.d2d78aa46f937c73fa1ebdb8c359face.jpg', 'youtube-197_jpg.rf.de7698fa188d148fa8c31e572450db8a.jpg', 'IMG_7286_JPG_jpg.rf.1574ba0756f94359b665834f26ac4c0c.jpg', 'youtube-345_jpg.rf.b2890abeb446b6afe2377e3c7ae73b12.jpg', 'airport_inside_0073_jpg.rf.7eb910b916105f83ea3102533826401f.jpg', 'image_740_jpg.rf.1cba9cb31d4c4bdae3a275b9491589b8.jpg', 'construction-1050-_jpg.rf.03312445567fc60f4ddd13341d2614cd.jpg', 'ins27_jpg.rf.ec02ee8f42e71099e661712f90d013eb.jpg', 'airport_inside_0073_jpg.rf.36b9f79347faa9106a1d2575987e0924.jpg', '-1670-_png_jpg.rf.0463edb430019e01ec79eed27a6349d6.jpg', 'construction-5-_mp4-39_jpg.rf.fb059423109df5c7c98835e2a92b073f.jpg', '2009_004148_jpg.rf.323afb7ac28a89fe20723187498dc297.jpg', 'IMG_3100_mp4-6_jpg.rf.bde255ddc63a02225feab284b6c6c5c3.jpg', 'youtube-550_jpg.rf.0a199dbd9cdb73adb689576c257cd853.jpg', 'helmet999863_jpg.rf.9667435fc8a05ffd5508057026b8e869.jpg', '002654_jpg.rf.f10456662b75b3d34e02a4db9cdf36a2.jpg', 'construction-684-_jpg.rf.f7633094313d336503445e977c4b4813.jpg', '-1975-_png_jpg.rf.cd700127b5005f75f2eaff2705c1cbb6.jpg', '2_jpg.rf.9360d1df64e52841007492e10100ffcd.jpg', 'class2_093_jpg.rf.4c9e0190598044e61fc3f2eaab39796e.jpg', 'IMG_0871_mp4-23_jpg.rf.4354bc777a9ea088f606a97292b17844.jpg', 'IMG_3103_mp4-11_jpg.rf.860d91386672578b17948da9b06f7c21.jpg', 'class1_253_jpg.rf.3040280fef7ae5e6c2d1b9baf627d44f.jpg', 'image_170_jpg.rf.84419ed066dab16fde6168d5d08d2e82.jpg', 'youtube-710_jpg.rf.17c00a6edf7e16fa7527b1fd376ff98b.jpg', 'construction-3-_mp4-162_jpg.rf.9029ca82bb02bc31a4768f0f3e3655e4.jpg', 'construction-986-_jpg.rf.3ecb527ce78e89716a17826e5d05f682.jpg', 'construction-741-_jpg.rf.d540272efa40183048907304589ebba0.jpg', 'image_181_jpg.rf.0a8f716210a4da8c791d983e6d8d49f1.jpg', 'image_880_jpg.rf.d5521e4b5d741375f99709ba6483f190.jpg', 'airport_inside_0363_jpg.rf.80fddb2e754c830ff538e01dc1366296.jpg', 'construction-4-_mp4-165_jpg.rf.d1617980e6570fd2dc77a4579fe285ed.jpg', 'construction-2-_mp4-213_jpg.rf.b4eaee4597b2e35ad11aedc5ccc1dbcd.jpg', 'construction-1116-_jpg.rf.97f5e2cdb1ff760617a2ea53954b949c.jpg', 'construction-268-_jpg.rf.a5a9c565f737e454d2146d1fd2cab5f5.jpg', 'youtube-344_jpg.rf.b41be0bf431033cf33fa8c7a8cbe924b.jpg', '494_jpg.rf.4965b7246b576fccfc1032532369a048.jpg', 'construction-860-_jpg.rf.798a96cd719c190547f83bbdd331555e.jpg', 'construction-4-_mp4-94_jpg.rf.af104684c19a232f02c90552eaa84fbc.jpg', 'construction-741-_jpg.rf.35c19fbb2693a7d3b4af1cee8c68711c.jpg', '000415_jpg.rf.8b898a9652182d324999f62f39119cfb.jpg', 'image_18_jpg.rf.f14536a170f479f50518e8d2e338ad10.jpg', '405_jpg.rf.649a7abba334ed5db702e6a7065fb81f.jpg', '000415_jpg.rf.6e1ef08de110baace091eb9f5b5867a2.jpg', 'youtube-242_jpg.rf.6c65ab2da2b0600445f732397b6be671.jpg', 'construction-1062-_jpg.rf.d99c91577106c58bacf933b6fdd2cafc.jpg', 'youtube-196_jpg.rf.a700e740fec48edb0579e1e037cf347f.jpg', 'IMG_9949-1-_mp4-6_jpg.rf.8c85ef66b48a4e230dd2ce8138c9811d.jpg', 'REVZGCBIJNQPMIIXOKDCQA3GJI_jpg.rf.3124ccef91e9365ec39c23549e26d3ec.jpg', 'construction-855-_jpg.rf.cb8a1e10b97872d70496957076780658.jpg', 'image_120_jpg.rf.93e81df9716279092b12417715ee944f.jpg', 'Image_991_jpg.rf.22c230afdfec51ec63afe3599fffab94.jpg', 'image_314_jpg.rf.24f21706a57450ecfe9b6a99428c5371.jpg', 'construction-682-_jpg.rf.7161480fa0134c8ed4985baec0b325c8.jpg', 'construction-3-_mp4-162_jpg.rf.7c643844819ddd3253bfdbe453045403.jpg', 'construction-5-_mp4-39_jpg.rf.e828d532dce99528cc3afc47a75b6c29.jpg', '-2544-_png_jpg.rf.1224ec786928243a0076833c5ddb34f4.jpg', 'autox6_mp4-80_jpg.rf.370352a9ceca1d6bdb8828be017271ae.jpg', '-2406-_png_jpg.rf.bc179b858971b0a65740383c849c429e.jpg', 'youtube-395_jpg.rf.bfba865be239a85c5a67c5c9d97f6309.jpg', 'image_314_jpg.rf.9fa27d90cca210cd18e6dd6138e5d413.jpg', '2008_008526_jpg.rf.206536056ad018be846c10c1aa29e111.jpg', 'construction-3-_mp4-23_jpg.rf.4f6c342990c036513c4bf9befc409c7b.jpg', 'construction-618-_jpg.rf.45e203c3c474c1f50e6c4309badfc748.jpg', 'youtube-639_jpg.rf.0858ba004953521ae92ee56e6f95a993.jpg', 'youtube-137_jpg.rf.aafab9fa046d884e1426603f80ea53d4.jpg', 'image_255_jpg.rf.c869df859426935a42b5c37d74a862df.jpg', 'image_781_jpg.rf.9cd7d35563f5721f34d5316402030bff.jpg', 'youtube-568_jpg.rf.49f1d5b90378ee7a8dbd85b799bfa32d.jpg', 'RPReplay_Final1667001201_MP4-55_jpg.rf.da354e2f06ef5c7db51ad85a8dc50e57.jpg', 'construction-813-_jpg.rf.29c60838739153b1f092dbfaffc8d8a2.jpg', 'mms_00692_jpg.rf.48f170d00664f226cda8acb2e96ef854.jpg', '01235_jpg.rf.cf94f7423325a92529343ffdc6deb074.jpg', 'IMG_3100_mp4-25_jpg.rf.0a21e9e91348b61c6c1483d6884d2135.jpg', 'image_527_jpg.rf.63975658973acf5c51a5dcd10289ce86.jpg', 'IMG_3100_mp4-25_jpg.rf.3313bb2b19a7aa3a0af745abe858ec8e.jpg', 'image_784_jpg.rf.35115c58b557752630a00e05998d8ae8.jpg', '2009_003000_jpg.rf.9ae660adccbf418ece332c07d30daef5.jpg', 'youtube-295_jpg.rf.043d8e22fd6b25809e103de40cb9e0e4.jpg', 'youtube-395_jpg.rf.c96f418ca6745816e4d204d36453f59f.jpg', 'construction-4-_mp4-182_jpg.rf.627a7713bb1819c97760a93546151040.jpg', 'youtube-252_jpg.rf.f09f4003bd7b1bbc60be3e7a3a7b5568.jpg', 'youtube-230_jpg.rf.65c2abbd527fec6bb9ae68626c456ecf.jpg', 'youtube-699_jpg.rf.08d0890d9ffd3c79f94e48db68c2ea6c.jpg', '4c43875bc97cdaece84ac6ce555235f1_jpg.rf.ffff7c84903cfc442c33b81472f99ab0.jpg', '-1670-_png_jpg.rf.7da967f9aeaa62defc36543b9e6000af.jpg', 'airport_inside_0550_jpg.rf.56385e14f5f45b8e32f1bde53ce0fec3.jpg', 'youtube-726_jpg.rf.9217e70297b89a7a06e94a1432196d79.jpg', 'construction-135-_jpg.rf.20b41fe526103f184c02d97a303fa695.jpg', 'Movie-on-10-31-22-at-10_08-AM_mov-13_jpg.rf.92820cdc1cba18b698ae508059efc4fc.jpg', '235_jpg.rf.897011419739f3d81651d2c00d7ec8fa.jpg', '277_jpg.rf.d6e4f58885b944d6f7daaca27e2b8cea.jpg', 'RPReplay_Final1667001201_MP4-370_jpg.rf.ae7d4884327cb7b0b3acdaa7d0996d53.jpg', 'youtube-645_jpg.rf.0cae206994074c96880eee9f8b4f6fa0.jpg', 'construction-3-_mp4-166_jpg.rf.321ab14cf6825c69840e598eeb0d213d.jpg', 'fnacc_corridor_jpg.rf.9ee7350e3805120d251c4de5a7756848.jpg', '-1680-_png_jpg.rf.56da4925f9967baa3e9deae422aac04f.jpg', 'construction-2-_mp4-15_jpg.rf.049ec88d34bf5522395af8c4f14696e9.jpg', 'image_965_jpg.rf.dfadb21ac6ee92a84e7b24a3f335c64c.jpg', 'image_841_jpg.rf.470e52ac15350bbf6b2a13a2e70ec588.jpg', 'youtube-560_jpg.rf.8f99653f70bc2287a75c70758e5a43e0.jpg', 'youtube-460_jpg.rf.29c7717ac21671bc4eb29482083484c7.jpg', 'youtube-131_jpg.rf.c61a789bdcc60c1185c62073f8d24b24.jpg', 'IMG_0871_mp4-5_jpg.rf.0b87132ffac16c0ce01d3e302af09422.jpg', 'IMG_3100_mp4-15_jpg.rf.6b06d0ef6b013e80050b9224985a6e5d.jpg', 'autox3_mp4-49_jpg.rf.d7456fd447bd86e27aaa1d689c73f605.jpg', 'image_624_jpg.rf.99accd60d948add0df3d2eec557e237e.jpg', 'construction-347-_jpg.rf.019a625d11ee3deb1aae360a2755d707.jpg', 'Libreria_09_20_altavista_jpg.rf.dfbc78a201642a167875690ce8b7edb3.jpg', 'construction-4-_mp4-89_jpg.rf.d151ceb241281718e46458bf107c6f8d.jpg', 'YouTube-FreeStockFootage_Child-playing-with-parents-JoyLaughterHD-RQ_qqCZOkZk-720p_mp4-42_jpg.rf.25f28feb71c8eb2365ddef7281c16786.jpg', 'youtube-849_jpg.rf.accc9afdf3e1d7e90118b655646b6266.jpg', 'video_CDC-YOUTUBE_mp4-50_jpg.rf.63232e24fd13597ca4fdd9895f0fbd0b.jpg', 'youtube-274_jpg.rf.068d680d7bafd5c0eddc15709b40c8ae.jpg', 'IMG_0871_MOV-30_jpg.rf.52a36c88b3ce2ba545fd2c44e79a45c3.jpg', 'MariusConePic60_png_jpg.rf.327ac75b6e428a917d61ca056e4be99a.jpg', 'image_61_jpg.rf.06b130702a18cbe9775cfef7e58ff369.jpg', 'image_1004_jpg.rf.454a08efbc20e72021db91669b18690e.jpg', 'youtube-13_jpg.rf.46d2f83a51eebc4459719d2f1861c222.jpg', 'youtube-589_jpg.rf.9a14d2e0175cb632b827a4e6f8e51328.jpg', 'class1_075_jpg.rf.2a22da3708b1c7ba80a4da925984f48f.jpg', 'maksssksksss795_png_jpg.rf.59b5e25dc4ac635fe5a0ce57e87cbf99.jpg', 'construction-246-_jpg.rf.fd9bfe8b6726e60a3a00b7f7b03cb7e8.jpg', 'youtube-554_jpg.rf.c76c721a1d0b10af68a4c02ff5886ea3.jpg', '129_jpg.rf.ffd6c2f950c552a16727f9bf145f7454.jpg', '005180_jpg.rf.3c83b15d5bed446651582525866783fa.jpg', 'construction-3-_mp4-211_jpg.rf.66ac754d184fbaeabdac89642c50d237.jpg', 'youtube-448_jpg.rf.cbe301db586a0f6cf382a8037cd6b98e.jpg', 'construction-976-_jpg.rf.d44b0911fa5da0256efd02bb596ca62e.jpg', 'ezgif-frame-049_jpg.rf.51c4102f3880e82726034fd0582257a4.jpg', '135e-huxwryw6451820_jpg.rf.ee9ca43c493a451ed87dcea9c7b3e0c6.jpg', 'construction-3-_mp4-166_jpg.rf.3785bac9c8d14230444b9d7b9e669987.jpg', 'youtube-235_jpg.rf.f1487e49616b02eb93e372f07fbd52a1.jpg', 'construction-5-_mp4-29_jpg.rf.e7e1d35bf4bfa2049c06947bcf6ef682.jpg', 'youtube-42_jpg.rf.e70816c9d42dc92bed2a6d1e1feb21d9.jpg', 'image_575_jpg.rf.37dc5c2b4e64116800d0be65673bd13f.jpg', '005577_jpg.rf.28a70bd7ad7c4a004b19903de1eafc9e.jpg', 'youtube-42_jpg.rf.19ea5285f45d536c6440ee4fdf8efe66.jpg', 'construction-4-_mp4-127_jpg.rf.4f38f67392fa9e1505e94f5e4ee486f3.jpg', 'construction-4-_mp4-189_jpg.rf.dcbbd17d32c0e03130324482d02dbb50.jpg', '02629_jpg.rf.0521012466fb729b8c9cf3291d35077a.jpg', 'construction-5-_mp4-30_jpg.rf.f671ac8915234f2ca8b9246d095055e9.jpg', 'image_176_jpg.rf.d8619d7aa3fd3c89fecb3bd21942cfee.jpg', 'amz_04178_png_jpg.rf.88d441f41b0483c66b08e900051c62e8.jpg', 'construction-813-_jpg.rf.da1a383275ad8f57b7f2c6f6a35f98dd.jpg', 'construction-3-_mp4-122_jpg.rf.0cd1654e69130f2f2b2b5adb08c879f0.jpg', 'londres_023_jpg.rf.641b8788c23f32c17ebc1af916994b22.jpg', 'youtube-502_jpg.rf.05c0bca95928741d8ec0f5cebae1f23c.jpg', 'construction-5-_mp4-48_jpg.rf.72bf6dca6741d8c2f2c96b9f9177b3e4.jpg', '004720_jpg.rf.afc486560a4004c7cfd67910af31a29c.jpg', 'image_120_jpg.rf.40fce375a47fcd49ce6150a3fb2aa2a9.jpg', 'construction-572-_jpg.rf.68ee8e58fe38f98c89b0341be036d5cd.jpg', 'construction-260-_jpg.rf.bed6cb4622027ec2bf56e6e5f0e8b2cc.jpg', 'IMG_4921-2_mp4-40_jpg.rf.656442519b415c3574dcf2468c7d93c6.jpg', 'construction-435-_jpg.rf.8d45996f8bb473f29ce0b3733f40241b.jpg', 'construction-543-_jpg.rf.649ab011cb782b350dff83fdb605e65a.jpg', 'image_647_jpg.rf.c52de236dce0a5e626062efce6251534.jpg', 'construction-5-_mp4-30_jpg.rf.5c8e550b1e5053b550bdc04845a56783.jpg', 'Movie-on-10-31-22-at-10_08-AM_mov-14_jpg.rf.dda57d57a1548fc88345616715834657.jpg', 'RPReplay_Final1667001201_MP4-370_jpg.rf.d22c6ad3835da982aee0a6cb60964a67.jpg', 'construction-547-_jpg.rf.5a75e2e90f7e6e23620b4311cb7bf65e.jpg', 'youtube-270_jpg.rf.88395477ace654dae25982a1d09f1167.jpg', 'construction-572-_jpg.rf.de16cf7d2e458d8a7d30bcac89a4f924.jpg', 'RPReplay_Final1667001201_MP4-21_jpg.rf.8d52d679afa730b1b4da0ec945fcaaa2.jpg', '135e-huxwryw6451820_jpg.rf.16d8f0c3161dae2375522c763c40b1a0.jpg', 'IMG_3094_mp4-45_jpg.rf.d30a1cdf3924b6c25b3241f5a5bbc312.jpg', 'image_1004_jpg.rf.de519703cdcdd06d06edd7cfa60b8184.jpg', 'fnacc_corridor_jpg.rf.993a63fd48562fe2570d51030616212f.jpg', 'construction-2-_mp4-219_jpg.rf.dae32347bb4fed1d2078263a64f58a70.jpg', 'youtube-628_jpg.rf.3066dfbffd038ad19ac75ace3882321e.jpg', 'youtube-574_jpg.rf.fd75e29135d87fc401f4379bddb5c172.jpg', '588_jpg.rf.7e978c634b992f3b3fc9332329e20c67.jpg', 'image_841_jpg.rf.92fcccf16dc0fefd594e006222dc306f.jpg', 'construction-246-_jpg.rf.b85e00bf930ece1924a70d0b5b408a75.jpg', 'youtube-435_jpg.rf.a4e40a48df58eaed819a210dc833d3e4.jpg', 'construction-135-_jpg.rf.91c126ddc875b52d91504259fec10f83.jpg', 'ppe_0015_jpg.rf.68233b3070821208fc67118ac4427f67.jpg', '2008_008337_jpg.rf.be5dc6de298823538b429246aa5dfa42.jpg', 'construction-1-_mp4-115_jpg.rf.3180062637f2f2c6dac5a1a773a3d006.jpg', 'Movie-on-10-31-22-at-10_08-AM_mov-27_jpg.rf.31a8dfa029527628d7a5167f194237cd.jpg', 'construction-2-_mp4-12_jpg.rf.08cddb92471bc97a4bb37b6ce28b5655.jpg', 'image_620_jpg.rf.b56121f1434e0734f9e56cb6ee1df648.jpg', '727_jpg.rf.b004fb5a9642d2bc9bad47c5fd69cfe8.jpg', 'image_704_jpg.rf.9b57097ebfe61a67ed7c13df984f6991.jpg', 'construction-435-_jpg.rf.f7b9fb78990ed6dcecd2899d7643adaa.jpg', 'construction-528-_jpg.rf.f7aabc7792418cbc51f767e40325dfb4.jpg', 'ppe_0491_jpg.rf.b46601406f2ad4a9e1181ed6e53c4392.jpg', 'youtube-615_jpg.rf.140bccdde73e1884ede155dcc39f6e32.jpg', 'youtube-295_jpg.rf.6a93d92523b87b45efa10c3ce16c4c48.jpg', 'image_704_jpg.rf.4c741a4ebadf03219d0d8d3b230b09a4.jpg', 'youtube-571_jpg.rf.98dcc380e8a5e5ad1dc66bf5f2376f18.jpg', 'youtube-332_jpg.rf.412a156b848acbd8ff3432e014c3f771.jpg', 'youtube-246_jpg.rf.a580acb881072051a837c544b7fb1e91.jpg', '627_jpg.rf.e58ea428f31d356d0086f7f4c0edb9de.jpg', '006012_jpg.rf.58b1f82029fec52d5d718ec7baa7d2c9.jpg', '588_jpg.rf.41b1339bcf0dd61de82fed10cd87f2cd.jpg', 'youtube-196_jpg.rf.d8967f9f13b4c3d6fe15fbe1441184c8.jpg', 'image_28_jpg.rf.31a8acf89c15d278a5293e4af7df77a4.jpg', 'IMG_3100_mp4-15_jpg.rf.2c28a52bbdfb4d269bade273922896c0.jpg', 'Movie-on-10-31-22-at-10_08-AM_mov-15_jpg.rf.1d604f33faa22ae8a795623c6b37ae3e.jpg', 'youtube-187_jpg.rf.f79cdc12a3c1e1d17d27c93036518f0a.jpg', 'amz_02354_png_jpg.rf.6f192e3fc3461a07887582a6e44fd46e.jpg', 'youtube-345_jpg.rf.6f2b47989785f4e8d360fb535189ad86.jpg', 'RPReplay_Final1667001201_MP4-334_jpg.rf.650a058b0c97ae4b3a7dc3e91555bdbc.jpg', 'youtube-29_jpg.rf.a16477923a252af01de0a8700dfb5783.jpg', 'construction-999-_jpg.rf.c301fa8a4124813f3e5c544505322f37.jpg', 'construction-4-_mp4-19_jpg.rf.ae9b311efa6de4566e5c8ec20c3718fb.jpg', '005376_jpg.rf.de5b78706607737619faa1ba9ad6cd2e.jpg', '1288788-une-employee-aide-des-voyageurs-en-provenance-de-chine-le-26-janvier-2020-a-l-aeroport-de-roissy_jpg.rf.a988e2e512aa158adc5f82945a436de6.jpg', 'n457047_jpg.rf.d5ac5acbe81846a58350414fc5343b78.jpg', 'youtube-332_jpg.rf.381a86d4a7e17d896fb3923599b89b4a.jpg', 'image_781_jpg.rf.30fe7f898afdb328ed872a9add06817a.jpg', 'construction-1015-_jpg.rf.9e94d76133793a7dfe1aeb00e6ecd373.jpg', 'construction-986-_jpg.rf.431a1941ab76f67268f7681f47f402d3.jpg', 'construction-5-_mp4-161_jpg.rf.5d1e4d5a7f539b2e3c47ec2a8789bfad.jpg', '2008_008753_jpg.rf.953a6b25662d9a832e9ef300e56edce9.jpg', 'construction-2-_mp4-15_jpg.rf.32f738570f4a7f171454c1623720ea61.jpg', 'construction-4-_mp4-89_jpg.rf.b38839d6aa5394c4b939dcb4d54953ab.jpg', 'class2_187_jpg.rf.0d7353521d2c44ca566a10f336cf67d4.jpg', '01235_jpg.rf.888a393865d848ca1fce7fd8c190f3b4.jpg', 'image_575_jpg.rf.77757c5bfd7587c1b437d75122250302.jpg', 'video_CDC-YOUTUBE_mp4-60_jpg.rf.85c79ff93408a87d693176464971b524.jpg', 'youtube-571_jpg.rf.1b4a0e134397858a77534f7fbde4094e.jpg', 'construction-4-_mp4-94_jpg.rf.ed816f287bc4996348f474833197cdc0.jpg', 'construction-763-_jpg.rf.22c7434345e36046b5c018f024f4811a.jpg', 'image_861_jpg.rf.200a7afabef8d142040c9a6bb1d6b2f9.jpg', '01094_jpg.rf.a95df02db342161eb0d886290b8f28b7.jpg', 'construction-434-_jpg.rf.0231dd3ec327871fc54469027144ebd6.jpg', 'londres_023_jpg.rf.b2a8348f8558e67e7e2320318d6d0f5a.jpg', 'RTX7CD4D-e1580252893876_jpg.rf.11077cef10f1b6963612c7f4803018fa.jpg', 'construction-693-_jpg.rf.7d6b68c84e22ddbad80479d689c2e96e.jpg', 'construction-2-_mp4-213_jpg.rf.ef85d2ebc3d99728261d542a76cf2771.jpg', 'maksssksksss795_png_jpg.rf.e0d1ffebd3c883e5f78d371f2b12bb70.jpg', 'Movie-on-10-31-22-at-10_08-AM_mov-14_jpg.rf.a1be1dc990daed465af91ca0a205e591.jpg', 'youtube-564_jpg.rf.e8df3780028df1e34ca0aa9d40a87fb0.jpg', 'maksssksksss710_png_jpg.rf.faeb1cc9ddc4e6c506648fc7324f54d0.jpg', 'IMG_3103_mp4-11_jpg.rf.c1348fe207a4162c9fd2025869a0d744.jpg', 'image_181_jpg.rf.fa33f4492145e16bacd9de0c3b864274.jpg', 'image_498_jpg.rf.76a2ee3fe770f86e7317163422598abf.jpg', '005139_jpg.rf.df5b20b4373e6e301b010eda32f8ea3f.jpg', 'class2_187_jpg.rf.eda6e40cb0d1467695f0698504f48b2e.jpg', 'IMG_5847_jpg.rf.321a7891cd33cfd8e8ae930563660aac.jpg', '2008_008382_jpg.rf.17d1f80e4513c2e3b16de5fbc649828d.jpg', 'youtube-492_jpg.rf.c4f35445e16b54f933dc7f2cd5d0804c.jpg', 'image_302_jpg.rf.f402aef842f77140f9a9b7518e0d10a6.jpg', 'image_475_jpg.rf.a9769a70f9c33b6092d6cf9be6d3ebf3.jpg', '2009_003000_jpg.rf.ff5ff339e78a910b92fdcb62c8c3ce3a.jpg', 'w1240-p16x9-fa978043deff83fed485af12d16e39c61398fc30_jpg.rf.4fe7ae591a404f8654a9f5cff48dc81e.jpg', 'youtube-695_jpg.rf.2dc84311bfc79926ed58ca0b5842faf7.jpg', 'youtube-571_jpg.rf.d380c7fde4b25c50887691ab5d5dcfac.jpg', 'youtube-272_jpg.rf.f3cd5235245d06df97bf23b4b9d4546b.jpg', 'image_153_jpg.rf.6925fe123249e671c0df4092e9fb87a5.jpg', '005139_jpg.rf.d3163480876e9f5a621e25e44ece6db4.jpg', 'construction-872-_jpg.rf.64b854dc31c9900921840c3652d3c449.jpg', 'youtube-554_jpg.rf.96fa687f516ad834ceb539a61eda81f7.jpg', 'Image_1009_jpg.rf.42a85f154507fc3c69facf93bbb1d22b.jpg', 'image_647_jpg.rf.7a4748a4ae0def38e3189b16e872fa45.jpg', 'image_620_jpg.rf.b3b9b3a6188d381d8b98f0f29f8cda3c.jpg', 'IMG_5024_mp4-4_jpg.rf.061f812fe9c60acea6bea51416026e13.jpg', 'Image_991_jpg.rf.bedcfa2a8c7af22e5cf13c894e51bcf5.jpg', 'Industrial-3-Part-Skymaster-insitu_jpg.rf.9228fbc3ed8dbced49fb6e003a31ac91.jpg', 'construction-1-_mp4-64_jpg.rf.58cdc2645314e54e9a12912914ad79a5.jpg', 'youtube-628_jpg.rf.d4e735079e3403aeb4a3c610e664f1f2.jpg', 'ppe_0738_jpg.rf.8bdd2b07822885389235a1076d2f9da4.jpg', '2008_008652_jpg.rf.abbfd744196d5826bb402880b9124526.jpg', '165_jpg.rf.6f14e3bb36293644e2dc07082e4e19ee.jpg', 'RPReplay_Final1667001201_MP4-21_jpg.rf.08e29573ac2164df688205f58ad4f1a0.jpg', 'construction-385-_jpg.rf.9f93c4ac5c55c8d091e71d7820d964c2.jpg', 'image_965_jpg.rf.8b7c66f34e00b05933f757a76493ad84.jpg', 'RPReplay_Final1667001201_MP4-55_jpg.rf.649bf9625a99a02aeb0a3e663316c5fd.jpg', 'construction-855-_jpg.rf.18c0a338f56e727083633e5dcae2aed8.jpg', 'youtube-641_jpg.rf.aa36d0a940f13bcbd69f98d5309960b4.jpg', 'image_302_jpg.rf.fbd0288a0615f960d0513bd83714fde1.jpg', 'youtube-260_jpg.rf.c900a4666030c00529812bae01331790.jpg', 'ppe_0985_jpg.rf.ec086e050c5b5d07c89dd2a1aff563e5.jpg', 'image_191_jpg.rf.3a356d66e9df96dc47b0c2f0d20ebba7.jpg', '1582_jpg.rf.6dc2f84282eecbb00c4c620ae1119d36.jpg', '006858_jpg.rf.01d202a11c3bf4914ee7e1875bf5b8de.jpg', '1582_jpg.rf.484ffee7236baefd3d1e4434f99589b5.jpg', 'ppe_0015_jpg.rf.47f0a91d63f98e6f2c10b37f14dc237c.jpg', 'IMG_5850_jpg.rf.b2f0b8486ed051e5d870f74d9100edbb.jpg', '2008_008444_jpg.rf.9c5a03ccac6c0c594459f9cd336d8114.jpg', 'construction-5-_mp4-96_jpg.rf.ec065525e23bd20e778db05a8cb92042.jpg', '-2297-_png_jpg.rf.202d3429d297ae78245d5fce0f84a81b.jpg', 'youtube-207_jpg.rf.7b6ef224e27e0bd01c3e5cce56f62384.jpg', 'image_418_jpg.rf.cf249e5eac03db2a9bb969ee2acec825.jpg', '2009_004148_jpg.rf.c86d73788f965b515d5f8ecd00031354.jpg', 'image_314_jpg.rf.d9709ed031d36dbf028ef0cfbcd78039.jpg', 'youtube-361_jpg.rf.76dc5c986bb992aa9aade5595df541d8.jpg', '2008_008600_jpg.rf.8ce5b36f0111be922eb20834bfedffcd.jpg', 'youtube-618_jpg.rf.83e038d916e5333f0429bec1775be2e2.jpg', 'IMG_3100_mp4-23_jpg.rf.a80a9fcc61dead23c59fd84753cd5452.jpg', 'youtube-344_jpg.rf.9472f9782daff130af5075a01fbf89f0.jpg', 'construction-507-_jpg.rf.ff1f7ff6c3ee0a5495251801e04151c8.jpg', 'construction-369-_jpg.rf.27b76b8bb58e9f12d60cb654abdbf508.jpg', 'youtube-391_jpg.rf.726b7971a07ba0e39e77b112cb999a6a.jpg', 'IMG_0871_mp4-24_jpg.rf.09f84787b4dc125e5c1c7256d59b01aa.jpg', 'Inside-merge_mov-16_jpg.rf.7497b66a211972c0baaf43831553d347.jpg', 'youtube-407_jpg.rf.c0adbc07fc3666a7ccd6aecfb62e7c9b.jpg', 'youtube-376_jpg.rf.89fe45b8428d34108dc9e4a5f4fe6fed.jpg', 'youtube-362_jpg.rf.1b5f38731953d7d7673c9329e7dcaae8.jpg', 'construction-572-_jpg.rf.13199ba6523ff369244d3cab111637e4.jpg', '931_jpg.rf.56bbe894e27de1944e2f990573228e2f.jpg', 'construction-897-_jpg.rf.030a41f60cc0ce2a5aba9dcdf212890f.jpg', 'image_55_jpg.rf.d928435536170e9a2edb5094f24454ad.jpg', 'youtube-639_jpg.rf.49797bc26a8488409cdeeda6e6b8bae7.jpg', 'image_221_jpg.rf.2b878e437f185500f1226667532f06a9.jpg', 'youtube-682_jpg.rf.2fa20caf1414b1fda785e4ade07a0bd7.jpg', 'youtube-639_jpg.rf.b07c4d496847b86d0e9c241be24f3231.jpg', 'image_757_jpg.rf.61abe73fc97e8ee6c23a1317c898234c.jpg', 'youtube-646_jpg.rf.71fb2940683f013ce350fd3ed47b0ca0.jpg', 'mms_00691_jpg.rf.4a761e77f8d5c433d7a2844e18433b7f.jpg', 'construction-434-_jpg.rf.08f3862f335fb52c0e87c4664d373751.jpg', 'youtube-131_jpg.rf.8a1878f8ac8b76e1dbd8518bf4cf3e77.jpg', 'youtube-242_jpg.rf.02b0e198e3325d86975e9d88e0713486.jpg', 'youtube-221_jpg.rf.5e18725fb664a2515efa4e98dd505891.jpg', 'construction-118-_jpg.rf.7a2b5be851d660f3f995a625cfbede03.jpg', 'youtube-815_jpg.rf.d0a3a41d0f4f9f78660d0a6b84937302.jpg', 'construction-4-_mp4-38_jpg.rf.c2c0e93cbde4fbde7e626a96ecfc03d8.jpg', 'construction-5-_mp4-39_jpg.rf.6c742e62c3f1af3aeeb97ba16bffd3b7.jpg', '-1680-_png_jpg.rf.175b8e375a256e36cbe84985db1d8768.jpg', 'construction-260-_jpg.rf.5dccef746c330ba13c8a3df9c138a1d4.jpg', 'youtube-60_jpg.rf.6096630b9d195556cab35b07a3890d62.jpg', 'RPReplay_Final1667001201_MP4-334_jpg.rf.52a3caeae285d5f7e6da3bbc61c15e2d.jpg', 'IMG_0871_mp4-24_jpg.rf.f9e7803a7755260449de41f00a63c0a0.jpg', '-1670-_png_jpg.rf.b42b26d784545ce1a033679674a4f3e5.jpg', 'IMG_3100_mp4-5_jpg.rf.106b6680fc19438ef3401acccef4e428.jpg', 'construction-4-_mp4-165_jpg.rf.245a89fb6862ed44d8698e334777bc6d.jpg', 'image_181_jpg.rf.c47ea3350fd6f06b42b3fad1db2c2512.jpg', 'image_796_jpg.rf.d4c6712e7edf4b1ea95b346b63a7022b.jpg', 'helmet999595_jpg.rf.3b2175a64b841eb925ff14f9388ca177.jpg', '129_jpg.rf.a68b454b70b3db44e61475f360275f39.jpg', 'ka_00884_png_jpg.rf.cfbcd01afdb3e6274dc39708b04b125d.jpg', 'IMG_3100_mp4-0_jpg.rf.65c9f22c6f564367ff49bc40df833721.jpg', 'youtube-188_jpg.rf.577e87be1f729e28f67a8dbf7734d643.jpg', 'youtube-391_jpg.rf.c61a67d5bceb5f24951ba13f67e75ee9.jpg', 'youtube-849_jpg.rf.f8fbaed0c296cd84d30e1dde5a082b04.jpg', 'helmet999863_jpg.rf.ce83ac1b7c9d2df9a6bff93f6ced0f89.jpg', 'youtube-641_jpg.rf.9bb57cfffa7710f279d94e83dc8911ea.jpg', 'IMG_3100_mp4-0_jpg.rf.5e50d287b0f246cc5f90e0db5ab5ec85.jpg', 'youtube-165_jpg.rf.ead7fd2e172611375922872cafae99cc.jpg', 'IMG_9949-1-_mp4-24_jpg.rf.27201295f6c7e177dea5595dcf07baac.jpg', 'construction-543-_jpg.rf.36a5fb92366cc6bc65b8b2c28f27bdab.jpg', 'construction-4-_mp4-165_jpg.rf.5354cc400c056d38d93601f5e246639a.jpg', '003184_jpg.rf.ddcabf097616516ad576f90948a0ac0f.jpg', 'youtube-25_jpg.rf.0fd299cee2f5cff99543871ec17d935e.jpg', 'IMG_5851_jpg.rf.dd0dba7394062139823bef376062dd24.jpg', 'construction-693-_jpg.rf.5aea33f98fe585818017955a22f50305.jpg', 'IMG_5851_jpg.rf.c06261164b51386e1e8f6019cddd44dc.jpg', 'youtube-568_jpg.rf.264eb80c8dbae12b3e517cc70feffa31.jpg', 'construction-3-_mp4-67_jpg.rf.a10d621dac22f2888b49e1abe9bb5296.jpg', 'youtube-266_jpg.rf.bcfe55fb70ab90bfe1bcc697aab51a27.jpg', 'youtube-395_jpg.rf.569e142fec0c8439b9954ca2ec2b0d7c.jpg', 'youtube-170_jpg.rf.9d3b38f91d03a6107fdcb9b684060252.jpg', 'youtube-506_jpg.rf.f6eb407abb8cd008124e1178d332a64b.jpg', 'image_622_jpg.rf.1e2e707a0352f7c80cc9236ae9161112.jpg', '405_jpg.rf.ae2d82d70c03beca862cf4d2a3f604cf.jpg', 'class2_187_jpg.rf.8d5940916dee2ba1633831c2b993ba0c.jpg', 'fnacc_corridor_jpg.rf.e3e6e90eff2980c874604d993ae05c8f.jpg', 'image_246_jpg.rf.a68c648c98fdb41086ba79ce0ab91e85.jpg', '005577_jpg.rf.fef11b597712c48f52d5887ff414097d.jpg', 'construction-2-_mp4-12_jpg.rf.a7130b65bcfb458bd586a07b24ecf2ae.jpg', '2009_000379_jpg.rf.fc46b82ce969c13ab1d3423c5e813105.jpg', 'image_28_jpg.rf.1d1a1b4744f28cfff8a364f0ef451f06.jpg', 'image_39_jpg.rf.b606c22a8844817f93703d9220a79a26.jpg', 'youtube-344_jpg.rf.86d332d55a3bc8381c851f1386fdd010.jpg', 'youtube-266_jpg.rf.170d1fe1b1ac1abe806b47f7a47c1211.jpg', 'construction-547-_jpg.rf.a5de127a542ce69a5a53d96be88fd539.jpg', 'youtube-10_jpg.rf.3473cf1a8ce431126a38d48853c10368.jpg', 'Movie-on-10-31-22-at-10_08-AM_mov-3_jpg.rf.91fa5986eb374f2552a7aec70309a4c0.jpg', 'construction-4-_mp4-188_jpg.rf.74d1b2d1747d25f44bf4d2c8f1fee247.jpg', 'image_153_jpg.rf.fa761a0845e52a919718ca77ce2eff2a.jpg', 'construction-1-_mp4-64_jpg.rf.01c975a86e82e9384e40a40f5d0bece4.jpg', 'youtube-60_jpg.rf.96ec79cd34674cef3b35219b90d9f753.jpg', '2008_008629_jpg.rf.73412855b479071b5aa4da5c592b92f9.jpg', 'construction-572-_jpg.rf.5c5fb0a8084cb050b133d0dec66f360e.jpg', 'youtube-651_jpg.rf.ec7ce870bc5764294823e6efcf71af20.jpg', 'youtube-459_jpg.rf.7197e47830c027d29c81a960ce19d7c7.jpg', 'hqdefault_jpg.rf.c372926225dba8658d9a64186b850eed.jpg', '627_jpg.rf.1b053bc38bc4bb2037225b6bf402e93e.jpg', 'IMG_3100_mp4-17_jpg.rf.12d9b740632bc47db175529b4c6acfec.jpg', 'construction-5-_mp4-48_jpg.rf.869646c7e34f2451c66b6d9487b68281.jpg', 'image_986_jpg.rf.1d20afe31eac06733cd7ffe3df169a4d.jpg', 'construction-267-_jpg.rf.5c65fe4e77d4493d6788f644468d3939.jpg', 'image_13_jpg.rf.051365a51cf994673c641432a3edee86.jpg', '01094_jpg.rf.15d2452cfbd2f25016ddb1bb90f0e19a.jpg', 'youtube-64_jpg.rf.e8ae1f94e6832d22568206d85471cbd9.jpg', 'Mask2_mov-44_jpg.rf.efe33691399bb1db064665e6f1d61bc1.jpg', 'w1240-p16x9-fa978043deff83fed485af12d16e39c61398fc30_jpg.rf.94b38eda22e01dadf9abc84c3fb975e7.jpg', 'IMG_0871_mp4-20_jpg.rf.b380f084461b5d0e7e745df6ca7c5313.jpg', 'w1240-p16x9-fa978043deff83fed485af12d16e39c61398fc30_jpg.rf.b4efe0e35dffd0652848516363213181.jpg', 'youtube-360_jpg.rf.151b68e0476e17421d107ddd2ad07127.jpg', '2008_008629_jpg.rf.e6001817254342b9aa367260e7013eab.jpg', 'youtube-344_jpg.rf.ff80ed7ecff2504eedbdfdb055c612ca.jpg', 'image_170_jpg.rf.2be45261d9b8c9e3ad48f1d5992a81e0.jpg', 'youtube-815_jpg.rf.6360a43cbf621b65d132b0b2ed706a75.jpg', 'RPReplay_Final1667001201_MP4-79_jpg.rf.9f5c8a5244382d17fe658ee89e56198a.jpg', 'IMG_0871_mp4-5_jpg.rf.b4cab1e1d0da03a20276493660d6114a.jpg', 'youtube-730_jpg.rf.16f81e031aa23796cb9714201fe841c8.jpg', 'youtube-44_jpg.rf.351f8c18ae37da178142849149686102.jpg', '1288788-une-employee-aide-des-voyageurs-en-provenance-de-chine-le-26-janvier-2020-a-l-aeroport-de-roissy_jpg.rf.93dd6595c9b6f435a03af2e09588744c.jpg', 'Movie-on-10-31-22-at-10_08-AM_mov-9_jpg.rf.2a1e55d85705b51a447540055a38ab75.jpg', 'image_241_jpg.rf.c2f08574bd8aa86dd1987a8ad991120d.jpg', 'Movie-on-10-31-22-at-10_08-AM_mov-14_jpg.rf.68a9069434b346382290a1134d3b52fd.jpg', 'construction-1-_mp4-60_jpg.rf.0ac7cc2f1ec94df3110191b40c42d32d.jpg', '-3394-_png_jpg.rf.a0f81aeb67bec81f0a77c518490205bc.jpg', 'image_95_jpg.rf.fad09fd7dd1ab70d9ffd27d37272f21c.jpg', 'youtube-435_jpg.rf.cbe965d635b486b4ad5d720d81660470.jpg', 'construction-3-_mp4-166_jpg.rf.df613bc7b9e5c9efeaf51be152012acd.jpg', 'IMG_0871_mp4-21_jpg.rf.f59f6ed232997892729b7bf27dbe0288.jpg', 'image_255_jpg.rf.ff0491219f776632d3ef7fd16ea9abf8.jpg', 'amz_01638_png_jpg.rf.2d3765b15e87cfb801569c6c91fba87a.jpg', 'youtube-210_jpg.rf.12b470e1de5ec9374cafd5d827da6fa6.jpg', 'image_829_jpg.rf.420038a253fd4309e6030e78be9590f5.jpg', 'youtube-554_jpg.rf.12abc545630972a6e272892494a59dcc.jpg', 'IMG_3103_mp4-1_jpg.rf.ad3568fd357eca826288b3a5988b1bc1.jpg', '2009_002883_jpg.rf.41f48cf928eb3adba9c69e73c5b81e94.jpg', 'IMG_0871_mp4-20_jpg.rf.338c2221006e74ae9139dcd7122b8ccf.jpg', 'youtube-812_jpg.rf.0856e633437c9d132a0acd414754619d.jpg', 'youtube-571_jpg.rf.9754f45af694d7838cef0e816190018d.jpg', 'youtube-486_jpg.rf.8c3ddcbf72ab2e3904465d37481131ae.jpg', 'construction-260-_jpg.rf.38b8a94a8fa7cd221af96410e046c7af.jpg', 'youtube-699_jpg.rf.ced94dd4765a8ff9fe60e7648179fb6d.jpg', 'construction-693-_jpg.rf.4cfbce6acfa32bcc3647cbb9eb6e4f45.jpg', 'construction-2-_mp4-210_jpg.rf.543e9db42a9c233df4eeb6816dfcbe74.jpg', 'Mask2_mov-44_jpg.rf.d4c35b8d62aefaf6f62f60c0a34a84aa.jpg', 'youtube-188_jpg.rf.0cbf49b4f6fc57e16533b0e065f7cbc8.jpg', 'construction-821-_jpg.rf.95240607a312071bac88e151ac7950c4.jpg', 'construction-1116-_jpg.rf.89204e926b55ec2da9541d47c0b88309.jpg', 'Movie-on-10-31-22-at-10_08-AM_mov-10_jpg.rf.f35004a03b5e89ec62256990ce533e87.jpg', 'class2_093_jpg.rf.dd61b48eee287a645c064dba6e207f5f.jpg', '2008_008629_jpg.rf.b1befa29d2154ce889608dac6a5a86b0.jpg', 'construction-813-_jpg.rf.b085952261fd98f2e76b8065de149b5f.jpg', 'IMG_3103_mp4-11_jpg.rf.68475305e60c164a081b563977e04db8.jpg', 'IMG_5850_jpg.rf.f23e8a7be47b7adb26b92f5646fd996b.jpg', 'youtube-534_jpg.rf.c77f4a8414ddf20fc782db49ce4ce80f.jpg', 'airport_inside_0550_jpg.rf.1288f7c63eed908dac7b6ba24c868ad8.jpg', 'youtube-695_jpg.rf.e202bb814b78eea581ee382e8db90676.jpg', 'construction-385-_jpg.rf.86125480d75900ef929e72158f67bc92.jpg', 'image_23_jpg.rf.9ff1ffb8e92dbbe9e7f46de47d4a4562.jpg', '006858_jpg.rf.c94da6aa210f1738a87f3525da7b5985.jpg', 'IMG_3100_mp4-5_jpg.rf.9154c57141bf7eb34f5fcce5b2dcef6e.jpg', 'youtube-855_jpg.rf.ca4e205a81e38caeee1ae4bfce760904.jpg', '001425_jpg.rf.02937146b9b48ec81a3c3cf7f0d4d50e.jpg', '60_jpg.rf.0641313d1b5ddfbf24f89aad0d2326cc.jpg', 'youtube-813_jpg.rf.430a808da28c9d5e38dae40ae8db9863.jpg', 'IMG_3094_mp4-45_jpg.rf.c9ee577e1a6320f80e711a2d62a71ef0.jpg', 'youtube-235_jpg.rf.7f563a11c15ff20d1b5ffb5caa9aa060.jpg', 'construction-1-_mp4-115_jpg.rf.7afe87b728c11bfa2d6616ef75081e4c.jpg', 'construction-3-_mp4-162_jpg.rf.fcc17856f133926e2b49c657efcd48be.jpg', 'construction-3-_mp4-67_jpg.rf.898b193561a91c94889cce6a30bcc4f2.jpg', 'Bookstore111_jpg.rf.6bfc21fc307442d1983f046eb88cf76a.jpg', 'youtube-506_jpg.rf.65ef5b727b126d184a659049ddc959c0.jpg', 'youtube-492_jpg.rf.f22a252f10919a0b3bea48d912d5075d.jpg', 'mask-wearing-1632933572733_png_jpg.rf.283266235dfab0e959aaf3f33253a640.jpg', 'airport_inside_0363_jpg.rf.2bd76491393097e118e12be3c9ff93cf.jpg', 'youtube-295_jpg.rf.6e615d6498ce08c4a73bde83d5a55a89.jpg', 'youtube-234_jpg.rf.7ef1837f9909e7f0472f118282c28a7e.jpg', '2009_003000_jpg.rf.6c5dc02b545928f15ee53c3ecbbe5fb4.jpg', 'youtube-303_jpg.rf.7469c1585f0d7a16acde5814ca5950db.jpg', 'construction-212-_jpg.rf.276f0a7fdf6fca4c0c75a1d69c095c28.jpg', 'IMG_9949-1-_mp4-63_jpg.rf.d8a5f7b498a085df51dcb6dbdd374b93.jpg', 'image_50_jpg.rf.f32caa356378aa62bfc8a723e57d0f67.jpg', 'w1240-p16x9-fa978043deff83fed485af12d16e39c61398fc30_jpg.rf.8de47b1c3023956723e65745b86b63f2.jpg', 'youtube-134_jpg.rf.c0cdd4265a0d7f7d83a7674ccd8830ba.jpg', 'youtube-25_jpg.rf.c1935205aef4196ed125487d5ba2b8e8.jpg', 'youtube-29_jpg.rf.0298ab1201345e2fe8afd06c0c7ca2c9.jpg', 'construction-1-_mp4-46_jpg.rf.0fca56e42cb2e4474ea760ad23a71d1f.jpg', 'airport_inside_0345_jpg.rf.e375bc7d5296cdb0c4f51f90c51c4b74.jpg', 'airport_inside_0449_jpg.rf.35c19793e0cb4175859e5ad6831d2fce.jpg', '1582_jpg.rf.80ca40b216072d7fbf6a8a2f4e84ed7f.jpg', 'Movie-on-10-31-22-at-10_08-AM_mov-9_jpg.rf.4f9f4bd5d2f73c4ae0b875be6c783250.jpg', '-1975-_png_jpg.rf.d6c068e0d3eebc3b8e002413529c5e84.jpg']\n",
            "Valid images directory contents: ['soooo_jpg.rf.5980d39f656b4d62672d2164173455e3.jpg', 'youtube-367_jpg.rf.fab8b016cb63c0928f40849db44ee98d.jpg', '644_jpg.rf.39197521b9addbcfa9d3620d85004e2d.jpg', 'youtube-255_jpg.rf.c5a9f8ed208cb72e1a700ba52dc2fdfa.jpg', 'hospital-corridor_jpg.rf.bbac7f39a08bac2b0363ee9682bd86b2.jpg', 'mms_00684_jpg.rf.47567bbd99db89023296aad0b965ff02.jpg', 'Movie-on-10-31-22-at-10_08-AM_mov-13_jpg.rf.91dc3b79da617fb2e4321f27f48f21f4.jpg', 'Mask2_mov-15_jpg.rf.026bd9a95154b1ead451a722a25ed130.jpg', 'Mask2_mov-11_jpg.rf.34ddcb1a619624541a2cca4400b7cd92.jpg', 'youtube-405_jpg.rf.6d1fc463659ac0d8e735bc1e731086a0.jpg', 'youtube-476_jpg.rf.3744f21a7b74ea642bbcbc8251659001.jpg', 'youtube-194_jpg.rf.601da70a10e87c30c693ffbee53b17a7.jpg', 'youtube-70_jpg.rf.2d5f69c78f062dfc572ccb6ce6bc3c9b.jpg', 'ppe_0665_jpg.rf.1dad479f7f54b2a7127cf18ef74ffd85.jpg', 'youtube-697_jpg.rf.950b34f23e196850ec51a4add2eeb840.jpg', '518_jpg.rf.73999663994434126ac8b7ac5dbe6b52.jpg', 'youtube-416_jpg.rf.8b5d7c27337f84a1cd2b3e8b7c6435a7.jpg', '4_jpg.rf.a937c41e1fc4d92e9e1f8c2d9efeb87d.jpg', 'youtube-200_jpg.rf.2c8aaf9fb58df4a3af442c293217d0c5.jpg', 'class1_077_jpg.rf.84c3583c1866262daeb1618b80e18df9.jpg', 'airport_inside_0090_jpg.rf.663e21100a3c4bc66a41cceba5403e51.jpg', '2009_003991_jpg.rf.c4fadb57b5579062cd4db5463ec3ba74.jpg', '-211-_png_jpg.rf.eac228e3993f9027795b6400262811e7.jpg', 'construction-3-_mp4-21_jpg.rf.4fc9ff5afc8387b5c673a424781c527c.jpg', 'construction-1-_mp4-147_jpg.rf.a9062a80b06ac796f7afb269e5f18c53.jpg', 'youtube-399_jpg.rf.3472ef7c01bb9092da48f0d562581121.jpg', 'IMG_5024_mp4-8_jpg.rf.6b626854d6228eab4c341ddd5f8b5e46.jpg', 'IMG_3094_mp4-3_jpg.rf.65429c37fcf92b2ba8cfc9d2180051ef.jpg', 'IMG_3103_mp4-8_jpg.rf.d54ebee33e6fd97c282258aabc1e52d7.jpg', 'airport_inside_0115_jpg.rf.8277ce4e71886a343bfdb10ce7fb6d4a.jpg', 'youtube-232_jpg.rf.f92f310106a11e01495ce8bfae0f9b5a.jpg', '2009_000461_jpg.rf.43a28e2d6f1f9d399c92e18ccc9f0bf1.jpg', 'Movie-on-10-31-22-at-10_08-AM_mov-22_jpg.rf.a02b881bb190fa4a30026a648d13d278.jpg', 'IMG_3100_mp4-3_jpg.rf.f05ef399880b1ac30e900df4f2fbb3c0.jpg', 'IMG_3103_mp4-17_jpg.rf.3223d405c1b3657aa54e170e32c8fe52.jpg', 'autox4_mp4-72_jpg.rf.5e9c1836f027bf40eb8898e68f2efdeb.jpg', 'construction-274-_jpg.rf.21181010ffb2b9ea429080ccd258e3ae.jpg', 'youtube-446_jpg.rf.b9d9b80538b79252761946ece0bc6317.jpg', '1125_jpg.rf.2958d0a57630bdde8c3b5c6c560152af.jpg', 'youtube-308_jpg.rf.790ae393e769f8e6280734b7506523ab.jpg', 'IMG_9949-1-_mp4-20_jpg.rf.6ff2adfaf91058088d86084475d4d575.jpg', 'youtube-470_jpg.rf.6aebf4cfb6c5a7e703c6532ca5090517.jpg', 'RPReplay_Final1667001201_MP4-454_jpg.rf.74024a799f518f9a6314ed301827eb1b.jpg', 'residential_jpg.rf.17181770c64333009b9101e1572c5112.jpg', '-3766-_png_jpg.rf.81ead992d4b8047ec7beb28b7532cf0a.jpg', 'MariusConePic31_png_jpg.rf.1fd6fccfeef580e0e0061d78d5a248a4.jpg', 'youtube-226_jpg.rf.e6dcacf16dc2dbcfd29f6705b7c1a224.jpg', 'ppe_0355_jpg.rf.508753d5b708536eca53de192b927c61.jpg', 'construction-711-_jpg.rf.50a19be8c0ae3cd1a82cd543a9bb6a14.jpg', 'IMG_3100_mp4-1_jpg.rf.7b4a6df995ec2702dee6e7f8c5b47e14.jpg', 'youtube-617_jpg.rf.309ef116f1d9074886d61bb0816b6b9e.jpg', '004424_jpg.rf.0470713b945b08839105cde711db62d9.jpg', 'youtube-487_jpg.rf.5f1c67ece433c16da8ed3c9200ef4b5f.jpg', '172_jpg.rf.9385682a04a12b6043a2ea893d1f319a.jpg', 'ppe_1228_jpg.rf.29b714c415ea74df3160f56a603463a0.jpg', '2009_000277_jpg.rf.baccd85360fb8011e7c303066ceac286.jpg', '-3154-_png_jpg.rf.f118da2b1c20afb78ff93dc7d558f42c.jpg', 'youtube-267_jpg.rf.acd9b5f407f573eaa830029418345ad3.jpg', 'youtube-391_jpg.rf.2744ad86e8dbd4366f1fa839accc48b3.jpg', 'youtube-584_jpg.rf.3136186a0786384c1ffc261f4d40ea42.jpg', 'construction-1037-_jpg.rf.c44151f7f28c4da9757409953b1bff55.jpg', 'IMG_3103_mp4-16_jpg.rf.d31a50c14cb25c823066fe63793f7792.jpg', 'youtube-118_jpg.rf.9dc8b46dfbac73d9e4f983964355d7ac.jpg', 'construction-1114-_jpg.rf.69b25d38992eb6da67701a614f0a3f97.jpg', 'youtube-260_jpg.rf.76ba0c9fa66318daee5bea72b83b4cc5.jpg', 'youtube-287_jpg.rf.c9a7d5b17f75d0c9ed62ad4127141aa2.jpg', 'youtube-342_jpg.rf.d7e55a17800f8d87313d7b6f33256ea9.jpg', 'Movie-on-10-31-22-at-10_08-AM_mov-6_jpg.rf.344372295a53aaf103587c9714ec98f7.jpg', '00596_jpg.rf.d030c5d98b937d080d75db1c1b269a84.jpg', 'youtube-836_jpg.rf.df6fc9e569e7b6b850ecb75c37781d10.jpg', 'construction-277-_jpg.rf.bf73a4edc7a1f7d412bc3267cbafcda7.jpg', '-1989-_png_jpg.rf.8cb3d6087bb86d08e693b4250fbf96e3.jpg', 'IMG_3093_mp4-22_jpg.rf.ea118a6046b21e9246efd53599dfdc41.jpg', '-1079-_png_jpg.rf.19092a3937930012f9fd9c1ce57f5a7b.jpg', 'video_CDC-YOUTUBE_mp4-42_jpg.rf.bbc5cf2369c54126f61f0b1f71f77d8d.jpg', '005559_jpg.rf.5a5ab91289de227b286efca4418ff73d.jpg', 'construction-3-_mp4-219_jpg.rf.416dbf917b54d5895e2430fa0d6f1b66.jpg', 'IMG_3103_mp4-18_jpg.rf.39e564f01ba6048fc34853e99f3de11b.jpg', 'youtube-804_jpg.rf.c4250b3c54e1cca8d58622970882f60a.jpg', 'autox3_mp4-78_jpg.rf.dc5c00104c4cf733c2c06c820b82d338.jpg', 'img_08_jpg.rf.0f132a9c7ca6d12a8a9d1c4b3dbd54da.jpg', 'youtube-392_jpg.rf.7e49e3a8486caaa4e9d82246de93e68e.jpg', '-1969-_png_jpg.rf.41dd58ed3ae83df95fb2417c679d581f.jpg', 'IMG_4921-2_mp4-122_jpg.rf.d27a983b805c273486c09e20f65a5a6b.jpg', 'youtube-51_jpg.rf.083f4487f9a468d9ff42aa13953f377a.jpg', 'youtube-179_jpg.rf.bab3fbda351095d3b9aaba8007e3aa87.jpg', 'construction-2-_mp4-38_jpg.rf.0bb63aba0a9ebe5a4741a6207e2e1902.jpg', 'class1_267_jpg.rf.ab7a08d97aba5b0748e976df6e65700a.jpg', 'casino_0448_jpg.rf.090df4137a5926092c541ee5c6918868.jpg', 'youtube-540_jpg.rf.b229e14d526db6e53965f59e6146cf15.jpg', 'construction-1023-_jpg.rf.7b73352606fb1d79619d34031c07a232.jpg', 'class1_206_jpg.rf.3988ff665e55e1cd9dbcd22c87be73d9.jpg', '681_jpg.rf.7a0a7ef78f7dc01872cc3130dc3b354e.jpg', 'YouTube_FreeStockFootage_People-wearing-face-mask_Empty-Street_Covid19-D_DbgrvhlGs-720p_mp4-66_jpg.rf.72af13fb1f20520e0d41547037ced88b.jpg', 'youtube-727_jpg.rf.cb4c039b4ffea84835e67e2e3d2edf6e.jpg', '2009_004100_jpg.rf.6eb0dc058fc0d307a6b0f7f579945e24.jpg', 'youtube-619_jpg.rf.93749f0e33b2f7beb302dd2e176d768a.jpg', 'youtube-226_jpg.rf.dd9d045ca17155289bcebe722e8a86e9.jpg', 'youtube-455_jpg.rf.35acd2e91608806a26f3ac4e784ea512.jpg', 'autox4_mp4-63_jpg.rf.b0fab4fd2c947536a122d6f2e7cca895.jpg', 'construction-4-_mp4-20_jpg.rf.cb627b855fa08d83357febb83f6ad4bc.jpg', 'youtube-504_jpg.rf.23771986686856ac7d350cea84ddf611.jpg', 'construction-1027-_jpg.rf.e78f55761814a8726ea51993407957af.jpg', 'construction-2-_mp4-149_jpg.rf.c6d3939d4743a346de668a0ae05accbc.jpg', '972_jpg.rf.4c6fac866e4928f3da7591fd2c26c2ac.jpg', '02646_jpg.rf.5c93ba95bdc03808bcf872c7218ac5ef.jpg', '2009_002778_jpg.rf.7c8977ed190a2ce4211ef58f66864066.jpg', 'construction-9-_jpg.rf.c2af6f04317b1ea7d6e2a84d776788a2.jpg', 'construction-196-_jpg.rf.f593da25134315b48b325fb42436a01a.jpg', 'construction-823-_jpg.rf.640d8abfc7c7689d4a19e6aa00ac8984.jpg', 'youtube-277_jpg.rf.1bda1581c28b4f6cccd5eda6b23b94ee.jpg', 'ppe_0064_jpg.rf.f019b082d09af2750a81ef5ea3fcbc3e.jpg', '-1429-_png_jpg.rf.78a7894e86c79d018d80fa86f4d000f8.jpg', 'shakespearebookshop_jpg.rf.9a14dbfdd07d9a0cc916cffef0194245.jpg']\n",
            "Test images directory contents: ['youtube-198_jpg.rf.e89faeb9765c6bd6cece5434d140f4af.jpg', '-4405-_png_jpg.rf.82b5c10b2acd1cfaa24259ada8e599fe.jpg', 'class1_150_jpg.rf.5995dce34d38deb9eb0b6e36cae78f17.jpg', 'construction-639-_jpg.rf.7db2168ad99f643f7e3070733387e3bb.jpg', 'youtube-738_jpg.rf.6f300b76e12b325f7c373c95ef319005.jpg', 'youtube-192_jpg.rf.93bea040de8cd55f34ffb12f6ffe30b1.jpg', 'IMG_0871_mp4-23_jpg.rf.03f872b1ed87ad7fadc85e09475ad37a.jpg', 'Movie-on-10-31-22-at-10_08-AM_mov-24_jpg.rf.c50014f3510a484e5bd565460fd0fd5c.jpg', 'IMG_5846_jpg.rf.0b9984069116e2acd928568eb7a8e214.jpg', 'youtube-840_jpg.rf.974a83a7c5aee7c16e83435b043c6d96.jpg', 'youtube-186_jpg.rf.1f1d93447d4be3233c22c4ce9f6e0601.jpg', '2009_000496_jpg.rf.9a2d210fe0f5ea4b572aeb07e41ecbae.jpg', '003357_jpg.rf.9867f91e88089bb68dc95947d5116d14.jpg', 'autox3_mp4-187_jpg.rf.8340e2bd65afade3fb0d3194eadc5796.jpg', 'construction-675-_jpg.rf.bb4a05441be707256175e04929da3478.jpg', 'construction-651-_jpg.rf.8fa283ce7693dbdf29eb98384f24cb85.jpg', 'youtube-510_jpg.rf.62f82e36d134d53587edb48f291986f4.jpg', 'image_53_jpg.rf.3446e366b5d4d905a32e1aedc8fe87de.jpg', 'youtube-108_jpg.rf.9dc7ed5f816f07d520f3dbfaad08d40f.jpg', 'youtube-237_jpg.rf.d07a927721fe259757237c3706ea22e5.jpg', 'Inside-merge_mov-58_jpg.rf.50147e19cb655e74c2df0047113e82b2.jpg', 'youtube-596_jpg.rf.11a8a4ac01d8aadb80eeb0406dfa579a.jpg', 'youtube-263_jpg.rf.374e343e12ead395440dbd81417e1be9.jpg', 'youtube-263_jpg.rf.bb17b89dd2ec9a090ce53b728f48865e.jpg', 'construction-1159-_jpg.rf.9f3172102a34edb157b556a73931c831.jpg', '2009_000059_jpg.rf.50e8398a37eb33f33fd9f662feeea083.jpg', '004063_jpg.rf.1b7cdc4035bcb24ef69b8798b444053e.jpg', 'youtube-53_jpg.rf.e96f8f81389f4e63a79663095680a617.jpg', '777_jpg.rf.92dc6945342410ced7ac93f3dfbff0c5.jpg', 'class2_131_jpg.rf.ad8314a9273471f1280ce8789ea75376.jpg', 'thumbnail-ba5c72edb320b49a69e86b05775c49b2-scaled-1_jpeg_jpg.rf.3bb460e284098219861b894fb0db13d5.jpg', 'Bookstore_More_Merchandise_jpg.rf.7ab5add3e28ced74f9b316e794cc04d2.jpg', 'IMG_0871_MOV-12_jpg.rf.36858a9d51613f9a39b7855b54dfa098.jpg', 'ppe_1073_jpg.rf.72ea8a293a4f3e1135219e33701b1099.jpg', 'autox3_mp4-277_jpg.rf.a5ed8fd043fe7e1d8682768880b6d4db.jpg', '0_jpg.rf.2ff49f74309118f169e07aa12564df87.jpg', 'youtube-472_jpg.rf.e9425ff40c0df2beeef70abbc2324956.jpg', 'youtube-631_jpg.rf.7c6ecf859c1b0a659f8ea057ad27aebd.jpg', 'ka_01181_png_jpg.rf.154ee4ef254eabd62e316be50470c578.jpg', 'IMG_3100_mp4-12_jpg.rf.58849ca6a931c2cfe1b17fb4206d9d82.jpg', '000005_jpg.rf.96e9379ccae638140c4a90fc4b700a2b.jpg', 'construction-800-_jpg.rf.a01fcddd0db9cc89c0cacf4af88c468d.jpg', 'youtube-253_jpg.rf.5ad0a2d701e20141940508b809584856.jpg', 'youtube-496_jpg.rf.def4e9964e9a354d0a02f4ac14334a73.jpg', '004763_jpg.rf.46484e6ca73caeaa9de45822cf1085a9.jpg', 'bookstore_44_08_flickr_jpg.rf.244b6f308c529933af798c4063e58601.jpg', 'youtube-34_jpg.rf.03eacc444bae3c5caa3fef5c736c3e40.jpg', 'youtube-388_jpg.rf.18caa1da4f818a65f73e48463cb2270e.jpg', 'NX_img_177_jpg.rf.c03709e5fadfe2109411f05a9e9bc25f.jpg', 'construction-597-_jpg.rf.e18e918aae0aeecfdf8348513636d344.jpg', 'construction-192-_jpg.rf.56dd5c4c1396c6ad01be4fbec3bca46f.jpg', 'youtube-126_jpg.rf.786824e90daf3276130ca73ca610a8da.jpg', '006463_jpg.rf.02f19082420ecc5537b9d59abbe6050c.jpg', 'maksssksksss17_png_jpg.rf.f685b497756b1facbf3d4c2d2d22c0d2.jpg', 'IMG_3100_mp4-9_jpg.rf.413ccf5fe4a7ee67f71e07c2c43b6756.jpg', 'autox_mp4-44_jpg.rf.5048603ee6ccedf9ae6e3f787b7f82ff.jpg', 'class2_145_jpg.rf.b8ed5a5357ee41f8fb1aa9b01a400d51.jpg', 'youtube-671_jpg.rf.7b08643d6754cabe6caf2b49a963de47.jpg', '006672_jpg.rf.87d5978c486feb53177408cf00a0d87f.jpg', '2008_008320_jpg.rf.bd34011d46f82f9410d95f00e560b8ea.jpg', 'autox3_mp4-65_jpg.rf.d933ce48947fa9bdb55dc702a0879ac9.jpg', 'ppe_0018_jpg.rf.be66fabcc8627f60d963454b5a227095.jpg', 'librairie_51_jpg.rf.56b0500ae2ad3820b4286133b627e59c.jpg', 'construction-2-_mp4-162_jpg.rf.efad5f15524c736fe03b9c9936adc481.jpg', 'construction-275-_jpg.rf.e1c57987f9dc262aad1d7c67b694fd87.jpg', 'construction-2-_mp4-84_jpg.rf.e8d6bb0acc5c6e82c1a2d260ddf3135e.jpg', 'youtube-152_jpg.rf.9147878e3ddda845e58f7d9c041f1338.jpg', 'youtube-114_jpg.rf.5e02b6574ace1f4b3689befbc5051cd0.jpg', 'image_55_jpg.rf.27ae4341a9b9647d73a8929ff7a22369.jpg', '3e7e40981ddd4cdb055c7ffe4c2af5d8_jpg.rf.bac50dc18195e9aeb6f3a21782a3efcb.jpg', 'youtube-471_jpg.rf.4296b7bd9a5a07753077beddbcd651bf.jpg', 'youtube-213_jpg.rf.da70b1d8cefd3cc9d56e43bb88dfb67d.jpg', '002551_jpg.rf.ce4b9f934161faa72c80dc6898d37b2d.jpg', 'Image36_jpg.rf.8704f3450f736cdd01a61dcee588f2c2.jpg', 'IMG_3103_mp4-9_jpg.rf.b31bd2d816465a27aa1eb072f90bb5aa.jpg', 'youtube-462_jpg.rf.df73aa5089a04b8fbf3adf9d614a6740.jpg', 'Movie-on-10-31-22-at-10_08-AM_mov-20_jpg.rf.aea4278b41550cdb75df5891a26052e7.jpg', 'IMG_0871_mp4-11_jpg.rf.432092b53ebeb84f4b9b27b40343c9aa.jpg', 'construction-2-_mp4-13_jpg.rf.cef0975976346515d438e0c2ce6c59db.jpg', '2008_008519_jpg.rf.1798c8eed7de04399a0e7e297b4b4c9e.jpg', 'RPReplay_Final1667001201_MP4-100_jpg.rf.9a1b50c4301c53b3ae534c6353337df9.jpg', 'construction-843-_jpg.rf.c0ca85a10f6ad3c1375b37e52a51eeed.jpg']\n"
          ]
        }
      ]
    },
    {
      "cell_type": "markdown",
      "source": [
        "# IMPORT STATEMENTS"
      ],
      "metadata": {
        "id": "U9oqhTgNno69"
      }
    },
    {
      "cell_type": "code",
      "source": [
        "import tensorflow as tf\n",
        "from tensorflow.keras.preprocessing.image import ImageDataGenerator\n",
        "import os\n",
        "import zipfile\n",
        "from tensorflow.keras import layers, models, regularizers\n",
        "from tensorflow.keras.applications import MobileNetV2\n",
        "import shutil"
      ],
      "metadata": {
        "id": "By074VixdfM0"
      },
      "execution_count": 10,
      "outputs": []
    },
    {
      "cell_type": "code",
      "source": [
        "import os\n",
        "\n",
        "# Check the contents of 'css-data' directory\n",
        "os.listdir('/content/construction_site_dataset/css-data')"
      ],
      "metadata": {
        "id": "KM3_FiBkeA7J",
        "colab": {
          "base_uri": "https://localhost:8080/"
        },
        "outputId": "3d7618b2-02e0-423c-f0d5-38586e0a6355"
      },
      "execution_count": 11,
      "outputs": [
        {
          "output_type": "execute_result",
          "data": {
            "text/plain": [
              "['train', 'README.roboflow.txt', 'valid', 'test', 'README.dataset.txt']"
            ]
          },
          "metadata": {},
          "execution_count": 11
        }
      ]
    },
    {
      "cell_type": "code",
      "source": [
        "train_dir = '/content/construction_site_dataset/css-data/train'\n",
        "valid_dir = '/content/construction_site_dataset/css-data/valid'\n",
        "test_dir = '/content/construction_site_dataset/css-data/test'\n"
      ],
      "metadata": {
        "id": "KffsOKCieTCq"
      },
      "execution_count": 12,
      "outputs": []
    },
    {
      "cell_type": "markdown",
      "source": [
        "# AUGMENT DATA"
      ],
      "metadata": {
        "id": "ZYJcHSsjed7T"
      }
    },
    {
      "cell_type": "code",
      "source": [
        "from tensorflow.keras.preprocessing.image import ImageDataGenerator\n",
        "\n",
        "# Set up data augmentation for the training set\n",
        "train_datagen = ImageDataGenerator(\n",
        "    rescale=1.0/255.0,   # Normalize pixel values to [0, 1]\n",
        "    rotation_range=40,   # Random rotation\n",
        "    width_shift_range=0.2,  # Random width shift\n",
        "    height_shift_range=0.2,  # Random height shift\n",
        "    shear_range=0.2,     # Shear transformation\n",
        "    zoom_range=0.2,      # Zoom\n",
        "    horizontal_flip=True,  # Flip images horizontally\n",
        "    fill_mode='nearest'    # Fill in missing pixels after transformations\n",
        ")\n",
        "\n",
        "# Only rescale validation images\n",
        "valid_datagen = ImageDataGenerator(rescale=1.0/255.0)\n"
      ],
      "metadata": {
        "id": "0PqJTeFUeVAy"
      },
      "execution_count": 13,
      "outputs": []
    },
    {
      "cell_type": "markdown",
      "source": [
        "# LOAD DATA"
      ],
      "metadata": {
        "id": "PGVr_0XUea5E"
      }
    },
    {
      "cell_type": "code",
      "source": [
        "# Load training and validation datasets\n",
        "train_dataset = train_datagen.flow_from_directory(\n",
        "    train_dir,\n",
        "    target_size=(224, 224),  # Resize to match MobileNetV2's input size\n",
        "    batch_size=32,\n",
        "    class_mode='binary'  # 'binary' for binary classification, adjust if needed\n",
        ")\n",
        "\n",
        "valid_dataset = valid_datagen.flow_from_directory(\n",
        "    valid_dir,\n",
        "    target_size=(224, 224),\n",
        "    batch_size=32,\n",
        "    class_mode='binary'\n",
        ")\n"
      ],
      "metadata": {
        "id": "H5nB_euceXcS",
        "colab": {
          "base_uri": "https://localhost:8080/"
        },
        "outputId": "77292ff1-6201-47e6-960b-e7ee3d3e75e8"
      },
      "execution_count": 14,
      "outputs": [
        {
          "output_type": "stream",
          "name": "stdout",
          "text": [
            "Found 2605 images belonging to 2 classes.\n",
            "Found 114 images belonging to 2 classes.\n"
          ]
        }
      ]
    },
    {
      "cell_type": "markdown",
      "source": [
        "# BUILD MODEL ARCHITECTURE"
      ],
      "metadata": {
        "id": "2ivcimwCeiCN"
      }
    },
    {
      "cell_type": "code",
      "source": [
        "from tensorflow.keras.applications import MobileNetV2\n",
        "from tensorflow.keras import layers, models\n",
        "\n",
        "# Load MobileNetV2 model pre-trained on ImageNet (without the top classification layer)\n",
        "base_model = MobileNetV2(weights='imagenet', include_top=False, input_shape=(224, 224, 3))\n",
        "\n",
        "# Freeze the base model layers\n",
        "base_model.trainable = False\n",
        "\n",
        "# Build the complete model\n",
        "model = models.Sequential([\n",
        "    base_model,\n",
        "    layers.GlobalAveragePooling2D(),  # Convert 3D feature maps to 1D\n",
        "    layers.Dense(256, activation='relu'),  # Fully connected layer\n",
        "    layers.Dense(1, activation='sigmoid')  # Output layer (binary classification)\n",
        "])\n",
        "\n",
        "# Compile the model\n",
        "model.compile(optimizer='adam', loss='binary_crossentropy', metrics=['accuracy'])\n",
        "\n",
        "# Print model summary\n",
        "model.summary()\n"
      ],
      "metadata": {
        "id": "bFPFSHkLeks8",
        "colab": {
          "base_uri": "https://localhost:8080/",
          "height": 328
        },
        "outputId": "1aa5d519-5d01-4792-e1fe-589df10ed4f7"
      },
      "execution_count": 15,
      "outputs": [
        {
          "output_type": "stream",
          "name": "stdout",
          "text": [
            "Downloading data from https://storage.googleapis.com/tensorflow/keras-applications/mobilenet_v2/mobilenet_v2_weights_tf_dim_ordering_tf_kernels_1.0_224_no_top.h5\n",
            "\u001b[1m9406464/9406464\u001b[0m \u001b[32m━━━━━━━━━━━━━━━━━━━━\u001b[0m\u001b[37m\u001b[0m \u001b[1m0s\u001b[0m 0us/step\n"
          ]
        },
        {
          "output_type": "display_data",
          "data": {
            "text/plain": [
              "\u001b[1mModel: \"sequential\"\u001b[0m\n"
            ],
            "text/html": [
              "<pre style=\"white-space:pre;overflow-x:auto;line-height:normal;font-family:Menlo,'DejaVu Sans Mono',consolas,'Courier New',monospace\"><span style=\"font-weight: bold\">Model: \"sequential\"</span>\n",
              "</pre>\n"
            ]
          },
          "metadata": {}
        },
        {
          "output_type": "display_data",
          "data": {
            "text/plain": [
              "┏━━━━━━━━━━━━━━━━━━━━━━━━━━━━━━━━━━━━━━┳━━━━━━━━━━━━━━━━━━━━━━━━━━━━━┳━━━━━━━━━━━━━━━━━┓\n",
              "┃\u001b[1m \u001b[0m\u001b[1mLayer (type)                        \u001b[0m\u001b[1m \u001b[0m┃\u001b[1m \u001b[0m\u001b[1mOutput Shape               \u001b[0m\u001b[1m \u001b[0m┃\u001b[1m \u001b[0m\u001b[1m        Param #\u001b[0m\u001b[1m \u001b[0m┃\n",
              "┡━━━━━━━━━━━━━━━━━━━━━━━━━━━━━━━━━━━━━━╇━━━━━━━━━━━━━━━━━━━━━━━━━━━━━╇━━━━━━━━━━━━━━━━━┩\n",
              "│ mobilenetv2_1.00_224 (\u001b[38;5;33mFunctional\u001b[0m)    │ (\u001b[38;5;45mNone\u001b[0m, \u001b[38;5;34m7\u001b[0m, \u001b[38;5;34m7\u001b[0m, \u001b[38;5;34m1280\u001b[0m)          │       \u001b[38;5;34m2,257,984\u001b[0m │\n",
              "├──────────────────────────────────────┼─────────────────────────────┼─────────────────┤\n",
              "│ global_average_pooling2d             │ (\u001b[38;5;45mNone\u001b[0m, \u001b[38;5;34m1280\u001b[0m)                │               \u001b[38;5;34m0\u001b[0m │\n",
              "│ (\u001b[38;5;33mGlobalAveragePooling2D\u001b[0m)             │                             │                 │\n",
              "├──────────────────────────────────────┼─────────────────────────────┼─────────────────┤\n",
              "│ dense (\u001b[38;5;33mDense\u001b[0m)                        │ (\u001b[38;5;45mNone\u001b[0m, \u001b[38;5;34m256\u001b[0m)                 │         \u001b[38;5;34m327,936\u001b[0m │\n",
              "├──────────────────────────────────────┼─────────────────────────────┼─────────────────┤\n",
              "│ dense_1 (\u001b[38;5;33mDense\u001b[0m)                      │ (\u001b[38;5;45mNone\u001b[0m, \u001b[38;5;34m1\u001b[0m)                   │             \u001b[38;5;34m257\u001b[0m │\n",
              "└──────────────────────────────────────┴─────────────────────────────┴─────────────────┘\n"
            ],
            "text/html": [
              "<pre style=\"white-space:pre;overflow-x:auto;line-height:normal;font-family:Menlo,'DejaVu Sans Mono',consolas,'Courier New',monospace\">┏━━━━━━━━━━━━━━━━━━━━━━━━━━━━━━━━━━━━━━┳━━━━━━━━━━━━━━━━━━━━━━━━━━━━━┳━━━━━━━━━━━━━━━━━┓\n",
              "┃<span style=\"font-weight: bold\"> Layer (type)                         </span>┃<span style=\"font-weight: bold\"> Output Shape                </span>┃<span style=\"font-weight: bold\">         Param # </span>┃\n",
              "┡━━━━━━━━━━━━━━━━━━━━━━━━━━━━━━━━━━━━━━╇━━━━━━━━━━━━━━━━━━━━━━━━━━━━━╇━━━━━━━━━━━━━━━━━┩\n",
              "│ mobilenetv2_1.00_224 (<span style=\"color: #0087ff; text-decoration-color: #0087ff\">Functional</span>)    │ (<span style=\"color: #00d7ff; text-decoration-color: #00d7ff\">None</span>, <span style=\"color: #00af00; text-decoration-color: #00af00\">7</span>, <span style=\"color: #00af00; text-decoration-color: #00af00\">7</span>, <span style=\"color: #00af00; text-decoration-color: #00af00\">1280</span>)          │       <span style=\"color: #00af00; text-decoration-color: #00af00\">2,257,984</span> │\n",
              "├──────────────────────────────────────┼─────────────────────────────┼─────────────────┤\n",
              "│ global_average_pooling2d             │ (<span style=\"color: #00d7ff; text-decoration-color: #00d7ff\">None</span>, <span style=\"color: #00af00; text-decoration-color: #00af00\">1280</span>)                │               <span style=\"color: #00af00; text-decoration-color: #00af00\">0</span> │\n",
              "│ (<span style=\"color: #0087ff; text-decoration-color: #0087ff\">GlobalAveragePooling2D</span>)             │                             │                 │\n",
              "├──────────────────────────────────────┼─────────────────────────────┼─────────────────┤\n",
              "│ dense (<span style=\"color: #0087ff; text-decoration-color: #0087ff\">Dense</span>)                        │ (<span style=\"color: #00d7ff; text-decoration-color: #00d7ff\">None</span>, <span style=\"color: #00af00; text-decoration-color: #00af00\">256</span>)                 │         <span style=\"color: #00af00; text-decoration-color: #00af00\">327,936</span> │\n",
              "├──────────────────────────────────────┼─────────────────────────────┼─────────────────┤\n",
              "│ dense_1 (<span style=\"color: #0087ff; text-decoration-color: #0087ff\">Dense</span>)                      │ (<span style=\"color: #00d7ff; text-decoration-color: #00d7ff\">None</span>, <span style=\"color: #00af00; text-decoration-color: #00af00\">1</span>)                   │             <span style=\"color: #00af00; text-decoration-color: #00af00\">257</span> │\n",
              "└──────────────────────────────────────┴─────────────────────────────┴─────────────────┘\n",
              "</pre>\n"
            ]
          },
          "metadata": {}
        },
        {
          "output_type": "display_data",
          "data": {
            "text/plain": [
              "\u001b[1m Total params: \u001b[0m\u001b[38;5;34m2,586,177\u001b[0m (9.87 MB)\n"
            ],
            "text/html": [
              "<pre style=\"white-space:pre;overflow-x:auto;line-height:normal;font-family:Menlo,'DejaVu Sans Mono',consolas,'Courier New',monospace\"><span style=\"font-weight: bold\"> Total params: </span><span style=\"color: #00af00; text-decoration-color: #00af00\">2,586,177</span> (9.87 MB)\n",
              "</pre>\n"
            ]
          },
          "metadata": {}
        },
        {
          "output_type": "display_data",
          "data": {
            "text/plain": [
              "\u001b[1m Trainable params: \u001b[0m\u001b[38;5;34m328,193\u001b[0m (1.25 MB)\n"
            ],
            "text/html": [
              "<pre style=\"white-space:pre;overflow-x:auto;line-height:normal;font-family:Menlo,'DejaVu Sans Mono',consolas,'Courier New',monospace\"><span style=\"font-weight: bold\"> Trainable params: </span><span style=\"color: #00af00; text-decoration-color: #00af00\">328,193</span> (1.25 MB)\n",
              "</pre>\n"
            ]
          },
          "metadata": {}
        },
        {
          "output_type": "display_data",
          "data": {
            "text/plain": [
              "\u001b[1m Non-trainable params: \u001b[0m\u001b[38;5;34m2,257,984\u001b[0m (8.61 MB)\n"
            ],
            "text/html": [
              "<pre style=\"white-space:pre;overflow-x:auto;line-height:normal;font-family:Menlo,'DejaVu Sans Mono',consolas,'Courier New',monospace\"><span style=\"font-weight: bold\"> Non-trainable params: </span><span style=\"color: #00af00; text-decoration-color: #00af00\">2,257,984</span> (8.61 MB)\n",
              "</pre>\n"
            ]
          },
          "metadata": {}
        }
      ]
    },
    {
      "cell_type": "code",
      "source": [
        "# Train the model\n",
        "#model.fit(train_dataset, epochs=6, validation_data=valid_dataset)\n"
      ],
      "metadata": {
        "id": "MBe8p3d-eoi9"
      },
      "execution_count": 16,
      "outputs": []
    },
    {
      "cell_type": "markdown",
      "source": [
        "# CONVERT INTO TENSORFLOWLITE"
      ],
      "metadata": {
        "id": "JsXul5MterTE"
      }
    },
    {
      "cell_type": "code",
      "source": [
        "# Save the trained model\n",
        "model.save('my_model.h5')\n",
        "\n",
        "# Convert the model to TensorFlow Lite format\n",
        "import tensorflow as tf\n",
        "\n",
        "# Convert the model\n",
        "converter = tf.lite.TFLiteConverter.from_keras_model(model)\n",
        "tflite_model = converter.convert()\n",
        "\n",
        "# Save the TFLite model\n",
        "with open('my_model.tflite', 'wb') as f:\n",
        "    f.write(tflite_model)\n"
      ],
      "metadata": {
        "collapsed": true,
        "id": "C4XSCThWeucN",
        "colab": {
          "base_uri": "https://localhost:8080/"
        },
        "outputId": "75160d6a-5b8e-453b-df26-d87a26b15524"
      },
      "execution_count": 17,
      "outputs": [
        {
          "output_type": "stream",
          "name": "stderr",
          "text": [
            "WARNING:absl:You are saving your model as an HDF5 file via `model.save()` or `keras.saving.save_model(model)`. This file format is considered legacy. We recommend using instead the native Keras format, e.g. `model.save('my_model.keras')` or `keras.saving.save_model(model, 'my_model.keras')`. \n"
          ]
        },
        {
          "output_type": "stream",
          "name": "stdout",
          "text": [
            "Saved artifact at '/tmp/tmpiavakby5'. The following endpoints are available:\n",
            "\n",
            "* Endpoint 'serve'\n",
            "  args_0 (POSITIONAL_ONLY): TensorSpec(shape=(None, 224, 224, 3), dtype=tf.float32, name='keras_tensor_154')\n",
            "Output Type:\n",
            "  TensorSpec(shape=(None, 1), dtype=tf.float32, name=None)\n",
            "Captures:\n",
            "  140440923383136: TensorSpec(shape=(), dtype=tf.resource, name=None)\n",
            "  140440922610624: TensorSpec(shape=(), dtype=tf.resource, name=None)\n",
            "  140440922611152: TensorSpec(shape=(), dtype=tf.resource, name=None)\n",
            "  140440922605872: TensorSpec(shape=(), dtype=tf.resource, name=None)\n",
            "  140440922608160: TensorSpec(shape=(), dtype=tf.resource, name=None)\n",
            "  140440922616960: TensorSpec(shape=(), dtype=tf.resource, name=None)\n",
            "  140440922615904: TensorSpec(shape=(), dtype=tf.resource, name=None)\n",
            "  140440922618368: TensorSpec(shape=(), dtype=tf.resource, name=None)\n",
            "  140440922606752: TensorSpec(shape=(), dtype=tf.resource, name=None)\n",
            "  140440922617136: TensorSpec(shape=(), dtype=tf.resource, name=None)\n",
            "  140440922605344: TensorSpec(shape=(), dtype=tf.resource, name=None)\n",
            "  140440867509296: TensorSpec(shape=(), dtype=tf.resource, name=None)\n",
            "  140440867510352: TensorSpec(shape=(), dtype=tf.resource, name=None)\n",
            "  140440867506480: TensorSpec(shape=(), dtype=tf.resource, name=None)\n",
            "  140440867509120: TensorSpec(shape=(), dtype=tf.resource, name=None)\n",
            "  140440922612736: TensorSpec(shape=(), dtype=tf.resource, name=None)\n",
            "  140440867514048: TensorSpec(shape=(), dtype=tf.resource, name=None)\n",
            "  140440867516512: TensorSpec(shape=(), dtype=tf.resource, name=None)\n",
            "  140440867512640: TensorSpec(shape=(), dtype=tf.resource, name=None)\n",
            "  140440867515280: TensorSpec(shape=(), dtype=tf.resource, name=None)\n",
            "  140440867512992: TensorSpec(shape=(), dtype=tf.resource, name=None)\n",
            "  140440867571840: TensorSpec(shape=(), dtype=tf.resource, name=None)\n",
            "  140440867574656: TensorSpec(shape=(), dtype=tf.resource, name=None)\n",
            "  140440867570080: TensorSpec(shape=(), dtype=tf.resource, name=None)\n",
            "  140440867573600: TensorSpec(shape=(), dtype=tf.resource, name=None)\n",
            "  140440867519328: TensorSpec(shape=(), dtype=tf.resource, name=None)\n",
            "  140440867579760: TensorSpec(shape=(), dtype=tf.resource, name=None)\n",
            "  140440867582224: TensorSpec(shape=(), dtype=tf.resource, name=None)\n",
            "  140440867578352: TensorSpec(shape=(), dtype=tf.resource, name=None)\n",
            "  140440867580992: TensorSpec(shape=(), dtype=tf.resource, name=None)\n",
            "  140440867570784: TensorSpec(shape=(), dtype=tf.resource, name=None)\n",
            "  140440867669440: TensorSpec(shape=(), dtype=tf.resource, name=None)\n",
            "  140440867668208: TensorSpec(shape=(), dtype=tf.resource, name=None)\n",
            "  140440867584864: TensorSpec(shape=(), dtype=tf.resource, name=None)\n",
            "  140440867668032: TensorSpec(shape=(), dtype=tf.resource, name=None)\n",
            "  140440867585744: TensorSpec(shape=(), dtype=tf.resource, name=None)\n",
            "  140440867675424: TensorSpec(shape=(), dtype=tf.resource, name=None)\n",
            "  140440867678064: TensorSpec(shape=(), dtype=tf.resource, name=None)\n",
            "  140440867674016: TensorSpec(shape=(), dtype=tf.resource, name=None)\n",
            "  140440867675952: TensorSpec(shape=(), dtype=tf.resource, name=None)\n",
            "  140440922410496: TensorSpec(shape=(), dtype=tf.resource, name=None)\n",
            "  140440922410672: TensorSpec(shape=(), dtype=tf.resource, name=None)\n",
            "  140440867683520: TensorSpec(shape=(), dtype=tf.resource, name=None)\n",
            "  140440867681584: TensorSpec(shape=(), dtype=tf.resource, name=None)\n",
            "  140440867682992: TensorSpec(shape=(), dtype=tf.resource, name=None)\n",
            "  140443203963888: TensorSpec(shape=(), dtype=tf.resource, name=None)\n",
            "  140440922420528: TensorSpec(shape=(), dtype=tf.resource, name=None)\n",
            "  140440922420176: TensorSpec(shape=(), dtype=tf.resource, name=None)\n",
            "  140440867678240: TensorSpec(shape=(), dtype=tf.resource, name=None)\n",
            "  140440922419296: TensorSpec(shape=(), dtype=tf.resource, name=None)\n",
            "  140440867674368: TensorSpec(shape=(), dtype=tf.resource, name=None)\n",
            "  140440867739376: TensorSpec(shape=(), dtype=tf.resource, name=None)\n",
            "  140440867742016: TensorSpec(shape=(), dtype=tf.resource, name=None)\n",
            "  140440867737440: TensorSpec(shape=(), dtype=tf.resource, name=None)\n",
            "  140440867739904: TensorSpec(shape=(), dtype=tf.resource, name=None)\n",
            "  140440867748352: TensorSpec(shape=(), dtype=tf.resource, name=None)\n",
            "  140440867747296: TensorSpec(shape=(), dtype=tf.resource, name=None)\n",
            "  140440867743600: TensorSpec(shape=(), dtype=tf.resource, name=None)\n",
            "  140440867743776: TensorSpec(shape=(), dtype=tf.resource, name=None)\n",
            "  140440867748528: TensorSpec(shape=(), dtype=tf.resource, name=None)\n",
            "  140440922416480: TensorSpec(shape=(), dtype=tf.resource, name=None)\n",
            "  140440867836976: TensorSpec(shape=(), dtype=tf.resource, name=None)\n",
            "  140440867838032: TensorSpec(shape=(), dtype=tf.resource, name=None)\n",
            "  140440867834160: TensorSpec(shape=(), dtype=tf.resource, name=None)\n",
            "  140440867836800: TensorSpec(shape=(), dtype=tf.resource, name=None)\n",
            "  140440867844016: TensorSpec(shape=(), dtype=tf.resource, name=None)\n",
            "  140440867842960: TensorSpec(shape=(), dtype=tf.resource, name=None)\n",
            "  140440867845600: TensorSpec(shape=(), dtype=tf.resource, name=None)\n",
            "  140440867834512: TensorSpec(shape=(), dtype=tf.resource, name=None)\n",
            "  140440867843488: TensorSpec(shape=(), dtype=tf.resource, name=None)\n",
            "  140440867839616: TensorSpec(shape=(), dtype=tf.resource, name=None)\n",
            "  140440867934224: TensorSpec(shape=(), dtype=tf.resource, name=None)\n",
            "  140440867934752: TensorSpec(shape=(), dtype=tf.resource, name=None)\n",
            "  140440867930880: TensorSpec(shape=(), dtype=tf.resource, name=None)\n",
            "  140440867934400: TensorSpec(shape=(), dtype=tf.resource, name=None)\n",
            "  140440867735504: TensorSpec(shape=(), dtype=tf.resource, name=None)\n",
            "  140440867940384: TensorSpec(shape=(), dtype=tf.resource, name=None)\n",
            "  140440867942848: TensorSpec(shape=(), dtype=tf.resource, name=None)\n",
            "  140440867938976: TensorSpec(shape=(), dtype=tf.resource, name=None)\n",
            "  140440867941616: TensorSpec(shape=(), dtype=tf.resource, name=None)\n",
            "  140440867945664: TensorSpec(shape=(), dtype=tf.resource, name=None)\n",
            "  140440868013328: TensorSpec(shape=(), dtype=tf.resource, name=None)\n",
            "  140440868012976: TensorSpec(shape=(), dtype=tf.resource, name=None)\n",
            "  140440868015616: TensorSpec(shape=(), dtype=tf.resource, name=None)\n",
            "  140440868015088: TensorSpec(shape=(), dtype=tf.resource, name=None)\n",
            "  140440867944432: TensorSpec(shape=(), dtype=tf.resource, name=None)\n",
            "  140440868021248: TensorSpec(shape=(), dtype=tf.resource, name=None)\n",
            "  140440868023712: TensorSpec(shape=(), dtype=tf.resource, name=None)\n",
            "  140440868019840: TensorSpec(shape=(), dtype=tf.resource, name=None)\n",
            "  140440868022480: TensorSpec(shape=(), dtype=tf.resource, name=None)\n",
            "  140440868012096: TensorSpec(shape=(), dtype=tf.resource, name=None)\n",
            "  140440868046800: TensorSpec(shape=(), dtype=tf.resource, name=None)\n",
            "  140440868044864: TensorSpec(shape=(), dtype=tf.resource, name=None)\n",
            "  140440868027760: TensorSpec(shape=(), dtype=tf.resource, name=None)\n",
            "  140440868046976: TensorSpec(shape=(), dtype=tf.resource, name=None)\n",
            "  140440868055248: TensorSpec(shape=(), dtype=tf.resource, name=None)\n",
            "  140440868054192: TensorSpec(shape=(), dtype=tf.resource, name=None)\n",
            "  140440868056832: TensorSpec(shape=(), dtype=tf.resource, name=None)\n",
            "  140440868047328: TensorSpec(shape=(), dtype=tf.resource, name=None)\n",
            "  140440868054720: TensorSpec(shape=(), dtype=tf.resource, name=None)\n",
            "  140440868059824: TensorSpec(shape=(), dtype=tf.resource, name=None)\n",
            "  140440868178224: TensorSpec(shape=(), dtype=tf.resource, name=None)\n",
            "  140440868176288: TensorSpec(shape=(), dtype=tf.resource, name=None)\n",
            "  140440868058944: TensorSpec(shape=(), dtype=tf.resource, name=None)\n",
            "  140440868178400: TensorSpec(shape=(), dtype=tf.resource, name=None)\n",
            "  140440867944608: TensorSpec(shape=(), dtype=tf.resource, name=None)\n",
            "  140440868182976: TensorSpec(shape=(), dtype=tf.resource, name=None)\n",
            "  140440868185440: TensorSpec(shape=(), dtype=tf.resource, name=None)\n",
            "  140440868181568: TensorSpec(shape=(), dtype=tf.resource, name=None)\n",
            "  140440868184208: TensorSpec(shape=(), dtype=tf.resource, name=None)\n",
            "  140440868191424: TensorSpec(shape=(), dtype=tf.resource, name=None)\n",
            "  140440868187904: TensorSpec(shape=(), dtype=tf.resource, name=None)\n",
            "  140440868187552: TensorSpec(shape=(), dtype=tf.resource, name=None)\n",
            "  140440868188608: TensorSpec(shape=(), dtype=tf.resource, name=None)\n",
            "  140440868191600: TensorSpec(shape=(), dtype=tf.resource, name=None)\n",
            "  140440868187024: TensorSpec(shape=(), dtype=tf.resource, name=None)\n",
            "  140440868281632: TensorSpec(shape=(), dtype=tf.resource, name=None)\n",
            "  140440868282688: TensorSpec(shape=(), dtype=tf.resource, name=None)\n",
            "  140440868278816: TensorSpec(shape=(), dtype=tf.resource, name=None)\n",
            "  140440868281456: TensorSpec(shape=(), dtype=tf.resource, name=None)\n",
            "  140440868051024: TensorSpec(shape=(), dtype=tf.resource, name=None)\n",
            "  140440868287792: TensorSpec(shape=(), dtype=tf.resource, name=None)\n",
            "  140440868290256: TensorSpec(shape=(), dtype=tf.resource, name=None)\n",
            "  140440868286384: TensorSpec(shape=(), dtype=tf.resource, name=None)\n",
            "  140440868289024: TensorSpec(shape=(), dtype=tf.resource, name=None)\n",
            "  140440868286736: TensorSpec(shape=(), dtype=tf.resource, name=None)\n",
            "  140440868360912: TensorSpec(shape=(), dtype=tf.resource, name=None)\n",
            "  140440868363552: TensorSpec(shape=(), dtype=tf.resource, name=None)\n",
            "  140440868359504: TensorSpec(shape=(), dtype=tf.resource, name=None)\n",
            "  140440868361440: TensorSpec(shape=(), dtype=tf.resource, name=None)\n",
            "  140440868369712: TensorSpec(shape=(), dtype=tf.resource, name=None)\n",
            "  140440868368656: TensorSpec(shape=(), dtype=tf.resource, name=None)\n",
            "  140440868371120: TensorSpec(shape=(), dtype=tf.resource, name=None)\n",
            "  140440868357568: TensorSpec(shape=(), dtype=tf.resource, name=None)\n",
            "  140440868369888: TensorSpec(shape=(), dtype=tf.resource, name=None)\n",
            "  140440868187200: TensorSpec(shape=(), dtype=tf.resource, name=None)\n",
            "  140440868443360: TensorSpec(shape=(), dtype=tf.resource, name=None)\n",
            "  140440867744304: TensorSpec(shape=(), dtype=tf.resource, name=None)\n",
            "  140440868440544: TensorSpec(shape=(), dtype=tf.resource, name=None)\n",
            "  140440868443184: TensorSpec(shape=(), dtype=tf.resource, name=None)\n",
            "  140440868452160: TensorSpec(shape=(), dtype=tf.resource, name=None)\n",
            "  140440664807504: TensorSpec(shape=(), dtype=tf.resource, name=None)\n",
            "  140440664804688: TensorSpec(shape=(), dtype=tf.resource, name=None)\n",
            "  140440664805216: TensorSpec(shape=(), dtype=tf.resource, name=None)\n",
            "  140440664806800: TensorSpec(shape=(), dtype=tf.resource, name=None)\n",
            "  140440923389120: TensorSpec(shape=(), dtype=tf.resource, name=None)\n",
            "  140440922418064: TensorSpec(shape=(), dtype=tf.resource, name=None)\n",
            "  140440922418240: TensorSpec(shape=(), dtype=tf.resource, name=None)\n",
            "  140440868438608: TensorSpec(shape=(), dtype=tf.resource, name=None)\n",
            "  140440923134912: TensorSpec(shape=(), dtype=tf.resource, name=None)\n",
            "  140440664805568: TensorSpec(shape=(), dtype=tf.resource, name=None)\n",
            "  140440664814016: TensorSpec(shape=(), dtype=tf.resource, name=None)\n",
            "  140440664814544: TensorSpec(shape=(), dtype=tf.resource, name=None)\n",
            "  140440664810672: TensorSpec(shape=(), dtype=tf.resource, name=None)\n",
            "  140440664812784: TensorSpec(shape=(), dtype=tf.resource, name=None)\n",
            "  140440664817360: TensorSpec(shape=(), dtype=tf.resource, name=None)\n",
            "  140440664917792: TensorSpec(shape=(), dtype=tf.resource, name=None)\n",
            "  140440664919904: TensorSpec(shape=(), dtype=tf.resource, name=None)\n",
            "  140440664916032: TensorSpec(shape=(), dtype=tf.resource, name=None)\n",
            "  140440664919552: TensorSpec(shape=(), dtype=tf.resource, name=None)\n",
            "  140440664816128: TensorSpec(shape=(), dtype=tf.resource, name=None)\n",
            "  140440664925712: TensorSpec(shape=(), dtype=tf.resource, name=None)\n",
            "  140440664928176: TensorSpec(shape=(), dtype=tf.resource, name=None)\n",
            "  140440664924304: TensorSpec(shape=(), dtype=tf.resource, name=None)\n",
            "  140440664926944: TensorSpec(shape=(), dtype=tf.resource, name=None)\n",
            "  140440664916736: TensorSpec(shape=(), dtype=tf.resource, name=None)\n",
            "  140440664966240: TensorSpec(shape=(), dtype=tf.resource, name=None)\n",
            "  140440664925536: TensorSpec(shape=(), dtype=tf.resource, name=None)\n",
            "  140440664930816: TensorSpec(shape=(), dtype=tf.resource, name=None)\n",
            "  140440664965184: TensorSpec(shape=(), dtype=tf.resource, name=None)\n",
            "  140440664931344: TensorSpec(shape=(), dtype=tf.resource, name=None)\n",
            "  140440664972224: TensorSpec(shape=(), dtype=tf.resource, name=None)\n",
            "  140440664974864: TensorSpec(shape=(), dtype=tf.resource, name=None)\n",
            "  140440664970816: TensorSpec(shape=(), dtype=tf.resource, name=None)\n",
            "  140440664972752: TensorSpec(shape=(), dtype=tf.resource, name=None)\n",
            "  140440664981024: TensorSpec(shape=(), dtype=tf.resource, name=None)\n",
            "  140440664971168: TensorSpec(shape=(), dtype=tf.resource, name=None)\n",
            "  140440664976448: TensorSpec(shape=(), dtype=tf.resource, name=None)\n",
            "  140440664978208: TensorSpec(shape=(), dtype=tf.resource, name=None)\n",
            "  140440664976976: TensorSpec(shape=(), dtype=tf.resource, name=None)\n",
            "  140440664816304: TensorSpec(shape=(), dtype=tf.resource, name=None)\n",
            "  140440665071056: TensorSpec(shape=(), dtype=tf.resource, name=None)\n",
            "  140440665072112: TensorSpec(shape=(), dtype=tf.resource, name=None)\n",
            "  140440665068240: TensorSpec(shape=(), dtype=tf.resource, name=None)\n",
            "  140440665070880: TensorSpec(shape=(), dtype=tf.resource, name=None)\n",
            "  140440665078096: TensorSpec(shape=(), dtype=tf.resource, name=None)\n",
            "  140440665077040: TensorSpec(shape=(), dtype=tf.resource, name=None)\n",
            "  140440665074224: TensorSpec(shape=(), dtype=tf.resource, name=None)\n",
            "  140440665068592: TensorSpec(shape=(), dtype=tf.resource, name=None)\n",
            "  140440665077568: TensorSpec(shape=(), dtype=tf.resource, name=None)\n",
            "  140440665073696: TensorSpec(shape=(), dtype=tf.resource, name=None)\n",
            "  140440665168304: TensorSpec(shape=(), dtype=tf.resource, name=None)\n",
            "  140440665169360: TensorSpec(shape=(), dtype=tf.resource, name=None)\n",
            "  140440665165488: TensorSpec(shape=(), dtype=tf.resource, name=None)\n",
            "  140440665168128: TensorSpec(shape=(), dtype=tf.resource, name=None)\n",
            "  140440664969056: TensorSpec(shape=(), dtype=tf.resource, name=None)\n",
            "  140440665174464: TensorSpec(shape=(), dtype=tf.resource, name=None)\n",
            "  140440665176928: TensorSpec(shape=(), dtype=tf.resource, name=None)\n",
            "  140440665173056: TensorSpec(shape=(), dtype=tf.resource, name=None)\n",
            "  140440665175696: TensorSpec(shape=(), dtype=tf.resource, name=None)\n",
            "  140440665173408: TensorSpec(shape=(), dtype=tf.resource, name=None)\n",
            "  140440665281760: TensorSpec(shape=(), dtype=tf.resource, name=None)\n",
            "  140440665284400: TensorSpec(shape=(), dtype=tf.resource, name=None)\n",
            "  140440665280352: TensorSpec(shape=(), dtype=tf.resource, name=None)\n",
            "  140440665282288: TensorSpec(shape=(), dtype=tf.resource, name=None)\n",
            "  140440665290560: TensorSpec(shape=(), dtype=tf.resource, name=None)\n",
            "  140440665289504: TensorSpec(shape=(), dtype=tf.resource, name=None)\n",
            "  140440665291968: TensorSpec(shape=(), dtype=tf.resource, name=None)\n",
            "  140440665278416: TensorSpec(shape=(), dtype=tf.resource, name=None)\n",
            "  140440665290736: TensorSpec(shape=(), dtype=tf.resource, name=None)\n",
            "  140440665073872: TensorSpec(shape=(), dtype=tf.resource, name=None)\n",
            "  140440665362800: TensorSpec(shape=(), dtype=tf.resource, name=None)\n",
            "  140440665362448: TensorSpec(shape=(), dtype=tf.resource, name=None)\n",
            "  140440665359984: TensorSpec(shape=(), dtype=tf.resource, name=None)\n",
            "  140440665362624: TensorSpec(shape=(), dtype=tf.resource, name=None)\n",
            "  140440665369840: TensorSpec(shape=(), dtype=tf.resource, name=None)\n",
            "  140440665368784: TensorSpec(shape=(), dtype=tf.resource, name=None)\n",
            "  140440665371424: TensorSpec(shape=(), dtype=tf.resource, name=None)\n",
            "  140440665360336: TensorSpec(shape=(), dtype=tf.resource, name=None)\n",
            "  140440665369312: TensorSpec(shape=(), dtype=tf.resource, name=None)\n",
            "  140440665374416: TensorSpec(shape=(), dtype=tf.resource, name=None)\n",
            "  140440665443664: TensorSpec(shape=(), dtype=tf.resource, name=None)\n",
            "  140440665441200: TensorSpec(shape=(), dtype=tf.resource, name=None)\n",
            "  140440665440320: TensorSpec(shape=(), dtype=tf.resource, name=None)\n",
            "  140440665443840: TensorSpec(shape=(), dtype=tf.resource, name=None)\n",
            "  140440665278592: TensorSpec(shape=(), dtype=tf.resource, name=None)\n",
            "  140440665449824: TensorSpec(shape=(), dtype=tf.resource, name=None)\n",
            "  140440665452288: TensorSpec(shape=(), dtype=tf.resource, name=None)\n",
            "  140440665448416: TensorSpec(shape=(), dtype=tf.resource, name=None)\n",
            "  140440665451056: TensorSpec(shape=(), dtype=tf.resource, name=None)\n",
            "  140440665455104: TensorSpec(shape=(), dtype=tf.resource, name=None)\n",
            "  140440665539152: TensorSpec(shape=(), dtype=tf.resource, name=None)\n",
            "  140440665538800: TensorSpec(shape=(), dtype=tf.resource, name=None)\n",
            "  140440665454224: TensorSpec(shape=(), dtype=tf.resource, name=None)\n",
            "  140440665540912: TensorSpec(shape=(), dtype=tf.resource, name=None)\n",
            "  140440665453872: TensorSpec(shape=(), dtype=tf.resource, name=None)\n",
            "  140440665547072: TensorSpec(shape=(), dtype=tf.resource, name=None)\n",
            "  140440665549536: TensorSpec(shape=(), dtype=tf.resource, name=None)\n",
            "  140440665545664: TensorSpec(shape=(), dtype=tf.resource, name=None)\n",
            "  140440665548304: TensorSpec(shape=(), dtype=tf.resource, name=None)\n",
            "  140440665541264: TensorSpec(shape=(), dtype=tf.resource, name=None)\n",
            "  140440665638160: TensorSpec(shape=(), dtype=tf.resource, name=None)\n",
            "  140440665638512: TensorSpec(shape=(), dtype=tf.resource, name=None)\n",
            "  140440665553584: TensorSpec(shape=(), dtype=tf.resource, name=None)\n",
            "  140440665636928: TensorSpec(shape=(), dtype=tf.resource, name=None)\n",
            "  140440665551648: TensorSpec(shape=(), dtype=tf.resource, name=None)\n",
            "  140440665644144: TensorSpec(shape=(), dtype=tf.resource, name=None)\n",
            "  140440665652592: TensorSpec(shape=(), dtype=tf.resource, name=None)\n",
            "  140440665642736: TensorSpec(shape=(), dtype=tf.resource, name=None)\n",
            "  140440665644672: TensorSpec(shape=(), dtype=tf.resource, name=None)\n",
            "  140440665714080: TensorSpec(shape=(), dtype=tf.resource, name=None)\n",
            "  140440665712320: TensorSpec(shape=(), dtype=tf.resource, name=None)\n",
            "  140440665715136: TensorSpec(shape=(), dtype=tf.resource, name=None)\n",
            "  140440665702992: TensorSpec(shape=(), dtype=tf.resource, name=None)\n",
            "  140440665713376: TensorSpec(shape=(), dtype=tf.resource, name=None)\n",
            "  140440665716896: TensorSpec(shape=(), dtype=tf.resource, name=None)\n",
            "  140440665769760: TensorSpec(shape=(), dtype=tf.resource, name=None)\n",
            "  140440665768352: TensorSpec(shape=(), dtype=tf.resource, name=None)\n",
            "  140440665717952: TensorSpec(shape=(), dtype=tf.resource, name=None)\n",
            "  140440665769936: TensorSpec(shape=(), dtype=tf.resource, name=None)\n",
            "  140440867738144: TensorSpec(shape=(), dtype=tf.resource, name=None)\n",
            "  140440665647664: TensorSpec(shape=(), dtype=tf.resource, name=None)\n",
            "  140440665647488: TensorSpec(shape=(), dtype=tf.resource, name=None)\n",
            "  140440665648016: TensorSpec(shape=(), dtype=tf.resource, name=None)\n"
          ]
        }
      ]
    },
    {
      "cell_type": "code",
      "source": [
        "print(train_dataset.class_indices)\n"
      ],
      "metadata": {
        "id": "bfWfZR2S494U",
        "colab": {
          "base_uri": "https://localhost:8080/"
        },
        "outputId": "e13723fc-6b6f-44de-c188-0e6107fb0fbd"
      },
      "execution_count": 53,
      "outputs": [
        {
          "output_type": "stream",
          "name": "stdout",
          "text": [
            "{'images': 0, 'labels': 1}\n"
          ]
        }
      ]
    },
    {
      "cell_type": "markdown",
      "source": [
        "# TESTING DATA"
      ],
      "metadata": {
        "id": "uiciYcuTtAWc"
      }
    },
    {
      "cell_type": "code",
      "source": [
        "import os\n",
        "print(os.listdir(\"/content\"))\n"
      ],
      "metadata": {
        "id": "HhQMzuNCtOqY",
        "colab": {
          "base_uri": "https://localhost:8080/"
        },
        "outputId": "b1badeab-ef50-4565-d2db-9d6713d96da1"
      },
      "execution_count": 54,
      "outputs": [
        {
          "output_type": "stream",
          "name": "stdout",
          "text": [
            "['.config', 'my_model.tflite', 'construction-site-safety-image-dataset-roboflow.zip', 'my_model.h5', 'model.tflite', 'construction_site_dataset', 'sample_data']\n"
          ]
        }
      ]
    },
    {
      "cell_type": "code",
      "source": [
        "model.summary()\n"
      ],
      "metadata": {
        "id": "AHyHkvMguwoc",
        "colab": {
          "base_uri": "https://localhost:8080/",
          "height": 273
        },
        "outputId": "2b3310cf-99e7-4496-d676-00cce1dd360d"
      },
      "execution_count": 55,
      "outputs": [
        {
          "output_type": "display_data",
          "data": {
            "text/plain": [
              "\u001b[1mModel: \"sequential_7\"\u001b[0m\n"
            ],
            "text/html": [
              "<pre style=\"white-space:pre;overflow-x:auto;line-height:normal;font-family:Menlo,'DejaVu Sans Mono',consolas,'Courier New',monospace\"><span style=\"font-weight: bold\">Model: \"sequential_7\"</span>\n",
              "</pre>\n"
            ]
          },
          "metadata": {}
        },
        {
          "output_type": "display_data",
          "data": {
            "text/plain": [
              "┏━━━━━━━━━━━━━━━━━━━━━━━━━━━━━━━━━━━━━━┳━━━━━━━━━━━━━━━━━━━━━━━━━━━━━┳━━━━━━━━━━━━━━━━━┓\n",
              "┃\u001b[1m \u001b[0m\u001b[1mLayer (type)                        \u001b[0m\u001b[1m \u001b[0m┃\u001b[1m \u001b[0m\u001b[1mOutput Shape               \u001b[0m\u001b[1m \u001b[0m┃\u001b[1m \u001b[0m\u001b[1m        Param #\u001b[0m\u001b[1m \u001b[0m┃\n",
              "┡━━━━━━━━━━━━━━━━━━━━━━━━━━━━━━━━━━━━━━╇━━━━━━━━━━━━━━━━━━━━━━━━━━━━━╇━━━━━━━━━━━━━━━━━┩\n",
              "│ mobilenetv2_1.00_224 (\u001b[38;5;33mFunctional\u001b[0m)    │ (\u001b[38;5;45mNone\u001b[0m, \u001b[38;5;34m7\u001b[0m, \u001b[38;5;34m7\u001b[0m, \u001b[38;5;34m1280\u001b[0m)          │       \u001b[38;5;34m2,257,984\u001b[0m │\n",
              "├──────────────────────────────────────┼─────────────────────────────┼─────────────────┤\n",
              "│ global_average_pooling2d_7           │ (\u001b[38;5;45mNone\u001b[0m, \u001b[38;5;34m1280\u001b[0m)                │               \u001b[38;5;34m0\u001b[0m │\n",
              "│ (\u001b[38;5;33mGlobalAveragePooling2D\u001b[0m)             │                             │                 │\n",
              "├──────────────────────────────────────┼─────────────────────────────┼─────────────────┤\n",
              "│ dense_14 (\u001b[38;5;33mDense\u001b[0m)                     │ (\u001b[38;5;45mNone\u001b[0m, \u001b[38;5;34m256\u001b[0m)                 │         \u001b[38;5;34m327,936\u001b[0m │\n",
              "├──────────────────────────────────────┼─────────────────────────────┼─────────────────┤\n",
              "│ dense_15 (\u001b[38;5;33mDense\u001b[0m)                     │ (\u001b[38;5;45mNone\u001b[0m, \u001b[38;5;34m1\u001b[0m)                   │             \u001b[38;5;34m257\u001b[0m │\n",
              "└──────────────────────────────────────┴─────────────────────────────┴─────────────────┘\n"
            ],
            "text/html": [
              "<pre style=\"white-space:pre;overflow-x:auto;line-height:normal;font-family:Menlo,'DejaVu Sans Mono',consolas,'Courier New',monospace\">┏━━━━━━━━━━━━━━━━━━━━━━━━━━━━━━━━━━━━━━┳━━━━━━━━━━━━━━━━━━━━━━━━━━━━━┳━━━━━━━━━━━━━━━━━┓\n",
              "┃<span style=\"font-weight: bold\"> Layer (type)                         </span>┃<span style=\"font-weight: bold\"> Output Shape                </span>┃<span style=\"font-weight: bold\">         Param # </span>┃\n",
              "┡━━━━━━━━━━━━━━━━━━━━━━━━━━━━━━━━━━━━━━╇━━━━━━━━━━━━━━━━━━━━━━━━━━━━━╇━━━━━━━━━━━━━━━━━┩\n",
              "│ mobilenetv2_1.00_224 (<span style=\"color: #0087ff; text-decoration-color: #0087ff\">Functional</span>)    │ (<span style=\"color: #00d7ff; text-decoration-color: #00d7ff\">None</span>, <span style=\"color: #00af00; text-decoration-color: #00af00\">7</span>, <span style=\"color: #00af00; text-decoration-color: #00af00\">7</span>, <span style=\"color: #00af00; text-decoration-color: #00af00\">1280</span>)          │       <span style=\"color: #00af00; text-decoration-color: #00af00\">2,257,984</span> │\n",
              "├──────────────────────────────────────┼─────────────────────────────┼─────────────────┤\n",
              "│ global_average_pooling2d_7           │ (<span style=\"color: #00d7ff; text-decoration-color: #00d7ff\">None</span>, <span style=\"color: #00af00; text-decoration-color: #00af00\">1280</span>)                │               <span style=\"color: #00af00; text-decoration-color: #00af00\">0</span> │\n",
              "│ (<span style=\"color: #0087ff; text-decoration-color: #0087ff\">GlobalAveragePooling2D</span>)             │                             │                 │\n",
              "├──────────────────────────────────────┼─────────────────────────────┼─────────────────┤\n",
              "│ dense_14 (<span style=\"color: #0087ff; text-decoration-color: #0087ff\">Dense</span>)                     │ (<span style=\"color: #00d7ff; text-decoration-color: #00d7ff\">None</span>, <span style=\"color: #00af00; text-decoration-color: #00af00\">256</span>)                 │         <span style=\"color: #00af00; text-decoration-color: #00af00\">327,936</span> │\n",
              "├──────────────────────────────────────┼─────────────────────────────┼─────────────────┤\n",
              "│ dense_15 (<span style=\"color: #0087ff; text-decoration-color: #0087ff\">Dense</span>)                     │ (<span style=\"color: #00d7ff; text-decoration-color: #00d7ff\">None</span>, <span style=\"color: #00af00; text-decoration-color: #00af00\">1</span>)                   │             <span style=\"color: #00af00; text-decoration-color: #00af00\">257</span> │\n",
              "└──────────────────────────────────────┴─────────────────────────────┴─────────────────┘\n",
              "</pre>\n"
            ]
          },
          "metadata": {}
        },
        {
          "output_type": "display_data",
          "data": {
            "text/plain": [
              "\u001b[1m Total params: \u001b[0m\u001b[38;5;34m2,586,177\u001b[0m (9.87 MB)\n"
            ],
            "text/html": [
              "<pre style=\"white-space:pre;overflow-x:auto;line-height:normal;font-family:Menlo,'DejaVu Sans Mono',consolas,'Courier New',monospace\"><span style=\"font-weight: bold\"> Total params: </span><span style=\"color: #00af00; text-decoration-color: #00af00\">2,586,177</span> (9.87 MB)\n",
              "</pre>\n"
            ]
          },
          "metadata": {}
        },
        {
          "output_type": "display_data",
          "data": {
            "text/plain": [
              "\u001b[1m Trainable params: \u001b[0m\u001b[38;5;34m328,193\u001b[0m (1.25 MB)\n"
            ],
            "text/html": [
              "<pre style=\"white-space:pre;overflow-x:auto;line-height:normal;font-family:Menlo,'DejaVu Sans Mono',consolas,'Courier New',monospace\"><span style=\"font-weight: bold\"> Trainable params: </span><span style=\"color: #00af00; text-decoration-color: #00af00\">328,193</span> (1.25 MB)\n",
              "</pre>\n"
            ]
          },
          "metadata": {}
        },
        {
          "output_type": "display_data",
          "data": {
            "text/plain": [
              "\u001b[1m Non-trainable params: \u001b[0m\u001b[38;5;34m2,257,984\u001b[0m (8.61 MB)\n"
            ],
            "text/html": [
              "<pre style=\"white-space:pre;overflow-x:auto;line-height:normal;font-family:Menlo,'DejaVu Sans Mono',consolas,'Courier New',monospace\"><span style=\"font-weight: bold\"> Non-trainable params: </span><span style=\"color: #00af00; text-decoration-color: #00af00\">2,257,984</span> (8.61 MB)\n",
              "</pre>\n"
            ]
          },
          "metadata": {}
        }
      ]
    },
    {
      "cell_type": "code",
      "source": [
        "import tensorflow as tf\n",
        "\n",
        "# Assuming `model` is your trained Keras model\n",
        "converter = tf.lite.TFLiteConverter.from_keras_model(model)\n",
        "tflite_model = converter.convert()\n",
        "\n",
        "# Save the converted model\n",
        "with open('model.tflite', 'wb') as f:\n",
        "    f.write(tflite_model)\n"
      ],
      "metadata": {
        "collapsed": true,
        "id": "TcEkPRfW0Q3A",
        "colab": {
          "base_uri": "https://localhost:8080/"
        },
        "outputId": "0375ff0f-80d3-4a23-9e3e-733d8e8a480a"
      },
      "execution_count": 56,
      "outputs": [
        {
          "output_type": "stream",
          "name": "stdout",
          "text": [
            "Saved artifact at '/tmp/tmp6adzuisq'. The following endpoints are available:\n",
            "\n",
            "* Endpoint 'serve'\n",
            "  args_0 (POSITIONAL_ONLY): TensorSpec(shape=(None, 224, 224, 3), dtype=tf.float32, name='keras_tensor_959')\n",
            "Output Type:\n",
            "  TensorSpec(shape=(None, 1), dtype=tf.float32, name=None)\n",
            "Captures:\n",
            "  140438591735408: TensorSpec(shape=(), dtype=tf.resource, name=None)\n",
            "  140439052938304: TensorSpec(shape=(), dtype=tf.resource, name=None)\n",
            "  140438591739984: TensorSpec(shape=(), dtype=tf.resource, name=None)\n",
            "  140439052940768: TensorSpec(shape=(), dtype=tf.resource, name=None)\n",
            "  140439052943056: TensorSpec(shape=(), dtype=tf.resource, name=None)\n",
            "  140439052941824: TensorSpec(shape=(), dtype=tf.resource, name=None)\n",
            "  140439052753152: TensorSpec(shape=(), dtype=tf.resource, name=None)\n",
            "  140439052755792: TensorSpec(shape=(), dtype=tf.resource, name=None)\n",
            "  140439052751744: TensorSpec(shape=(), dtype=tf.resource, name=None)\n",
            "  140439052753680: TensorSpec(shape=(), dtype=tf.resource, name=None)\n",
            "  140439052761952: TensorSpec(shape=(), dtype=tf.resource, name=None)\n",
            "  140439052760896: TensorSpec(shape=(), dtype=tf.resource, name=None)\n",
            "  140439052757376: TensorSpec(shape=(), dtype=tf.resource, name=None)\n",
            "  140439052749808: TensorSpec(shape=(), dtype=tf.resource, name=None)\n",
            "  140439052762128: TensorSpec(shape=(), dtype=tf.resource, name=None)\n",
            "  140438591735056: TensorSpec(shape=(), dtype=tf.resource, name=None)\n",
            "  140439052260752: TensorSpec(shape=(), dtype=tf.resource, name=None)\n",
            "  140439052261808: TensorSpec(shape=(), dtype=tf.resource, name=None)\n",
            "  140439052257936: TensorSpec(shape=(), dtype=tf.resource, name=None)\n",
            "  140439052260576: TensorSpec(shape=(), dtype=tf.resource, name=None)\n",
            "  140439052269200: TensorSpec(shape=(), dtype=tf.resource, name=None)\n",
            "  140439052268144: TensorSpec(shape=(), dtype=tf.resource, name=None)\n",
            "  140439052270784: TensorSpec(shape=(), dtype=tf.resource, name=None)\n",
            "  140439052258288: TensorSpec(shape=(), dtype=tf.resource, name=None)\n",
            "  140439052268672: TensorSpec(shape=(), dtype=tf.resource, name=None)\n",
            "  140439052264800: TensorSpec(shape=(), dtype=tf.resource, name=None)\n",
            "  140439053096688: TensorSpec(shape=(), dtype=tf.resource, name=None)\n",
            "  140439053097744: TensorSpec(shape=(), dtype=tf.resource, name=None)\n",
            "  140439053093872: TensorSpec(shape=(), dtype=tf.resource, name=None)\n",
            "  140439053096512: TensorSpec(shape=(), dtype=tf.resource, name=None)\n",
            "  140439053102496: TensorSpec(shape=(), dtype=tf.resource, name=None)\n",
            "  140439053101440: TensorSpec(shape=(), dtype=tf.resource, name=None)\n",
            "  140439053103904: TensorSpec(shape=(), dtype=tf.resource, name=None)\n",
            "  140439053100032: TensorSpec(shape=(), dtype=tf.resource, name=None)\n",
            "  140439053102672: TensorSpec(shape=(), dtype=tf.resource, name=None)\n",
            "  140439053106720: TensorSpec(shape=(), dtype=tf.resource, name=None)\n",
            "  140439052093040: TensorSpec(shape=(), dtype=tf.resource, name=None)\n",
            "  140439052092864: TensorSpec(shape=(), dtype=tf.resource, name=None)\n",
            "  140439052094272: TensorSpec(shape=(), dtype=tf.resource, name=None)\n",
            "  140439052094800: TensorSpec(shape=(), dtype=tf.resource, name=None)\n",
            "  140439052102016: TensorSpec(shape=(), dtype=tf.resource, name=None)\n",
            "  140439052100960: TensorSpec(shape=(), dtype=tf.resource, name=None)\n",
            "  140439052103424: TensorSpec(shape=(), dtype=tf.resource, name=None)\n",
            "  140439052099552: TensorSpec(shape=(), dtype=tf.resource, name=None)\n",
            "  140439052102192: TensorSpec(shape=(), dtype=tf.resource, name=None)\n",
            "  140439052099200: TensorSpec(shape=(), dtype=tf.resource, name=None)\n",
            "  140439052224816: TensorSpec(shape=(), dtype=tf.resource, name=None)\n",
            "  140439052222880: TensorSpec(shape=(), dtype=tf.resource, name=None)\n",
            "  140439052105536: TensorSpec(shape=(), dtype=tf.resource, name=None)\n",
            "  140439052224992: TensorSpec(shape=(), dtype=tf.resource, name=None)\n",
            "  140439052233264: TensorSpec(shape=(), dtype=tf.resource, name=None)\n",
            "  140439052232208: TensorSpec(shape=(), dtype=tf.resource, name=None)\n",
            "  140439052234848: TensorSpec(shape=(), dtype=tf.resource, name=None)\n",
            "  140439052225344: TensorSpec(shape=(), dtype=tf.resource, name=None)\n",
            "  140439052232736: TensorSpec(shape=(), dtype=tf.resource, name=None)\n",
            "  140438594027584: TensorSpec(shape=(), dtype=tf.resource, name=None)\n",
            "  140438594039024: TensorSpec(shape=(), dtype=tf.resource, name=None)\n",
            "  140438594040960: TensorSpec(shape=(), dtype=tf.resource, name=None)\n",
            "  140438594034448: TensorSpec(shape=(), dtype=tf.resource, name=None)\n",
            "  140438594036736: TensorSpec(shape=(), dtype=tf.resource, name=None)\n",
            "  140438587292160: TensorSpec(shape=(), dtype=tf.resource, name=None)\n",
            "  140438594193184: TensorSpec(shape=(), dtype=tf.resource, name=None)\n",
            "  140439052228864: TensorSpec(shape=(), dtype=tf.resource, name=None)\n",
            "  140438594029696: TensorSpec(shape=(), dtype=tf.resource, name=None)\n",
            "  140438594191952: TensorSpec(shape=(), dtype=tf.resource, name=None)\n",
            "  140439052235552: TensorSpec(shape=(), dtype=tf.resource, name=None)\n",
            "  140438594198992: TensorSpec(shape=(), dtype=tf.resource, name=None)\n",
            "  140438594201632: TensorSpec(shape=(), dtype=tf.resource, name=None)\n",
            "  140438594197584: TensorSpec(shape=(), dtype=tf.resource, name=None)\n",
            "  140438594199520: TensorSpec(shape=(), dtype=tf.resource, name=None)\n",
            "  140438594204624: TensorSpec(shape=(), dtype=tf.resource, name=None)\n",
            "  140438594197936: TensorSpec(shape=(), dtype=tf.resource, name=None)\n",
            "  140438594203392: TensorSpec(shape=(), dtype=tf.resource, name=None)\n",
            "  140438594205680: TensorSpec(shape=(), dtype=tf.resource, name=None)\n",
            "  140438594110560: TensorSpec(shape=(), dtype=tf.resource, name=None)\n",
            "  140438594042720: TensorSpec(shape=(), dtype=tf.resource, name=None)\n",
            "  140438594117600: TensorSpec(shape=(), dtype=tf.resource, name=None)\n",
            "  140438594118656: TensorSpec(shape=(), dtype=tf.resource, name=None)\n",
            "  140438594114784: TensorSpec(shape=(), dtype=tf.resource, name=None)\n",
            "  140438594117424: TensorSpec(shape=(), dtype=tf.resource, name=None)\n",
            "  140438594124640: TensorSpec(shape=(), dtype=tf.resource, name=None)\n",
            "  140438594121120: TensorSpec(shape=(), dtype=tf.resource, name=None)\n",
            "  140438594120768: TensorSpec(shape=(), dtype=tf.resource, name=None)\n",
            "  140438594122352: TensorSpec(shape=(), dtype=tf.resource, name=None)\n",
            "  140438594124464: TensorSpec(shape=(), dtype=tf.resource, name=None)\n",
            "  140438594120240: TensorSpec(shape=(), dtype=tf.resource, name=None)\n",
            "  140438594214848: TensorSpec(shape=(), dtype=tf.resource, name=None)\n",
            "  140438594215904: TensorSpec(shape=(), dtype=tf.resource, name=None)\n",
            "  140438594212032: TensorSpec(shape=(), dtype=tf.resource, name=None)\n",
            "  140438594214672: TensorSpec(shape=(), dtype=tf.resource, name=None)\n",
            "  140438594222064: TensorSpec(shape=(), dtype=tf.resource, name=None)\n",
            "  140438594221008: TensorSpec(shape=(), dtype=tf.resource, name=None)\n",
            "  140438594223472: TensorSpec(shape=(), dtype=tf.resource, name=None)\n",
            "  140438594219600: TensorSpec(shape=(), dtype=tf.resource, name=None)\n",
            "  140438594222240: TensorSpec(shape=(), dtype=tf.resource, name=None)\n",
            "  140438594219952: TensorSpec(shape=(), dtype=tf.resource, name=None)\n",
            "  140438594000624: TensorSpec(shape=(), dtype=tf.resource, name=None)\n",
            "  140438594003264: TensorSpec(shape=(), dtype=tf.resource, name=None)\n",
            "  140438593999216: TensorSpec(shape=(), dtype=tf.resource, name=None)\n",
            "  140438594001152: TensorSpec(shape=(), dtype=tf.resource, name=None)\n",
            "  140438594009424: TensorSpec(shape=(), dtype=tf.resource, name=None)\n",
            "  140438594008368: TensorSpec(shape=(), dtype=tf.resource, name=None)\n",
            "  140438594010832: TensorSpec(shape=(), dtype=tf.resource, name=None)\n",
            "  140438593997280: TensorSpec(shape=(), dtype=tf.resource, name=None)\n",
            "  140438594009600: TensorSpec(shape=(), dtype=tf.resource, name=None)\n",
            "  140438594120416: TensorSpec(shape=(), dtype=tf.resource, name=None)\n",
            "  140438593917824: TensorSpec(shape=(), dtype=tf.resource, name=None)\n",
            "  140438593918880: TensorSpec(shape=(), dtype=tf.resource, name=None)\n",
            "  140438593915008: TensorSpec(shape=(), dtype=tf.resource, name=None)\n",
            "  140438593917648: TensorSpec(shape=(), dtype=tf.resource, name=None)\n",
            "  140438593924864: TensorSpec(shape=(), dtype=tf.resource, name=None)\n",
            "  140438593923808: TensorSpec(shape=(), dtype=tf.resource, name=None)\n",
            "  140438593926448: TensorSpec(shape=(), dtype=tf.resource, name=None)\n",
            "  140438593915360: TensorSpec(shape=(), dtype=tf.resource, name=None)\n",
            "  140438593924336: TensorSpec(shape=(), dtype=tf.resource, name=None)\n",
            "  140438593920464: TensorSpec(shape=(), dtype=tf.resource, name=None)\n",
            "  140438594719584: TensorSpec(shape=(), dtype=tf.resource, name=None)\n",
            "  140438594717120: TensorSpec(shape=(), dtype=tf.resource, name=None)\n",
            "  140438594716240: TensorSpec(shape=(), dtype=tf.resource, name=None)\n",
            "  140438594719760: TensorSpec(shape=(), dtype=tf.resource, name=None)\n",
            "  140438594726800: TensorSpec(shape=(), dtype=tf.resource, name=None)\n",
            "  140438594725744: TensorSpec(shape=(), dtype=tf.resource, name=None)\n",
            "  140438594728208: TensorSpec(shape=(), dtype=tf.resource, name=None)\n",
            "  140438594724336: TensorSpec(shape=(), dtype=tf.resource, name=None)\n",
            "  140438594726976: TensorSpec(shape=(), dtype=tf.resource, name=None)\n",
            "  140438594731024: TensorSpec(shape=(), dtype=tf.resource, name=None)\n",
            "  140438594831456: TensorSpec(shape=(), dtype=tf.resource, name=None)\n",
            "  140438594831104: TensorSpec(shape=(), dtype=tf.resource, name=None)\n",
            "  140438594833568: TensorSpec(shape=(), dtype=tf.resource, name=None)\n",
            "  140438594833216: TensorSpec(shape=(), dtype=tf.resource, name=None)\n",
            "  140438594840432: TensorSpec(shape=(), dtype=tf.resource, name=None)\n",
            "  140438594839376: TensorSpec(shape=(), dtype=tf.resource, name=None)\n",
            "  140438594841840: TensorSpec(shape=(), dtype=tf.resource, name=None)\n",
            "  140438594837968: TensorSpec(shape=(), dtype=tf.resource, name=None)\n",
            "  140438594840608: TensorSpec(shape=(), dtype=tf.resource, name=None)\n",
            "  140438594837616: TensorSpec(shape=(), dtype=tf.resource, name=None)\n",
            "  140438594766624: TensorSpec(shape=(), dtype=tf.resource, name=None)\n",
            "  140438594765216: TensorSpec(shape=(), dtype=tf.resource, name=None)\n",
            "  140438594845888: TensorSpec(shape=(), dtype=tf.resource, name=None)\n",
            "  140438594766800: TensorSpec(shape=(), dtype=tf.resource, name=None)\n",
            "  140438594773664: TensorSpec(shape=(), dtype=tf.resource, name=None)\n",
            "  140438594772608: TensorSpec(shape=(), dtype=tf.resource, name=None)\n",
            "  140438594775248: TensorSpec(shape=(), dtype=tf.resource, name=None)\n",
            "  140438594766976: TensorSpec(shape=(), dtype=tf.resource, name=None)\n",
            "  140438594773136: TensorSpec(shape=(), dtype=tf.resource, name=None)\n",
            "  140438594778240: TensorSpec(shape=(), dtype=tf.resource, name=None)\n",
            "  140438594771552: TensorSpec(shape=(), dtype=tf.resource, name=None)\n",
            "  140438594777008: TensorSpec(shape=(), dtype=tf.resource, name=None)\n",
            "  140438594779296: TensorSpec(shape=(), dtype=tf.resource, name=None)\n",
            "  140438594684176: TensorSpec(shape=(), dtype=tf.resource, name=None)\n",
            "  140438594729968: TensorSpec(shape=(), dtype=tf.resource, name=None)\n",
            "  140438594691216: TensorSpec(shape=(), dtype=tf.resource, name=None)\n",
            "  140438594692272: TensorSpec(shape=(), dtype=tf.resource, name=None)\n",
            "  140438594688400: TensorSpec(shape=(), dtype=tf.resource, name=None)\n",
            "  140438594691040: TensorSpec(shape=(), dtype=tf.resource, name=None)\n",
            "  140438594698256: TensorSpec(shape=(), dtype=tf.resource, name=None)\n",
            "  140438594694736: TensorSpec(shape=(), dtype=tf.resource, name=None)\n",
            "  140438594694384: TensorSpec(shape=(), dtype=tf.resource, name=None)\n",
            "  140438594695440: TensorSpec(shape=(), dtype=tf.resource, name=None)\n",
            "  140438594698432: TensorSpec(shape=(), dtype=tf.resource, name=None)\n",
            "  140438594693856: TensorSpec(shape=(), dtype=tf.resource, name=None)\n",
            "  140438592167024: TensorSpec(shape=(), dtype=tf.resource, name=None)\n",
            "  140438592168080: TensorSpec(shape=(), dtype=tf.resource, name=None)\n",
            "  140438592164208: TensorSpec(shape=(), dtype=tf.resource, name=None)\n",
            "  140438592166848: TensorSpec(shape=(), dtype=tf.resource, name=None)\n",
            "  140438592172832: TensorSpec(shape=(), dtype=tf.resource, name=None)\n",
            "  140438592171776: TensorSpec(shape=(), dtype=tf.resource, name=None)\n",
            "  140438592174240: TensorSpec(shape=(), dtype=tf.resource, name=None)\n",
            "  140438592170368: TensorSpec(shape=(), dtype=tf.resource, name=None)\n",
            "  140438592173008: TensorSpec(shape=(), dtype=tf.resource, name=None)\n",
            "  140438592170720: TensorSpec(shape=(), dtype=tf.resource, name=None)\n",
            "  140438592179360: TensorSpec(shape=(), dtype=tf.resource, name=None)\n",
            "  140438592182000: TensorSpec(shape=(), dtype=tf.resource, name=None)\n",
            "  140438592177952: TensorSpec(shape=(), dtype=tf.resource, name=None)\n",
            "  140438592179888: TensorSpec(shape=(), dtype=tf.resource, name=None)\n",
            "  140438592188160: TensorSpec(shape=(), dtype=tf.resource, name=None)\n",
            "  140438592187104: TensorSpec(shape=(), dtype=tf.resource, name=None)\n",
            "  140438592189568: TensorSpec(shape=(), dtype=tf.resource, name=None)\n",
            "  140438592185696: TensorSpec(shape=(), dtype=tf.resource, name=None)\n",
            "  140438592188336: TensorSpec(shape=(), dtype=tf.resource, name=None)\n",
            "  140438592185344: TensorSpec(shape=(), dtype=tf.resource, name=None)\n",
            "  140438592327344: TensorSpec(shape=(), dtype=tf.resource, name=None)\n",
            "  140438592324880: TensorSpec(shape=(), dtype=tf.resource, name=None)\n",
            "  140438592324000: TensorSpec(shape=(), dtype=tf.resource, name=None)\n",
            "  140438592327520: TensorSpec(shape=(), dtype=tf.resource, name=None)\n",
            "  140438592334384: TensorSpec(shape=(), dtype=tf.resource, name=None)\n",
            "  140438592333328: TensorSpec(shape=(), dtype=tf.resource, name=None)\n",
            "  140438592335968: TensorSpec(shape=(), dtype=tf.resource, name=None)\n",
            "  140438592324176: TensorSpec(shape=(), dtype=tf.resource, name=None)\n",
            "  140438592333856: TensorSpec(shape=(), dtype=tf.resource, name=None)\n",
            "  140438592338960: TensorSpec(shape=(), dtype=tf.resource, name=None)\n",
            "  140438592244368: TensorSpec(shape=(), dtype=tf.resource, name=None)\n",
            "  140438592242432: TensorSpec(shape=(), dtype=tf.resource, name=None)\n",
            "  140438592244720: TensorSpec(shape=(), dtype=tf.resource, name=None)\n",
            "  140438592244544: TensorSpec(shape=(), dtype=tf.resource, name=None)\n",
            "  140438592251584: TensorSpec(shape=(), dtype=tf.resource, name=None)\n",
            "  140438592250528: TensorSpec(shape=(), dtype=tf.resource, name=None)\n",
            "  140438592252992: TensorSpec(shape=(), dtype=tf.resource, name=None)\n",
            "  140438592249120: TensorSpec(shape=(), dtype=tf.resource, name=None)\n",
            "  140438592251760: TensorSpec(shape=(), dtype=tf.resource, name=None)\n",
            "  140438592257216: TensorSpec(shape=(), dtype=tf.resource, name=None)\n",
            "  140438592046352: TensorSpec(shape=(), dtype=tf.resource, name=None)\n",
            "  140438592046000: TensorSpec(shape=(), dtype=tf.resource, name=None)\n",
            "  140438592048640: TensorSpec(shape=(), dtype=tf.resource, name=None)\n",
            "  140438592048112: TensorSpec(shape=(), dtype=tf.resource, name=None)\n",
            "  140438592055328: TensorSpec(shape=(), dtype=tf.resource, name=None)\n",
            "  140438592054272: TensorSpec(shape=(), dtype=tf.resource, name=None)\n",
            "  140438592056736: TensorSpec(shape=(), dtype=tf.resource, name=None)\n",
            "  140438592052864: TensorSpec(shape=(), dtype=tf.resource, name=None)\n",
            "  140438592055504: TensorSpec(shape=(), dtype=tf.resource, name=None)\n",
            "  140438592052512: TensorSpec(shape=(), dtype=tf.resource, name=None)\n",
            "  140438592053216: TensorSpec(shape=(), dtype=tf.resource, name=None)\n",
            "  140438592054096: TensorSpec(shape=(), dtype=tf.resource, name=None)\n",
            "  140438592059376: TensorSpec(shape=(), dtype=tf.resource, name=None)\n",
            "  140438592013408: TensorSpec(shape=(), dtype=tf.resource, name=None)\n",
            "  140438592060432: TensorSpec(shape=(), dtype=tf.resource, name=None)\n",
            "  140438592018864: TensorSpec(shape=(), dtype=tf.resource, name=None)\n",
            "  140438592021504: TensorSpec(shape=(), dtype=tf.resource, name=None)\n",
            "  140438592017456: TensorSpec(shape=(), dtype=tf.resource, name=None)\n",
            "  140438592019392: TensorSpec(shape=(), dtype=tf.resource, name=None)\n",
            "  140438592027664: TensorSpec(shape=(), dtype=tf.resource, name=None)\n",
            "  140438592017808: TensorSpec(shape=(), dtype=tf.resource, name=None)\n",
            "  140438592023088: TensorSpec(shape=(), dtype=tf.resource, name=None)\n",
            "  140438592025376: TensorSpec(shape=(), dtype=tf.resource, name=None)\n",
            "  140438592027488: TensorSpec(shape=(), dtype=tf.resource, name=None)\n",
            "  140438592256160: TensorSpec(shape=(), dtype=tf.resource, name=None)\n",
            "  140438592232384: TensorSpec(shape=(), dtype=tf.resource, name=None)\n",
            "  140438592233440: TensorSpec(shape=(), dtype=tf.resource, name=None)\n",
            "  140438592229568: TensorSpec(shape=(), dtype=tf.resource, name=None)\n",
            "  140438592232208: TensorSpec(shape=(), dtype=tf.resource, name=None)\n",
            "  140438592239424: TensorSpec(shape=(), dtype=tf.resource, name=None)\n",
            "  140438592238368: TensorSpec(shape=(), dtype=tf.resource, name=None)\n",
            "  140438592241008: TensorSpec(shape=(), dtype=tf.resource, name=None)\n",
            "  140438592229920: TensorSpec(shape=(), dtype=tf.resource, name=None)\n",
            "  140438592238896: TensorSpec(shape=(), dtype=tf.resource, name=None)\n",
            "  140438592235024: TensorSpec(shape=(), dtype=tf.resource, name=None)\n",
            "  140438592214944: TensorSpec(shape=(), dtype=tf.resource, name=None)\n",
            "  140438592216000: TensorSpec(shape=(), dtype=tf.resource, name=None)\n",
            "  140438592212128: TensorSpec(shape=(), dtype=tf.resource, name=None)\n",
            "  140438592214768: TensorSpec(shape=(), dtype=tf.resource, name=None)\n",
            "  140438592222160: TensorSpec(shape=(), dtype=tf.resource, name=None)\n",
            "  140438592221104: TensorSpec(shape=(), dtype=tf.resource, name=None)\n",
            "  140438592223568: TensorSpec(shape=(), dtype=tf.resource, name=None)\n",
            "  140438592219696: TensorSpec(shape=(), dtype=tf.resource, name=None)\n",
            "  140438592222336: TensorSpec(shape=(), dtype=tf.resource, name=None)\n",
            "  140438592220048: TensorSpec(shape=(), dtype=tf.resource, name=None)\n",
            "  140438550678864: TensorSpec(shape=(), dtype=tf.resource, name=None)\n",
            "  140438550681504: TensorSpec(shape=(), dtype=tf.resource, name=None)\n",
            "  140438550677456: TensorSpec(shape=(), dtype=tf.resource, name=None)\n",
            "  140438550679392: TensorSpec(shape=(), dtype=tf.resource, name=None)\n",
            "  140438550687664: TensorSpec(shape=(), dtype=tf.resource, name=None)\n",
            "  140438550686608: TensorSpec(shape=(), dtype=tf.resource, name=None)\n",
            "  140438550689072: TensorSpec(shape=(), dtype=tf.resource, name=None)\n",
            "  140438550675520: TensorSpec(shape=(), dtype=tf.resource, name=None)\n",
            "  140438550687840: TensorSpec(shape=(), dtype=tf.resource, name=None)\n",
            "  140438550684848: TensorSpec(shape=(), dtype=tf.resource, name=None)\n",
            "  140438550776464: TensorSpec(shape=(), dtype=tf.resource, name=None)\n",
            "  140438550774528: TensorSpec(shape=(), dtype=tf.resource, name=None)\n",
            "  140438550776816: TensorSpec(shape=(), dtype=tf.resource, name=None)\n",
            "  140438550776640: TensorSpec(shape=(), dtype=tf.resource, name=None)\n",
            "  140438600589984: TensorSpec(shape=(), dtype=tf.resource, name=None)\n",
            "  140438600590864: TensorSpec(shape=(), dtype=tf.resource, name=None)\n",
            "  140438600590336: TensorSpec(shape=(), dtype=tf.resource, name=None)\n",
            "  140438600591920: TensorSpec(shape=(), dtype=tf.resource, name=None)\n"
          ]
        }
      ]
    },
    {
      "cell_type": "markdown",
      "source": [
        "#Trial\n"
      ],
      "metadata": {
        "id": "RcMDUstm8gEa"
      }
    },
    {
      "cell_type": "code",
      "source": [
        "import os\n",
        "import zipfile\n",
        "import tensorflow as tf\n",
        "from tensorflow.keras.preprocessing.image import ImageDataGenerator\n",
        "from tensorflow.keras import layers, models, regularizers\n",
        "from tensorflow.keras.applications import MobileNetV2\n",
        "import shutil\n",
        "import numpy as np"
      ],
      "metadata": {
        "id": "iPR6hlbY8hxc"
      },
      "execution_count": 57,
      "outputs": []
    },
    {
      "cell_type": "code",
      "source": [
        "dataset_folder = '/content/construction_site_dataset'\n",
        "css_data_dir = os.path.join(dataset_folder, 'css-data')\n",
        "\n",
        "# Define the directories for training, validation, and test data\n",
        "train_dir = os.path.join(css_data_dir, 'train')\n",
        "valid_dir = os.path.join(css_data_dir, 'valid')\n",
        "test_dir = os.path.join(css_data_dir, 'test')\n",
        "\n",
        "# Check if images or labels folders exist inside train, valid, and test\n",
        "train_images_dir = os.path.join(train_dir, 'images')\n",
        "valid_images_dir = os.path.join(valid_dir, 'images')\n",
        "test_images_dir = os.path.join(test_dir, 'images')\n",
        "\n",
        "# Print the contents of each directory\n",
        "print(\"Train images directory contents:\", os.listdir(train_images_dir))\n",
        "print(\"Valid images directory contents:\", os.listdir(valid_images_dir))\n",
        "print(\"Test images directory contents:\", os.listdir(test_images_dir))\n"
      ],
      "metadata": {
        "id": "4w4rRDhS_bJV",
        "colab": {
          "base_uri": "https://localhost:8080/"
        },
        "outputId": "09ee6f4a-44ff-49eb-f729-3ff05dae5a65"
      },
      "execution_count": 58,
      "outputs": [
        {
          "output_type": "stream",
          "name": "stdout",
          "text": [
            "Train images directory contents: ['construction-4-_mp4-19_jpg.rf.9bd721934889a9f63923ffb5285f4d3c.jpg', 'youtube-224_jpg.rf.0e87e77b917fae082722bc8e324092f5.jpg', 'youtube-667_jpg.rf.730ceb4b36b1417c6f952e2f5b0e6406.jpg', 'youtube-550_jpg.rf.2a83bed08e8a623e8261f9c935f70e09.jpg', 'construction-523-_jpg.rf.32a3982052d2961d530c1b49d3fe9a0f.jpg', 'youtube-175_jpg.rf.43dd4680523315f10c35983495275887.jpg', 'youtube-235_jpg.rf.f06d5cefa3f6f6b1ca0b4f707b71f016.jpg', 'youtube-568_jpg.rf.40b08efe635c831ccfeaff4494c412e1.jpg', 'mask-wearing-1632933572733_png_jpg.rf.ef7fc5df6b537c8c859bd7a0e4524a7d.jpg', 'youtube-276_jpg.rf.4db3522d66a80bfdd0afd4e92b7416b6.jpg', 'Bookstore111_jpg.rf.ebe6cd0b7e77dc3cea423b7b3458f67f.jpg', 'image_61_jpg.rf.29cef9c1e3298c6c56c69489d47dd7e1.jpg', 'construction-1062-_jpg.rf.bb9d74532f809eda6343cb0f354fc269.jpg', 'youtube-246_jpg.rf.8809473eb178b062b48fb1ee9b8e5369.jpg', 'construction-118-_jpg.rf.834d29e7ecd402dc301281478710eca5.jpg', '707_jpg.rf.8457eeaff99b07ff4e8ccb2317a7092a.jpg', '60_jpg.rf.7605faf52324ab72b148018c8ed93813.jpg', 'Movie-on-10-31-22-at-10_08-AM_mov-0_jpg.rf.5eb18cc65358b70ee602eafa99f2ff54.jpg', 'helmet999595_jpg.rf.6a6b0da0eaf9935229661a8a938ac91a.jpg', '005376_jpg.rf.f9d2282335b826a6baedffbb64cde582.jpg', 'image_796_jpg.rf.ef8c514974bb1395603f1a6a17a5638e.jpg', 'youtube-60_jpg.rf.17608ba2791115490e8624a0c0834f31.jpg', 'REVZGCBIJNQPMIIXOKDCQA3GJI_jpg.rf.12108ff6f8823fb661f2e8bb18b573cf.jpg', 'youtube-573_jpg.rf.713c4e4f79425510b5402a432d7bb392.jpg', 'ppe_0629_jpg.rf.4b0c8967670504f8469f6f0cf739ba32.jpg', 'youtube-699_jpg.rf.f3f1ac75a5f49d3f2e92c55798b10853.jpg', '006858_jpg.rf.f39d0c81a93d765d935f0f93295969d1.jpg', 'construction-267-_jpg.rf.ec6899b2550e859e6ffc075cd1903202.jpg', 'construction-4-_mp4-19_jpg.rf.b39073990b499b99dfe415a49fdb90bb.jpg', '005139_jpg.rf.e8403525bf33f19710d4adb5344256a9.jpg', 'youtube-646_jpg.rf.527616d746832ff14fc3555475685d1f.jpg', 'image_46_jpg.rf.48f9b930b56324dd2a055f249d7e247c.jpg', 'additional_tests-Nomask-wearing_mp4-35_jpg.rf.5cc8c4f2191c8dd3960db8e35aa92a1e.jpg', 'image_861_jpg.rf.084188e53e8f57c52d982c7a064afda9.jpg', 'construction-1-_mp4-60_jpg.rf.73ba97ab2f23c2ef4776160a27424f5a.jpg', 'construction-4-_mp4-189_jpg.rf.61bdf5db12b5dac593e742763da5043d.jpg', 'youtube-448_jpg.rf.08cb40c9d8a2813f6470fb2d2b1c61d4.jpg', 'construction-135-_jpg.rf.de989df51bba3fbfd485a65b285614a9.jpg', 'class1_253_jpg.rf.e8dbb66bc9377a3be293ce677b65c6e5.jpg', 'youtube-682_jpg.rf.36e90cb60cd8dfe2db4f9442f5492264.jpg', 'ins27_jpg.rf.21537e8ebf2f0a7fe02ebe6604272202.jpg', 'youtube-567_jpg.rf.1482e6c104401564d8293ee68f3369ac.jpg', 'amz_04178_png_jpg.rf.66878feb10ab848f3eb8cba2f05f0c31.jpg', 'construction-708-_jpg.rf.b1132dae9e707cb3cff82d42c3ace26e.jpg', 'image_740_jpg.rf.a609426b253105a9150695c8988a5cc5.jpg', 'youtube-391_jpg.rf.f4e10bd17cbc14d9d28a70c5e2e91150.jpg', 'smartmi-3pcs-filter-mask-pm25-haze-dustproof-mask-with-vent_jpg.rf.65cfa771ef85d3e3a5301e5ed0ccbd75.jpg', 'construction-5-_mp4-135_jpg.rf.ec35d9039ec826da9bc60496d2220f09.jpg', 'construction-112-_jpg.rf.aff73a376ef301a11e45c58fb084e7a5.jpg', 'construction-5-_mp4-29_jpg.rf.3ab6fb82c7b98c1cdb491e40508707a8.jpg', 'airport_inside_0449_jpg.rf.c52784087552daffc6c5f1e472955011.jpg', 'IMG_3103_mp4-1_jpg.rf.dd2fa809ba888fea1271c9931bca7b20.jpg', 'youtube-361_jpg.rf.3f7aa8802b2b37a2720fc4a5bd1fe05d.jpg', 'youtube-207_jpg.rf.9e0f85119e6ae22ff1c5fa5272606c5c.jpg', '002682_jpg.rf.b6b693995a740eb1a889f07fb5529845.jpg', '001425_jpg.rf.970cbc9921e627d49bab629e2bc7dd6c.jpg', 'youtube-196_jpg.rf.f867c0e95ef00e76e642e924d22d717f.jpg', 'image_31_jpg.rf.def230a91172b5472d173410bc978c40.jpg', 'construction-618-_jpg.rf.b1c7243e9ca367424591231467dad5c1.jpg', 'autox6_mp4-20_jpg.rf.01fd6c988a63b016a2ba95b6030344ac.jpg', 'image_566_jpg.rf.5949d42c2b92e40bc7d0d9130c5b1920.jpg', 'image_833_jpg.rf.a760d2cfd7ae0325593e33a966b49f83.jpg', 'autox4_mp4-112_jpg.rf.889d826e6c48099cdbaffc4cde949c1a.jpg', 'youtube-506_jpg.rf.a80afde96da589684d5c9b15c7b669df.jpg', '006012_jpg.rf.140391c68102321f02973bd473f607da.jpg', 'Mask2_mov-44_jpg.rf.7e8d95ce75a599860a7fff8c669ae851.jpg', 'IMG_0871_mp4-21_jpg.rf.3742720f5b18a07792795b1692cb46ec.jpg', 'RPReplay_Final1667001201_MP4-334_jpg.rf.51fd7c36651eed0fd6e08aa5d6763367.jpg', '2008_008753_jpg.rf.d4c5f043915bded8b5a1909134766f54.jpg', 'construction-684-_jpg.rf.f62968bca482b0ec40fd2771d94c2633.jpg', 'image_246_jpg.rf.95dc4339438bd272b9a2d2221e77945d.jpg', 'RPReplay_Final1667001201_MP4-21_jpg.rf.ffab92c4b5d4e9d14d4de9a8fef566fe.jpg', 'youtube-29_jpg.rf.8a394954d5e6c7f7f6b659b06fdd4150.jpg', '2009_002883_jpg.rf.33d18b918997b24639bd3b38944059da.jpg', 'airport_inside_0550_jpg.rf.d35ed2eaed77cca9c93f3d7c31064003.jpg', 'Image_991_jpg.rf.a52106bd4af0ce8bc49d9b8f6ba5c6c7.jpg', 'youtube-228_jpg.rf.29b0901283987da9bd0844bd373c2888.jpg', 'IMG_3100_mp4-25_jpg.rf.6cee1b67a21808fad2318593379f9986.jpg', 'youtube-272_jpg.rf.a40270b67814f8d7cf05eedcdfda4d35.jpg', 'IMG_9949-1-_mp4-63_jpg.rf.0d50a1b1eeb76ddeda4adb7d0713ad40.jpg', 'image_740_jpg.rf.bb45115dd9add31efda4687b92a2f78f.jpg', 'youtube-51_jpg.rf.2b25d288a8e8ad0429f9f22277c532b8.jpg', 'youtube-646_jpg.rf.e65c657ffa1ac398dc1dcebcb42b1e52.jpg', 'construction-4-_mp4-41_jpg.rf.c5e4bcc5976beec3e62122474353665b.jpg', '-3394-_png_jpg.rf.23b668cbcad07f1e0d9cfdedd151fd46.jpg', 'IMG_7286_JPG_jpg.rf.f3e308debd4cc4d6fc39218cb5c41ab5.jpg', 'youtube-480_jpg.rf.f56b518c19b3d3bb20226a0d0cb52cdf.jpg', 'construction-1050-_jpg.rf.8da8dac323ed509151143b4251c66b6d.jpg', 'youtube-668_jpg.rf.ce3804ef6c8f28490efeb8d2b5d52090.jpg', 'MariusConePic60_png_jpg.rf.e3c78bec7f9d53c0d0b9c7107c9d4dbd.jpg', '129_jpg.rf.0cb07be3237753e24204a014ebee12a0.jpg', '005139_jpg.rf.b51d392a15c3ca4943cfe750427ceb97.jpg', 'image_23_jpg.rf.8d8c02a91212d9c1f43fcae6d17defe0.jpg', 'image_176_jpg.rf.b8a919c25f0cc5d1caf0e4db3f2f77d0.jpg', 'construction-4-_mp4-189_jpg.rf.f2e4339a999eb718ff43ad57e06b4da6.jpg', 'youtube-13_jpg.rf.f99e4eb123997cf1a94823e7091657df.jpg', 'image_721_jpg.rf.6a8f6d3cde1115ffb9a796d78ba2b4fe.jpg', 'construction-821-_jpg.rf.f3d6f50ef917d0bf1a77282663f1e7a0.jpg', 'helmet999595_jpg.rf.f2eb6111970813c351aa83e7fb3aa21d.jpg', 'mo-justin-mask-NoMask_mov-34_jpg.rf.94fc350ee2eec538a35e13245f61b5a3.jpg', 'youtube-116_jpg.rf.e8009a00e3b89cbbf8af90a6338c1777.jpg', '2_jpg.rf.9ea7125de2c58de7327b2b061398d7f4.jpg', 'image_740_jpg.rf.92657171f87bcedef193b7abaa2fef39.jpg', '616_jpg.rf.cf72efbe3dbc4a777ba5bf192ad4bc33.jpg', 'class2_093_jpg.rf.7b80c39438a5b6c591341b76b449e55f.jpg', 'youtube-348_jpg.rf.f0c0935c79f1c2b59a63daa2b24ec45a.jpg', 'IMG_0871_MOV-30_jpg.rf.469d54b5cfd60a22d3b797c243043c82.jpg', 'YouTube_FreeStockFootage_People-wearing-face-mask_Empty-Street_Covid19-D_DbgrvhlGs-720p_mp4-11_jpg.rf.d3cdda5a6cc03c53f501c541ce35f055.jpg', 'youtube-554_jpg.rf.b18de4169917a75781361b42dcfede78.jpg', 'IMG_0871_mp4-10_jpg.rf.df7e36757e8f14d68d24814e81014f96.jpg', 'IMG_3100_mp4-6_jpg.rf.216a0344d34eb56a4730e981474eecec.jpg', 'image_861_jpg.rf.669a2ef10b751ba8851bde01c22a5632.jpg', 'img17_jpg.rf.a88d83be344f9592580a2e5c0c4dbfe4.jpg', 'londres_023_jpg.rf.5285d3173b933fcec7a18be4a6937074.jpg', 'image_294_jpg.rf.3fb7868468c81bc16637ea012898a6a3.jpg', 'image_55_jpg.rf.687fe5037e332ac02eb6cc93310845be.jpg', 'construction-618-_jpg.rf.7519c6fdc08f7146cc7a75a6437e2c5e.jpg', 'IMG_0871_mp4-0_jpg.rf.a3872a120d08419183f618c1ba5e7b48.jpg', '931_jpg.rf.53f65203b4afb8ca9ecbd4b4db03ffcf.jpg', '598_jpg.rf.41202d61b1f20d12b9539e39f77df32c.jpg', 'bookstore_38_02_altavista_jpg.rf.ae0ecbdcf798d341ca28b85a9f4918c6.jpg', 'image_566_jpg.rf.97e9b469fb0cd059278ff9cc8850f51b.jpg', 'mask-wearing-1632933572733_png_jpg.rf.ade0dc53cbb1070b9623428cd6d4ce74.jpg', 'youtube-486_jpg.rf.2054453ea6cb0f6e0d70231d298023b7.jpg', 'construction-253-_jpg.rf.d5829d56d58b707680c115aa1695b7c9.jpg', 'IMG_3103_mp4-3_jpg.rf.6153ea96525294c99f2a3b3c0d678fd0.jpg', 'image_704_jpg.rf.b020f3c4d3817254f832c3153d5d4047.jpg', 'image_757_jpg.rf.77d2e9e137cb91349fad23f3bb976007.jpg', 'youtube-474_jpg.rf.58f399a349808873e81a5592ceb49bbd.jpg', 'autox4_mp4-111_jpg.rf.007d84ad1f436206297bbc55b174fff9.jpg', 'construction-5-_mp4-137_jpg.rf.31d83b8a75abe31cb4d45ec7a18b42f8.jpg', '01261_jpg.rf.e4057437ee374e03ad9d0faeccbdcc72.jpg', 'youtube-573_jpg.rf.458129309c1c8850dbb06583b40a222a.jpg', 'youtube-18_jpg.rf.0e8406438fb943d30b283fd375756634.jpg', 'Movie-on-10-31-22-at-10_08-AM_mov-3_jpg.rf.4bb721c44b98a568ce3c1fbb70a4edde.jpg', 'construction-1099-_jpg.rf.df1d160085e954901f2efa84fd4a2e91.jpg', 'construction-5-_mp4-96_jpg.rf.ac37d2e09cdbfe8a45a670d5d9bd9b3e.jpg', 'image_475_jpg.rf.02bab98c288efee2ac30a3a19deab362.jpg', 'image_241_jpg.rf.53b2134f52e6617c58be5484c5b78667.jpg', 'youtube-224_jpg.rf.828282763610b13afaab1adc61cda0e8.jpg', 'youtube-849_jpg.rf.cdf29746fafb9adf4faa0db8deb66e54.jpg', 'youtube-636_jpg.rf.fad86da27a46317102835ff1395b307a.jpg', 'youtube-435_jpg.rf.6aa12c0a2e7658ba820900145dbb7b2d.jpg', 'youtube-459_jpg.rf.395f16aff5655d92ac8204ed967eb157.jpg', 'image_296_jpg.rf.73761155f1b463dff7eb2bdedad471e8.jpg', '1288788-une-employee-aide-des-voyageurs-en-provenance-de-chine-le-26-janvier-2020-a-l-aeroport-de-roissy_jpg.rf.e65c339a3dc986701e765116332dba2d.jpg', 'construction-347-_jpg.rf.da66417ec4dc8d612f5613fa67c262c7.jpg', 'construction-3-_mp4-23_jpg.rf.56e52a54a8316188c2a9584db9f40143.jpg', '4c43875bc97cdaece84ac6ce555235f1_jpg.rf.f0ababbd27b5c11652961e9e5b4da88b.jpg', 'IMG_5848_jpg.rf.66334b93ee34ef38681c9b88f8b9c66a.jpg', 'construction-2-_mp4-178_jpg.rf.7cea31ac9f8ab023bd65a904607a3d06.jpg', '135e-huxwryw6451820_jpg.rf.47219072cbbb4ed0d05bbfb4a495530a.jpg', 'construction-2-_mp4-178_jpg.rf.fa1b55734f91780c56954103f0e94ed5.jpg', 'construction-5-_mp4-137_jpg.rf.c21fdd6ea91c01d8f9f37d3f8cc7e474.jpg', '2008_008593_jpg.rf.a997ae409b26bbc3efa95dd6da91554e.jpg', 'youtube-464_jpg.rf.8784a32dc660e889975cf6d6065c469a.jpg', 'image_170_jpg.rf.2f38597bb6655852af47e376e052feec.jpg', 'class1_253_jpg.rf.122650046bf29ce612abeb7114621da2.jpg', 'image_731_jpg.rf.448630cbbbb702e4ba5710dc31384d0a.jpg', 'youtube-423_jpg.rf.fdfa1b970cc3b37e43b875883bc028eb.jpg', 'construction-1062-_jpg.rf.1c92fda4bd441d59c70cb857fe1283c0.jpg', 'construction-4-_mp4-188_jpg.rf.222a8ed73f017be9b2c3fb6c9e250bca.jpg', '2008_008593_jpg.rf.d56866006a516df1e61df4c19d11e159.jpg', 'IMG_3103_mp4-15_jpg.rf.d7e8a84fc7e9d53fe348320ea3af0e94.jpg', 'helmet999595_jpg.rf.dee6180028ca0d9f7a4c9e3988bff5e7.jpg', '2008_008526_jpg.rf.4c032b16756eb8ad94db6a8a224fb076.jpg', 'construction-4-_mp4-165_jpg.rf.13e8f0c11975618d318500a65f96805e.jpg', 'youtube-18_jpg.rf.e9a52e771b256c2e73a344a78e56bc3d.jpg', 'construction-999-_jpg.rf.0ed1dc47f25c88ee8da807e857fe4c41.jpg', 'image_841_jpg.rf.08463a010c475c732497176882629cdc.jpg', 'Movie-on-10-31-22-at-10_08-AM_mov-15_jpg.rf.cbab80300ef1d1918dfc98bd605c80ff.jpg', 'construction-2-_mp4-219_jpg.rf.d00dcbb1681782b09b105dd0c54d5852.jpg', 'construction-5-_mp4-75_jpg.rf.0844c3312299abbdca62c47534d96bca.jpg', 'image_937_jpg.rf.4e072512d29ae92199a58d2700039e5e.jpg', '002682_jpg.rf.32c372b1f8fe5c33729441cfa170fac6.jpg', 'IMG_3100_mp4-17_jpg.rf.cac019c72f4cfdc7fb9a916792eeb20e.jpg', 'image_337_jpg.rf.a1e56acd1e4cb3c5ccf547785cc41677.jpg', 'image_784_jpg.rf.664db1f56143ebf30ac8aa6cc47001f0.jpg', 'IMG_0871_mp4-24_jpg.rf.04f8e0e63c52a64b7c0b5bfcf48e84db.jpg', 'construction-3-_mp4-211_jpg.rf.a59e7bd9c031f0128fdde8485a5031f3.jpg', 'ppe_0629_jpg.rf.d95844bf887d9a486a3d5b4074edd25d.jpg', 'image_61_jpg.rf.d5e8864ef89417603f542c210b1d5c3a.jpg', 'image_875_jpg.rf.0f5439432d802c7229752bf569e7abc6.jpg', 'construction-4-_mp4-188_jpg.rf.c1a0568e41d5309293800c0e99cdc65b.jpg', '01235_jpg.rf.a9a777b5a318084f48a13a5f125554f5.jpg', 'image_731_jpg.rf.d69ac3d276810e2023c03d8002185485.jpg', 'image_302_jpg.rf.4b76d28e9817d77daf35b3ba59dc4c4c.jpg', 'image_941_jpg.rf.36c3b66812c73b361669e47bc055cc40.jpg', 'youtube-574_jpg.rf.4f2d383a6755c89da14c19c04f482a11.jpg', 'image_965_jpg.rf.0d903559d161c9be66f5508439656ec9.jpg', 'youtube-480_jpg.rf.faf443d4d10cc97074f6a80225f0ac29.jpg', 'youtube-812_jpg.rf.375474621f788ea313458cf4a7ba6e6a.jpg', 'youtube-207_jpg.rf.2b487f36db322cf9d08924a371efeeef.jpg', 'construction-268-_jpg.rf.7f61f198051a137993ee8c2936c75ecb.jpg', 'youtube-813_jpg.rf.63b422efff31ad667fbb228d39e0a2eb.jpg', 'construction-3-_mp4-211_jpg.rf.7a50e0bbc5b5dcf920cbd67eeaa0c576.jpg', 'image_1006_jpg.rf.54940aeca29eda3a51abe0cc917b0da9.jpg', 'youtube-276_jpg.rf.603b4c8af1bdb3b3858166bc2877048e.jpg', 'image_93_jpg.rf.92add6f12b5a17c292b30d081e7b9505.jpg', 'youtube-464_jpg.rf.270dc5c89f2d25b354d4cb1ba1d79a79.jpg', 'image_622_jpg.rf.eb67018944ac0f71031e3e94a0500667.jpg', 'IMG_0871_mp4-10_jpg.rf.5029e6b54c840d58a76479bfc12f73fc.jpg', 'Image_995_jpg.rf.60c0e78f49bac4cf43c00466d73bbcb7.jpg', 'construction-619-_jpg.rf.195c36f2b32843181bf4dfb5ffad2707.jpg', 'video_CDC-YOUTUBE_mp4-60_jpg.rf.b3e3d72f289dd1159dd93c1c3326e087.jpg', 'image_221_jpg.rf.1ad6ad58d2f06450b700f8e0c56bc859.jpg', 'image_418_jpg.rf.e566fa0d44b45d557b0b035a7d8d9e4e.jpg', 'youtube-270_jpg.rf.62a75ad69c0902ce2734b232975c1884.jpg', 'airport_inside_0345_jpg.rf.0ec6de25e596ed13beec56137db2cb19.jpg', 'construction-897-_jpg.rf.b1bd9732b4098eac183a82595f21199b.jpg', 'RPReplay_Final1667001201_MP4-370_jpg.rf.1a532f9ab681b2a276aaba111cec7f1a.jpg', 'video_CDC-YOUTUBE_mp4-60_jpg.rf.f0c74e62803aebc2c66afe8c01f2a773.jpg', 'construction-4-_mp4-27_jpg.rf.b8542d8311255bda3b5c5e0bbca8979d.jpg', 'youtube-661_jpg.rf.96b27bc1550d9c74255de3061c1d61cb.jpg', 'image_941_jpg.rf.9ce815eb34cff79f814a6e53ac470498.jpg', '005180_jpg.rf.07de45ecea6050e4afec7f8a3632ea11.jpg', 'construction-3-_mp4-67_jpg.rf.0c47d8b4097c133fc9320c56d5838ede.jpg', 'youtube-492_jpg.rf.74685b3e61f844bad845e9bec0c6f214.jpg', 'image_673_jpg.rf.6b9ad0d962abb35a825c6cc2c9faff5c.jpg', 'construction-435-_jpg.rf.af852baf4acdd1cf317e509d1609464e.jpg', 'construction-3-_mp4-67_jpg.rf.f1110ee47dca5c33c0afdb8f21f4283d.jpg', 'youtube-137_jpg.rf.f3c12d70881b7bcf0004d76431db4870.jpg', '4c43875bc97cdaece84ac6ce555235f1_jpg.rf.8f711c6b8a5d905cd6c0011a1a37e71b.jpg', 'youtube-228_jpg.rf.c2556222492905d23da402b351eba2e5.jpg', 'image_170_jpg.rf.0f55b91722306f122699342ce6c057aa.jpg', 'image_498_jpg.rf.ef40b17e50a80c7f7f3fb240a15d9d60.jpg', '01261_jpg.rf.a2f9b65be201cebad78a1c25a855b0f2.jpg', '235_jpg.rf.fc43ddf1f7b8872bae6b2d1f1495f634.jpg', 'Image_1025_jpg.rf.d305cc24e2ade948caab2bb624791bb4.jpg', 'RTX7CD4D-e1580252893876_jpg.rf.79dfa1562749048955b91d007f2ca5b7.jpg', 'Apple-Tests-Face-ID-Feature-While-Wearing-a-Mask-Shorts_mp4-51_jpg.rf.ffa08318a536c7ee18b57f9dbcc6616f.jpg', '-I1-MS09uaqsLdGTFkgnS0Rcg1mmPyAj95ySg_eckoM_jpeg_jpg.rf.ebf4adda36378f39ccb4a751d9c18183.jpg', 'autox5_mp4-34_jpg.rf.3c78d4783f9d8451aa12e1a2177ec740.jpg', 'IMG_3100_mp4-15_jpg.rf.c31067570072a0839fd1ab6cd0b7a5a7.jpg', 'image_818_jpg.rf.e6cd4aff34d752d2094d6c52cecaa239.jpg', 'class2_151_jpg.rf.c9d700ec806d7480fa61106081e9deac.jpg', 'youtube-376_jpg.rf.bb669b1ccbb511a2517b6080308046b5.jpg', '2_jpg.rf.2eba3dc769a0689dda8f6eb3fdbd297e.jpg', 'image_662_jpg.rf.21199937bc568e202a04c5c4e3867511.jpg', 'IMG_7211_PNG_jpg.rf.4cc6e82cb3e26474fe674ea343197438.jpg', '002458_jpg.rf.2d87971bcbefb5465fabce9ab5ec5967.jpg', 'move_in_corridor_jpg.rf.5b9d356b81a8ebcf90bf076911aab3fe.jpg', 'youtube-848_jpg.rf.bef04dc9e34440277e80f82cbdce6e8a.jpg', 'construction-4-_mp4-38_jpg.rf.731a7f476aa82dc019b3d59f977c11cb.jpg', 'image_46_jpg.rf.89b7dbc38378711e0f67bc3111df2884.jpg', 'youtube-423_jpg.rf.95b39994b1b2c6e4e40cbfbbc149d6b1.jpg', 'IMG_0871_mp4-1_jpg.rf.9e6880a33264ccea03e74b2773ed712e.jpg', '2008_008652_jpg.rf.6b38069d24cf22969d271effcec92c03.jpg', '005773_jpg.rf.6fd082a2f449bb3d41d8c0180cb6f6df.jpg', 'class1_199_jpg.rf.613bff69919975a0c19a8b77c7f2b139.jpg', 'airport_inside_0214_jpg.rf.15a384374cf39042cbdd00d9a0973b36.jpg', 'image_50_jpg.rf.2fd4f730ebf2e12ae454946a0927b5c8.jpg', 'IMG_0871_mp4-5_jpg.rf.986a2bfc0bc4260332a8718fe6711684.jpg', 'image_153_jpg.rf.f86a092614e123c322194a8bd8eccca6.jpg', 'IMG_3100_mp4-6_jpg.rf.6d3bf85c0ee0b95b3b9e84759125d470.jpg', 'image_647_jpg.rf.b5c65ea5f3f2326ad2beb751e0b72c04.jpg', 'youtube-560_jpg.rf.95875f8d875c1a43c1b4e6f39f77780d.jpg', 'Movie-on-10-31-22-at-10_08-AM_mov-10_jpg.rf.a76217e1b8a14424f279d8ae65cbbee6.jpg', 'construction-3-_mp4-122_jpg.rf.00a97bfc32df3222f4b9a59692a64cc8.jpg', 'youtube-165_jpg.rf.6b00efd09ed86e6969894d0bcc5aebb2.jpg', 'ppe_0985_jpg.rf.d354c1af8965080e1b86cf4a97d4d762.jpg', 'youtube-824_jpg.rf.66d684a9888bb29ffe83793dd2ed3528.jpg', 'construction-5-_mp4-96_jpg.rf.cb5353552d12f5f60ba0c90cda46d843.jpg', 'IMG_3100_mp4-17_jpg.rf.6fac032fb27d942d8578e0493d5e8fd1.jpg', 'construction-435-_jpg.rf.0d50ada8fdca82a1c6912db00230fd40.jpg', 'Movie-on-10-31-22-at-10_08-AM_mov-13_jpg.rf.2c6528020ce23351ad0d21110a578b0d.jpg', 'youtube-10_jpg.rf.c0fb2322113188e5da9d1716b1a04ebd.jpg', '2008_008382_jpg.rf.88abdb29b7db6d6218399b4adebdbe66.jpg', 'autox2_mp4-74_jpg.rf.03de8daca553a69507d670f4bf0247e2.jpg', 'image_620_jpg.rf.305fa19f39497ad2b70f8a7ad556a004.jpg', 'youtube-809_jpg.rf.054e02a52e43e5e78988cf5ff0e012c0.jpg', '2008_008382_jpg.rf.051446bdb7b3da2d378bef843e2db409.jpg', 'youtube-832_jpg.rf.45c0405782581cbf4192e788bcb8665b.jpg', '-2544-_png_jpg.rf.13bfe27776b4d713faf93d42421ae13f.jpg', 'image_704_jpg.rf.a5b43ef2288512fbe06fe5863393da06.jpg', 'youtube-502_jpg.rf.a17be40a7edd6cd947c24e8902b3abea.jpg', 'youtube-855_jpg.rf.346f539ebe7317c5c7202185ddd56af5.jpg', 'IMG_0871_mp4-21_jpg.rf.024bd8e9d752e4b0e2c647cd9bea94ad.jpg', 'youtube-51_jpg.rf.3145d6b80394273089e6b3dbd86d3a2b.jpg', 'youtube-560_jpg.rf.2f8d44461cd667c44659a5751d05bd04.jpg', 'amz_01638_png_jpg.rf.a5977d57aca5da492de5943c25631e3e.jpg', 'IMG_3100_mp4-24_jpg.rf.f251793e25ddd374d88a3d05b2ba10ce.jpg', 'youtube-837_jpg.rf.1c9fe1c871e46ff877c1f2b443576319.jpg', 'youtube-229_jpg.rf.2aabd364d6992f30d47742fa8b611d95.jpg', 'IMG_3103_mp4-15_jpg.rf.1982fcb34cda55f30264c4e7c9cc5506.jpg', 'IMG_5847_jpg.rf.b3c1a0e8834bfc57efcb59090121c44e.jpg', '2008_008618_jpg.rf.11fe8e58330bb2d014dcd6c04cdc04af.jpg', 'image_716_jpg.rf.a50609af0eb4794c25375a9eb9869742.jpg', 'IMG_0871_mp4-5_jpg.rf.3b3bc55bbbe3cad17f0dfbf621bb310e.jpg', '002458_jpg.rf.2a5e959314f62660e27f9ab53cf21952.jpg', 'construction-999-_jpg.rf.23daf4cedd16091ba4334c1fd6e8b271.jpg', 'youtube-730_jpg.rf.26bec93a311351ca9c06119164ef8de5.jpg', 'front_crawling_00088_jpg.rf.a2d51b171dfaa47798690e0a4150423a.jpg', 'youtube-730_jpg.rf.dc8771c0575bb38ba15221310f1eb78b.jpg', 'youtube-252_jpg.rf.03f835bfbb40ca3239a0e2693b12c3b5.jpg', 'image_288_jpg.rf.45c7f0134ba6495b00dce8a10b98c922.jpg', 'IMG_3100_mp4-24_jpg.rf.4b65b1bcb5f9753bbb16956181f44659.jpg', '494_jpg.rf.9528435ded55bbe6bae4d2f3d478ca71.jpg', 'IMG_3100_mp4-5_jpg.rf.ccef0f78d59cded299511b43a1b899cc.jpg', 'image_673_jpg.rf.b735afb05956b1748764df1dfe11f0cb.jpg', 'Movie-on-10-31-22-at-10_08-AM_mov-3_jpg.rf.abf1bf422e052a7a44c307a1f7c94b7a.jpg', '000415_jpg.rf.63b7e0293fb53612fdb4695fa0debfb7.jpg', 'youtube-726_jpg.rf.7ca57d637c5acb0d2772e0815a6d80e3.jpg', 'video_CDC-YOUTUBE_mp4-50_jpg.rf.95dcacf53d3e25b6eb8d595f84e47388.jpg', 'youtube-300_jpg.rf.96830f04e5e24cd4fd66dc852d2933be.jpg', '-2297-_png_jpg.rf.9fff3740d864fbec9cda50d783ad805e.jpg', 'youtube-266_jpg.rf.50e4241fd44af0788a1f3530e49b2e07.jpg', '135e-huxwryw6451820_jpg.rf.934c0f8f070cf99570b4fe46256e9c0f.jpg', 'image_560_jpg.rf.c9db5d5571253f2e6bd8b8559e0cc313.jpg', 'IMG_5024_mp4-4_jpg.rf.d5013fea721284359d4e763e53e6692e.jpg', 'youtube-806_jpg.rf.c0abadb1a80331958e9b2f0fcdc99469.jpg', 'video_CDC-YOUTUBE_mp4-60_jpg.rf.a996d64f9fab297449534660422289c1.jpg', '005139_jpg.rf.264f7aac166fc2d8628473d964339aa2.jpg', '-2544-_png_jpg.rf.185d1d1c0cb4027d76f7e31cd409022e.jpg', 'youtube-384_jpg.rf.4112a46ab81f97f392849d7656bb47c0.jpg', 'youtube-209_jpg.rf.b5ad704cb8a44e82ab6697bb3c275fd9.jpg', 'youtube-809_jpg.rf.6fb92c2982d1c552da9c5ba10ff72d5e.jpg', 'youtube-270_jpg.rf.f37b036f2e57b71cba2781aacd44447f.jpg', 'construction-763-_jpg.rf.1f60ab1eaefee1f11c673ea202888bbd.jpg', '627_jpg.rf.efaff0a9ea6cfd24b2ed0bbf8b09edf6.jpg', 'ppe_0029_jpg.rf.4de755a33273c4a133641a62c69bea46.jpg', '165_jpg.rf.b04fddf04e5b76ae6a68fa12f94390d0.jpg', 'youtube-229_jpg.rf.72892899bc70a5c19c6313db73666df8.jpg', 'bowling_0014_jpg.rf.192dc02b9aca65ed8c0200d86ff873e5.jpg', 'image_50_jpg.rf.20d6911819d7f972d6606a4636ab1b40.jpg', 'youtube-187_jpg.rf.b93f4561b9a8e36014df11550075b9d4.jpg', 'construction-305-_jpg.rf.0ca723c56ea7de2d5d2482750837c6e2.jpg', 'Mask2_mov-44_jpg.rf.43a0b2a020b8d09ce2449370403be44b.jpg', 'image_624_jpg.rf.e535adb62ea33ee97c2df2b13113c4f5.jpg', 'mask-wearing-1632932085584_png_jpg.rf.25173d12a53c03ee1b12dbc1c023f7d6.jpg', 'class1_199_jpg.rf.7470f7f5a9af05a8cab23a126ab247b1.jpg', 'class2_151_jpg.rf.7c9b4ff5801d8817a3da4485cb3a52d2.jpg', 'Industrial-3-Part-Skymaster-insitu_jpg.rf.3655be228fc86e1053c10a51a5d16b34.jpg', '-2252-_png_jpg.rf.5d2ba68a39912deb9e4383661418224f.jpg', 'autox6_mp4-157_jpg.rf.0bb6fec008de80af30afd18d1a6c676f.jpg', 'amz_02354_png_jpg.rf.05804b93377b6f8d38b6e61553c4c129.jpg', 'youtube-229_jpg.rf.d5f55a3c41b3bbc9c0408db11fd3182f.jpg', 'image_326_jpg.rf.ea420584500c363c0851769a46b1ea3e.jpg', 'IMG_5850_jpg.rf.2aa73bed7732daebfbde3f13fa13f740.jpg', 'construction-246-_jpg.rf.bded1f9cc77f185a6281e371634a4759.jpg', '2008_008444_jpg.rf.88f63ad836e2885c2e4d56d8f4ebf471.jpg', 'class2_074_jpg.rf.fcad9abb23e115e251789cae2020ab58.jpg', 'amz_02354_png_jpg.rf.a3aba4dcbc962e937a2b590392aec320.jpg', 'construction-4-_mp4-188_jpg.rf.b432a7682ba15224171e52a9c7d30a71.jpg', 'class5_012_jpg.rf.91a8109030706b5ab458c84d5aadcf67.jpg', 'amz_01638_png_jpg.rf.fc30c65fb3c1e97e7114ecb396a1004b.jpg', 'youtube-661_jpg.rf.fa385cb41313359cf19b3a20a78d944f.jpg', 'construction-3-_mp4-122_jpg.rf.0bf7d059fd927edf3286b16f9f4fc764.jpg', 'Image_991_jpg.rf.bcf09e9cb1b50e75676d26026b1dd6e6.jpg', 'londres_023_jpg.rf.f769008a6a62c2c3fad47b312f95a5cc.jpg', 'image_191_jpg.rf.71069501abb9c1241f65f97034042a1c.jpg', '2008_008618_jpg.rf.36f88cd9160d2a0be857a1f22210540b.jpg', '005376_jpg.rf.0c1077624516cc048e465b4a675ce5e2.jpg', 'construction-528-_jpg.rf.cf2c53e133b7c53f3374d4bb2e6c6b89.jpg', 'construction-3-_mp4-148_jpg.rf.b032a56f7ba893a520c79ed256a65f02.jpg', 'youtube-188_jpg.rf.2b59761677c691be543a13bd9792f616.jpg', 'youtube-645_jpg.rf.b1b8eab76ceffb9ed93fee8ed2bbed86.jpg', 'youtube-175_jpg.rf.923def3bc3a0cbe771c4f938bea6c297.jpg', 'image_880_jpg.rf.be962d8d02f0e9f8c7fb77cb53594529.jpg', 'youtube-668_jpg.rf.4aa90caeca7a6635021aea2a4f3ccf13.jpg', 'construction-434-_jpg.rf.d5ba4f33db856f8fe617d0283dbba3bb.jpg', 'video_CDC-YOUTUBE_mp4-50_jpg.rf.cb32d15d49f5f5a43a828b26ef50c6f9.jpg', 'class1_253_jpg.rf.6f354ca9b3b40523fcd3c44e935ad835.jpg', '2_jpg.rf.81cecacca0143515726201efb42fe5b6.jpg', 'youtube-303_jpg.rf.a516811dbe3ba18ff8c6e196490c1789.jpg', 'construction-560-_jpg.rf.114f9f0f47688c4843cc7cd8a35c95c8.jpg', 'autox5_mp4-34_jpg.rf.e0c7d0632b6b6ec9aae7b89a2b096bea.jpg', 'image_875_jpg.rf.3d674469d92b9dc298a57c5468b95e1f.jpg', 'construction-4-_mp4-189_jpg.rf.d1e7f3d623c27f0779083ec386106007.jpg', 'IMG_5847_jpg.rf.c9bb83b73ce7dfdec5f3a37f18a5fc4b.jpg', 'construction-5-_mp4-98_jpg.rf.d740dd74b71d71e5b4377878190090ad.jpg', '02629_jpg.rf.1c71d128f3dca9b80504e5e7163508bc.jpg', 'construction-4-_mp4-185_jpg.rf.2f9a20acb20029a8d99caf5f3b76e0b3.jpg', 'IMG_5024_mp4-5_jpg.rf.d30dafa5092b6bf3be54c97d9ba8af12.jpg', 'class1_235_jpg.rf.b8c6421174b3ec692ff917bb380968e2.jpg', '598_jpg.rf.92e4f3ce086a97c13042066ab56e4725.jpg', 'youtube-242_jpg.rf.a071a5824b6c309c3360741639d653e8.jpg', '2009_004301_jpg.rf.91ec90a81cecd19e78920c6ceaf0d01e.jpg', 'airport_inside_0214_jpg.rf.55aa735ddec0ec8b610b74d2cc8e840c.jpg', 'IMG_5851_jpg.rf.61c635069db71ba9ca15d73e7f4d860c.jpg', 'youtube-395_jpg.rf.adc53c60bee577e3e1a70893ba7dfbdd.jpg', 'construction-434-_jpg.rf.0da1846417898f4705b991db5ddf9892.jpg', 'youtube-574_jpg.rf.3e198affe680e93fff82325572cc6972.jpg', 'construction-693-_jpg.rf.1b09f74fb2b1e1f685580241cb6c368f.jpg', 'fnacc_corridor_jpg.rf.9650bd5f5ec69e22870d64a7e5d6452b.jpg', 'ppe_0750_jpg.rf.6a25fb7ef7bba0bbadeaa81926f2500c.jpg', 'construction-4-_mp4-38_jpg.rf.60ef8acdb20ee1db1643bdc4e0ed9838.jpg', 'IMG_0873_MOV-10_jpg.rf.14fa8d79b68f5e05ad10827bf55d7d2b.jpg', 'youtube-459_jpg.rf.f805f9dac7087523ded2d9abcc092d76.jpg', 'youtube-254_jpg.rf.1939cc2235cb0e0fa9498e877a191892.jpg', 'YouTube_FreeStockFootage_People-wearing-face-mask_Empty-Street_Covid19-D_DbgrvhlGs-720p_mp4-11_jpg.rf.beca7821153673629c7d133ac8e4a71e.jpg', 'image_288_jpg.rf.f3ce8a0cb0824f37d91f151e6bc9e4e8.jpg', 'IMG_5848_jpg.rf.f85d11dd4ca63822364c1c1ebb1c23db.jpg', 'construction-813-_jpg.rf.5399e99ca598ff02316d420184b77a09.jpg', 'class2_151_jpg.rf.c690c0834b8a4d77844db032744a2e96.jpg', 'Movie-on-10-31-22-at-10_08-AM_mov-0_jpg.rf.4d7f373a15931dfd2572e11460cdda90.jpg', 'youtube-332_jpg.rf.b7a75e3e3e84a76bfe76ff228d95d664.jpg', '005577_jpg.rf.f153278ef72ca14b0fee9d9c16331fa2.jpg', 'construction-4-_mp4-94_jpg.rf.2b9ba76d627d94a28cf92437d21569cc.jpg', 'IMG_0871_MOV-39_jpg.rf.914e1002113e41ada32a1a90a66aab9a.jpg', 'class5_012_jpg.rf.94da244a7179a22b22715a0a69a1086b.jpg', 'image_23_jpg.rf.4d595f95fa30ca00a4e0dac39d6d0447.jpg', 'ins30_jpg.rf.9a68c27ba37a2ff961e674ab0a791c0d.jpg', 'Inside-merge_mov-16_jpg.rf.509243c79928e5eb4f9e9c448fd01aea.jpg', '-2252-_png_jpg.rf.f1af5d3457c140c4af5f63f7ac6f79f4.jpg', '005773_jpg.rf.f74645690452329b76e09a3fe0a26735.jpg', 'construction-813-_jpg.rf.5e884cd4df5ca5b9638ff04197fca7b5.jpg', 'autox6_mp4-20_jpg.rf.9c0e1ceb391e1bad75ca88cf9b6ba045.jpg', 'youtube-709_jpg.rf.53c48ecb7866e3081701207f656fccc2.jpg', 'construction-897-_jpg.rf.71a3bca2df2ced388a3e28c47d6b85e7.jpg', 'construction-682-_jpg.rf.420357ac3472a3dfe9631df6dcb809d0.jpg', 'construction-560-_jpg.rf.a353d8779de14a95c1cd52bfbf47c368.jpg', 'youtube-567_jpg.rf.290d0d726e3263a6dd0985a5641acdb6.jpg', 'construction-5-_mp4-48_jpg.rf.4fdbba397c6dbde429373640d634e935.jpg', 'youtube-615_jpg.rf.ef4781ab78ef34a83cae9a6c44658dcf.jpg', 'image_796_jpg.rf.853d0ea8303cedda3b36c59f65f03cbe.jpg', 'image_435_jpg.rf.b7353391129378f1de81fe5ac436d72f.jpg', 'IMG_0871_MOV-39_jpg.rf.b1ef6aecc28e153eeb71c698cee34c0f.jpg', 'youtube-407_jpg.rf.c9d017f8efbd7555d23f79504a2dfbaf.jpg', 'IMG_0871_mp4-9_jpg.rf.2f7c21e75f95f0f1b1803a708e06f342.jpg', 'image_241_jpg.rf.179998a1907f7ec0efb31058dfadfcfc.jpg', 'youtube-554_jpg.rf.9546dec733b426a9358402a0f27b2648.jpg', 'image_498_jpg.rf.635c6a6b76f2377a87be191023c9f3a9.jpg', 'youtube-18_jpg.rf.d2817da497a7109e0388ea1550d9901a.jpg', 'n190039_jpg.rf.88627d9e82a53fef7f6c11b7029faeaf.jpg', 'image_46_jpg.rf.fca0eb9eb04c5c3fc20e3783f18f56f2.jpg', 'n190039_jpg.rf.ac2ef3422c18ec974d83ba84b23e5b2c.jpg', 'bowling_0014_jpg.rf.fa3a779743c3d783023951b5bfc09916.jpg', 'autox4_mp4-42_jpg.rf.b46d66b710aa73867b319e1c40104df9.jpg', 'construction-741-_jpg.rf.41c3f830c4dfdc4f555898a2864672f1.jpg', '2009_004301_jpg.rf.f6d3387ae733775532ac78bc18756f07.jpg', 'youtube-360_jpg.rf.9bccf41e7070b3ed0f24dc61e71609a9.jpg', 'image_246_jpg.rf.5b09f63561fa416c6e982b459acf98d4.jpg', 'autox4_mp4-42_jpg.rf.168d938b73a3fad1e02467e01689fb8d.jpg', 'construction-1116-_jpg.rf.d86e88d4a8ced388b86abff05c5aeefe.jpg', 'youtube-197_jpg.rf.7f0d9cdc6064fb94be0392bea9c984e7.jpg', 'youtube-731_jpg.rf.47b70ce0a8b8a93aca5916119175a04c.jpg', 'construction-112-_jpg.rf.f8d9f3850971d148a63d2c102197a651.jpg', 'image_731_jpg.rf.5659c6a57ec8c695269d4e192f3ace10.jpg', 'youtube-645_jpg.rf.8a5e2742de2430f50d2641fa3e7151cf.jpg', 'construction-976-_jpg.rf.aa9cd497223593bb3d528673dbeb75f5.jpg', '-1975-_png_jpg.rf.b5622016579bca7e2e993de3470405e0.jpg', 'youtube-64_jpg.rf.333df47a2727bb154654857a9b997445.jpg', '2009_000063_jpg.rf.ac4540391143af1302719e3168371e12.jpg', 'RPReplay_Final1667001201_MP4-55_jpg.rf.c8d6c2e9f831b945ef1ae37dbf74279c.jpg', 'construction-1115-_jpg.rf.f4e84bf10d14c55df148f2f8ea589760.jpg', 'YouTube-FreeStockFootage_Child-playing-with-parents-JoyLaughterHD-RQ_qqCZOkZk-720p_mp4-42_jpg.rf.e48e1b080b1e11b2dd67076404d70931.jpg', 'Image_1009_jpg.rf.34eb16e960f75d46499ea6ab6237dabf.jpg', 'RPReplay_Final1667001201_MP4-370_jpg.rf.5c21800e4a180039fa8c029132eaa81d.jpg', 'airport_inside_0073_jpg.rf.22bc836b34109ced850c762d4213727d.jpg', '002682_jpg.rf.495badbe291ebb8518eec8a9d947f0c7.jpg', 'youtube-829_jpg.rf.dea2669b7b26f62b24e48dbfcf6d28f3.jpg', '2008_008600_jpg.rf.d8f5f9cf688bbe34999c4fdea17bc8bf.jpg', 'Image_1021_jpg.rf.c0569909c0a161ddae0bbf3446b84642.jpg', 'ins30_jpg.rf.cd7d441fa802b4042ff89c2bf9a6a013.jpg', 'youtube-589_jpg.rf.07d0bad22d2eb2e35280ae94ba8d359f.jpg', 'image_527_jpg.rf.b58d8bf71e2a9ae6c06f1dd895c8f5c3.jpg', 'YouTube_FreeStockFootage_People-wearing-face-mask_Empty-Street_Covid19-D_DbgrvhlGs-720p_mp4-11_jpg.rf.aef8e3cdccf0305e2c8237fb6734dc69.jpg', 'construction-1116-_jpg.rf.293365d3885eed0bcae63201c5ca15f6.jpg', 'image_829_jpg.rf.5378c70ffdef0f8e67e904614f4354d1.jpg', 'construction-1-_mp4-64_jpg.rf.92efd1b50f4e66f245f5705e2d6b7342.jpg', 'image_39_jpg.rf.ae457b40ef2ab2b4b0e24718388019ea.jpg', 'maksssksksss795_png_jpg.rf.d3b354627736744726846a775f91d887.jpg', '005376_jpg.rf.b5f5bae65dbd647030aa3a08c16f17f0.jpg', '616_jpg.rf.fdef094924d19a5cd197494c1cb81759.jpg', '005773_jpg.rf.8d8eb7d11388f2283ec465d523c98a6a.jpg', 'construction-860-_jpg.rf.e5cafb3fde90c38990c846516ac4996c.jpg', '2009_000280_jpg.rf.7c269bca3935b65ae9bf2d15593b9711.jpg', '006012_jpg.rf.57e2757e014f88ed990284daa18faed6.jpg', 'IMG_3100_mp4-23_jpg.rf.d2ec775d08f151313efa1364ccbd6d7f.jpg', 'youtube-502_jpg.rf.c3320c43830b6fc9bbcb449d42c5a810.jpg', 'IMG_3100_mp4-0_jpg.rf.68984554e9decf5117f6fc2e2fb2d8b5.jpg', 'Movie-on-10-31-22-at-10_08-AM_mov-14_jpg.rf.77fd7a99151657fe274f08f9506927d9.jpg', 'image_255_jpg.rf.5037331638f2a0af78d018b8a719dfd9.jpg', 'youtube-731_jpg.rf.3d6e40e059da03693975100ae8a204d6.jpg', 'youtube-42_jpg.rf.3310ac1e447d6d4971d1237670eeabc0.jpg', 'youtube-554_jpg.rf.dcdb088f996430efdc855565535f7c50.jpg', 'ppe_0015_jpg.rf.e9459752d7ff76c1d47841348f62b534.jpg', 'ppe_0491_jpg.rf.f7d47380ac16da405eb34a6a83171afc.jpg', 'youtube-646_jpg.rf.26b91c9dd7980bda27b42271533e4734.jpg', '005100_jpg.rf.8f58de6f4be40f7e676c1e35773b2056.jpg', 'construction-986-_jpg.rf.3e843a82fab27d66c13283ea6e0cb2f6.jpg', 'class1_199_jpg.rf.25ac2f354750de8592d134101f96dec8.jpg', 'airport_inside_0449_jpg.rf.96ce7258cff66f91dc199992535159d2.jpg', 'bowling_0014_jpg.rf.3868e64af06f185495043f847b0d5aab.jpg', '2008_008753_jpg.rf.186c87c81cd6acbc5dbd5a24cdc48033.jpg', 'youtube-29_jpg.rf.996f85a3a30c3e69358f2013e7897e19.jpg', 'construction-860-_jpg.rf.94811593888a6691da4f58ff3b7c7175.jpg', '005100_jpg.rf.94a94bc12f13609d6c57cbd13100dd8e.jpg', 'construction-844-_jpg.rf.a7627602fbf3ea6d5ca64bc7782706ff.jpg', 'image_95_jpg.rf.5a359558ad2cb6996d1053e9bcb16960.jpg', 'IMG_0871_mp4-9_jpg.rf.e58e573ca41180b78bf69f552d78f1ba.jpg', '2008_008600_jpg.rf.fbcb0255367052070ef10f94875ec8e6.jpg', 'construction-267-_jpg.rf.222246f7ce5e3109de00144c4f603292.jpg', '2008_008618_jpg.rf.31e87a24eebedbd40bb9b22f0d0fe788.jpg', 'youtube-824_jpg.rf.7c7e967cd3132bc0a9236facb9d8a9b8.jpg', 'construction-4-_mp4-41_jpg.rf.ab0b49bfa0036086c3d484b988e99934.jpg', '2009_002711_jpg.rf.2432192dc727d132f2eb4e85daf069de.jpg', 'youtube-534_jpg.rf.b99e856a6009778e822431e4e4858a82.jpg', 'youtube-303_jpg.rf.9682cdf3e474e58bf4dd2d23cdf55d98.jpg', 'youtube-492_jpg.rf.86e61eaaffcdff5e4a71394055a3d967.jpg', 'amz_01638_png_jpg.rf.92c962d17e176a4786e34eac1c7f6fe3.jpg', '2009_004148_jpg.rf.5a40d87b1f2f75213b65d0b6d3cc9ee1.jpg', 'Movie-on-10-31-22-at-10_08-AM_mov-28_jpg.rf.1fe0d6f0aac876e1c14d2c6752ecb47b.jpg', 'mask-wearing-1632932085584_png_jpg.rf.20c1b33f4b3995a29499e671565617e5.jpg', 'construction-246-_jpg.rf.c154f584dcea0a9d559484f0f2c14734.jpg', 'IMG_3103_mp4-15_jpg.rf.50d17fb072207d6adc1aa10293ea50bd.jpg', 'construction-3-_mp4-148_jpg.rf.07346a7ecc8e3fe6a1d39371f416e540.jpg', 'youtube-131_jpg.rf.87ec337892f42d6dae5c729a66b463ac.jpg', 'youtube-348_jpg.rf.afbf521c4e2d7f221b58b6bbc3f39f4f.jpg', 'image_55_jpg.rf.88ca3048372d91f49c80084e75cc41de.jpg', 'image_55_jpg.rf.c2bafab72e0cdd8f765964b73df61128.jpg', 'image_18_jpg.rf.a7f18f0fb9fb1c0bebd2baf096afa9f9.jpg', 'IMG_0871_mp4-0_jpg.rf.4abdea6d3496fff646d9cb9abdee22d8.jpg', 'image_13_jpg.rf.2b8a935fb25cb33b55fa32f6906d63ad.jpg', 'youtube-209_jpg.rf.45c339647db05b692016e826489f33f8.jpg', 'youtube-464_jpg.rf.7bb53b3a3ff538572b629a90c80ee56d.jpg', 'IMG_9949-1-_mp4-24_jpg.rf.4e70dafee713880ae7bef777adaf7f09.jpg', 'youtube-228_jpg.rf.c84cc732daaafe38262dd837acb9f0a7.jpg', '1582_jpg.rf.6b13cf235d91a186b9849393992d26d9.jpg', 'image_833_jpg.rf.c8c598680e131743899f326fe3628267.jpg', 'youtube-564_jpg.rf.0bd1880a77344188952361b26e244871.jpg', 'youtube-636_jpg.rf.623eb323389f62bea29c28bd49793022.jpg', 'image_1006_jpg.rf.f3a3c81a1ad91fc3f4432c9e3233a348.jpg', 'IMG_5850_jpg.rf.90ccf023db51c6905c0e271534e707b5.jpg', 'image_527_jpg.rf.d77ff73555880aaa63b1577d5850168f.jpg', 'construction-212-_jpg.rf.78a7d836a9b79b59b0d51323619e63d9.jpg', '2008_008382_jpg.rf.9c0e50eae212ceaba5d487cfc1789a8d.jpg', 'IMG_3103_mp4-3_jpg.rf.b57a67cc9edcb3ac7ee87b2e14e56605.jpg', 'construction-260-_jpg.rf.b8584809048dd6843855f0f8c5b0a7a9.jpg', 'class5_012_jpg.rf.b9584b5d299a1a27b65bea64b58c37ff.jpg', 'image_257_jpg.rf.fd3219a7fb8439fe4f600d235ca920e5.jpg', 'ppe_1212_jpg.rf.5d9175173a153a8b5bf1643129b3a349.jpg', 'IMG_3100_mp4-24_jpg.rf.b29ff2e9363136c15ab19cac4cda72b5.jpg', 'IMG_0871_mp4-14_jpg.rf.67597db5dc2bad280121bbd22170d9d5.jpg', '727_jpg.rf.50453fc49894c5dab11c12563b61938b.jpg', 'ppe_0750_jpg.rf.59c05e6f5064e20add59ff074c518073.jpg', 'construction-1099-_jpg.rf.aadb8d817921f24038d2f6ecd0a78b75.jpg', 'construction-253-_jpg.rf.3e850898ed55f86eced4486e4cb1840f.jpg', '-3394-_png_jpg.rf.55aa7de8ec0bc72fd08ac6c23fd9e7a6.jpg', 'youtube-579_jpg.rf.fb63d26647576c4068406dd26f6cae42.jpg', 'class2_093_jpg.rf.32f5a4ec255bd410a88b1d428d36b978.jpg', 'img_038_jpg.rf.bb15533a376bd72bc9380db78dfcc649.jpg', '2009_000379_jpg.rf.85d67f69b0f051e37d393b7ada4500df.jpg', 'image_620_jpg.rf.491476468415f41cd5c4be5debe9b6ba.jpg', '598_jpg.rf.18076700a0d087010905850e75759dd0.jpg', 'construction-816-_jpg.rf.dcd3ed6a69a914c9f54050d3e07ca5a8.jpg', 'youtube-44_jpg.rf.92002390c73044c6cbf117f81e542eb6.jpg', 'construction-331-_jpg.rf.52581f5e20bb001a25462041667c51e6.jpg', 'image_716_jpg.rf.09d95b35eeade4e91392ea5ca06d7595.jpg', 'image_379_jpg.rf.a90539fc04296d6c7fd0364dd45e5d3b.jpg', 'construction-763-_jpg.rf.b1b2992eab87ad60c8b0cc6c71a42ee1.jpg', '005239_jpg.rf.20727bffc9c5afe39c9bfdddf3a4f222.jpg', 'construction-821-_jpg.rf.098b834846b3be5f1b24ef6dbc3a30a4.jpg', 'image_732_jpg.rf.7e34583546e61772c24efb92dcb60fe8.jpg', 'image_176_jpg.rf.1716b2e67aed8cdf829114b18ad9a099.jpg', 'youtube-64_jpg.rf.863242580b0ac922541b8f479eaaf5ac.jpg', 'Nhh_img_141_jpg.rf.9c0deb5a98f350e6a55e5e0a2baf5b57.jpg', 'Movie-on-10-31-22-at-10_08-AM_mov-0_jpg.rf.17449a231054cf8460daca7adc59c09c.jpg', 'image_379_jpg.rf.77d7bc1ae0d32bf5a2ca4bc2db0b8f56.jpg', 'youtube-49_jpg.rf.eecc0008cd5c3a038f1981f09494321c.jpg', 'construction-2-_mp4-15_jpg.rf.a5fa6e719e0427f773a54c8d4cc19a1d.jpg', 'image_757_jpg.rf.7b0a8bc8ca385ef69f92a05a4d7cabe2.jpg', 'move_in_corridor_jpg.rf.6ab9a86dad87653d6f45f5a8e51a0efa.jpg', 'construction-547-_jpg.rf.c52e164f4ba0cb32256dab37ae4ac8c6.jpg', 'construction-1-_mp4-51_jpg.rf.918a7bdc4ca148b6af590b9aa79bb890.jpg', 'construction-305-_jpg.rf.d6bf62f198a43cec387208b956a3c8f7.jpg', '727_jpg.rf.88b4842b25f06d9a0abc65e5200ae5b5.jpg', 'youtube-534_jpg.rf.95e5ec43eaf6f5570750ad6944d9b11e.jpg', 'Movie-on-10-31-22-at-10_08-AM_mov-9_jpg.rf.9c151802b6a69d088e7a9c25c567f3dd.jpg', 'youtube-622_jpg.rf.c2168764d6c0902f3aeeda7ea0706c24.jpg', 'image_28_jpg.rf.5362986b509d3f803a13895c369a03e9.jpg', '707_jpg.rf.bca714d4d4b04e93b580bf480cd071de.jpg', '931_jpg.rf.3fbfec4632048a0d850726a04954a2d6.jpg', 'IMG_9949-1-_mp4-63_jpg.rf.23b3f6343eb2c857c3fddd2fd0b9307e.jpg', 'youtube-731_jpg.rf.e4515115515cca8190fc1dca7f73256b.jpg', 'youtube-628_jpg.rf.062f20d445a5c8951bdebb2e64e3fd91.jpg', '2008_008364_jpg.rf.8b5c0174f04094705ab872fc100939a5.jpg', 'image_181_jpg.rf.b618759936300d0504ae588b7177ee2d.jpg', 'image_255_jpg.rf.b01b03cef655a3666e1152394a055b02.jpg', 'youtube-246_jpg.rf.9a231d454c623fc354c903391dbf2515.jpg', 'youtube-234_jpg.rf.ac9a9ba63409a21e875187ccdb02a91b.jpg', 'construction-1029-_jpg.rf.dd6bee328a829fc5e57997df9428ab4b.jpg', 'construction-3-_mp4-122_jpg.rf.63834f13775dce36318f7dea0ade6f66.jpg', '2008_008337_jpg.rf.b3d479181e4c04ff814ab55502b8055d.jpg', 'RPReplay_Final1667001201_MP4-55_jpg.rf.4f50d4817d682aa2176809573e5f3a19.jpg', 'construction-543-_jpg.rf.e521748f6ab8083fb9705f92e1f4bf02.jpg', 'IMG_0871_mp4-24_jpg.rf.4534d237f8e29efbb855e646f6090edb.jpg', 'construction-4-_mp4-38_jpg.rf.b6b2776f594852b65c5a0a6e7c1fc9d2.jpg', 'maksssksksss710_png_jpg.rf.c7d70b8fc7c19e60cf23d796b5194b49.jpg', 'youtube-228_jpg.rf.44fa319ea27db11bc2e5566fd4f72f3a.jpg', 'youtube-519_jpg.rf.87d82e436cdd1af634d5ce239b333d0f.jpg', 'youtube-42_jpg.rf.ea069358ab213d776e9e9fb675dd9493.jpg', 'image_13_jpg.rf.4bfa0a269577590f4f27b3b92ecbe117.jpg', 'youtube-348_jpg.rf.d60c9d67699236d8bf1be01b619db6fd.jpg', 'youtube-254_jpg.rf.e4f247b7a5566b9a03d834127b9c2683.jpg', 'construction-5-_mp4-96_jpg.rf.b34b00ccea66baa05cf4aa1db72c338b.jpg', 'construction-4-_mp4-188_jpg.rf.178830ca68bff7d8d67e3222bcc993e0.jpg', 'image_784_jpg.rf.d2c68db9d95f69548f5424ecfebca1ad.jpg', 'youtube-409_jpg.rf.131f18f30d7fe2bb76dd876d0e3f1941.jpg', 'image_435_jpg.rf.ea65b0ca9d098b801b88082988050c4e.jpg', 'youtube-57_jpg.rf.ea273bcf5a2ff4438d449ffa5a2db852.jpg', 'ppe_0029_jpg.rf.68d73a92947e699429310cfc21709e56.jpg', 'IMG_7211_PNG_jpg.rf.53137660a8abb36a2036583aebaccc01.jpg', '329_jpg.rf.3a8533cdbd7c8755432f89c212d22719.jpg', 'image_818_jpg.rf.08992adf635b5399deabf2fcf25c9f98.jpg', 'youtube-815_jpg.rf.0d31438a2c4b4e1ae240b81614469ba4.jpg', 'youtube-502_jpg.rf.ed8e508d05b59b2d3676414522c5d94f.jpg', 'construction-212-_jpg.rf.c2e946e66af55cde7a9039b41eab1fdb.jpg', 'youtube-571_jpg.rf.4b3c9270b37ac373025b12708d33df09.jpg', '01437_jpg.rf.dd545905fd49027442d36f029745a7c3.jpg', 'Image_1025_jpg.rf.5f717caaf19eef8596c6b891131909ab.jpg', 'youtube-464_jpg.rf.355495bd54c66f71e909fa906b77e184.jpg', 'youtube-507_jpg.rf.60bda088152f43f075e6a2826e93aaf1.jpg', '-I1-MS09uaqsLdGTFkgnS0Rcg1mmPyAj95ySg_eckoM_jpeg_jpg.rf.fb09ca92aa0016318337101cb73199ae.jpg', 'Movie-on-10-31-22-at-10_08-AM_mov-15_jpg.rf.71ec98f5b5e5d497c2de8d9edaf8c7b8.jpg', 'youtube-391_jpg.rf.f2fc01601297041149e8653fe4093f0e.jpg', 'construction-142-_jpg.rf.c3ba99b04533582e3fc60dbeae85ab17.jpg', 'construction-142-_jpg.rf.53227c120a3027506c31c03c65563d0b.jpg', '003184_jpg.rf.ff0c89d68480e029f33402d458c7531c.jpg', 'autox2_mp4-74_jpg.rf.dc717b3f997effa8bcd6e23c5ce2a029.jpg', 'construction-4-_mp4-27_jpg.rf.59369fee4267c34c2a91da4e0e51acce.jpg', 'youtube-274_jpg.rf.6bcb25893f13d04e647f79a8f7484cf1.jpg', 'construction-986-_jpg.rf.abee995f420532ca7f4f0a1fa4b5ac7d.jpg', '004720_jpg.rf.38351f09d6df1004a9d6fccb2f1cdf5c.jpg', '494_jpg.rf.ea9ca8e7391f4c12e1b63c0aa31760e9.jpg', 'construction-523-_jpg.rf.ef21f97e44dd5015938e07992baeee1a.jpg', 'youtube-170_jpg.rf.f371d64f8eec000f8c0ea59ab367b71e.jpg', 'ins30_jpg.rf.4b8b181f8922dd32cb4a4148b83f2f1d.jpg', '006118_jpg.rf.68e3bf2321bb87ec786d9fd5d60cb2a5.jpg', 'construction-844-_jpg.rf.c183c41efcdbea3de1c46ea27a41887a.jpg', 'youtube-360_jpg.rf.7919b4215e055f4ac79add205695891d.jpg', 'youtube-44_jpg.rf.1d571bccfb30ef3f7ad8d2b53dcb64e0.jpg', 'construction-2-_mp4-113_jpg.rf.ca0ff2e1e2871ab3b689cd8dde311be7.jpg', 'image_937_jpg.rf.1b2ad33f8d4c5ec04341d2f6d1a13e70.jpg', 'additional_tests-Nomask-wearing_mp4-35_jpg.rf.577a53ee9e1896cee0ff0fcfddd4b937.jpg', 'IMG_3103_mp4-11_jpg.rf.0fb9f7898eb8b6542d6089c1deecb273.jpg', 'image_818_jpg.rf.1d3a358731fc9e39e5ee58afa7f0e5e5.jpg', '2009_002883_jpg.rf.d10587ac3861e970e5a2bec61ef90b26.jpg', 'construction-682-_jpg.rf.f3a78ec545db4329587ad62582e5f3cb.jpg', '129_jpg.rf.6ffe5c397bf302ae2bf05108d292a3f8.jpg', 'img_037_jpg.rf.7ac1fae45ffb804a605d797a9675b297.jpg', 'construction-1015-_jpg.rf.7952ff5ef6a051ccadee219cdcc74a86.jpg', 'IMG_0871_mp4-9_jpg.rf.85b15a3da946c2c749da4c447eaf1592.jpg', 'airport_inside_0460_jpg.rf.e493c05d450ed8129338e21610922199.jpg', 'youtube-396_jpg.rf.caa896f1df9fbadcefce4fe79a8be683.jpg', 'youtube-499_jpg.rf.422cea5362e8675e93b7769d6a605011.jpg', 'construction-3-_mp4-67_jpg.rf.2ac209d6daf4ac7a4247a4ee28385fe8.jpg', 'image_880_jpg.rf.9fc48cdadc429034a5868be1d6ca6f5a.jpg', 'image_937_jpg.rf.d6f7ccf07ee21b93ea80e2a5f1f20c23.jpg', 'IMG_0871_MOV-30_jpg.rf.e102dc225c297966196cf0f8f8c6e239.jpg', '-1680-_png_jpg.rf.19e88a5022427045071da3f267825d67.jpg', 'construction-2-_mp4-178_jpg.rf.0b86b7829e2da46f66cbf5dddb677a82.jpg', 'image_435_jpg.rf.acd9bfe83c9ddd61febf6b792d8d074a.jpg', 'construction-2-_mp4-219_jpg.rf.1498e9d4c6c28b283f27aad0187aed96.jpg', 'video_CDC-YOUTUBE_mp4-50_jpg.rf.4912d4cb665e1ab8243c28d9c3039ae8.jpg', 'airport_inside_0550_jpg.rf.e4d7eb4a0f8870365fb2518f58e17459.jpg', 'youtube-303_jpg.rf.07b3e04bed6cfb84b6f10f2c02a305c3.jpg', 'ppe_0738_jpg.rf.cc3eb93fe1d414d1d3ee07d70ba46fb5.jpg', 'construction-1015-_jpg.rf.430489f60abd9b982a14dd7425e577c7.jpg', 'IMG_5847_jpg.rf.8a3aa99c015f474af592cf6196d767b5.jpg', 'RPReplay_Final1667001201_MP4-79_jpg.rf.c1ef8cde2ddaef68e79e186a1623c813.jpg', '01235_jpg.rf.5602858e3d72530c62b1d2f4c3e15770.jpg', '2009_000379_jpg.rf.8a537e55ba2654835278f344da61abfe.jpg', 'IMG_0871_mp4-10_jpg.rf.eb5cded28302977870c452bf3b1df11e.jpg', 'construction-5-_mp4-30_jpg.rf.7cf816e9a4e83c6d9a256ec0acdcb913.jpg', 'image_757_jpg.rf.97ce10366965d7ed2207c0636961408c.jpg', 'youtube-568_jpg.rf.caa58267c551be062e5cc36918405af9.jpg', 'IMG_3100_mp4-0_jpg.rf.8e364de5178639165a16329b5c1b0f82.jpg', 'youtube-832_jpg.rf.ecb937433f6b83437779864849489079.jpg', 'youtube-693_jpg.rf.a48f08b9f05f3c39a406fd1eb9aab12e.jpg', 'youtube-486_jpg.rf.7ed1717194f2f52486146320aa6f41a5.jpg', '-2406-_png_jpg.rf.90ca13003ffd103df1251e958b0fd135.jpg', 'IMG_7286_JPG_jpg.rf.68ad9f1a3104a6a4c22786cc33552e9c.jpg', 'construction-1-_mp4-46_jpg.rf.01a41b1832bcad9c82d2c68ac77d8b38.jpg', 'youtube-376_jpg.rf.bea47bff526392e49df9e9cbcc761e7d.jpg', 'image_575_jpg.rf.c0a0279908ff59e2af4c1724cb945620.jpg', 'youtube-806_jpg.rf.a1aba01a08a482a3fbee13720838ff96.jpg', 'construction-5-_mp4-30_jpg.rf.527821dcd495003327e1d90baeb2f8d3.jpg', 'youtube-645_jpg.rf.ad2e663924cfcee098cd2d2f72dcf238.jpg', 'class2_158_jpg.rf.303db217aab234aba913434a71b8d55d.jpg', 'image_829_jpg.rf.b2c6df2ec1d3dbe9e43ab5f86c21fad0.jpg', 'youtube-824_jpg.rf.52a1bda32589a2e4564cc3f21f3dfb6b.jpg', 'youtube-848_jpg.rf.2ae884f82299c0a160514ba977624182.jpg', 'image_257_jpg.rf.ab68fb78a1ff77d6e41ec5f8fb17a8dd.jpg', 'ppe_0738_jpg.rf.0d196ef7d084c400cd416c81c785642f.jpg', 'image_246_jpg.rf.a4ded3f10e08bb05dd6afcd9c758e91d.jpg', 'construction-523-_jpg.rf.269c0f01c12f196d4de7511811a10dc7.jpg', 'image_796_jpg.rf.e8e096687e5a05e79328b6618b693676.jpg', '01235_jpg.rf.309f857849c1804ab1f2f1f168902f50.jpg', 'image_23_jpg.rf.f140ebb7ae3740e5f867a899ec44e5e2.jpg', 'mask-wearing-1632933572733_png_jpg.rf.9ed180761e32fbbc11dbe2220445c632.jpg', '002458_jpg.rf.dca744088199d83f8e9236beda1f336b.jpg', 'move_in_corridor_jpg.rf.c13fac4f09c8776ba3ed1789fb1645ad.jpg', 'Movie-on-10-31-22-at-10_08-AM_mov-13_jpg.rf.e25ec017fd5d1db9e08c5e3a40d53214.jpg', 'image_731_jpg.rf.73a783ca018f76b895cf5cd2355ac1aa.jpg', 'image_16_jpg.rf.a3f1d05e403a63ada89669d9b61a1276.jpg', 'youtube-61_jpg.rf.4544dac06a788293a264c29adb5c1fbf.jpg', 'mask-wearing-1632933572733_png_jpg.rf.d1dfda64eb6981fe3fdad9f598ab047a.jpg', 'construction-3-_mp4-211_jpg.rf.c91213405dec99608bbb8f739e567e8d.jpg', 'image_986_jpg.rf.2fd4acceeb217b24062956a847f7dc61.jpg', 'construction-3-_mp4-23_jpg.rf.d8cd3b06d19d953b57e6e010c2212c81.jpg', 'construction-142-_jpg.rf.c9fa15249bd2798628a92f5fecba86d2.jpg', 'REVZGCBIJNQPMIIXOKDCQA3GJI_jpg.rf.b16c101282ee19137c82a92271433fd9.jpg', 'image_181_jpg.rf.cd6c683a112d80f17f33d55553f431c0.jpg', 'youtube-460_jpg.rf.faf17ea4f6f46a51cc51629c29946240.jpg', '-2297-_png_jpg.rf.c11b54951365d9db2ce38e43da5a2482.jpg', 'construction-4-_mp4-127_jpg.rf.07956c5256292dc302a129cef45c39c0.jpg', 'image_16_jpg.rf.2a50dbc7c159879fb80f6c29905b69f3.jpg', 'n457047_jpg.rf.50fd5a986202af938990ee887b0e4d74.jpg', 'img_037_jpg.rf.443cb1ae396e00501bef3e2b8eac8af4.jpg', 'construction-753-_jpg.rf.79c6f65288af95c6a5d4c2b1d2b263d8.jpg', 'IMG_3103_mp4-11_jpg.rf.605a9a63de885d697157fad2a64d426f.jpg', 'youtube-641_jpg.rf.f8e9bcb9a5aba1a0fab955a47ea38760.jpg', 'youtube-622_jpg.rf.05aa5b08154e5b2ae45002d5a742b1da.jpg', 'ppe_0491_jpg.rf.4f334efca51ba5b5f9c6a95a94de1ba4.jpg', 'youtube-567_jpg.rf.d531bc4a7eb30dfe6bcaaf760ebad872.jpg', 'youtube-134_jpg.rf.8c2a6336edd07a69318445ce085a35f8.jpg', 'youtube-499_jpg.rf.108e4f13fd0e76422d399dea68b7b744.jpg', 'image_93_jpg.rf.97948cc2b280754b3fb39d6b0318261a.jpg', 'construction-5-_mp4-29_jpg.rf.b3d72d5b8af0726c69bd9a4387dcc631.jpg', 'ka_00884_png_jpg.rf.32f17b2c4943e345a32765b1ce0ac3e9.jpg', 'IMG_0871_MOV-30_jpg.rf.2134662fedec3bb07d20eb107c911520.jpg', 'img_038_jpg.rf.f2b56508a79bfcc1b83e3b1a54d40696.jpg', 'youtube-207_jpg.rf.1dfc95d60337990bec28b0f132c148ec.jpg', 'mask-wearing-1632932085584_png_jpg.rf.4bf437edc7d0549c380eca13c47dbc53.jpg', 'youtube-550_jpg.rf.2868d7a41481681d5455497e2d865591.jpg', 'image_326_jpg.rf.268c733f1ea6e27ba95a8fba388109d0.jpg', 'youtube-829_jpg.rf.85e5bd83de072b517118d5cc45694535.jpg', 'airport_inside_0363_jpg.rf.b84ed2a27c7787c847a869219c2fdaa2.jpg', 'youtube-709_jpg.rf.80681d4729a022bfc1bf6073aadc6f20.jpg', 'IMG_0871_mp4-9_jpg.rf.10d76da3d609f47d2f5d167300168987.jpg', 'construction-543-_jpg.rf.4ac68b4606a6eecb76a48df1ae8ae96a.jpg', 'ins30_jpg.rf.e30d92fec606131c43538afd2c08efbd.jpg', 'mo-justin-mask-NoMask_mov-34_jpg.rf.bdfdb1c5d02e23112cc901dcac98ce67.jpg', 'IMG_0871_mp4-21_jpg.rf.b0e2a552b62ea3eb6658a5496f6c57f1.jpg', 'youtube-235_jpg.rf.f136e4455ee18e0a5fd25415f3eb1381.jpg', 'image_941_jpg.rf.d95b7d6f952668967060bb1c0df36c4f.jpg', '4c43875bc97cdaece84ac6ce555235f1_jpg.rf.8bffc5f836784d47dd928f9a50c72a2c.jpg', 'youtube-809_jpg.rf.c2ab627778ab1c33e77266fd79e6c117.jpg', 'youtube-252_jpg.rf.00af025f2854a4f79fbd9a657ca0f335.jpg', 'ins27_jpg.rf.3528045206c6b33291620e4638378ffd.jpg', 'MariusConePic60_png_jpg.rf.b0a75275cc2fdadceedf0e6452a04678.jpg', '-2406-_png_jpg.rf.e4afdc64224be4738b1cdacd09d1c483.jpg', 'IMG_0871_mp4-13_jpg.rf.d8e40959c6947386bf3885280312b58c.jpg', 'construction-2-_mp4-15_jpg.rf.94d743aaa79935634d2cc4ea6a5bfe2c.jpg', 'youtube-230_jpg.rf.1892d9772f890c9e7a3533235a85887e.jpg', 'construction-753-_jpg.rf.dd5aec5cecb776e35bf0f0b95627932f.jpg', 'construction-5-_mp4-98_jpg.rf.02e8260150fd9b4d149ebdf1b77ae87b.jpg', 'construction-5-_mp4-136_jpg.rf.3f565846fbd70422e73d09aab8c2c2b4.jpg', '2009_000379_jpg.rf.3a55d8966c384074dcf9796a6b60e32d.jpg', 'construction-3-_mp4-166_jpg.rf.86f6e6b28c259a6dfa2a469f129c2441.jpg', '2_jpg.rf.5d1d2457d0de245aa673442ac06891df.jpg', 'Image_995_jpg.rf.3b80546909b3559f8b16499a38571d88.jpg', 'youtube-837_jpg.rf.1b09fa4284f78dbb865099f70462cfad.jpg', '02629_jpg.rf.b9355827a29589ddae4528281e89a885.jpg', 'construction-1099-_jpg.rf.bb495a41d6ea301e0032d76b262640dd.jpg', 'construction-5-_mp4-161_jpg.rf.eeb48446f8aa7bf427983cc229fc22c0.jpg', 'Movie-on-10-31-22-at-10_08-AM_mov-10_jpg.rf.74c78a30315920d466512661db205c5a.jpg', '60_jpg.rf.5827b492f3c06df6e2572f69866a3b49.jpg', 'construction-207-_jpg.rf.67da281e0dc359a3d8e0ff40b561dfac.jpg', 'image_781_jpg.rf.1440f310fa162f472f63301fdaaf62fa.jpg', 'youtube-395_jpg.rf.2aecddbbf7004c6240b8e0b20b6ad020.jpg', 'image_721_jpg.rf.24fc8a861c4a80e9312d55453bcfd926.jpg', 'youtube-459_jpg.rf.0cb0664d323d2c5610c34fcfcb706be5.jpg', 'youtube-197_jpg.rf.85f809ae1a9cbc6d2d95bd7d28bc461d.jpg', 'amz_04178_png_jpg.rf.4313b414c237d190af0ad60830b5bd4c.jpg', 'construction-305-_jpg.rf.7212ecf73d86bcd5fbfc5611f3e08b8a.jpg', 'youtube-568_jpg.rf.b8066e857c2560d855270853a5afbea3.jpg', 'Inside-merge_mov-16_jpg.rf.2d9d3295904e1c9452977ff359637d27.jpg', 'Movie-on-10-31-22-at-10_08-AM_mov-27_jpg.rf.388af137d979efeec7eb6bac90f3728b.jpg', '2009_000063_jpg.rf.bc5d41d82310a6d4decffa753de9b2eb.jpg', 'construction-2-_mp4-213_jpg.rf.3dc254f0ee3f229e0766837fcb916d24.jpg', 'youtube-362_jpg.rf.fe798d76b8ab678f3d86dae831b2e09a.jpg', 'n190039_jpg.rf.8d25d64c2c6cc1fd56cafbe151d2d32a.jpg', 'construction-844-_jpg.rf.cfda77282f185f7885d3bce88583dbe7.jpg', 'construction-5-_mp4-29_jpg.rf.3aa8761e72a2a70eaae36cc6215f9618.jpg', 'construction-1015-_jpg.rf.b72ccaf38436e2085a4b0556d337da38.jpg', 'youtube-480_jpg.rf.89afcc56a64d10e3d0b7c1d6a49b3c27.jpg', 'youtube-709_jpg.rf.25b93351042304554ba1fc60eb8ce451.jpg', 'image_337_jpg.rf.ca3aa462235185a1d309798f889f14fa.jpg', '2009_003000_jpg.rf.cf61f4b407ecc0250f3f8a204311e086.jpg', 'IMG_5847_jpg.rf.c4a1a43cc7ddc97ffd628bbd61204511.jpg', 'hqdefault_jpg.rf.15058891e8e34cb59338ac40e7c1ba67.jpg', 'youtube-682_jpg.rf.1b6032eab51a0902f1d56ff7425c5f2a.jpg', 'youtube-813_jpg.rf.b9c7825c3711b9f313376a12b75553f3.jpg', '2008_008526_jpg.rf.a1eb584550fe5b07c45425a258c66052.jpg', 'image_95_jpg.rf.01a4e40a282db6f049ac60156a611923.jpg', 'youtube-651_jpg.rf.2e6e94353f949ae2b161172623470230.jpg', 'image_314_jpg.rf.3496a5fdbb273b0f8388224cd07a6dfe.jpg', 'class2_151_jpg.rf.1bbd03c09d03633a0fd61f32543da73e.jpg', 'youtube-519_jpg.rf.9f89f818578f6aac6486b358a28d1fe1.jpg', 'smartmi-3pcs-filter-mask-pm25-haze-dustproof-mask-with-vent_jpg.rf.419267d856e963880de8dc3f15b3520f.jpg', 'image_566_jpg.rf.50ab19696fafd47d14ff508a70cc4911.jpg', 'n457047_jpg.rf.254d1968e99ec5d7bc5e946c03f0c5ae.jpg', 'construction-523-_jpg.rf.398c68aba3492f7ba13e48f7399c8344.jpg', 'ins27_jpg.rf.7f942b588422984e5543ddf5add7b2f0.jpg', 'youtube-221_jpg.rf.1f2f1da597212a707dd3529618089532.jpg', '006118_jpg.rf.3a398e4f8ef5bf8cd84c4fc4a6f36ac6.jpg', '01094_jpg.rf.ada3cfdaa41584a1f44bc13caea976fc.jpg', 'construction-2-_mp4-178_jpg.rf.79f0a5b662d06a476cc9a5c9ff703edc.jpg', 'construction-260-_jpg.rf.339601ad6502461bf6ffcd18d61629a2.jpg', 'IMG_0871_mp4-1_jpg.rf.c93495dc1c470abfba67c34e2c21f695.jpg', 'youtube-667_jpg.rf.83a1f7d903a7d652fa31dff151768768.jpg', '2009_000280_jpg.rf.ec836370fef6cf224c1c349c5814fce5.jpg', 'image_965_jpg.rf.32be902c417d44539c1ac160a6eaf926.jpg', 'youtube-274_jpg.rf.ed75407538cec1770e72d1c0d034a380.jpg', 'n457047_jpg.rf.a5f4e8326c8d7531216377815de4cf73.jpg', '60_jpg.rf.1f7012c2b0ee548df03ff592fe324835.jpg', 'construction-741-_jpg.rf.49657de04621c1d8f3e6dbc94ecea094.jpg', 'helmet999863_jpg.rf.d7ca5e7209a0eaeb5d36d2b4a3f5e188.jpg', 'image_296_jpg.rf.cbfc96ac0666e1a1a4dd5018da3860b5.jpg', '129_jpg.rf.3ddb7831c49cc812f103617cf0da07fa.jpg', 'youtube-710_jpg.rf.d08ee99ca13439d01a7043769a077240.jpg', 'youtube-667_jpg.rf.8c29596b7486388ed0cdf3da93f73cd4.jpg', 'construction-4-_mp4-27_jpg.rf.bde361a7760285a4b0274f6bb349aacd.jpg', 'image_475_jpg.rf.f805d2b598de611f7fde3102264a8ba2.jpg', 'class1_075_jpg.rf.2a623fcaaa9ee3c192f00ce605dc44f6.jpg', 'image_662_jpg.rf.4987ba3969cb084b582b28d40cc841a8.jpg', 'RPReplay_Final1667001201_MP4-21_jpg.rf.e9d5fab8ccd4722fe717c6730013fa8b.jpg', 'youtube-573_jpg.rf.55bbcdf0ada291ba06c267099e0c2138.jpg', 'construction-872-_jpg.rf.3403cad2f0566950b232268f3685fc9d.jpg', 'construction-2-_mp4-210_jpg.rf.1222f0c74009045d57808b9e1fe6f12e.jpg', 'Movie-on-10-31-22-at-10_08-AM_mov-13_jpg.rf.fdc3e4fff2b5b5527949aded65a9253d.jpg', '2009_004301_jpg.rf.dcb85d0f7d931a7de69072529b41a5df.jpg', 'youtube-695_jpg.rf.8cb0e9aacc4be7b425ce1bac55459916.jpg', '494_jpg.rf.44f6e7003c8d642d073affd1936673ec.jpg', 'youtube-361_jpg.rf.2db640272b60b264138c07d0a9a9fe9a.jpg', 'image_647_jpg.rf.a2d892f4d8679dc8ca0bbea635a777b5.jpg', 'youtube-137_jpg.rf.a761859e466a5a0599f0bb01c8742536.jpg', 'youtube-188_jpg.rf.751f7dc08b4a79d9c1fdc4b67fbbb4df.jpg', 'youtube-571_jpg.rf.16636d62c99271b2ae6a35563a84caac.jpg', 'maksssksksss710_png_jpg.rf.e7bbdcc722733d7a08dd5165c36f927a.jpg', 'youtube-710_jpg.rf.a632153f709e275551380bd68e23dc55.jpg', 'construction-3-_mp4-14_jpg.rf.d268b03dd1f2e079d15f38ceba312178.jpg', 'construction-528-_jpg.rf.3578451e1fd09479e3ddb770aafd00e5.jpg', 'Nhh_img_141_jpg.rf.b3b99b5e377f3992e933b2e200d6c05c.jpg', 'construction-560-_jpg.rf.77991e7505048da45e44fa988ce9ee0a.jpg', 'construction-1099-_jpg.rf.feeacd8e655f29f874d6bf1ae57cf022.jpg', 'autox4_mp4-111_jpg.rf.670b776d44304ea66fd4bae077abee1d.jpg', 'youtube-196_jpg.rf.1d5478c5f934135811d726c6916596cd.jpg', 'mask-wearing-1632932085584_png_jpg.rf.fc6a1e9ce29ec295230ed2ea10adaebd.jpg', 'ppe_1212_jpg.rf.834b93389dad99ebaa558080c8e4b328.jpg', 'image_818_jpg.rf.70eb74f10fcceabf24a58bd6d208ce34.jpg', 'autox3_mp4-49_jpg.rf.4c81fb7708e129cbed49607d657d75d4.jpg', 'youtube-497_jpg.rf.15a2d595c0c22f68de5da8b27891c29d.jpg', 'Screenshot_20210830-123141_Instagram_jpg.rf.eee49b0c99613c4cd2db2490d7d58cc9.jpg', 'ppe_1212_jpg.rf.46bf7e3788647c55a07689a6794c69ef.jpg', 'youtube-646_jpg.rf.ccad877b36f0a6ba6e3ebf50bb96883f.jpg', 'construction-435-_jpg.rf.3c115485f2e5d31dabe17b006f656489.jpg', 'IMG_9949-1-_mp4-24_jpg.rf.dce341f63f0481f31c3357bfba3f976c.jpg', 'youtube-60_jpg.rf.26d94d2901a2173354e5b1112b8466e1.jpg', 'image_937_jpg.rf.2136ef2fc5b81626a2607acc627e0120.jpg', 'RPReplay_Final1667001201_MP4-370_jpg.rf.530e18112042793011dbdb674c18d822.jpg', 'mo-justin-mask-NoMask_mov-34_jpg.rf.4e6773ec3cd044e328b6a0b1a7d08fca.jpg', 'construction-528-_jpg.rf.fda69fe0d66335b4bfa3cc37671f3a68.jpg', 'image_678_jpg.rf.e1fd3af4360ff5291b3d6754a5e2ca98.jpg', 'youtube-187_jpg.rf.dd06929c6ea565648b8156753b8b00c9.jpg', 'image_93_jpg.rf.ac1d4cd997f4c63871d6412021e10126.jpg', 'construction-5-_mp4-136_jpg.rf.61f13f9398c539e73446daa76339f1dc.jpg', 'construction-4-_mp4-185_jpg.rf.5f0cdc069950fef0612a420cc85778b2.jpg', 'autox6_mp4-80_jpg.rf.e170abed2946f1e3909ce9747becd353.jpg', '1288788-une-employee-aide-des-voyageurs-en-provenance-de-chine-le-26-janvier-2020-a-l-aeroport-de-roissy_jpg.rf.35ed51188a266a262a24924aa32463a0.jpg', 'IMG_9949-1-_mp4-6_jpg.rf.a680f2403994b4c82fa353a5bd97e81c.jpg', 'smartmi-3pcs-filter-mask-pm25-haze-dustproof-mask-with-vent_jpg.rf.fafba71146172ece742c0a49188bb99b.jpg', 'youtube-615_jpg.rf.c3ec7544a5b9e33128ebdf2b934b5f39.jpg', 'hqdefault_jpg.rf.9c0863c96b57eb241f4ad482dd6a545d.jpg', 'Image_1025_jpg.rf.c07c37849002f2eeadac6e7229413f44.jpg', 'youtube-272_jpg.rf.bf7c90ad1b2d70c8a8cf63ec878b0aed.jpg', 'youtube-636_jpg.rf.40924fc22b1b9bdc87b00a0d75c84da4.jpg', 'additional_tests-Nomask-wearing_mp4-35_jpg.rf.3585f3a01afcfd9cf8d2f1660e331084.jpg', 'youtube-362_jpg.rf.ff5eaedf860709baf22efbed1c407ca6.jpg', 'construction-5-_mp4-98_jpg.rf.05762e5e45e5c6a0583810b8b628b8e8.jpg', 'image_326_jpg.rf.85023ef88dd7e276c124a328c28dc9a4.jpg', 'youtube-499_jpg.rf.1c880d19f0139524ac072315afbada2d.jpg', 'youtube-423_jpg.rf.edc550e0423567c04fede8578fedb011.jpg', '2008_008600_jpg.rf.1e30fdd484a479256bd540cc92dc375b.jpg', '-1670-_png_jpg.rf.3cb172ea2c4165c19ae2dd498b38f929.jpg', 'class1_199_jpg.rf.2250978db6c0152db7ef02b384754b37.jpg', '2009_004301_jpg.rf.950def400852f7e9096bb7a2c7c5e900.jpg', 'construction-5-_mp4-136_jpg.rf.4de970ffc60aa2cda3fb97f03350384a.jpg', 'construction-5-_mp4-75_jpg.rf.0a5bbd753cfb38da9a58c21168decc50.jpg', 'construction-4-_mp4-185_jpg.rf.26277f4a69505170ed97b9da60fb22fc.jpg', 'Industrial-3-Part-Skymaster-insitu_jpg.rf.b8b0caef1419e9ebab1f75f780f91acb.jpg', 'construction-4-_mp4-189_jpg.rf.638a50850f41c580bc4cb85684025a84.jpg', '2008_008629_jpg.rf.61500c26db60c3df2396ffe74f4f07cf.jpg', '001425_jpg.rf.8d9766a13f37413d9a9b509766897167.jpg', 'youtube-49_jpg.rf.bd9ddefd0f16a43403ec2cc1808b2baf.jpg', 'Image_995_jpg.rf.ce3948922b1aca03e2b3fbd247bc9150.jpg', 'amz_04178_png_jpg.rf.4da0ffe1b77c2dd1e122ab212d27b525.jpg', 'Image_1021_jpg.rf.a634f371a9b4f20d220232a0a199e146.jpg', '-2544-_png_jpg.rf.cbcb183dbec853ee769df1327119472b.jpg', 'youtube-813_jpg.rf.f0b08055ea368a39e7846182b7af0102.jpg', '329_jpg.rf.1f99013be8407ede7c9df84d93b6a700.jpg', 'youtube-134_jpg.rf.59120be62c1ba1208bbd3222fb65bfd7.jpg', 'construction-619-_jpg.rf.a55792fce1fec65b17f4631c5330e0a5.jpg', '616_jpg.rf.e95fe500cd53ff0a1278f730331d00c4.jpg', 'ppe_0750_jpg.rf.61c463517d619e03e3baf0d413c99315.jpg', 'youtube-209_jpg.rf.8eb69019cfb7e173c47442a5ceac5900.jpg', 'youtube-806_jpg.rf.ff8ae63dc54a045842f720ea04194dcb.jpg', 'construction-2-_mp4-15_jpg.rf.5a2a37538c16a83554327e6f910dde88.jpg', 'autox5_mp4-34_jpg.rf.3b424b05f74f7befdf767c9d9d8cc156.jpg', 'construction-118-_jpg.rf.71912edae594bbed121901d051e4e04c.jpg', 'youtube-188_jpg.rf.7ea2bff688373c2690369aa4b4d9862a.jpg', 'image_176_jpg.rf.3b4e79118b1e2e1aaab28383d462f3ab.jpg', 'construction-3-_mp4-14_jpg.rf.1346121356493c3795a0f7f42d3fcc88.jpg', 'youtube-560_jpg.rf.d7214d49543b694fd28746215c01049c.jpg', 'IMG_3094_mp4-45_jpg.rf.aa91d0d906646ecc9f16df6a94a68d12.jpg', 'youtube-693_jpg.rf.52fec3a45fb4c747d62c2b581d831c89.jpg', 'construction-4-_mp4-19_jpg.rf.0e0c0646c5203de125745b30b9a352c8.jpg', 'MariusConePic60_png_jpg.rf.82315d1290db9082ae25297a9007311b.jpg', 'youtube-837_jpg.rf.ba028856408fe5c32864742ea227a7e8.jpg', 'class2_187_jpg.rf.255a27589e0942a9a2a13f5062d00182.jpg', 'youtube-571_jpg.rf.2ba401a7dbbdb20ed5cb34d063311ffa.jpg', 'bookstore_38_02_altavista_jpg.rf.76d6e2768892d1648dfd64dddb51316f.jpg', 'Movie-on-10-31-22-at-10_08-AM_mov-0_jpg.rf.43171cee09f9560ebeded58e2d5832e9.jpg', 'image_937_jpg.rf.dfdffde0e8f3b3a59aa0db75a4fcc8dc.jpg', 'youtube-242_jpg.rf.87ad9787a533c8f99b1c899502527ce4.jpg', 'img_037_jpg.rf.213e8a4157d9d618448c93c0326606e6.jpg', 'image_1004_jpg.rf.b214044582d882b35bc97ae766d7f518.jpg', 'class2_158_jpg.rf.8ca0f8054053f5210eedc8c62687fe98.jpg', 'youtube-266_jpg.rf.11f1d5063b9db18dd346c2c5fe9b3524.jpg', 'construction-5-_mp4-98_jpg.rf.7d678538e71bb2272fa290c4ab7760ab.jpg', '165_jpg.rf.8e28e2ec55d7ab727f8a5cd072024dd2.jpg', 'construction-753-_jpg.rf.849b0aba5bde9a36732a6f9a7839eac9.jpg', 'image_743_jpg.rf.062cdfe451165053d002809e11c43073.jpg', 'image_426_jpg.rf.6eb05d6561fe07b57de084e6dd4f1479.jpg', '588_jpg.rf.54ec47216c5574b0f185e8e3d2104441.jpg', 'IMG_7211_PNG_jpg.rf.436a55ef9789c8bcb84261a58c72fb3b.jpg', 'youtube-242_jpg.rf.abca1cc102d6a680b50ea76207a752f3.jpg', 'youtube-137_jpg.rf.655f978410609149efe49e2f10031d2f.jpg', 'youtube-300_jpg.rf.f9854531d289c54ada6069fb0b68d2b4.jpg', 'youtube-564_jpg.rf.4d53a205cd034c39472c8ceebf3af69d.jpg', 'youtube-384_jpg.rf.b3afeb9b45c1193d7c67d95ef24dab3d.jpg', 'youtube-61_jpg.rf.2f8ea247e5f46e06042d18ba0dec8fdb.jpg', 'construction-142-_jpg.rf.c313f46a8dd97e812be46b56862ee0ed.jpg', 'youtube-571_jpg.rf.c6146b84a8ca2869cb5c52f72eded67b.jpg', 'Nhh_img_141_jpg.rf.539c94589100406bbd49401adc520de1.jpg', 'image_426_jpg.rf.77fdc5e051ecdcd4dbc26e25df161a42.jpg', '277_jpg.rf.e533863ccfdd0dba4c8d7089ef7b965d.jpg', '277_jpg.rf.004c580eed497695eabbf509a273bb9e.jpg', 'construction-246-_jpg.rf.14aa29bcdbdea08faea88cc0f97d3db7.jpg', 'IMG_5024_mp4-5_jpg.rf.29486c821e09b032fafdda06d7c86434.jpg', 'Libreria_09_20_altavista_jpg.rf.4ac020cfe29c2ad86b310d0f602d84d1.jpg', 'construction-821-_jpg.rf.e115e26ca11f1107503c01c9b2d4f404.jpg', 'img_038_jpg.rf.aa4c4ac5cc928cadd107d7fe5ab3b8ef.jpg', 'construction-705-_jpg.rf.0e2bd9143ae68c7407a69b26ac17232c.jpg', 'IMG_0871_mp4-21_jpg.rf.b43a82de9b1f1db1f9fcf8b57fe636e7.jpg', 'youtube-170_jpg.rf.271811f43fc83abd75aaeaad926b43d6.jpg', 'image_95_jpg.rf.d7f474ed656cfafee7bf4a8ce79f2fcc.jpg', 'youtube-829_jpg.rf.8a28fd44dfc3d1e6af171a7958a4aec1.jpg', 'ppe_0029_jpg.rf.d5722a09add4a8032fdef2f6c6fa0861.jpg', 'p65621379_jpg.rf.1ab9898a2e211d13e721dd76c6a5a454.jpg', 'youtube-246_jpg.rf.525a6596d54a9c90127b78128bb82855.jpg', '2_jpg.rf.90ee66d55026ceb2e487c40a501b81f8.jpg', 'youtube-409_jpg.rf.c726b395a9167bfb3f5379155f6a43c9.jpg', 'hqdefault_jpg.rf.9b6deb29f2b6c1e6e3ef167a8ecb1b9f.jpg', 'construction-1-_mp4-46_jpg.rf.4ba287f4dd6fff9aadf4b49e0171de48.jpg', 'image_337_jpg.rf.384b81a87dd39579a75d705d9870d88a.jpg', '2009_000280_jpg.rf.90c8b34923112435cd8778196f2a2100.jpg', 'construction-3-_mp4-148_jpg.rf.b7b07362ee93800883c6d31ba0b7ade1.jpg', 'construction-693-_jpg.rf.9c967ca4147923ccdf1f58b3df441a8f.jpg', 'construction-507-_jpg.rf.82647995d5c71c87aabe15f5ea23d088.jpg', 'construction-649-_jpg.rf.99870a2bf5ae5405710b62306f58a3ae.jpg', 'youtube-345_jpg.rf.70a980cb709ab5ea2317ccc1cc1195e5.jpg', '-2270-_png_jpg.rf.4b73cc556e91bc8c587c923e348717f9.jpg', 'image_321_jpg.rf.7637c30937425c6bdbc08729f2061840.jpg', 'image_875_jpg.rf.3e0310b562aea94a81d054a40fcdc146.jpg', 'youtube-303_jpg.rf.cdf28e1cc8d4407f46e083963ec5560a.jpg', 'class1_199_jpg.rf.40b9ed9b838a4ec0c2fe23d234a34914.jpg', 'IMG_3100_mp4-15_jpg.rf.76fab6fd46f346e7c54cbe7871091557.jpg', '-1975-_png_jpg.rf.c2be4021c4d6452f7941be256160f957.jpg', '135e-huxwryw6451820_jpg.rf.c9c6258ad45ebf19f75149b6d5c69134.jpg', 'image_781_jpg.rf.35f24a738bc773816b5b8403305a8575.jpg', 'image_716_jpg.rf.d20e2f34a0f4320dd0fa6d078967235c.jpg', 'construction-5-_mp4-69_jpg.rf.bf00d48267e40f1a03889865671ecba0.jpg', 'youtube-506_jpg.rf.514b3b151b1e7ab2758985145e88355d.jpg', 'construction-507-_jpg.rf.f34e6dff28e95f62951544db53e7ce64.jpg', 'IMG_9949-1-_mp4-6_jpg.rf.a5dcdd2976abcef414d4d4ce0c1f537f.jpg', 'youtube-242_jpg.rf.195cbbac8b1527fe62db390ae80f210f.jpg', 'image_880_jpg.rf.7ae0f3f78e9faa62399d04b1257a879f.jpg', 'ppe_0629_jpg.rf.2ce72e23a7a0e2842971a32b45f71b38.jpg', 'image_732_jpg.rf.ff1ef6132b5697473bd7c4193f95b996.jpg', 'image_527_jpg.rf.195d9418c90bc4368699ef7e3be727b4.jpg', 'Movie-on-10-31-22-at-10_08-AM_mov-9_jpg.rf.ef54b5e3163b15404afe12f96f0d3fd0.jpg', '235_jpg.rf.f5758d235eb011824ff40d7188b17bdf.jpg', 'youtube-651_jpg.rf.a200e7467cde04aa5c59d3fccc8c39fd.jpg', 'youtube-855_jpg.rf.8423bd3eccf6197cf223448ef5dba5bc.jpg', 'construction-4-_mp4-89_jpg.rf.7ad949dbe6175f71ce099daf5dce5b6e.jpg', 'img17_jpg.rf.ae8adc31923d27a04747ccd334b12e7f.jpg', 'Image_1037_jpg.rf.5ff93f8ea02ad4f0c1a0fe898de80745.jpg', 'youtube-641_jpg.rf.40acd498e1dbac24565dacedd4cc7dbb.jpg', 'construction-135-_jpg.rf.618bee32c743ba48ed00129f77b8d2ec.jpg', 'youtube-396_jpg.rf.4f572c63abb01bb67be5e300f0f0f34c.jpg', '005310_jpg.rf.31b8beb7dd8e338e4818d2e1a648656f.jpg', 'IMG_5850_jpg.rf.03ab0fe3cfb17b8bab4c149542d6b970.jpg', 'youtube-474_jpg.rf.a83afe8f012f7c5c51bd973bd4efc3c1.jpg', 'youtube-618_jpg.rf.fb80997b1ffbc44d3e874418c1750e3c.jpg', 'construction-5-_mp4-136_jpg.rf.5781617c5a56e26adb37b2889ca6a0b8.jpg', 'youtube-457_jpg.rf.2d689c0133ef87350ad8b8896690328a.jpg', '2008_008652_jpg.rf.fdf7e303604d0fb6feb39b62d8469cf5.jpg', 'construction-369-_jpg.rf.98c9543f7396a23f7b5699baaba4c0df.jpg', 'construction-4-_mp4-41_jpg.rf.52ca8fcab8ce72c4dee7fefc91681934.jpg', 'IMG_5024_mp4-2_jpg.rf.d79771c23f9e7097b751911545c4953f.jpg', 'ppe_0738_jpg.rf.4d42af3573ee3bfa59b159381d35b80b.jpg', 'image_575_jpg.rf.dc2951b0cc83d450252fd1a231cd0cf1.jpg', 'Movie-on-10-31-22-at-10_08-AM_mov-5_jpg.rf.ae62adc4da946a9f83c961d284e9c682.jpg', '005773_jpg.rf.7918c8b086473cb1e6fcae60d5ad24e0.jpg', 'youtube-209_jpg.rf.7481790dcb493c4fb30559657779a131.jpg', 'image_662_jpg.rf.8ca986b03ea30d8485ccedfd44295260.jpg', 'youtube-13_jpg.rf.bdcb46ab993ee2815a07132eda834c6a.jpg', 'youtube-667_jpg.rf.fe3d1eb0c1a9987687dda320249bbae1.jpg', 'construction-305-_jpg.rf.a695e0f5685a2f573642f4bffe29d357.jpg', 'image_498_jpg.rf.be7e844b9c7ed3a290bc19aa3be5ac20.jpg', 'image_153_jpg.rf.da2dfd3346476f74fa1ddc0690c5defc.jpg', 'youtube-480_jpg.rf.a1f30706658bee44054e92dcb51a2192.jpg', 'autox4_mp4-111_jpg.rf.15a778bacc51e10bed531cd379353724.jpg', 'youtube-628_jpg.rf.eacf6a98a4e100daf54a5ab254f0191b.jpg', 'youtube-230_jpg.rf.7b66ab32ce1d6db9d1ef161833e31ab6.jpg', 'construction-5-_mp4-48_jpg.rf.82ca9f1ab7f0394a237c4938bdd913f9.jpg', 'autox6_mp4-157_jpg.rf.ed679126806aeab74db2f3b9d1a728f3.jpg', 'IMG_0871_mp4-14_jpg.rf.4249d6aee12719fea3c83506c8ccdaa3.jpg', 'image_31_jpg.rf.226995ca044d4a0348dcea8ae45d537a.jpg', 'youtube-64_jpg.rf.ee045f5e9670d7422490492b71801bac.jpg', 'IMG_5024_mp4-4_jpg.rf.08799e35cf749effcd52a5df4ec02d04.jpg', '2008_008600_jpg.rf.5fd794e6172b7258cb20bdefccf7af67.jpg', 'youtube-560_jpg.rf.bf09771b2e40ad774e1ccab9bb930919.jpg', 'IMG_3100_mp4-6_jpg.rf.dee1486806bef37ff0bc3ed372df81b3.jpg', '-2406-_png_jpg.rf.58e52da2e6d3e816d59d716f3a2a1ae2.jpg', 'youtube-196_jpg.rf.df3c8acab8adcce2adc69e1ae58abca1.jpg', 'image_288_jpg.rf.b1293d82f4892b97d0592ad08d205650.jpg', 'youtube-175_jpg.rf.ba471e0986c08a35632797168134f08b.jpg', 'image_498_jpg.rf.0a2642929e878c561b35e7eb1d8ece8a.jpg', 'YouTube_FreeStockFootage_People-wearing-face-mask_Empty-Street_Covid19-D_DbgrvhlGs-720p_mp4-11_jpg.rf.1939c26f45d953e4a423d3cf9958dfca.jpg', '-2270-_png_jpg.rf.6455ef559e463c1fca6b0d6d69da3ffb.jpg', 'youtube-196_jpg.rf.949f50bfd27d739dbbab25d266456419.jpg', 'image_39_jpg.rf.05703385c8acf10754c714403717d287.jpg', 'construction-618-_jpg.rf.56a444a99835f33971ab324800b81b7b.jpg', 'youtube-246_jpg.rf.abc5b268245a19116e3001ccbf93af2f.jpg', 'IMG_9949-1-_mp4-24_jpg.rf.f1b40eef5d1dface15afbb3d296fb4c9.jpg', 'p65621379_jpg.rf.00d56f3bb60d7b74546bd950b530247c.jpg', 'youtube-809_jpg.rf.3c8a20a2fb74b66621e6e9ab0aa92106.jpg', 'construction-305-_jpg.rf.f3631b40d6158e6dd009e5f237d42422.jpg', 'IMG_3103_mp4-1_jpg.rf.a85e4a0f9df714dac02831fb88082d2c.jpg', 'construction-253-_jpg.rf.7db6b21086f397355d9373f0d575e148.jpg', 'image_426_jpg.rf.4580f9223554a212044814714cc75586.jpg', 'youtube-573_jpg.rf.8c4e98277745cc2f09001aba21b3d4a8.jpg', 'construction-253-_jpg.rf.0590780a5e0f86c9f306c71d7c3a3c6b.jpg', 'youtube-18_jpg.rf.eece44b86f6a81571decd1bb9ad11578.jpg', 'youtube-61_jpg.rf.5d55405b33932b77ba587e16cb8ab56a.jpg', '001425_jpg.rf.ee12b5cd77b14d4b6edbec28be0b9b28.jpg', 'IMG_7211_PNG_jpg.rf.6114b3b603b72886bde2507762ffb713.jpg', 'image_418_jpg.rf.94cdaf3339a7193dc00d0f07da971d4d.jpg', 'Movie-on-10-31-22-at-10_08-AM_mov-28_jpg.rf.19fc8076a9b40a6d0126deea4050d2fb.jpg', 'construction-1062-_jpg.rf.30c06a00f2aef933ecf9aaa4b95f1320.jpg', 'construction-684-_jpg.rf.22733637c2460c60fc4cbaaf26b1a722.jpg', 'youtube-295_jpg.rf.acc7e503322d516b86a0638f98f975b3.jpg', 'construction-4-_mp4-185_jpg.rf.e3ae03d80feff5c97b521f5acda20c42.jpg', 'IMG_3100_mp4-6_jpg.rf.7cccca092c407beef90e1a53f83ab88d.jpg', '2008_008526_jpg.rf.b9241d674aac7899827bcc5db9486bdc.jpg', 'image_781_jpg.rf.48121c8c51335dc21d89cbac2412d31e.jpg', 'IMG_3100_mp4-25_jpg.rf.ddd7840e3d846cddfcc13d99f4a6999b.jpg', '005577_jpg.rf.566862c761348eb4f58647d4d420213b.jpg', 'image_221_jpg.rf.ea323c63ed077f960309350f17478702.jpg', 'image_861_jpg.rf.44045e1408d7d09c8e41903158c121ff.jpg', '2008_008593_jpg.rf.a6f37b5452eb88ac2cd643e744e78529.jpg', 'IMG_0871_mp4-13_jpg.rf.45050c60edb973136cb5d3f59ba29883.jpg', 'airport_inside_0363_jpg.rf.365291e514d607750e19f54ac0c9fd8c.jpg', '-2252-_png_jpg.rf.a71a293e8fb2e65c9b851ee278fbc4c0.jpg', 'autox6_mp4-157_jpg.rf.5083cfa42053e2766397344e36be6ca8.jpg', 'IMG_7286_JPG_jpg.rf.163e2f93984512595dc662c098c14455.jpg', 'youtube-448_jpg.rf.d5ba5cfa93fdd4d8610d02627f9b7761.jpg', 'image_475_jpg.rf.fe0fbe9d9078e375daa15d81a6eb20ab.jpg', 'image_255_jpg.rf.422e26c6191794cbd77a3a8cc6d496c9.jpg', 'construction-753-_jpg.rf.c51bed05b86b7114bf8279c77899da6e.jpg', 'image_379_jpg.rf.54efebfb83a98bf4589d896c36fc717b.jpg', '-2252-_png_jpg.rf.e294c55ec43d0a8f1eb80b7a52de697f.jpg', 'construction-3-_mp4-122_jpg.rf.7bb280627f23963d8fc187e624716358.jpg', 'Movie-on-10-31-22-at-10_08-AM_mov-27_jpg.rf.8b326224cea34727d375d9e28fc34ffe.jpg', 'youtube-221_jpg.rf.14f433ce625eee736701c289e21bc013.jpg', 'construction-1-_mp4-115_jpg.rf.d0c6fa0cdb93e0dcda95fcf82b93d7f2.jpg', 'image_732_jpg.rf.af374ccbe8138d01281f7716a133c712.jpg', 'IMG_0871_mp4-23_jpg.rf.7042315ee68e17ead44f4637c6e7fdab.jpg', '60_jpg.rf.4edf14ca3e3d857d2a32b33adbc6e1c1.jpg', 'youtube-661_jpg.rf.b0177efa16cf7ba6922a4e938fca6d00.jpg', 'IMG_3103_mp4-10_jpg.rf.1379c718e5cd5a6021da12fa73e6138b.jpg', 'construction-649-_jpg.rf.489dbb82d11a1199603b21cd507c75f4.jpg', 'image_153_jpg.rf.513389c7049c5ff59a3cbef8c20decf3.jpg', 'construction-434-_jpg.rf.3bc7d72cfb1fd34c037931a5fc361028.jpg', 'youtube-396_jpg.rf.b4ba18ab11ba9100d19819e75a887129.jpg', 'construction-142-_jpg.rf.d11551af177b7b30b97be894c66dae1d.jpg', 'IMG_3100_mp4-24_jpg.rf.80e4e03da7a762652a41859d95f33734.jpg', '707_jpg.rf.db3baced2a7a966138cf88c7cb95f522.jpg', '2009_000063_jpg.rf.de3b6f86a7cfb5a006cc81653ebe0868.jpg', 'move_in_corridor_jpg.rf.732ef1db38c1ab08afb0d8f457545a5f.jpg', 'construction-5-_mp4-136_jpg.rf.aeb3616a8195ab797c209691b9440b21.jpg', 'ppe_0015_jpg.rf.1637e0c40555dc87aec1266445b69e23.jpg', 'IMG_5024_mp4-5_jpg.rf.6cd31342886e81ced03d5af2ece44767.jpg', 'IMG_3103_mp4-10_jpg.rf.f2d3fa318cf73ee2e63d1c750edda1e7.jpg', 'ppe_0029_jpg.rf.3c177b00342fbffb26ee62203529551c.jpg', 'construction-821-_jpg.rf.a04939802a615158c97664c40de41013.jpg', 'youtube-242_jpg.rf.3a9e88e1fe5ea142ca0867917f4be979.jpg', 'IMG_4921-2_mp4-40_jpg.rf.ed65cd53f5ac4d4f278c4cf9359d0b79.jpg', '000415_jpg.rf.6b9ff926deef3b67d6cb46c8bd2b2366.jpg', '2008_008444_jpg.rf.260d91b51ebae045fe3a5ed752628307.jpg', 'construction-2-_mp4-210_jpg.rf.97c7ed3b362a658e69e582e794a29994.jpg', 'IMG_4921-2_mp4-40_jpg.rf.b4e6373d7be3e64e60435387d8b8d701.jpg', 'youtube-254_jpg.rf.a085617a9e38ff51004011a35f3ec95b.jpg', '2_jpg.rf.b6161c4d7722be0e92af7b88e8391da5.jpg', 'youtube-196_jpg.rf.b27679ce8ec2a7e46370da314efd0a44.jpg', 'IMG_0871_mp4-24_jpg.rf.e185f434f777196a7ee734b6cd6e3eee.jpg', 'youtube-504_jpg.rf.7c1e0634deed1692079bcccf98f4477f.jpg', '-2297-_png_jpg.rf.feeef4f36bc6dfc96b77a1f7f686fb6c.jpg', 'youtube-345_jpg.rf.894913690905774e15b79590f76b14d2.jpg', 'youtube-849_jpg.rf.5d8edd60e5719fa55ed85fc67d814a89.jpg', 'construction-1-_mp4-64_jpg.rf.82630b3884bea0665bee75d3f3251c15.jpg', '2009_002883_jpg.rf.14d86d27fb802b8d26403c723c3e4c33.jpg', 'youtube-61_jpg.rf.0b22869fe6da04a763f3e1f2a216c55b.jpg', 'youtube-636_jpg.rf.964f510075988212d7b22be0cd7b80d8.jpg', 'Movie-on-10-31-22-at-10_08-AM_mov-28_jpg.rf.34703946fabeb4f2f48029381dd98237.jpg', 'autox6_mp4-80_jpg.rf.44eee52828ea57aaaac102dfbcc55e45.jpg', 'construction-649-_jpg.rf.684e6f30445a032c9fdfa9cfe9d9a752.jpg', 'construction-684-_jpg.rf.7963a972eb4b888dcd876e0b10c824e6.jpg', 'youtube-116_jpg.rf.ed1c428003f3de7b62ccf0219d4c1316.jpg', 'IMG_3103_mp4-10_jpg.rf.ab20fda596db2bee8ea7b28eca640c21.jpg', 'IMG_3100_mp4-2_jpg.rf.c28f7521c16c937d5b308d185151f610.jpg', 'autox3_mp4-49_jpg.rf.8f4c370974dd8ccbba690d745472f76c.jpg', 'youtube-731_jpg.rf.75f1bb8c05e0e1ba3667e6b1fbce8250.jpg', 'class1_075_jpg.rf.e3831cb374ca34da6761df50b874cbc9.jpg', 'construction-3-_mp4-162_jpg.rf.d5b9deac1a1c1205d223e3d604afdd09.jpg', 'RPReplay_Final1667001201_MP4-79_jpg.rf.cb6d55eeb92582ac4204e5799a080230.jpg', 'construction-528-_jpg.rf.8aca598ebfb9d8074d1e7f4763674d73.jpg', 'youtube-57_jpg.rf.41958971dfc7999e339ba42825f6f12d.jpg', 'Screenshot_20210830-123141_Instagram_jpg.rf.b67fad686e2627a75caef191e13072e4.jpg', 'construction-872-_jpg.rf.5bd5245429e828eddf7be1afcb9080de.jpg', 'Image_1009_jpg.rf.7e8e17c1edb556205d0418d1e0a29522.jpg', 'image_170_jpg.rf.e01f9e0379c6073e0463f37eab94dd77.jpg', 'youtube-235_jpg.rf.426511762b282049df69f0463aed5d93.jpg', 'construction-4-_mp4-127_jpg.rf.369dffc6c0812c73e687686e68e9bde3.jpg', 'image_296_jpg.rf.f15597161ae5df59ecb09ae9e1202399.jpg', 'image_1006_jpg.rf.4b9023dd190b5e5fe196969df1040761.jpg', '01094_jpg.rf.a353aa741bea05e999eed430fbca7d6b.jpg', 'image_28_jpg.rf.83228814ea921754456d144a3d128bf4.jpg', 'construction-5-_mp4-98_jpg.rf.f30eaa2acd13890a1ec29645af90bab9.jpg', 'mms_00691_jpg.rf.1d6b11c8456794ca415e4e5f1e96e807.jpg', '2009_002711_jpg.rf.9014fa0e9a77a787d9a8e3d03b984081.jpg', '001425_jpg.rf.85bc2e1d337adb66e78e393c2aecff1c.jpg', '005239_jpg.rf.e2238d4058c251acf13fce7ed0319bae.jpg', 'youtube-61_jpg.rf.1b26ec9c12255c8a7d19cddda5850f5f.jpg', 'youtube-235_jpg.rf.186371c5383e0dbaaa3f71f3f3dab88c.jpg', 'construction-897-_jpg.rf.a26d42c31f4f84d40c077e063c6d5b0c.jpg', 'Nhh_img_141_jpg.rf.1b615e2b5d479ae03e4d97708c3387f9.jpg', 'image_39_jpg.rf.ede6d4b674c4f2034325cd0fdbcb2dbd.jpg', 'Screenshot_20210830-123141_Instagram_jpg.rf.cf87553f734ba5173fd4f575167ade7d.jpg', '-2270-_png_jpg.rf.cc2c95b44846f13084b60e847aaa692a.jpg', 'image_829_jpg.rf.cc0e980e8fea6a67f92ba58c85429f98.jpg', 'construction-705-_jpg.rf.d76333a45a7d164a5ecbc40f95379d95.jpg', 'youtube-235_jpg.rf.4b25a9ac4d779e264f91b96f950f61e1.jpg', 'image_321_jpg.rf.3172aebe86cc69469861c2956fe9e05d.jpg', 'image_678_jpg.rf.32fc8ac69b0d4313b96b3713a5cd1745.jpg', '4c43875bc97cdaece84ac6ce555235f1_jpg.rf.f7fa31a18ba1d08f8e9d322265241f8c.jpg', 'image_31_jpg.rf.678c31291633a15b98915ef7cda5a516.jpg', 'smartmi-3pcs-filter-mask-pm25-haze-dustproof-mask-with-vent_jpg.rf.79f2ac44db8c468f5e8f2605b25ef935.jpg', 'YouTube_FreeStockFootage_People-wearing-face-mask_Empty-Street_Covid19-D_DbgrvhlGs-720p_mp4-11_jpg.rf.057bb111725e4c37ef3a24e9fe9c76e0.jpg', 'maksssksksss795_png_jpg.rf.13d6bd52e2cd1552e43ff111641e7dd0.jpg', 'image_833_jpg.rf.550df56bda117a625df46ce9c44e457c.jpg', 'youtube-589_jpg.rf.3d7feeffd99331e03adfca8c51e5e325.jpg', 'youtube-116_jpg.rf.1bc83b2e281de5b3f15be640b02cf4cf.jpg', 'construction-872-_jpg.rf.d5a3857b1b2073061ba4ddd0aeb5fe84.jpg', 'class2_074_jpg.rf.ae4be5b9019c6a7f0239923b379aaa78.jpg', 'youtube-435_jpg.rf.b2cdb9d22be30935907246df6a8ea86d.jpg', 'youtube-699_jpg.rf.553ad81fae79c4e278ac25c772a9b9b8.jpg', 'Nhh_img_141_jpg.rf.8ef07d1dae8ae9c7dfe47318d8b9c202.jpg', '003184_jpg.rf.e8a5cc8317ac032f832ce528240edf35.jpg', 'bowling_0014_jpg.rf.3a4e573cb2c7f888fec2b6a710c60be9.jpg', 'youtube-829_jpg.rf.fd67c22d0d1125efb6f0a23b0c460c77.jpg', 'youtube-60_jpg.rf.c71d352bf4375d6b743d9c58444d04d0.jpg', 'Mask2_mov-44_jpg.rf.78134bef16472818ae01aaa08b2f9a65.jpg', 'youtube-376_jpg.rf.46021b529c258b26fdaef182a608a53e.jpg', 'image_743_jpg.rf.c95f7066332dd202339051309e82d4eb.jpg', 'youtube-230_jpg.rf.462aca78b71bedb66bce8aeef766a9af.jpg', 'construction-507-_jpg.rf.61164c54bfdd0bb7f8b4ad85df86119f.jpg', 'construction-708-_jpg.rf.d7ef7ae688a4d558cb2f299e577775f9.jpg', 'youtube-502_jpg.rf.a12c146909c4f2cc577710149c449ecd.jpg', 'youtube-639_jpg.rf.31820317a457e2ca8001577f46b6220e.jpg', 'autox4_mp4-42_jpg.rf.7cd00519a8916b471f617fc9d406eb8b.jpg', 'image_31_jpg.rf.df389b809c126343ee86d041142c8935.jpg', '1288788-une-employee-aide-des-voyageurs-en-provenance-de-chine-le-26-janvier-2020-a-l-aeroport-de-roissy_jpg.rf.c0a0407a94e7eeb441a235b51752d178.jpg', 'image_716_jpg.rf.0cce750055b198889ee669b4a0246957.jpg', 'youtube-855_jpg.rf.016160b803b33611610bba867ebb078c.jpg', 'Movie-on-10-31-22-at-10_08-AM_mov-5_jpg.rf.709a3dfb442616bb46e772602d8417c0.jpg', 'youtube-806_jpg.rf.c8952e265f0c4af327b56f43b365537a.jpg', 'image_13_jpg.rf.d2935ec7b305c381c6b298ca98f24a1a.jpg', 'bookstore_38_02_altavista_jpg.rf.75e95418a92b328483c1c1ef9859b0ac.jpg', 'youtube-435_jpg.rf.e1f595de41eb39a1e878759770aeaa9a.jpg', 'IMG_0871_mp4-13_jpg.rf.8cf0592cc8621a5b9c3322bb071db031.jpg', 'image_833_jpg.rf.66e2de7c05f5df0dd6c1a0657d60f994.jpg', 'youtube-242_jpg.rf.bb757a2589bdbb15858743a6ff9f7699.jpg', 'image_743_jpg.rf.816375116a2ff7c77fecebf9206daf94.jpg', 'YouTube-FreeStockFootage_Child-playing-with-parents-JoyLaughterHD-RQ_qqCZOkZk-720p_mp4-42_jpg.rf.24f70d1d2b1dfabb4b50ec9aa1a44302.jpg', 'p65621379_jpg.rf.5735572551e7f087e9ba38b09f0b3646.jpg', 'image_566_jpg.rf.077fd5f720f734a4087c020d58b16269.jpg', 'youtube-573_jpg.rf.8ad2ef64817ad42a2acf4c7878ed5e60.jpg', 'ppe_1212_jpg.rf.7bb612bc84ecb56f461512ddcb0cc5c9.jpg', 'youtube-474_jpg.rf.5a19e0cfc81b8d82788a127768e8e354.jpg', 'Libreria_09_20_altavista_jpg.rf.37034555ce000a9156534c8ffb6736d0.jpg', '-2270-_png_jpg.rf.5bbc03681c0dfcdd978be9723da2cee2.jpg', 'image_221_jpg.rf.48896f8df2ad2199102cfaff5fff3472.jpg', 'construction-347-_jpg.rf.93d15a4e3702fc5d9284d9f1cabb832c.jpg', 'IMG_3103_mp4-17_jpg.rf.2ff2b16a7d9b2a53552695c49fb34105.jpg', 'construction-3-_mp4-23_jpg.rf.89d36ba8fa7060b226d63d08223458d9.jpg', 'construction-5-_mp4-69_jpg.rf.23a3f9feb8b2a30b45189f742b62abd2.jpg', 'construction-1050-_jpg.rf.f168e4351cfac6996af2ba1b29652cab.jpg', '-2297-_png_jpg.rf.1d5b556861b3c2f1b54baa569a52cb1c.jpg', 'youtube-848_jpg.rf.420254c4553963c6c3d957e2cc961a34.jpg', '002654_jpg.rf.91da067adc57784316a2dc4685f239e0.jpg', 'IMG_5024_mp4-4_jpg.rf.02dc33f0f0ffc6b8eab4a796f01b3e79.jpg', 'image_833_jpg.rf.3ea30907534274005c210558c69f531a.jpg', 'Image_1037_jpg.rf.872488c3380b84757e8f117351a46005.jpg', 'image_379_jpg.rf.76f16ba57fbf5e06f4a16739bf1b643c.jpg', 'autox4_mp4-112_jpg.rf.7cc302ad3018179e980d430dacb22f9d.jpg', 'construction-619-_jpg.rf.dc01af03cac6c0e921cf55d5d8e8465d.jpg', 'youtube-574_jpg.rf.ec53f3e134d613ec561e1f7fb9e56db2.jpg', '405_jpg.rf.0a37dfa7a6cc2efb13be8591aef13ca6.jpg', 'image_678_jpg.rf.5c07f3a8e380b2683312bb73284eb9ff.jpg', 'Apple-Tests-Face-ID-Feature-While-Wearing-a-Mask-Shorts_mp4-51_jpg.rf.27396fc04a6ccea3ce80c61bfd773d3c.jpg', 'youtube-645_jpg.rf.678dd020ed3048e268f7768a6df08cf8.jpg', 'image_257_jpg.rf.d4630ce8c7553aa88c3ec41431a01621.jpg', 'image_560_jpg.rf.6c6d505912c78a83a850fd0e05dd3002.jpg', 'youtube-407_jpg.rf.dda53fd876a4038b177e007c5948a3f5.jpg', 'image_620_jpg.rf.8b25201db0567e624c5ee9b60f2bfc63.jpg', 'construction-3-_mp4-14_jpg.rf.bad949e91ac4c4967902a801e80bd803.jpg', 'image_704_jpg.rf.dd50958a6a62180bb467e72956b08c78.jpg', 'construction-5-_mp4-135_jpg.rf.6999ef662dd514389ed19622a37a2a93.jpg', 'IMG_3100_mp4-2_jpg.rf.bde377ae23066dfe925f09789c2bbdef.jpg', 'img_037_jpg.rf.3172ab1c0bf89864c11461334e9c7f8c.jpg', '2008_008364_jpg.rf.6c09ae7ec7500b18c2f9175f7ae996c9.jpg', 'airport_inside_0214_jpg.rf.60a3f329d3b1db0658aa045ba6a77fdc.jpg', 'youtube-376_jpg.rf.3718c769c7b35997d6ce58fecc01d438.jpg', '931_jpg.rf.f34dd82ef95234e3b6db3832ece39491.jpg', 'image_18_jpg.rf.9be3756f23d3a5e6f69968bff1830bfa.jpg', 'image_986_jpg.rf.109f5a671b9dc6f2f574773b9adc4f7d.jpg', '1582_jpg.rf.a067bc50920883d43cd5cab0a1966ad4.jpg', 'image_46_jpg.rf.424d191f6c0ad06155c8fb53f662d005.jpg', '002654_jpg.rf.893fab88ba85b2b20f6a1654447abb2a.jpg', 'construction-618-_jpg.rf.eef05f234b24341cde01eb8ca476781e.jpg', 'image_861_jpg.rf.dfe1552c7796b53e288441abfa5e9316.jpg', 'youtube-57_jpg.rf.87a1f2203f761f29bdf0543239ec739d.jpg', 'IMG_3100_mp4-25_jpg.rf.3bbcfef23f20b2cf747256793dcfc615.jpg', 'construction-2-_mp4-113_jpg.rf.b9c7bbcaf17702d65b9cccb60a39bb47.jpg', 'image_50_jpg.rf.98159c6be48071b9ae87b456ef4a285e.jpg', 'youtube-618_jpg.rf.d8eab6517bd8e0a0aa5e6881a8a3b0b3.jpg', 'Image_991_jpg.rf.9966252c3fda2a50e25e9db82132e6a3.jpg', '2009_002711_jpg.rf.c5342ac0316773ec167d3bc6f61ec8ac.jpg', 'construction-4-_mp4-19_jpg.rf.6a01da119397d148788b4614bbb4207b.jpg', 'image_757_jpg.rf.0b5fe9980f12489e1ca7ee83428e6b36.jpg', 'IMG_0871_mp4-0_jpg.rf.3c56f6f0e15308cd3691329655b205e1.jpg', 'IMG_0871_mp4-1_jpg.rf.c1fa056cf1040dad968c2b3a16cd484f.jpg', 'youtube-116_jpg.rf.824079ec283281c08f2004e9b3eebc42.jpg', 'construction-708-_jpg.rf.8412869d37074b8796769c0d431af32e.jpg', 'IMG_3103_mp4-3_jpg.rf.a0a4ec4e54b1f1b04803df827c6329c8.jpg', 'construction-112-_jpg.rf.699d3c5a3155bb76ee6e10e842cc24de.jpg', 'youtube-361_jpg.rf.22ee204bd5283237a0631f328df73e69.jpg', '2008_008364_jpg.rf.7e993c289a92cc10642f3c86fd49615e.jpg', 'youtube-235_jpg.rf.145865b91fed5333f9e75f4d72a8c3fc.jpg', 'image_566_jpg.rf.4f5d3f4e6da64c3b0192d3298d4d04ed.jpg', 'front_crawling_00088_jpg.rf.538a4f0a7b1b14a1e2c0295ec55e3b53.jpg', 'Apple-Tests-Face-ID-Feature-While-Wearing-a-Mask-Shorts_mp4-51_jpg.rf.74c8055c0e237b07789f149d71a06444.jpg', 'construction-816-_jpg.rf.9bc25654e962c8a8070928911f5195ad.jpg', 'IMG_3100_mp4-24_jpg.rf.a1ad61ea42e6b66a57d801f7d0878c0e.jpg', 'youtube-260_jpg.rf.9682bc1741d7642e66d56832930de422.jpg', 'IMG_5848_jpg.rf.276bb36b3b72258634e631184da7852d.jpg', 'youtube-230_jpg.rf.8c88cdcc6732cbf4431747bef40863c4.jpg', 'hqdefault_jpg.rf.4706073e06174142f831b93adb16f07d.jpg', '2008_008593_jpg.rf.fa226868652307ad79a6e9a0ec013a1e.jpg', '2009_004148_jpg.rf.20ee0ed182f1410ef10f130001b67a14.jpg', 'construction-369-_jpg.rf.23dd790f943919d62800543641ea8474.jpg', '004720_jpg.rf.2c90819deb7a595e4201b6be21fe29ec.jpg', 'image_314_jpg.rf.f06eff57647e89b591bbc8705bec3475.jpg', 'autox3_mp4-49_jpg.rf.6121fb64e33a8b42f4492a6a9740edc2.jpg', 'construction-5-_mp4-135_jpg.rf.f7409d777b9b29b4565546cde4ffa927.jpg', 'youtube-579_jpg.rf.0553c682a240e85b7d1367fec9da21e6.jpg', 'w1240-p16x9-fa978043deff83fed485af12d16e39c61398fc30_jpg.rf.ed6e2c2cfd30a52bfeb2e2a7eafc93c0.jpg', '2008_008364_jpg.rf.bedc4a85a4f7f5d50ebf3f3f62cf1500.jpg', '-2544-_png_jpg.rf.dcf58552354021e725e2535105969f5a.jpg', '-1975-_png_jpg.rf.f0c6b10f9762a19849b0fb7f1654c001.jpg', 'youtube-116_jpg.rf.b6805cadcdff7c45cb410b69a73ca293.jpg', 'youtube-554_jpg.rf.7c697c7deea9995a0145e96cb7a23797.jpg', 'image_624_jpg.rf.300c4ba33e4ebba976d92ff7e547f58e.jpg', 'youtube-51_jpg.rf.aa7c8977184675aa773c6d399e1f224c.jpg', 'image_1004_jpg.rf.57bc4c7a8f1d5f7737d9c7dc5827d7f5.jpg', 'youtube-360_jpg.rf.16fc1037fb64a35c8c2acad6f366915d.jpg', 'construction-3-_mp4-14_jpg.rf.f3027b7117e0f1c6cf0d007ca62c2d30.jpg', 'image_294_jpg.rf.42bccbf87a08517227f2506fd6c13592.jpg', 'youtube-396_jpg.rf.7501d10509b2c151d5eae679f8e5e5de.jpg', 'image_721_jpg.rf.65605ae6d8fa269e1a191c78ccb17894.jpg', 'autox6_mp4-20_jpg.rf.2ea83677536cb5929e57581ab983827b.jpg', 'youtube-574_jpg.rf.7c5c0939b72ebede4176b05f7443bc7c.jpg', 'youtube-13_jpg.rf.7f6ecc3e5497f54e3146fa73d8936ade.jpg', 'construction-2-_mp4-213_jpg.rf.796b34b4516cfb4f1aefddbb912f01b5.jpg', 'youtube-824_jpg.rf.c3657af2cfe0258c9c311523f03a2917.jpg', 'autox4_mp4-42_jpg.rf.146b0e51a6d2ed699aba1c2f0fccc723.jpg', 'youtube-682_jpg.rf.a221074889b2fed3fd62246bf4774bce.jpg', 'Image_1037_jpg.rf.85437bdf81bc2591c070b50693ee8f1f.jpg', 'youtube-260_jpg.rf.cecb7cbad4d0e82722464d408d2073c9.jpg', 'image_120_jpg.rf.ced22b7f72738e282041434526f0d32c.jpg', 'IMG_4921-2_mp4-40_jpg.rf.89c53f3f884478413a868cd4c6bf1067.jpg', 'Image_1021_jpg.rf.e0b3cf8a2d216a9599f0d3957f7effd5.jpg', 'construction-207-_jpg.rf.8a3fce7280ed193217b1b4e9bc472c32.jpg', 'construction-4-_mp4-41_jpg.rf.f6fa04b0e08026d620829a2ff14b6c32.jpg', 'youtube-628_jpg.rf.d427d0722bf65a27b71bb4ef33451f84.jpg', 'construction-118-_jpg.rf.97ebf941e2db53ff604959f7fb3adbda.jpg', 'construction-2-_mp4-12_jpg.rf.26f2ced069d37f4b768da48c5ef0f5e2.jpg', 'IMG_3100_mp4-15_jpg.rf.f9df1006248df05f97c270dcd1620bec.jpg', '627_jpg.rf.152dc625cfce3681ec3b2b907efea26c.jpg', 'youtube-44_jpg.rf.44c112804b26c917732c97277de4842c.jpg', 'REVZGCBIJNQPMIIXOKDCQA3GJI_jpg.rf.84eab5aab0a00caca84f2c1bf3318f25.jpg', 'ppe_0750_jpg.rf.3c6c7e7f41b061e2116d8ca06c781cfd.jpg', 'ppe_0985_jpg.rf.eacb646068f880279717582a587aaaf9.jpg', 'youtube-64_jpg.rf.d1ef98ecec242ae069270ff89347d925.jpg', '2009_002711_jpg.rf.f0563c83394a79e936b0ecec2658ec97.jpg', 'youtube-812_jpg.rf.c99750442be9a6d08888a8dcbb2fa62b.jpg', 'image_743_jpg.rf.b82c9548b6bb067d207541efc1c80513.jpg', 'youtube-709_jpg.rf.c67448753df01a846b96b11b26101d80.jpg', 'youtube-242_jpg.rf.91b9d0cecaa2c686c4c49a7d21e5c02b.jpg', '01437_jpg.rf.7839171efbe212f40b2c6ce1f3c8819b.jpg', '002682_jpg.rf.b5f6e4d4f429c574db5367b57dad17ff.jpg', 'IMG_3100_mp4-2_jpg.rf.58de1db8826e4221df63fd980b823844.jpg', 'Screenshot_20210830-123141_Instagram_jpg.rf.ab3ed7ef93b1cc4763e8b15a2eda02a1.jpg', 'youtube-848_jpg.rf.edb70b1c78b78eb0e137fa8bd4b17575.jpg', 'construction-5-_mp4-39_jpg.rf.c209156691b8954bf0bd2732bbcacf18.jpg', 'construction-5-_mp4-137_jpg.rf.1ab866f667b59aebe91a95912bc348be.jpg', 'youtube-622_jpg.rf.227bf75c5b7e51d3208d32dd248f83f7.jpg', 'construction-1-_mp4-115_jpg.rf.4dccb4f6ffaaa020f6b83ad8f7f8554f.jpg', '277_jpg.rf.1f9c34c877f19f92f71b8325c99b89a5.jpg', 'construction-5-_mp4-69_jpg.rf.db2363bd2d668608b713c20e248158b5.jpg', '2008_008753_jpg.rf.96b05f76830c2a6d37ddd3d669725532.jpg', '-1680-_png_jpg.rf.fc3fb462afe2de723f6bc348720198f5.jpg', 'IMG_5851_jpg.rf.e86249fb1684ab8fe574800182fd3d58.jpg', 'construction-4-_mp4-27_jpg.rf.6e128e68e8731b6daca9271077e4f8a0.jpg', 'construction-5-_mp4-135_jpg.rf.ee1df1fe116d2b73503f786f2893aadd.jpg', 'construction-731-_jpg.rf.74c1bf3dd3936f126806047dd71df558.jpg', 'youtube-497_jpg.rf.fa62909c54b1927602668c56527571b4.jpg', '707_jpg.rf.7f919876d3848975af00bd13370ba92f.jpg', '2008_008337_jpg.rf.5590da143ecce5f4a253645df18158c1.jpg', 'construction-1-_mp4-46_jpg.rf.173fff469373f847a78f437636cbbfe7.jpg', 'image_241_jpg.rf.ae5c13350042cce95f3e4cbc5b629b6d.jpg', 'image_624_jpg.rf.6606bdfe781b8863d9823eb7bb867a28.jpg', 'youtube-709_jpg.rf.34745146d2ae2dbc7b5605b15d06c949.jpg', 'image_13_jpg.rf.c8b3eebd3caa8e8b980753e055ec6e0a.jpg', '002458_jpg.rf.5920dd0b127455ba3892de5ce09611e2.jpg', 'construction-976-_jpg.rf.8c3de975886ffa761d4890c65691cece.jpg', 'construction-572-_jpg.rf.e2b425bdd9d13b5d0f5c6362a81f21f4.jpg', 'youtube-254_jpg.rf.6b36672be6f16090ce5afef24fa83f1d.jpg', 'youtube-571_jpg.rf.445722ace33f1fd733756c215912b3a8.jpg', 'youtube-504_jpg.rf.586cfb3ab06e7ec9cd9846fb1414fd7d.jpg', '727_jpg.rf.58c264f473552ed0c30df918d68122da.jpg', 'construction-682-_jpg.rf.4f5711298668cec5cf63e8c7f8d7541d.jpg', 'youtube-276_jpg.rf.c3164d2b38f7d28b4f840daceb1de822.jpg', 'construction-5-_mp4-75_jpg.rf.289034d906e0ff963e0ba2ba80fcdce9.jpg', 'construction-844-_jpg.rf.9374d63a45b73f848efaa07e7beebf57.jpg', 'image_829_jpg.rf.39f673b4372b452d8c687e3fcdce765d.jpg', 'mms_00692_jpg.rf.172c70de90c7f0170272abdf699d97b1.jpg', 'autox4_mp4-112_jpg.rf.f19a9dc748d2bcfebbedbf5877b6f76e.jpg', 'IMG_3103_mp4-15_jpg.rf.79e6d35cd4a465fd7ec0d4dd031673ff.jpg', 'image_120_jpg.rf.530c86dfc54a97d88c9b090eeaafb7c2.jpg', '329_jpg.rf.4a5e5473d213e592580c29c03b2db094.jpg', 'youtube-165_jpg.rf.e6ee3b2accd8d127ef2d8aa1964cd0d4.jpg', '006118_jpg.rf.3bb10bffe280d9846dec2c95585a3658.jpg', 'youtube-480_jpg.rf.77f9c16588cc063d8996df3d0b484f67.jpg', 'mms_00691_jpg.rf.dcec30837206b02a1e5bdb85bd49de37.jpg', 'construction-844-_jpg.rf.5ffd5589cd69ddbbb3b14b5846753908.jpg', 'youtube-234_jpg.rf.d98b2edbf5883bd854d4bdd4b9427b6a.jpg', 'youtube-224_jpg.rf.e9877c51ff8b8cae6c2b865faa2e01df.jpg', 'youtube-567_jpg.rf.f0d363edf6b7832ec61698ecfc457e48.jpg', '235_jpg.rf.ecd6121b665ab2bbdac1899ab058d2d3.jpg', 'youtube-497_jpg.rf.de718ed675c4ac0cb19ccccac738aeb2.jpg', 'IMG_0871_MOV-39_jpg.rf.41a6a9b70c2a41fa45e39600600ce0ed.jpg', 'youtube-29_jpg.rf.7be45ddfea22f012183920e9f2dac0a6.jpg', 'class2_151_jpg.rf.bd3a6afc6980ba1938fc0791be100536.jpg', '005376_jpg.rf.2a20e5687918f570b05628736b28e9b4.jpg', 'youtube-519_jpg.rf.79bce9674838d4bbfdeb3bcd9eef040e.jpg', 'autox6_mp4-157_jpg.rf.b63cdf38ad7d4f47f511babad4ea2458.jpg', 'youtube-622_jpg.rf.a5440f236330dd579ed80c8154b4a1d0.jpg', 'youtube-661_jpg.rf.b0ae3ac48fdc989a2fc886f789d6b951.jpg', 'autox4_mp4-111_jpg.rf.dd047d61ebf9b70f351d8faf0e850fe9.jpg', 'IMG_0871_mp4-1_jpg.rf.7f7885aea560be0f8179588784380905.jpg', 'youtube-667_jpg.rf.d2f2249f002ec216499a1284b54abb00.jpg', 'construction-1050-_jpg.rf.6906df9b82b1cfb9a06fe3fa8aa1ad3f.jpg', 'class1_075_jpg.rf.f7bb65e5958e262cf9b3ab5ea58eb1c3.jpg', 'construction-816-_jpg.rf.8dc9e2198fc86bd12a488c34fc4fa02e.jpg', 'youtube-272_jpg.rf.7dd66440ef8aa37bd17d50705dd38ccf.jpg', 'youtube-137_jpg.rf.90bf389d1e857adcc5f447325cb571c6.jpg', 'ppe_0629_jpg.rf.5b22ac96e5d13708ad0d3c760684ed67.jpg', '405_jpg.rf.d32a5c5e31bf063c660923d082f43e83.jpg', '006858_jpg.rf.fac7da50abd77496b63cb83cca271507.jpg', '-I1-MS09uaqsLdGTFkgnS0Rcg1mmPyAj95ySg_eckoM_jpeg_jpg.rf.b6fe400473371645e17e76a323691b4b.jpg', 'bowling_0014_jpg.rf.d28f01392e1078bf8ad121aa9c94fcea.jpg', 'image_28_jpg.rf.188dcca832e3ca1c9e9597e352ca7aa1.jpg', 'image_337_jpg.rf.961796940b13502ddc37ed2a2e063cee.jpg', 'IMG_0871_MOV-39_jpg.rf.20053de5df260249bf93e767a4c62c8b.jpg', 'RPReplay_Final1667001201_MP4-79_jpg.rf.0fcc7de22dfa5f7992a47c7ff06b0d16.jpg', 'youtube-229_jpg.rf.1abc159f7f5710e59b83f731b3d71378.jpg', 'construction-331-_jpg.rf.a81eec9d26ee319d3d0cc6692ad1018c.jpg', 'YouTube-FreeStockFootage_Child-playing-with-parents-JoyLaughterHD-RQ_qqCZOkZk-720p_mp4-42_jpg.rf.eb3adf1c60e2f4b74334f3dbc1a1b88e.jpg', 'image_875_jpg.rf.5deddf512753ad8bc975db3f71810b82.jpg', 'RTX7CD4D-e1580252893876_jpg.rf.7781041fba565aa3f08b820e1220ad2e.jpg', 'construction-2-_mp4-12_jpg.rf.303c49beb1cd6415e78e95affd27ec7e.jpg', 'youtube-274_jpg.rf.cad3d673d4f2730f63202db35975429b.jpg', 'RPReplay_Final1667001201_MP4-79_jpg.rf.a31577e9de8bac4f2ea33df90a0f0ccc.jpg', 'youtube-260_jpg.rf.bf204cb73ecb38d4c88045354ba687d1.jpg', 'helmet999863_jpg.rf.532399683d5b56a404e935b18b13b9c3.jpg', 'construction-4-_mp4-182_jpg.rf.492a9e7be9451e34149bcbcb89c11810.jpg', 'image_120_jpg.rf.b4d103c7a293cc87c8ce4fda188d1096.jpg', 'amz_01638_png_jpg.rf.f7e798738c704d161996d8dbfba2a994.jpg', 'Image_1025_jpg.rf.61268a2f144c707d1190c9370721cb9e.jpg', 'front_crawling_00088_jpg.rf.7f5ce5d70f21af8e25741e12f0bfbae7.jpg', 'IMG_0871_mp4-1_jpg.rf.5489c13165e43f0f28ee0b835777c06f.jpg', 'construction-207-_jpg.rf.2d637019ba12c4961982789fedfd3c12.jpg', 'image_662_jpg.rf.c01ed16d038c373ff7519aa09965201b.jpg', 'construction-855-_jpg.rf.3631ade3b57ef3e8c3acd6104bfbd1e0.jpg', 'construction-331-_jpg.rf.6e4ab1a9fee846e9c5516261f7b60b85.jpg', 'n190039_jpg.rf.e81596a1eda409a3f441c38bd7da6d2a.jpg', 'youtube-448_jpg.rf.a9f2d6af79f45605b867ec6fac63d53c.jpg', 'youtube-197_jpg.rf.befb7861a598e77e4dd2353f116c7d50.jpg', '-2406-_png_jpg.rf.8819ae56f2a6b0101846514ded8ac8d7.jpg', '2009_000063_jpg.rf.c749876f44dd889271116bd4db04dc12.jpg', 'youtube-252_jpg.rf.e9a5f72cd76d2c8a603d445843eb92f1.jpg', 'airport_inside_0449_jpg.rf.87b0d9fee1d40187fda42a192a59d5af.jpg', 'class2_158_jpg.rf.e36164a84f58c26b39f986eb6e01bbf2.jpg', 'youtube-550_jpg.rf.ecfaefad29921794973e7f5f6ad83500.jpg', 'IMG_0871_mp4-14_jpg.rf.48abbd1245bad1c0b012ec3b52cad710.jpg', 'Inside-merge_mov-16_jpg.rf.064c243f380d31af030bd1b7508e472f.jpg', 'Movie-on-10-31-22-at-10_08-AM_mov-14_jpg.rf.28d2371d0c22551ce422ac53cdcfb304.jpg', 'IMG_3103_mp4-10_jpg.rf.83600aa22f9978a4f87c3f9fffc222d4.jpg', 'youtube-25_jpg.rf.e139b5218288ad035d5a201d1b115793.jpg', 'construction-4-_mp4-27_jpg.rf.307c9cc40f7d992120eeee5a5c2bf9b4.jpg', 'youtube-695_jpg.rf.4c25a8537275a63e5c32e0f48e03ad7c.jpg', 'construction-731-_jpg.rf.20e3d7c26bf8c63c65ae274555773e95.jpg', 'construction-816-_jpg.rf.4eb09507ed79cabd33624b75bf79325b.jpg', 'youtube-507_jpg.rf.9dd5d0a2881420c1b72fa4749c1d8830.jpg', 'Movie-on-10-31-22-at-10_08-AM_mov-10_jpg.rf.9aa13660a190b7e065d7af4ffe14241b.jpg', 'IMG_3100_mp4-2_jpg.rf.87e69eb0f5f24cbadcca3fbfe8ca029c.jpg', 'image_875_jpg.rf.82ae9f3b1c857b673efe63fc38fc63ad.jpg', 'youtube-486_jpg.rf.a9d7cf6adc01f16228d02abd8c30bcf7.jpg', 'youtube-276_jpg.rf.a805c0570527ab12069eb5c77b6caf83.jpg', 'IMG_3103_mp4-1_jpg.rf.98922ba5765b76f9e6c26b714b90f5d8.jpg', 'MariusConePic60_png_jpg.rf.2113312268bdc5cb2ae311e1a713af16.jpg', 'londres_023_jpg.rf.aa01188945c0c281f478311642fc796f.jpg', '-1680-_png_jpg.rf.aac88b5b6fa0becf6442572810f8cf76.jpg', 'airport_inside_0449_jpg.rf.22ef0328c4e2f82d4914c26b9402595d.jpg', 'image_337_jpg.rf.d140a30f5e7ac00823e0cda3ae4148b7.jpg', 'youtube-726_jpg.rf.fb84745ec01c66f2b69157d913cab155.jpg', 'IMG_5024_mp4-2_jpg.rf.f14476eee4096607def4cd1f1883ca5d.jpg', 'autox6_mp4-20_jpg.rf.ba6134721c0c752e7142a6299d2f04e9.jpg', 'youtube-507_jpg.rf.d92c828e6ccb5167f91263e147c80e61.jpg', '005773_jpg.rf.db74cb55673015df5c01266d0965c1e0.jpg', 'IMG_3100_mp4-2_jpg.rf.4d46f38425296af74814d1f0506575b4.jpg', 'RPReplay_Final1667001201_MP4-334_jpg.rf.1e326e46bbffaa3205105d6db73fc7e9.jpg', 'IMG_5851_jpg.rf.1e2a9117128d23630020de5b6b717ae2.jpg', 'IMG_9949-1-_mp4-63_jpg.rf.65042c1efe0eb9bb51a1b14ab8b0033d.jpg', 'youtube-550_jpg.rf.ca2b4e9e24ac87d20d6223ac8785b650.jpg', 'image_1006_jpg.rf.5e39c8122bbd1356d4a8e7d8277d89fb.jpg', 'youtube-506_jpg.rf.a875a18a89c3e735c82a495101f27c82.jpg', 'youtube-170_jpg.rf.8d44e32dcefe974fc0173d7b8bd4753e.jpg', 'IMG_0871_mp4-13_jpg.rf.01f41c3465981dfb5c5894f36dbe7405.jpg', 'class5_012_jpg.rf.8f62f85be581e150ad39081778d76bd2.jpg', 'youtube-837_jpg.rf.cb9d104a7df8e2da5bc8e7e3645b3349.jpg', 'youtube-474_jpg.rf.31405beb62e0abdee684b44bbb69b242.jpg', 'mask-wearing-1632932085584_png_jpg.rf.a2d2e5702d2eec45420a4e9b1aa215d4.jpg', '-I1-MS09uaqsLdGTFkgnS0Rcg1mmPyAj95ySg_eckoM_jpeg_jpg.rf.8691072d7687a7a3251efdf544326795.jpg', '165_jpg.rf.8b803b2c10eb3a316412e867ee14eaf5.jpg', 'ppe_0985_jpg.rf.1210df4da3a12e8cadf70cd70e38e7c1.jpg', 'image_575_jpg.rf.68c40d183d915fcd15ec4ace1e77e341.jpg', 'IMG_3094_mp4-45_jpg.rf.b65aa0f84dbec2f2cb4e46553b791704.jpg', 'construction-649-_jpg.rf.d57527f5b80000d1931bdb5d407e3a44.jpg', 'construction-1115-_jpg.rf.3e6520c600d6e3782916f8b157b8b46a.jpg', 'construction-1115-_jpg.rf.65aea4ef94ae0c57a90b44eb2056a940.jpg', 'image_435_jpg.rf.755d9fa0771802a3b95652a9aac68093.jpg', 'youtube-57_jpg.rf.0cc0715dd80cc227cb0881b170dc7c50.jpg', 'construction-3-_mp4-148_jpg.rf.20ec335e8625ddb4da3d7d656718c1bd.jpg', 'youtube-348_jpg.rf.1aabd2813662bd7b86584c03b43ea2bc.jpg', 'n457047_jpg.rf.a714b0b010973b624497d7a67f4c8816.jpg', 'youtube-815_jpg.rf.db67913f887fa4d91d6720efe21bbf81.jpg', 'IMG_5024_mp4-5_jpg.rf.9098e69dc2ea3056f2691059d073ac89.jpg', 'construction-855-_jpg.rf.2c9f8208d07994d0cca23ba7d0a3f16b.jpg', 'ppe_0738_jpg.rf.467cbe79a9e488c7c8c336e19d88d0c4.jpg', 'construction-986-_jpg.rf.1cb591ab919d5ad35df680d527f7979a.jpg', 'youtube-504_jpg.rf.241ea52c86257e2116da083c77deb845.jpg', 'image_321_jpg.rf.7cc6643afa0d1d377bb7b3e593e43acd.jpg', 'autox2_mp4-74_jpg.rf.e5934c988b04332afcc78cbf926e9dd3.jpg', 'youtube-812_jpg.rf.82eda1727affc6d6d65534e9291d4e50.jpg', 'Inside-merge_mov-16_jpg.rf.6c01f603e4e10decc54abf1947db7fae.jpg', 'image_39_jpg.rf.52fe6910795b92e2aac4d25c1ff72722.jpg', 'class2_187_jpg.rf.41c31a0f0e9d59715b6d91d66a6ee5ac.jpg', 'maksssksksss710_png_jpg.rf.c3c3d6e4c3e35d2fb1bb19311ba73056.jpg', 'construction-708-_jpg.rf.4e32fc46ba7c1ce57833437ef93e6f77.jpg', '005239_jpg.rf.205d328d802b9bbcdb0b1a55cb86756f.jpg', 'image_965_jpg.rf.b32ac9c5c122adb5851e5a680a6d745d.jpg', 'image_221_jpg.rf.ae016b16cd940612fcf0454f1fe5d4a9.jpg', 'autox4_mp4-112_jpg.rf.dfb0c2b0da41e5c1cc6287d06ee92aea.jpg', 'youtube-651_jpg.rf.b2c4f5c904997039262f6aad836b864c.jpg', '-2252-_png_jpg.rf.959ef543a1a8383d7ea395bec26b1030.jpg', 'ezgif-frame-049_jpg.rf.b48bcc3d61ced355cb30ff2df96a6925.jpg', 'youtube-699_jpg.rf.816d0269b7cb1a8621904f2e0b48624f.jpg', 'youtube-695_jpg.rf.19a86e22fe4a33c49cba7546d5e6498d.jpg', '2008_008593_jpg.rf.326b2332c5ad72b7eb4ff01251abbf4e.jpg', 'youtube-295_jpg.rf.91d8f30e9ef707a29bc71993bafc3cc0.jpg', 'youtube-579_jpg.rf.63915f1d2bdbbf415e11659ea0024168.jpg', 'IMG_0871_mp4-0_jpg.rf.11d5df8c120c11a75e9f69a06f8fff16.jpg', '329_jpg.rf.fbb0984fcb0cdd40c954287ddad65b29.jpg', 'youtube-837_jpg.rf.1014828b1c5f9174e5dad2b8e744b86b.jpg', 'construction-112-_jpg.rf.7a5466131778ab7835ee50d29040fb1e.jpg', 'image_673_jpg.rf.2d060997ea449f2a81778629a44ec187.jpg', 'youtube-693_jpg.rf.71b09193e1c12911ffd92e1647e3ef14.jpg', 'mms_00691_jpg.rf.bbc034a90a824c2b05b2081f3a4c06c5.jpg', 'youtube-457_jpg.rf.68083426ed75d1e46ed28567e4245843.jpg', 'bookstore_38_02_altavista_jpg.rf.79035ad5581fdab7e754f904debfb905.jpg', 'youtube-384_jpg.rf.0bcf89652762afb44edadfaf2690b3ac.jpg', 'image_435_jpg.rf.937d1472b0bb03a48c1e2766b20fd283.jpg', '2008_008618_jpg.rf.08333b53ff8de881498a70bac2f1cec6.jpg', 'image_796_jpg.rf.999fd298ae6666a80a6394f2ca7ed999.jpg', '2009_000280_jpg.rf.c0c50e450c51eaea4420ea8611432a27.jpg', 'youtube-175_jpg.rf.cfba3ce688aeb8f4fca66b201ab8b933.jpg', 'youtube-134_jpg.rf.840e0f602e0c938e439221ddfe6dfd04.jpg', 'youtube-300_jpg.rf.ed1370f0e2150986042b633380be1be5.jpg', 'move_in_corridor_jpg.rf.370d9cb06aac096c65e2973a720c2afc.jpg', 'construction-5-_mp4-48_jpg.rf.fd5477e7199642ffa7a483b1b0ce6af2.jpg', 'ppe_0491_jpg.rf.1c27756b6705c215f08a091a08f31522.jpg', 'youtube-49_jpg.rf.dd69eec01082ff31e87b46c4b616b5b0.jpg', 'amz_02354_png_jpg.rf.921443ff67fe49b2185683dd5bbca1f1.jpg', 'image_673_jpg.rf.5b0d43297701b36d7b9f870dabf04752.jpg', 'construction-331-_jpg.rf.ea29c106612a81b5265ea538ee457638.jpg', 'youtube-710_jpg.rf.676309e8bb0b7465a6fc6ae233c91011.jpg', 'youtube-42_jpg.rf.ff319d323fa3973bd5b2d8784419e2b1.jpg', 'IMG_4921-2_mp4-40_jpg.rf.4c12e2beca4e02b9674e6e64aa58c693.jpg', 'Image_995_jpg.rf.373662c6eae51c30a6b2a6e78dc77403.jpg', '2009_002711_jpg.rf.6fc864b0aeea496698e8d8f650729efa.jpg', 'youtube-668_jpg.rf.4095d62a6fef2faf0b30f6434d8721e0.jpg', 'construction-385-_jpg.rf.ea84b7922f7cd0d24543b4692b698501.jpg', 'image_716_jpg.rf.e6032ddfeb46974638f84f6cb71a24fe.jpg', 'p65621379_jpg.rf.d0149504b7cfc4bdaa4fceb5a54f7a9e.jpg', 'youtube-457_jpg.rf.5af4fbc8b3cfa887a55b9d45a7f3e547.jpg', 'image_321_jpg.rf.f4432cc1ed4ecde1f2c4dde752eb4ef8.jpg', 'youtube-492_jpg.rf.07887b4bb1f23685611b54f5b3861be7.jpg', 'youtube-682_jpg.rf.99f339a7bafc1582a19cd354e3ce059d.jpg', 'class2_158_jpg.rf.0de7df666b9a2c4e63baada2bf7a6c4f.jpg', 'airport_inside_0460_jpg.rf.a412becf4d099d3a7a8f5bd61cbab0e2.jpg', 'youtube-618_jpg.rf.215bc57133071439545a509f9f00d301.jpg', 'youtube-806_jpg.rf.3936fe02845166f31a01d107b81c2243.jpg', 'IMG_5024_mp4-5_jpg.rf.3ff4b4132d97c95bc32540e903c5f440.jpg', 'youtube-815_jpg.rf.efcb04fd1022521a86e34b4fde943808.jpg', 'construction-1-_mp4-60_jpg.rf.c6eeedbfe53887330879b637eddecfbb.jpg', 'construction-547-_jpg.rf.06ac6a710305132de8e64a49e4ec05b8.jpg', '616_jpg.rf.05c63c91f6ce5efe80d1f6b70d757dc8.jpg', 'image_1004_jpg.rf.70292dd6d2f3d96f832d44776dda9dab.jpg', 'image_941_jpg.rf.0d7df052dcf719eb98f3c4de6c663af4.jpg', 'construction-1-_mp4-60_jpg.rf.30b09a8c2865e4922520e7d022dd9c61.jpg', 'image_93_jpg.rf.9ab670caa839d1b471864a68fc7f31bb.jpg', 'image_784_jpg.rf.41090f7f0ee0910e7726080756d0f2ea.jpg', 'youtube-234_jpg.rf.701a07861feb9ea391993ea44e385111.jpg', 'youtube-332_jpg.rf.82f4c8313fe8be426230e99f36c15fdb.jpg', '277_jpg.rf.093e99de12a75b9c38c17759345870aa.jpg', 'construction-705-_jpg.rf.b064a30b3f33dd3df26665ded88b3c60.jpg', 'youtube-235_jpg.rf.d74dc522af91254ee2d7fea16a61d4d6.jpg', 'construction-1115-_jpg.rf.a5f28dfa40323a63fb7141203e921cff.jpg', 'image_55_jpg.rf.4f4acd932047860fa58ac1e9e5c91c46.jpg', 'youtube-344_jpg.rf.443d1c9ae3cb991d3480ba0e3f026e58.jpg', 'construction-708-_jpg.rf.9f1f70baaef9412fd85d56d0793fc672.jpg', 'IMG_3100_mp4-23_jpg.rf.ceb0438cf124f0128fd85d689bffe22d.jpg', 'youtube-459_jpg.rf.c9ac0b0598c3d80339b8e71c6bd00cc7.jpg', 'image_321_jpg.rf.663d4872dafe186593870f58aecf967a.jpg', 'IMG_3103_mp4-17_jpg.rf.624a189394a4c43b80b03a34211d0c2a.jpg', '02629_jpg.rf.c3231f30e24be87a70d431d81ae730ee.jpg', 'youtube-519_jpg.rf.ef7eac749be35c2cd30dcd8354de7a5d.jpg', '727_jpg.rf.fb24f3c0038f7e32d4b4199ecc7c937e.jpg', 'Libreria_09_20_altavista_jpg.rf.d79257bf1899bfd0f07a2851670fc455.jpg', 'IMG_9949-1-_mp4-63_jpg.rf.6d04c0ff1a95e4309a859fe65031ebe3.jpg', 'youtube-832_jpg.rf.fd422fc645f0412c547da78aea7f856f.jpg', 'youtube-460_jpg.rf.d2dee92d138a460505332c0a5dd32432.jpg', 'youtube-497_jpg.rf.b8b5f459b6bf69cc2383c6f8f7de916d.jpg', 'youtube-274_jpg.rf.210bbecc47b79db3612a94b1930eaf9b.jpg', 'ppe_0015_jpg.rf.371607a3e9a7ecac36a75f2f9877ee94.jpg', 'construction-5-_mp4-30_jpg.rf.c2c7b6840df377580a7cafbae3f39794.jpg', 'Movie-on-10-31-22-at-10_08-AM_mov-5_jpg.rf.074ef90b407a15d79870f6408e7a7da9.jpg', 'construction-385-_jpg.rf.d59ccb2166c957d8483378da1a273bbd.jpg', 'construction-4-_mp4-38_jpg.rf.2e5287c7925dbf5a8ef8422c0e6fee27.jpg', '01437_jpg.rf.ee92d3e0667ed377273097b6ddec65f6.jpg', 'youtube-457_jpg.rf.10ec1e8ec33f49a09f58e020e3e03542.jpg', 'youtube-504_jpg.rf.8793f585bd8d7c256ee8bcef8b806dfd.jpg', 'youtube-300_jpg.rf.57170db9cbd4fda921dd4f10721efa34.jpg', '627_jpg.rf.88c9bd753317933682dfb7618c406ee1.jpg', 'helmet999595_jpg.rf.490d4ca004264ef763e06e9256e0a2fc.jpg', 'airport_inside_0550_jpg.rf.f2c346802de743043297e70687160686.jpg', 'image_841_jpg.rf.042e14097ac20b8e81bb76017ee79c1d.jpg', 'autox2_mp4-74_jpg.rf.bf9aaf27108385d7246130699dd1556c.jpg', 'mms_00692_jpg.rf.aec50254ecb9bcc5c3c2edcdb4a539b4.jpg', 'IMG_0871_mp4-14_jpg.rf.e5d60da96c5096a3c35f0c58b1abb112.jpg', 'image_191_jpg.rf.6696088664acbaad513226dc2962d19b.jpg', 'construction-619-_jpg.rf.a59235e60c4da86f5647c8b8bd506ebd.jpg', 'construction-5-_mp4-135_jpg.rf.02aba8687f6a54763ddaa03a479ff3dc.jpg', 'construction-1116-_jpg.rf.da7f8f05689a5daf50a70fd109bb4a8f.jpg', 'youtube-534_jpg.rf.623ddd4b9d44ac36ebe4d106ba859247.jpg', '405_jpg.rf.534cf3056a780b84def0ce12ced849b7.jpg', '005310_jpg.rf.5b524ed76d3e591d22c323212f22943f.jpg', 'image_740_jpg.rf.49eabcd34fc8c43bde0320f3aebff84d.jpg', 'class1_075_jpg.rf.a03d62c65431fdb47562593e28991d07.jpg', 'construction-2-_mp4-210_jpg.rf.6e3354f079d01a5c68d56911020e31ce.jpg', 'youtube-131_jpg.rf.39bc29951a25ed8fe34bdf05599d8b5e.jpg', '002654_jpg.rf.ff1deb021121bfef83e8a9152093596e.jpg', '006118_jpg.rf.52041b1d83e4a812028b6ead912c00e5.jpg', 'Movie-on-10-31-22-at-10_08-AM_mov-0_jpg.rf.2515251d95f3983654cb680fac4e37bb.jpg', 'IMG_0873_MOV-10_jpg.rf.1ac5cdcd2d574d5619df3c42326276cb.jpg', '2008_008618_jpg.rf.83d27bf2a3b03d840da408f29f6d5864.jpg', 'autox4_mp4-42_jpg.rf.b99f0b25bd84cdd7fb96017ebd68e303.jpg', '2009_003000_jpg.rf.16e6d9c2516e182a4343111e8d26a81b.jpg', 'youtube-849_jpg.rf.dfaabf6f93250fdbe0809582859b6397.jpg', 'IMG_9949-1-_mp4-6_jpg.rf.724b80a9e2863bfa9d11c8307e518414.jpg', 'autox6_mp4-157_jpg.rf.6691e2b4c1959679de0f67afd80747fe.jpg', '2_jpg.rf.2a2cafa3fd6db594c2f3a46f971b1c14.jpg', 'image_288_jpg.rf.cc732dd1330cb00ab835c7f48e7dc741.jpg', '588_jpg.rf.f4b4ae3e5ee90c957a0b8a62cbd88954.jpg', 'construction-1029-_jpg.rf.f34331d792a26cbe94ef77e3251989ac.jpg', 'construction-4-_mp4-41_jpg.rf.7b69173a420f4e678956e3796fed8ee5.jpg', 'autox5_mp4-34_jpg.rf.9355e6d129f90d4f5be17f3f93259086.jpg', 'image_294_jpg.rf.53e6b4b1a469feee090f8debd1dbbaaa.jpg', 'youtube-622_jpg.rf.5cedb2fa20d0d25a6d0d775bdd1e09e2.jpg', 'img17_jpg.rf.f86a56da765e0be917a7e394bb830282.jpg', 'class1_235_jpg.rf.c95e6d030c77585b441564c612b5ec8b.jpg', 'construction-3-_mp4-23_jpg.rf.2d222c86e70657ebc42c765548e6c3ca.jpg', 'image_662_jpg.rf.884cebb84cbee6e965a07fc98156768c.jpg', 'class2_074_jpg.rf.d4fadd17507ab4d4dd45169d813be813.jpg', 'airport_inside_0460_jpg.rf.aae905a80f304e8b4a3e3c738887490b.jpg', 'construction-897-_jpg.rf.7db8bb44a664e76878ebd2156a59b5a6.jpg', 'class5_012_jpg.rf.75ad7a3fa454c7d20bacf9e322ef64ac.jpg', 'Movie-on-10-31-22-at-10_08-AM_mov-3_jpg.rf.bbe3b996c43b5fb58eb28b099c5e4c8d.jpg', '005310_jpg.rf.83e6f0a246ede1e981765bf75cb7b067.jpg', 'construction-5-_mp4-161_jpg.rf.631bd222a82425dbe1dc30b8fe42dc39.jpg', '2008_008652_jpg.rf.d00034b7c4abe7242379f832445178bd.jpg', 'airport_inside_0214_jpg.rf.5d8c6637d7185213fa66cfa76f1750ec.jpg', 'airport_inside_0073_jpg.rf.44956bc5c96d8c7ef52f49f67e3c907a.jpg', 'Apple-Tests-Face-ID-Feature-While-Wearing-a-Mask-Shorts_mp4-51_jpg.rf.c943db9b286389250ee78674432c1ccb.jpg', 'construction-1-_mp4-51_jpg.rf.3d017fb1c926511b1e0aea478e16aa2f.jpg', 'image_176_jpg.rf.bba93125abaf13dc2267c1b71ab20e33.jpg', 'IMG_0871_mp4-10_jpg.rf.810515f8a9482007ff07d4d5d5126252.jpg', 'youtube-423_jpg.rf.bf9fc0c0d995c3a68c30efecc38daf40.jpg', 'IMG_0871_mp4-10_jpg.rf.316b943fdf8f56161e0005bb9c4ec0b2.jpg', 'IMG_3094_mp4-45_jpg.rf.9acc24b88ff1809064a0f6506e2fbfd6.jpg', 'image_246_jpg.rf.621beeead20488bd72251d6546e059bb.jpg', 'youtube-221_jpg.rf.3a2b829e17c5030726fbd51e28c02aed.jpg', 'image_560_jpg.rf.cec604e4e8173d635fc4c4170df9d739.jpg', 'youtube-187_jpg.rf.0aeddf391e62f89eb388ecc1dee1fdc2.jpg', 'construction-2-_mp4-113_jpg.rf.22f74f290e2fa8942d2cc57141573823.jpg', 'youtube-855_jpg.rf.c1f7df1e079c07197ea93a64a0ac27ee.jpg', 'IMG_3103_mp4-17_jpg.rf.2d4d89d339436c10ec2adc175b51b607.jpg', 'construction-5-_mp4-161_jpg.rf.414bb7266d8b44f253dab7b65d7da37c.jpg', 'construction-1-_mp4-64_jpg.rf.b2ae0a3b107077c64df0812b0f8d2531.jpg', 'construction-4-_mp4-182_jpg.rf.f72c3426b5e987bc41302d8309dcc192.jpg', 'IMG_5024_mp4-2_jpg.rf.c5b2608e4802e3b71e2e51862b3e1542.jpg', '006858_jpg.rf.ac43228cb397ef00766c39531a03e4d5.jpg', 'IMG_5848_jpg.rf.aa5200d20d0077ac8de0eb01adda820f.jpg', 'image_23_jpg.rf.09b499c4e1e505b1d44817741c2dbfee.jpg', 'RPReplay_Final1667001201_MP4-55_jpg.rf.a4b3b31384a7f232413a5a84ca3136d7.jpg', 'construction-2-_mp4-219_jpg.rf.e149ec4783f96c308569ab885cf98edf.jpg', 'youtube-10_jpg.rf.9adb84fcf6c62e6fa0ff3bb05ab87d26.jpg', 'construction-855-_jpg.rf.0867d4ce5a9cc9d8f87bd90a5214c7eb.jpg', 'youtube-409_jpg.rf.bf0ce5249d8b18dd283cf404632d1125.jpg', '2008_008526_jpg.rf.73bbaeff54aafabd9a49d2fdbedb4453.jpg', 'youtube-407_jpg.rf.1b0ab03157f1b44aa5afca50be370206.jpg', 'autox6_mp4-80_jpg.rf.0cebdad4d9d8f205f998ceaad09ea576.jpg', 'image_941_jpg.rf.9570ad17d6b6aea50acf4c523302de2c.jpg', 'image_841_jpg.rf.ed1f5c0186f06cf6cf8434322ea8031f.jpg', 'youtube-567_jpg.rf.f8bd150bb94a697fcef528db89ed716a.jpg', 'IMG_0871_mp4-5_jpg.rf.d8a9e349bf878db698469433d9778d75.jpg', 'ppe_1212_jpg.rf.3fb3352674da0bad368f663c349f98c3.jpg', 'construction-3-_mp4-211_jpg.rf.09e6543350a247f05d10cc7852422156.jpg', 'image_721_jpg.rf.93654c7e0f2c3542b16242a703a5ebee.jpg', 'class1_235_jpg.rf.fd08fc930ee03765015b1177903d0b4f.jpg', 'image_191_jpg.rf.59271cba397d6b83766e3a41807fdf2d.jpg', '005310_jpg.rf.462b38e32ee1aed612c4ed119dc9a06e.jpg', 'class2_093_jpg.rf.b48cd3eb2f144761b47c5bde4214a34f.jpg', 'youtube-197_jpg.rf.84e48afd1eb2f504aecfb6456a196950.jpg', 'image_624_jpg.rf.f62d07b53d05ad529896b9db8c7bd08e.jpg', 'construction-2-_mp4-213_jpg.rf.db5dce09a34596f043d005b316590eaf.jpg', 'ppe_0985_jpg.rf.0f64a0473bdc767099a74d9b34f1725f.jpg', 'construction-753-_jpg.rf.b63e0f4f634c86f02483ced3783fe0d3.jpg', 'construction-5-_mp4-69_jpg.rf.eab734f9271694a94187a7d14d7135d2.jpg', 'construction-649-_jpg.rf.fdc92ef7b8a44c1d32ddb0165cc8f4cf.jpg', 'image_18_jpg.rf.335e252ed8e6e0e4c83d801d98deaed3.jpg', 'Movie-on-10-31-22-at-10_08-AM_mov-27_jpg.rf.f10be4f4f70251914ecd0a0c1de06aca.jpg', '005577_jpg.rf.6e948a65b0aa8a6128bec802e1131620.jpg', 'image_16_jpg.rf.db35e5e260e92cbfb80c0bbc18204610.jpg', 'mms_00691_jpg.rf.3de5fb292ef5fd607a5ec5e259a09648.jpg', '2_jpg.rf.7c5f480de276d0dbd11edbcc4a81c19f.jpg', 'construction-1-_mp4-51_jpg.rf.f7430f8f526701eb1a93b124ae3e7c8c.jpg', 'youtube-44_jpg.rf.c4c437c06a7372f5fa6c627e99611d50.jpg', '005239_jpg.rf.b30f66b565561c64979bb7869ab4a970.jpg', 'youtube-579_jpg.rf.2e8ec58ecee119571d0d63434430c40f.jpg', 'IMG_3100_mp4-5_jpg.rf.ce4fac119218ae0c5d586d7f338c1c0e.jpg', 'IMG_3100_mp4-23_jpg.rf.111461b3bc308932167364e329194edd.jpg', '235_jpg.rf.b3db12fa2baf556ce9956e8c4312cd61.jpg', '329_jpg.rf.545ddf049ed04f83620fd7ddb5bf6f87.jpg', 'Movie-on-10-31-22-at-10_08-AM_mov-5_jpg.rf.6d957ecf12077688ccc87f61d8607ad8.jpg', 'youtube-362_jpg.rf.cac568e5332482b8b1d7c58abb5c5096.jpg', '2009_002883_jpg.rf.e9b784c222a40531120bae836f293598.jpg', 'IMG_0871_mp4-9_jpg.rf.ee7ddc04f4e0e9379b1df6e6c3777ca8.jpg', 'REVZGCBIJNQPMIIXOKDCQA3GJI_jpg.rf.7137c1768ca8bb678f8023804f2dc9d4.jpg', 'Screenshot_20210830-123141_Instagram_jpg.rf.4a3c4007565eaaf662d7a5c802e44e45.jpg', 'youtube-668_jpg.rf.179b654b1f4c6574010186dd4fbdd475.jpg', 'youtube-710_jpg.rf.336082a2d1af65c8d9184fe1dbdf7ac1.jpg', 'construction-860-_jpg.rf.77b38f4a23ba38bebc990ab42f9a10e9.jpg', 'airport_inside_0363_jpg.rf.0c8e1d8f49a8f7f8fa0fd1be8019db94.jpg', 'construction-347-_jpg.rf.135164f845ccb489767b2085e6bf4580.jpg', 'IMG_0871_MOV-30_jpg.rf.4d588016dab520bbafc27f87b95926dc.jpg', 'construction-1062-_jpg.rf.86db01e6cdf1325ed46f34fb10e1a6c9.jpg', 'construction-741-_jpg.rf.38144cb2f377dbac8fedb2d4146fe527.jpg', 'construction-731-_jpg.rf.15548357954fc8dcbf4e316024c0fa8a.jpg', 'youtube-407_jpg.rf.eae2e6f24c92ca184c3bb29e091d8216.jpg', 'youtube-636_jpg.rf.318c65bf83a7e87d99faa6dc38982a11.jpg', 'youtube-270_jpg.rf.9ae5283f885f67c55f351ac2d03e2053.jpg', '005100_jpg.rf.d4b1f7a747d0ebfd6f25d164a3cbb10b.jpg', 'youtube-345_jpg.rf.acf10b19ca143688581071905c336f1d.jpg', 'Image_1037_jpg.rf.217089bf7b79d7f9ab1e5543954fd72f.jpg', '-2270-_png_jpg.rf.fb11c18eea1ddb410b1b561de012a9f9.jpg', 'autox6_mp4-80_jpg.rf.bb5a118aef4a7d884142dfc74891d0bf.jpg', 'youtube-589_jpg.rf.f15c26404164eec6ab99da19a4c127e5.jpg', 'construction-1-_mp4-51_jpg.rf.8bba7b3f3b5111e581d7d5a0bdb07604.jpg', '005180_jpg.rf.77e5bbc190a7bde710749bae284e6fff.jpg', 'image_418_jpg.rf.d49e2182f8425681855e713b6d37839c.jpg', 'construction-5-_mp4-39_jpg.rf.c2cf15dcfe418d02b74133b56a81de66.jpg', 'youtube-813_jpg.rf.394e935ab265f4a722685abfa5c64aca.jpg', 'IMG_0871_mp4-23_jpg.rf.061fdff3061f58b2c5712ddb616d642c.jpg', 'front_crawling_00088_jpg.rf.af7fe16deed2aa3cdd189eee2a70c605.jpg', 'construction-268-_jpg.rf.490efdae0552a8fd8c71a6f6a2a6f6ea.jpg', 'IMG_7211_PNG_jpg.rf.fd9624eec1df134b37ca87b492398d07.jpg', 'youtube-254_jpg.rf.511e3d5737b7272af3965f5ddfe4ac25.jpg', 'youtube-564_jpg.rf.bb1e1e7b8cbbf050ca00be0128f428cc.jpg', 'youtube-384_jpg.rf.b68e01bd9465f42161d0ef3c0b378b94.jpg', 'construction-369-_jpg.rf.30fa5e9b5231010dabadf061d2db52d3.jpg', 'IMG_3103_mp4-1_jpg.rf.a6c869480023273b342a6e8b334829d3.jpg', 'youtube-209_jpg.rf.96d7162aeb580a1dc36c5fbbc2f2777a.jpg', '2008_008382_jpg.rf.23c52bce2cca27ec7c476e91b24de0ae.jpg', '003184_jpg.rf.e7b83a5faa2513c5d2201944e2b2bd17.jpg', 'construction-1-_mp4-115_jpg.rf.2aa43302e55d176724bc0d99dcea9663.jpg', '494_jpg.rf.10fc39826f79a214ec850d3adb62bf81.jpg', 'image_61_jpg.rf.08e449f739bae2e9c59d32c7c44c5571.jpg', 'ka_00884_png_jpg.rf.5912129e6c0091ed6788779296afa957.jpg', 'IMG_0871_mp4-20_jpg.rf.b48c445c1a77f7a3c915978dff3d24a6.jpg', 'image_1006_jpg.rf.13f80aa18a4be93fe186e58af82339dd.jpg', 'construction-547-_jpg.rf.017820bddb0437be352dba7b5836a545.jpg', 'image_241_jpg.rf.15108c94dc04d438c25f0ccc715215bf.jpg', 'youtube-49_jpg.rf.5a44fe43dd47987a1b67b83e743ea9ce.jpg', '2009_000280_jpg.rf.14ea05d770d7a1cdd2ee28b6d7901c86.jpg', 'Image_1025_jpg.rf.f4f8eed01172df173ae33e8e0e292a80.jpg', 'youtube-25_jpg.rf.c6a708cbe0bf9c7ff4dc904902fadad6.jpg', '02629_jpg.rf.a7248eecf328be2e0b9794d850bf379a.jpg', '-3394-_png_jpg.rf.61441b8707107e91850cd9f576dd0ce8.jpg', 'image_31_jpg.rf.e73e43acd927e29c86e1295201f71aef.jpg', 'construction-5-_mp4-29_jpg.rf.b7652df82dc2ed8f6d3cf36fcebfe790.jpg', 'autox3_mp4-49_jpg.rf.8ddb4986f36cc784dbfbd9be67369d29.jpg', 'image_622_jpg.rf.7f40278be1943ab3e52ff7a990435ef0.jpg', 'youtube-10_jpg.rf.0438de9a621f30ef7c45cb49d9c4200c.jpg', 'image_818_jpg.rf.d8b4fb6e814eaadb784c7ceeda8fcfe8.jpg', '2008_008629_jpg.rf.85c2d54a785a02b9c6ee6e00321549aa.jpg', 'construction-976-_jpg.rf.fc85a7cb525c1168c7ce7a7e26b53a07.jpg', 'image_986_jpg.rf.804ca97679a176c1e595e0c180584238.jpg', '005180_jpg.rf.765ddd4046b2ce2755fde8140f5009f1.jpg', 'image_61_jpg.rf.a33e08a95825cb2760879674f3f61813.jpg', 'youtube-519_jpg.rf.23a11f97358aa93798f743b3fa8d5ffb.jpg', 'youtube-668_jpg.rf.72295ead27a2932c1d17219d9100779f.jpg', '2008_008364_jpg.rf.0457e5579a2dcd24852278b5657b25b5.jpg', 'youtube-210_jpg.rf.20c5e827a60cba37ba6a4247128cf9a2.jpg', 'youtube-276_jpg.rf.9dd339d208802462bc19a4f66967b3f7.jpg', 'construction-1029-_jpg.rf.99a91e79d6e2bf58dc80922f7d7c3adf.jpg', 'construction-331-_jpg.rf.6a529020c79917955c43e5d7087b73dd.jpg', 'construction-4-_mp4-182_jpg.rf.de6b154c40fe604072fbd94399a9328a.jpg', 'image_560_jpg.rf.371ae3c13657fb7104ef8761247fb62a.jpg', 'image_95_jpg.rf.5f7867b6006b00d85362aa37c436f967.jpg', 'autox2_mp4-74_jpg.rf.07cb844218c334c3a693d5c571ceafd9.jpg', 'construction-268-_jpg.rf.221b4a2ffc9ea512bdf6545a32a9ff33.jpg', 'image_257_jpg.rf.bfff661ac6ac336ed8736646a4f214cb.jpg', '006012_jpg.rf.2300bacf07c885b49cd596a85e5adda3.jpg', 'Movie-on-10-31-22-at-10_08-AM_mov-15_jpg.rf.bcfb839a9423f23eb2417ccca265d49f.jpg', 'image_986_jpg.rf.d2cec1db2c71cf8a8328440a6c165e0b.jpg', 'construction-3-_mp4-162_jpg.rf.52db765af29c85fdf701e0d4a7624fb4.jpg', 'construction-2-_mp4-210_jpg.rf.2499564f33bc763f58c65a576f4afdd0.jpg', 'Image_1021_jpg.rf.794cab9898f50fcb8d8ff3251f69b035.jpg', 'youtube-504_jpg.rf.898c82c61c0fcdedf81373003de9719a.jpg', 'Movie-on-10-31-22-at-10_08-AM_mov-15_jpg.rf.d8c4e4c2273020707d7d135ed2efb49a.jpg', 'youtube-196_jpg.rf.d9d5913fb05f3dfcc17d19e54e9ecbf6.jpg', 'youtube-224_jpg.rf.a9716401b7b5bc5d95eaf41d731d319e.jpg', 'video_CDC-YOUTUBE_mp4-60_jpg.rf.6f1bb05f4532d86f30b8df6f5936fdc7.jpg', 'construction-4-_mp4-127_jpg.rf.022b78f3bcdb6aeba49e4d1e9605233e.jpg', 'construction-2-_mp4-113_jpg.rf.657cf7274654eddca1d6c542cdee3dd0.jpg', 'Image_1021_jpg.rf.1d7075dbfe7fcdb52a6bcf29c295f3c6.jpg', 'construction-4-_mp4-127_jpg.rf.c8b5b8cd660a766336ecfcf953fe4305.jpg', 'Industrial-3-Part-Skymaster-insitu_jpg.rf.b88a96ba000fc3a64bc6b952abf133cc.jpg', 'youtube-170_jpg.rf.cc0e448b2db5c2583ed5a4de1b364edb.jpg', 'youtube-579_jpg.rf.db114ff0f07961521749739faca4fbcb.jpg', 'helmet999863_jpg.rf.4b2aa3285cf92a59ef1032ca51f5758b.jpg', 'Image_1037_jpg.rf.0fc0c99ae85a9af8a943b77ccd7c5c6c.jpg', 'ka_00884_png_jpg.rf.7e1eb708ba18a96826b2667c8da401be.jpg', 'amz_02354_png_jpg.rf.d74fcc68ca92923700f106656525292d.jpg', 'youtube-554_jpg.rf.5c89ae763397c5f2ccb61e63df485cb0.jpg', 'amz_04178_png_jpg.rf.8fdfcf920dc831c8c53c357531f5e7d7.jpg', 'youtube-210_jpg.rf.3f1db97359eab99f4c5034600951928d.jpg', 'image_379_jpg.rf.dc648cd829811bb21fb009c79ca313e4.jpg', 'construction-5-_mp4-75_jpg.rf.fc0027e06829c22dbe4e71c973a99069.jpg', 'youtube-661_jpg.rf.b991a8491c63f29355527e6b436aeece.jpg', 'IMG_5848_jpg.rf.2dc727dbdae4d8ec162b98b6ca5370b9.jpg', '004720_jpg.rf.0dcf5ce7437210bdf3d5e2f1bab5f21e.jpg', 'construction-267-_jpg.rf.5577b65d59239cdf1a583e3c0b335c9b.jpg', 'mo-justin-mask-NoMask_mov-34_jpg.rf.62cb0c331cd8bc5de64633216f8bf022.jpg', 'IMG_3103_mp4-17_jpg.rf.c5f53596221dcf72094046a2d08b6c0b.jpg', 'construction-1-_mp4-60_jpg.rf.645d185e1b6e0050a5c70dbd2136824c.jpg', 'construction-705-_jpg.rf.66d284e6c56937450749bb6f49c89001.jpg', 'Industrial-3-Part-Skymaster-insitu_jpg.rf.56bdfacf424d37bc7005ee6105f9f3f4.jpg', 'ins27_jpg.rf.89c98c782f6fc1aab397a1ca44a4af62.jpg', 'construction-5-_mp4-161_jpg.rf.ebbf17a82bd9ded610ceda99ba217ace.jpg', 'construction-4-_mp4-94_jpg.rf.faa54990813350bf15eebdb3d1ace03d.jpg', 'YouTube-FreeStockFootage_Child-playing-with-parents-JoyLaughterHD-RQ_qqCZOkZk-720p_mp4-42_jpg.rf.3d9c8da9d6790fd2f6e0bec895ca1a81.jpg', 'construction-1050-_jpg.rf.02208e58055900f0e9f2e8ded960c690.jpg', 'IMG_5024_mp4-4_jpg.rf.20e82f90e1a93960b6d3ba20323ee4d5.jpg', 'IMG_0873_MOV-10_jpg.rf.ad1474589c10090ed0c7f5bd4f26bedb.jpg', 'construction-560-_jpg.rf.6c3e097caafb9f23de0e94b6bb9c9684.jpg', 'youtube-134_jpg.rf.b9f98efd07116d2e25adbc9685b959ca.jpg', 'youtube-554_jpg.rf.6a371cf2476f48ed6ab0209f0a0b252d.jpg', 'IMG_3103_mp4-3_jpg.rf.a1a56319f7cc598049380bcf7f10ddfc.jpg', 'construction-5-_mp4-96_jpg.rf.fa2cc7cf3b5931a8ec0dfa59b68f5902.jpg', 'smartmi-3pcs-filter-mask-pm25-haze-dustproof-mask-with-vent_jpg.rf.ed44be4620775ca11a7d635b03667b97.jpg', '-3394-_png_jpg.rf.67a7a1f50f9315fa6119fc9fdc104839.jpg', 'construction-763-_jpg.rf.b7d10e3fc6006bc4d88e89194c52685c.jpg', 'ezgif-frame-049_jpg.rf.f3de004784deeeac18a38814323b3355.jpg', 'ppe_0629_jpg.rf.f74c54685a0dbe492f4d49b6bf0edfdd.jpg', 'youtube-832_jpg.rf.c023f5b9bb1c65636e5cab3064f7ab7b.jpg', 'youtube-812_jpg.rf.a5f34a08b407b48f43169f49917906a2.jpg', '002682_jpg.rf.29171c747ef34470238dd52b997917d8.jpg', 'image_257_jpg.rf.6b5b531a478ca8052f1c7d3eb63055bf.jpg', 'IMG_3100_mp4-17_jpg.rf.8fbd72f033989d9c7665a5e28a8fd2d4.jpg', 'Movie-on-10-31-22-at-10_08-AM_mov-9_jpg.rf.77e3475fc101643c603dd270881c431a.jpg', 'image_647_jpg.rf.b7ec397ad10c0d25b310680991e5b619.jpg', 'construction-369-_jpg.rf.93c7fff1119cddf6e1aa3ca99113d7c9.jpg', 'mms_00692_jpg.rf.a67d77e378aa35ede794ddd1946cc877.jpg', 'image_93_jpg.rf.fbc2f4ad1c8a06a166c5d2bb7fdcddda.jpg', 'image_784_jpg.rf.882564299bb5c1596ecdb26d5448f247.jpg', 'image_732_jpg.rf.7c28959bfc3cbbf97b386de3f53c5892.jpg', 'image_50_jpg.rf.ff8f3b4fd53f276bc9f14de2ac0924dd.jpg', 'youtube-486_jpg.rf.fad016b7440556a65ee408cf4d938f62.jpg', 'IMG_0871_mp4-14_jpg.rf.f15ba01608aa50381954ef8be5cc2c07.jpg', 'youtube-270_jpg.rf.4d12d412d22aad7d403e5ffb7a1c0797.jpg', 'airport_inside_0073_jpg.rf.405ba1048616d99ee5168b6affb4938e.jpg', 'youtube-423_jpg.rf.d0ec989fcfb1d783c32081989ef7c39c.jpg', 'image_475_jpg.rf.0dec553a921d58b2dfba1183323a196e.jpg', 'IMG_3103_mp4-10_jpg.rf.9217901c124f2f8c9d39c4a7348df43f.jpg', 'youtube-51_jpg.rf.7e1f61fc8aea97dd1ffa5ee9a64e8299.jpg', '2008_008652_jpg.rf.2ac7d064035687d4b82c8edeafbafd31.jpg', '2008_008753_jpg.rf.bb84d47d973f36b81330f3f44c0731f2.jpg', 'youtube-457_jpg.rf.05c5ec44a5f1cd8b304671f56b1bc7be.jpg', 'image_731_jpg.rf.17cfa9b22b1a08842a7bcd0219aff4b4.jpg', '005180_jpg.rf.07f95f7d40be1642632bca5a25661ec5.jpg', 'p65621379_jpg.rf.0b6c6decc1f55d5fe6afe977125b858a.jpg', '002654_jpg.rf.58b18dc4b2708f4f3c2f3f743a826b99.jpg', 'image_16_jpg.rf.41406ef870f95a81bd1d0aa68c897b3f.jpg', 'Movie-on-10-31-22-at-10_08-AM_mov-5_jpg.rf.598cd5f251a2fbbf918368bf198c25cf.jpg', 'construction-4-_mp4-94_jpg.rf.306d385f632cd1fdac5d7c649a4dc5e1.jpg', 'construction-5-_mp4-69_jpg.rf.8e6ec8dff332d388423c2656ef02e07e.jpg', '2009_000379_jpg.rf.f169216e75011872d9bbafd85c3b1010.jpg', 'youtube-448_jpg.rf.b29b6ae7868de9d3c673a9391e58eede.jpg', 'image_418_jpg.rf.96b18c21f436813921dafcbd73075457.jpg', '2008_008337_jpg.rf.d9c52a1f5351aea9e22393c29ac2436c.jpg', '2_jpg.rf.7baa8d1dade31fde5df99a239a274fab.jpg', 'construction-1-_mp4-51_jpg.rf.454b78e6417bac086bca70a98b9f6f79.jpg', 'Movie-on-10-31-22-at-10_08-AM_mov-27_jpg.rf.aebd9423b34f78792d7173acc6450290.jpg', 'construction-999-_jpg.rf.42f408dd8763c7b71e01ecad8d87ae20.jpg', 'youtube-384_jpg.rf.7e7e9554b607534351d62775b0355079.jpg', 'IMG_9949-1-_mp4-6_jpg.rf.0bb75ac9a85641251373c96f54595fde.jpg', 'maksssksksss795_png_jpg.rf.2cd6bc50151827c0161d439c2c995b00.jpg', '165_jpg.rf.c64f254d162c3ae612e21e5f8ab4962c.jpg', 'youtube-571_jpg.rf.5fc130ee5e1be7e125feda702b069de8.jpg', 'youtube-499_jpg.rf.770be9f4a896c3f7d05b353f13faaa08.jpg', 'IMG_3103_mp4-15_jpg.rf.ef479286773454db7f4260a06eec8836.jpg', 'youtube-235_jpg.rf.f437b5b9cfb68293d373c5b533083772.jpg', 'youtube-641_jpg.rf.4724b1e29ecd316e64dc41f811a3470d.jpg', 'image_302_jpg.rf.b454d24f87fcb222af99d76a757a9222.jpg', 'construction-207-_jpg.rf.b05aecc4f46dcd4bacc33a92067c51a7.jpg', 'IMG_9949-1-_mp4-24_jpg.rf.1526244bddbcfccb6b4090c068e2aa27.jpg', 'image_294_jpg.rf.fdf2e9830d2c9f9648463a48508cb539.jpg', 'construction-5-_mp4-137_jpg.rf.18429a947527af2fda1fba3874086ed4.jpg', '588_jpg.rf.0fa1d16e756d16422a39783c8f4926c1.jpg', '931_jpg.rf.fdd51314535382e1b440a98b49f060fd.jpg', 'RPReplay_Final1667001201_MP4-334_jpg.rf.f33a2325e096dc60c0118bcb6c706c72.jpg', 'class1_253_jpg.rf.1929d248256fadf2751deed3207a4326.jpg', 'construction-267-_jpg.rf.36fd4d82d55aa7d307deccc95bb1b68e.jpg', 'construction-3-_mp4-14_jpg.rf.39bf04e4984c0a5a3eace338c4c59499.jpg', 'construction-523-_jpg.rf.39fe60c11ac70b73c2cc469124bb1762.jpg', 'image_743_jpg.rf.7619332475f77a5c1ad116257b1ecd9d.jpg', '002458_jpg.rf.1b4000f1327c1a3d54d98bceebcde622.jpg', '01437_jpg.rf.f026cf7ba5513aa3755d04963571a8cc.jpg', 'youtube-348_jpg.rf.3623f117ae64ebd0dc1625ea14fade72.jpg', 'Image_1009_jpg.rf.0bf853f3b4fecf3a8bbe288872dd303e.jpg', '598_jpg.rf.eb88df29b6754e75da36398d182384c1.jpg', 'construction-684-_jpg.rf.d3a58971b9265ab6b677dba5f86593e3.jpg', 'youtube-224_jpg.rf.294c04b139675b7d7c335a0e1908fcbc.jpg', '2009_004301_jpg.rf.d7534033a977f8e93915559cdc4fd15e.jpg', '000415_jpg.rf.c62308395a66d63dfabcd495662a22e6.jpg', 'youtube-361_jpg.rf.f57807321fed0f42a348f58306403ca1.jpg', 'Movie-on-10-31-22-at-10_08-AM_mov-28_jpg.rf.d09472b2ed3b379a045a4ba8ac95dc85.jpg', 'youtube-360_jpg.rf.d8f4e53b70e15b71532d3e43a4dc948c.jpg', 'youtube-228_jpg.rf.86631d2324f9e5ecf334a439994d33de.jpg', 'youtube-210_jpg.rf.975a658362fc68236a1bbb411f7ae1ad.jpg', 'youtube-832_jpg.rf.8d9fc0352bb230129a4485a2f0aec4eb.jpg', 'youtube-51_jpg.rf.30dd5864d56e613fd5cbfa17c6c8d2fe.jpg', 'ppe_0029_jpg.rf.130a5bd882eaf7314cd82254f06f1a96.jpg', 'youtube-824_jpg.rf.f823acb225df022187a49a848be78f54.jpg', 'image_302_jpg.rf.d1e49a99a973868b0bb7ac26ac154552.jpg', 'airport_inside_0345_jpg.rf.68e541cd4d8c01f0f1e31ef8a0e5f9a5.jpg', 'image_560_jpg.rf.875cbd2977b258fd7efee784880bf40f.jpg', 'RTX7CD4D-e1580252893876_jpg.rf.440e3fa953f740b0f78757c7bfa93d11.jpg', 'RTX7CD4D-e1580252893876_jpg.rf.566997198d6f8131f0a1b5447da17974.jpg', 'youtube-49_jpg.rf.6b186aca14e415e245c0d9c01ae3865b.jpg', 'class2_074_jpg.rf.4a5533574b5d308ea1c6672f25bd030b.jpg', '2009_004148_jpg.rf.15237e8ab0bab257f48c8e0b97afeb71.jpg', 'youtube-726_jpg.rf.08f436dcdaeb181b4fc17028d60c2c3c.jpg', 'IMG_3103_mp4-17_jpg.rf.f4ab2ba525257f589db913357678e99b.jpg', 'youtube-809_jpg.rf.a21b56748f930ad24e3dd7c860430b22.jpg', 'Movie-on-10-31-22-at-10_08-AM_mov-28_jpg.rf.f08180b63e0129412eef90ad9f1ac293.jpg', 'youtube-651_jpg.rf.7cf7174eefd2010db67d1bb1bfd6be39.jpg', 'n190039_jpg.rf.b9a89f85281fec158031a656b666c415.jpg', 'youtube-693_jpg.rf.1fe523c5b5c19d9b16bfb8b8a20fb29f.jpg', 'image_296_jpg.rf.9c5575cedbe04636384f4221d86e7b02.jpg', 'img17_jpg.rf.be936e7557512db44c8435c729185e76.jpg', 'youtube-10_jpg.rf.8dc2241f467f75b7aec103f9a75b4321.jpg', 'IMG_0873_MOV-10_jpg.rf.91649c04a7357b4b1a46325be873536b.jpg', 'maksssksksss710_png_jpg.rf.1bb1ad9ca1220cf1be8cd970bc963006.jpg', 'image_46_jpg.rf.8b8b0c9c22bebd55286447c0f28b5cba.jpg', '-1670-_png_jpg.rf.dd5cb0a4d6da02d34f1dc003fb4ebca6.jpg', 'img_038_jpg.rf.e152b3af6aa26c6ffd65ade299de5771.jpg', 'image_527_jpg.rf.735b4a3234ed22f8d2d14d7d7bcae26c.jpg', 'youtube-589_jpg.rf.66e1e48a171f0813592728de2a1d44b1.jpg', 'construction-999-_jpg.rf.893965cca0e358ad7a8b1e883ec984d3.jpg', 'youtube-210_jpg.rf.aaa1c8020f94fbd33d24bdaba9d308cf.jpg', 'airport_inside_0345_jpg.rf.ab577506efdd8b488b66da38311af307.jpg', 'construction-682-_jpg.rf.7fa31c11b35ac8c5d57b09efcc6bebb1.jpg', 'IMG_3103_mp4-3_jpg.rf.32329e906db245dfec761d70409f4b17.jpg', 'construction-705-_jpg.rf.2c95558ac85804170ead0976dee79e93.jpg', '01094_jpg.rf.5f3dda8b6f1f7908983da80afb575e4e.jpg', 'youtube-730_jpg.rf.9cb949c7d69958d412a7eb3fb8d4e0c7.jpg', 'image_326_jpg.rf.ba69aade4530c10c5c29ebd0f357c225.jpg', '005100_jpg.rf.2994d16a99c03162e7b756fa13fdd3c5.jpg', '2008_008444_jpg.rf.429b802dc2a4bb0171d0b296fcb04454.jpg', 'IMG_0871_mp4-13_jpg.rf.d3e9161b0f1e5c4afec0fe6e3ff61883.jpg', 'construction-619-_jpg.rf.8181765b21d618233610f2c91a6057a4.jpg', '2008_008337_jpg.rf.74e6e11733218da0128165788cc3d7bb.jpg', 'bookstore_38_02_altavista_jpg.rf.2014a7d42d0d50e55923c9156f401037.jpg', 'construction-1099-_jpg.rf.ca716ce58849931be359cfcebf24b0fc.jpg', 'youtube-229_jpg.rf.5550c3f91704753036b10a4f6af95eaa.jpg', 'class1_235_jpg.rf.eb1beffcf8dccdc39a20bf88e0440788.jpg', 'construction-3-_mp4-148_jpg.rf.6439627b3462df42bbf01dd91b0a27da.jpg', 'autox5_mp4-34_jpg.rf.cc87f9ec9778844aea62a27a0ad2130f.jpg', 'youtube-196_jpg.rf.d91d071c343fb52c4e572d74079b21a4.jpg', 'Bookstore111_jpg.rf.2d384f1bdffb03527cd30bf40e210d6a.jpg', 'IMG_3100_mp4-23_jpg.rf.e863f14921c3e6bd77c777c790b5af72.jpg', 'construction-3-_mp4-166_jpg.rf.1ce1984044499b830a524061c57bfb7c.jpg', 'youtube-207_jpg.rf.dc738796008648ccf390c4bb1a721c76.jpg', 'ppe_0750_jpg.rf.81e0f8e91c20616315e03f93799ec5b7.jpg', 'ka_00884_png_jpg.rf.b2cbc7ec9bfafab8b58cdff0bdedfee9.jpg', '006118_jpg.rf.f747f08bf972bd350b70c282e547a71c.jpg', 'construction-2-_mp4-219_jpg.rf.0ad7ddf87079cf198c8d4c90fb679f49.jpg', 'construction-560-_jpg.rf.2ce0dca7431fa99fdc542ddb0b8f9651.jpg', 'ezgif-frame-049_jpg.rf.c7ef5dafa9ce1349c1f59b7ccb2133f6.jpg', 'youtube-731_jpg.rf.ba052cf8e90a7e1ca93844b1730d152d.jpg', 'image_16_jpg.rf.3571bc43ca60b330412ce3498c958839.jpg', 'youtube-618_jpg.rf.1657b2b21e87e95a776ec34f057b7a8b.jpg', 'Apple-Tests-Face-ID-Feature-While-Wearing-a-Mask-Shorts_mp4-51_jpg.rf.6e4aebb6aa9899d08aa5771931f80607.jpg', 'youtube-460_jpg.rf.c139e10c0facf98f3677e2fb847dfd74.jpg', 'construction-118-_jpg.rf.5ad695976c91b0a98153249e56b202d7.jpg', 'class2_074_jpg.rf.7f96a6a4219e4d934f7baf7cb8b4c41f.jpg', 'construction-5-_mp4-137_jpg.rf.7e1f934f6be9187e7d369869703657dc.jpg', 'construction-1029-_jpg.rf.e40ed9707d9ea79a66586b7eafe0ae52.jpg', 'image_426_jpg.rf.c89dce1cff780e9d86a5bf5f3b16459c.jpg', 'youtube-376_jpg.rf.7a1d82d72bed353e5118263152e0896f.jpg', 'img_038_jpg.rf.c9387fae49bc708d612f2ea1f6af8005.jpg', 'construction-1015-_jpg.rf.e0e5d33977d463d7d88bdf4bbc43b869.jpg', 'img_037_jpg.rf.174d9dde8845756e06baacc06c2098a3.jpg', 'IMG_5024_mp4-2_jpg.rf.ef79470223ea72c2c2a7604795c2d3da.jpg', '004720_jpg.rf.44b8db920085c7034b6b0637fa85fe11.jpg', 'image_426_jpg.rf.c7cde73ba46e86874c22e8b1bb2cf0fe.jpg', 'mo-justin-mask-NoMask_mov-34_jpg.rf.862437287915459ee551ea4e4cc9bdf6.jpg', 'youtube-376_jpg.rf.13083f5db5d0a9b433f3fde9c9234854.jpg', '598_jpg.rf.a7412d17da518abc68373b0c0e9edb08.jpg', 'youtube-391_jpg.rf.7b5d9b2652344f2cfacb205f4a3263a3.jpg', 'youtube-300_jpg.rf.d3c699a1d7e40b695296cddeb22f4a4a.jpg', 'construction-2-_mp4-113_jpg.rf.377be4d7db46984bac62a282d7db22f4.jpg', '005239_jpg.rf.aa730ea2e24bd8c190a67478c76d14ca.jpg', 'construction-135-_jpg.rf.42dfecd04d31bec9b04596d68fc2d01d.jpg', 'image_678_jpg.rf.21b0fd0f5371ac6bfa4c8d9cf61d6ca4.jpg', 'image_294_jpg.rf.a6b3f449c64aee5f74e1c46e85ab15a3.jpg', 'youtube-726_jpg.rf.22b3d2e534ca2afcc1e861a85e1ea167.jpg', 'IMG_7286_JPG_jpg.rf.fc99c7fb2b162c356ff703eeaaf6af1b.jpg', 'autox4_mp4-111_jpg.rf.2292cbeef0a5da66dd9fe1040822d3e9.jpg', 'construction-5-_mp4-75_jpg.rf.7d2e2174dc9edfdc8a1bab63ca89c39b.jpg', 'airport_inside_0345_jpg.rf.81733cc3cc37d665aabb9d11122ab053.jpg', '707_jpg.rf.f80fe033acefd7b34b04a0cd7fd162db.jpg', 'youtube-497_jpg.rf.e0f0250ef7939eb4813e9b2f57b1a5ff.jpg', 'fnacc_corridor_jpg.rf.005249dddbd7c5b872dbd60275319f1d.jpg', 'image_191_jpg.rf.a5bbd2d86e5d05079cbebf54436c0ace.jpg', 'image_296_jpg.rf.42613c980aa18fdbc30590a9668011a9.jpg', '2008_008444_jpg.rf.f54629aa3fa51422510e7e7ac5d5f39b.jpg', 'youtube-362_jpg.rf.def70d3c298a3444fa7c6c64e5cacddf.jpg', '006012_jpg.rf.eb12c4a250f91e1f6efb9781b2c78604.jpg', '01261_jpg.rf.ed956fe33a91f0a8537ffcbda6e8b3ab.jpg', 'airport_inside_0460_jpg.rf.6d6fd5be775da125c62929b9f90628b4.jpg', 'youtube-196_jpg.rf.19c2571d6042eddfa532c523d5a34817.jpg', 'construction-507-_jpg.rf.b860c2a88ce6fc719ca2a6465e5991c4.jpg', 'youtube-460_jpg.rf.186e39e79bdf1e04380ba03079331a2b.jpg', 'IMG_0871_mp4-23_jpg.rf.aa32c4b2d468efeee58c093fa92fd6cf.jpg', 'youtube-554_jpg.rf.1bbece061ee56eaa0b32cb0a392b42c8.jpg', 'Bookstore111_jpg.rf.61468d8cdf9e27204c825a3b14ce5410.jpg', 'img17_jpg.rf.e2bb3045663745e2d3fc69ec11845310.jpg', 'construction-1-_mp4-46_jpg.rf.02aaecb5779de6b8bd1dde4d0de11cd9.jpg', 'youtube-396_jpg.rf.92106c943a67e2d642d6a26040970f9f.jpg', 'youtube-221_jpg.rf.ebbeb87d2c85b473ffe09c3e3b6d88e3.jpg', 'youtube-376_jpg.rf.ae2fc4ffb957f714075a0c97ce35e8a1.jpg', 'airport_inside_0214_jpg.rf.9b019f9472eb1fe3abc0c60fb3369e67.jpg', 'youtube-409_jpg.rf.6c7eb5bd2a8543b62192a69b7cdf6e22.jpg', 'IMG_0871_mp4-23_jpg.rf.d607fb0a64fc766fd1af875a5b159789.jpg', 'youtube-13_jpg.rf.fd0d4d31a0ee44fc143df432649051fd.jpg', 'Movie-on-10-31-22-at-10_08-AM_mov-3_jpg.rf.3eccf410a77d6c12ed9fd789a3b8867b.jpg', 'construction-4-_mp4-89_jpg.rf.bfb1483dd3989a71df592291d66d94fe.jpg', 'youtube-165_jpg.rf.83bd25ccef7130f42dc72db173853c96.jpg', 'construction-2-_mp4-178_jpg.rf.b8c85b8264b4c4ac5f63983ea0ca05cf.jpg', 'construction-4-_mp4-89_jpg.rf.346054697ac0f316fcb36b5da4e1869b.jpg', 'Image_1009_jpg.rf.70bc8d863b6a6ee361a435519a7fe2de.jpg', 'Image_995_jpg.rf.7e67df0cbfe5d9ddd12ebd8d7a8a481c.jpg', 'construction-4-_mp4-185_jpg.rf.46455ef8e0ac8459810c8de85ba27787.jpg', 'youtube-615_jpg.rf.b0753ed0c5d860dca0ccfdaf074820bb.jpg', 'youtube-507_jpg.rf.e3928fd0a5c1e25ab42359aa1a34a6ad.jpg', 'youtube-260_jpg.rf.ebb38b7437d6b5d56951004d3c3a80ff.jpg', 'image_721_jpg.rf.4a4136fb39dcd1f7fbfeb6265e94f12b.jpg', '01437_jpg.rf.f33846f08de75ae3d897f2902747c725.jpg', 'construction-347-_jpg.rf.f5e15e0e36d3cc7fcfbf49d68c21f121.jpg', 'construction-207-_jpg.rf.d13e5186c072bfb87375bd06bfcf6414.jpg', 'youtube-730_jpg.rf.b55e41b07155a1b30073fb0e4da9e1b7.jpg', 'youtube-564_jpg.rf.b7ff2445bf314eaa4fb6aedb31537f37.jpg', 'image_288_jpg.rf.f6f38c0bae911e5f24207dc97476307a.jpg', 'Movie-on-10-31-22-at-10_08-AM_mov-10_jpg.rf.2afaba4c97c2c1d857f56a414abe9d7f.jpg', 'youtube-57_jpg.rf.c5900b5314a0bf5fbccd6e43998898bc.jpg', 'image_326_jpg.rf.d422a75b8604f734538583306e328bac.jpg', 'construction-816-_jpg.rf.62e21625240b95a16c38763d900eec32.jpg', 'construction-253-_jpg.rf.c67e3fcf3be1e96d7fec63a327b585f7.jpg', 'youtube-266_jpg.rf.94c0d2c8c89f261c57fc1b1997e60f0a.jpg', 'front_crawling_00088_jpg.rf.b451f3ce7244dfc630234b73c7e88f79.jpg', 'youtube-376_jpg.rf.c41c215d753588120c06cae7957ef83c.jpg', 'construction-4-_mp4-182_jpg.rf.6f936d9de1e32444b7c2a075e3e4305d.jpg', 'construction-1029-_jpg.rf.4b275026c8888b66ce2694d2dda856c3.jpg', 'youtube-332_jpg.rf.bd2882f0188e4e96db55817563b57e2d.jpg', 'image_622_jpg.rf.f659ef57ff19cb4e18962d96e8418d73.jpg', 'construction-731-_jpg.rf.fa15eb46b12aa81e7eab1bbbfbc1f983.jpg', 'image_678_jpg.rf.d08dc280ff6c031f30f59a759080ddf7.jpg', 'IMG_0871_MOV-39_jpg.rf.cad305edda519e95291dd63518835f82.jpg', 'RPReplay_Final1667001201_MP4-21_jpg.rf.19c9998d5c8e6029af7f5e5e34d14413.jpg', 'construction-976-_jpg.rf.13c87c91ed02802a372c418dbbfb9e65.jpg', 'youtube-693_jpg.rf.c5a5784a786a21f09fa8df370f71c2e6.jpg', 'construction-763-_jpg.rf.297581ce662979764c273bc4aa5c19c6.jpg', 'additional_tests-Nomask-wearing_mp4-35_jpg.rf.133f003b3b52925570bda04ec243b96d.jpg', 'Movie-on-10-31-22-at-10_08-AM_mov-13_jpg.rf.ce1043cc4496f9f6641cf0cd70ef6301.jpg', 'image_673_jpg.rf.b44d04f9697b9117551c2f180474eda3.jpg', 'class1_235_jpg.rf.a87e21e5f7dd890892224da02cc1098a.jpg', 'ins30_jpg.rf.7f166adf69fa78d310884393216ef467.jpg', 'youtube-272_jpg.rf.5deef8fcfff4a93414b4051aefb4067f.jpg', 'construction-860-_jpg.rf.8d0a63a9c38cadbae1e5c9ff94f2aa49.jpg', 'youtube-464_jpg.rf.3806bb90d6e44e83c13c4b61058d08d3.jpg', 'construction-872-_jpg.rf.d28124ddcbb715b1005b49b71d8019da.jpg', 'IMG_5024_mp4-2_jpg.rf.6010c9cc7112bad8ad73d19f4f44a0d0.jpg', 'youtube-242_jpg.rf.ecfb577d7a9e7a35dcc60b16ec4d47f4.jpg', '005100_jpg.rf.11d7bd86fe6608dc8ca416382c74d469.jpg', 'youtube-848_jpg.rf.34557233fc8c0c4c14d113ac78c85283.jpg', 'construction-731-_jpg.rf.2f78a9cbfcccb40f0d51d6761963e2f7.jpg', 'construction-212-_jpg.rf.dfc3cd38ed63f7b7f642f8b1cbb1b68e.jpg', 'IMG_3100_mp4-0_jpg.rf.c2682797779148fe3b487b59938676a4.jpg', '01261_jpg.rf.965dff8087002c174bf37951f02806a1.jpg', 'IMG_3100_mp4-17_jpg.rf.5cb34f635f907bb8dd64d8143522c94a.jpg', 'IMG_3100_mp4-5_jpg.rf.24d25a0ddd253fe224539c09efabd907.jpg', 'youtube-829_jpg.rf.3c5cf4e90ad5bc6817cd55a98c84e8b5.jpg', 'ppe_0491_jpg.rf.bd8c7a68df79fb79b2cdc0a6d4632a6e.jpg', 'youtube-165_jpg.rf.573132679269e58f0cb580a01fde37e7.jpg', 'IMG_0873_MOV-10_jpg.rf.17b2047359e0f35293c00cb035e84035.jpg', 'class2_158_jpg.rf.0ac72e367ada032364e70632897c268e.jpg', 'youtube-499_jpg.rf.e4dcff7127244607c7c6915495d3aa6f.jpg', 'autox4_mp4-112_jpg.rf.3b1a8122023b81e890aeff57ca8a1e04.jpg', 'image_18_jpg.rf.aab4fae499db35c3eeb73026ffa62380.jpg', 'Libreria_09_20_altavista_jpg.rf.21bb72e47994b3d520ec7b4aa603e8a7.jpg', 'image_880_jpg.rf.ce35870f18d9aec9717a1ba463a216f6.jpg', '-I1-MS09uaqsLdGTFkgnS0Rcg1mmPyAj95ySg_eckoM_jpeg_jpg.rf.10828c2a406f3e985c87926751704f49.jpg', '003184_jpg.rf.028bc555473f5424473dac253d2e6de4.jpg', 'airport_inside_0460_jpg.rf.08bdc9d5bdd94eda87888c1082b3871f.jpg', 'youtube-507_jpg.rf.a859758779df04ea778068a73b402d3c.jpg', 'image_622_jpg.rf.1b8c8b100526f72f09884c1cec3c43c5.jpg', 'youtube-474_jpg.rf.a69f31210940425bb2099ce9f6683645.jpg', 'IMG_0871_mp4-20_jpg.rf.189ac754788bcbde504cec9ccd800aa4.jpg', 'construction-212-_jpg.rf.0f02bc1536288f419c6d04b5f81ce251.jpg', 'construction-543-_jpg.rf.26fd2adfe49b41fe17f7190716a718fe.jpg', 'youtube-252_jpg.rf.778acded6daca1e48855fff20c04cc6f.jpg', '005310_jpg.rf.3fadf8fa69fb354db06bed4e42142276.jpg', 'autox6_mp4-20_jpg.rf.b5d35cc6e8a707c658604de70b53b465.jpg', 'additional_tests-Nomask-wearing_mp4-35_jpg.rf.20bdea6ebef0f4d4cdcd9a9c829eecbd.jpg', 'youtube-376_jpg.rf.c61408e540dbf2dd48990d07543db9b4.jpg', 'youtube-234_jpg.rf.97ccb9f5b78f4ec728aadd30b1a58446.jpg', 'youtube-534_jpg.rf.e37ccfef79303e75c180307a83f87fe2.jpg', 'Bookstore111_jpg.rf.49397b7bdc4e2a3fa4947b42a57be10e.jpg', 'youtube-18_jpg.rf.f881a0e8125381315c9391d4f03a13da.jpg', '01261_jpg.rf.ee044d42291843f1358960c4d8c1d466.jpg', 'IMG_0871_mp4-0_jpg.rf.d2bb01a4ef36bd16b42499f4c8cad4d7.jpg', 'construction-268-_jpg.rf.aa82a588d7af1763c37ec1570a2d218c.jpg', 'construction-2-_mp4-12_jpg.rf.0f1cfcc2d1a6b29de5100c53d1ffc4b8.jpg', 'construction-385-_jpg.rf.df8efee4943d3867e3ba784f9c995499.jpg', 'construction-1115-_jpg.rf.eedbec3ffbfd397bfcc8274956c249f0.jpg', 'ezgif-frame-049_jpg.rf.a3772345243245ad76fa5ab1ebcd7cc1.jpg', 'youtube-175_jpg.rf.42efa8b28ba1ccb4779c2b169023c27d.jpg', '2009_000063_jpg.rf.6ec3137de0a8c1ecdfd20ade2706e078.jpg', 'youtube-615_jpg.rf.7f41bbb94234c00582504401d4a76a60.jpg', 'youtube-409_jpg.rf.d70eb48869e92e3299d38a708da10fd6.jpg', 'construction-4-_mp4-165_jpg.rf.0ff0aeb885257372cf6482aa4ab3214d.jpg', 'mms_00692_jpg.rf.e9bae2709866463852036216b355d28a.jpg', '616_jpg.rf.440e1d2885969b920d1115e4dd9c95d3.jpg', 'youtube-131_jpg.rf.ff277dc6867c30778ecdb28d1da664c6.jpg', 'youtube-25_jpg.rf.30be35b92b01ff7ba8e43bd3b523dcbb.jpg', 'IMG_0871_mp4-20_jpg.rf.b4016db0173136b57f350620858525b2.jpg', 'construction-112-_jpg.rf.f19a394cc6b1ec78fb1df35e4e8005c9.jpg', 'image_732_jpg.rf.3e61e8858fc4d7ac702c276b3d416fbf.jpg', 'youtube-639_jpg.rf.351b2d526e4925e2d0bb07cca4f0609d.jpg', 'youtube-187_jpg.rf.d0fb1c496573385c29fa3013f9961164.jpg', 'video_CDC-YOUTUBE_mp4-50_jpg.rf.d2d78aa46f937c73fa1ebdb8c359face.jpg', 'youtube-197_jpg.rf.de7698fa188d148fa8c31e572450db8a.jpg', 'IMG_7286_JPG_jpg.rf.1574ba0756f94359b665834f26ac4c0c.jpg', 'youtube-345_jpg.rf.b2890abeb446b6afe2377e3c7ae73b12.jpg', 'airport_inside_0073_jpg.rf.7eb910b916105f83ea3102533826401f.jpg', 'image_740_jpg.rf.1cba9cb31d4c4bdae3a275b9491589b8.jpg', 'construction-1050-_jpg.rf.03312445567fc60f4ddd13341d2614cd.jpg', 'ins27_jpg.rf.ec02ee8f42e71099e661712f90d013eb.jpg', 'airport_inside_0073_jpg.rf.36b9f79347faa9106a1d2575987e0924.jpg', '-1670-_png_jpg.rf.0463edb430019e01ec79eed27a6349d6.jpg', 'construction-5-_mp4-39_jpg.rf.fb059423109df5c7c98835e2a92b073f.jpg', '2009_004148_jpg.rf.323afb7ac28a89fe20723187498dc297.jpg', 'IMG_3100_mp4-6_jpg.rf.bde255ddc63a02225feab284b6c6c5c3.jpg', 'youtube-550_jpg.rf.0a199dbd9cdb73adb689576c257cd853.jpg', 'helmet999863_jpg.rf.9667435fc8a05ffd5508057026b8e869.jpg', '002654_jpg.rf.f10456662b75b3d34e02a4db9cdf36a2.jpg', 'construction-684-_jpg.rf.f7633094313d336503445e977c4b4813.jpg', '-1975-_png_jpg.rf.cd700127b5005f75f2eaff2705c1cbb6.jpg', '2_jpg.rf.9360d1df64e52841007492e10100ffcd.jpg', 'class2_093_jpg.rf.4c9e0190598044e61fc3f2eaab39796e.jpg', 'IMG_0871_mp4-23_jpg.rf.4354bc777a9ea088f606a97292b17844.jpg', 'IMG_3103_mp4-11_jpg.rf.860d91386672578b17948da9b06f7c21.jpg', 'class1_253_jpg.rf.3040280fef7ae5e6c2d1b9baf627d44f.jpg', 'image_170_jpg.rf.84419ed066dab16fde6168d5d08d2e82.jpg', 'youtube-710_jpg.rf.17c00a6edf7e16fa7527b1fd376ff98b.jpg', 'construction-3-_mp4-162_jpg.rf.9029ca82bb02bc31a4768f0f3e3655e4.jpg', 'construction-986-_jpg.rf.3ecb527ce78e89716a17826e5d05f682.jpg', 'construction-741-_jpg.rf.d540272efa40183048907304589ebba0.jpg', 'image_181_jpg.rf.0a8f716210a4da8c791d983e6d8d49f1.jpg', 'image_880_jpg.rf.d5521e4b5d741375f99709ba6483f190.jpg', 'airport_inside_0363_jpg.rf.80fddb2e754c830ff538e01dc1366296.jpg', 'construction-4-_mp4-165_jpg.rf.d1617980e6570fd2dc77a4579fe285ed.jpg', 'construction-2-_mp4-213_jpg.rf.b4eaee4597b2e35ad11aedc5ccc1dbcd.jpg', 'construction-1116-_jpg.rf.97f5e2cdb1ff760617a2ea53954b949c.jpg', 'construction-268-_jpg.rf.a5a9c565f737e454d2146d1fd2cab5f5.jpg', 'youtube-344_jpg.rf.b41be0bf431033cf33fa8c7a8cbe924b.jpg', '494_jpg.rf.4965b7246b576fccfc1032532369a048.jpg', 'construction-860-_jpg.rf.798a96cd719c190547f83bbdd331555e.jpg', 'construction-4-_mp4-94_jpg.rf.af104684c19a232f02c90552eaa84fbc.jpg', 'construction-741-_jpg.rf.35c19fbb2693a7d3b4af1cee8c68711c.jpg', '000415_jpg.rf.8b898a9652182d324999f62f39119cfb.jpg', 'image_18_jpg.rf.f14536a170f479f50518e8d2e338ad10.jpg', '405_jpg.rf.649a7abba334ed5db702e6a7065fb81f.jpg', '000415_jpg.rf.6e1ef08de110baace091eb9f5b5867a2.jpg', 'youtube-242_jpg.rf.6c65ab2da2b0600445f732397b6be671.jpg', 'construction-1062-_jpg.rf.d99c91577106c58bacf933b6fdd2cafc.jpg', 'youtube-196_jpg.rf.a700e740fec48edb0579e1e037cf347f.jpg', 'IMG_9949-1-_mp4-6_jpg.rf.8c85ef66b48a4e230dd2ce8138c9811d.jpg', 'REVZGCBIJNQPMIIXOKDCQA3GJI_jpg.rf.3124ccef91e9365ec39c23549e26d3ec.jpg', 'construction-855-_jpg.rf.cb8a1e10b97872d70496957076780658.jpg', 'image_120_jpg.rf.93e81df9716279092b12417715ee944f.jpg', 'Image_991_jpg.rf.22c230afdfec51ec63afe3599fffab94.jpg', 'image_314_jpg.rf.24f21706a57450ecfe9b6a99428c5371.jpg', 'construction-682-_jpg.rf.7161480fa0134c8ed4985baec0b325c8.jpg', 'construction-3-_mp4-162_jpg.rf.7c643844819ddd3253bfdbe453045403.jpg', 'construction-5-_mp4-39_jpg.rf.e828d532dce99528cc3afc47a75b6c29.jpg', '-2544-_png_jpg.rf.1224ec786928243a0076833c5ddb34f4.jpg', 'autox6_mp4-80_jpg.rf.370352a9ceca1d6bdb8828be017271ae.jpg', '-2406-_png_jpg.rf.bc179b858971b0a65740383c849c429e.jpg', 'youtube-395_jpg.rf.bfba865be239a85c5a67c5c9d97f6309.jpg', 'image_314_jpg.rf.9fa27d90cca210cd18e6dd6138e5d413.jpg', '2008_008526_jpg.rf.206536056ad018be846c10c1aa29e111.jpg', 'construction-3-_mp4-23_jpg.rf.4f6c342990c036513c4bf9befc409c7b.jpg', 'construction-618-_jpg.rf.45e203c3c474c1f50e6c4309badfc748.jpg', 'youtube-639_jpg.rf.0858ba004953521ae92ee56e6f95a993.jpg', 'youtube-137_jpg.rf.aafab9fa046d884e1426603f80ea53d4.jpg', 'image_255_jpg.rf.c869df859426935a42b5c37d74a862df.jpg', 'image_781_jpg.rf.9cd7d35563f5721f34d5316402030bff.jpg', 'youtube-568_jpg.rf.49f1d5b90378ee7a8dbd85b799bfa32d.jpg', 'RPReplay_Final1667001201_MP4-55_jpg.rf.da354e2f06ef5c7db51ad85a8dc50e57.jpg', 'construction-813-_jpg.rf.29c60838739153b1f092dbfaffc8d8a2.jpg', 'mms_00692_jpg.rf.48f170d00664f226cda8acb2e96ef854.jpg', '01235_jpg.rf.cf94f7423325a92529343ffdc6deb074.jpg', 'IMG_3100_mp4-25_jpg.rf.0a21e9e91348b61c6c1483d6884d2135.jpg', 'image_527_jpg.rf.63975658973acf5c51a5dcd10289ce86.jpg', 'IMG_3100_mp4-25_jpg.rf.3313bb2b19a7aa3a0af745abe858ec8e.jpg', 'image_784_jpg.rf.35115c58b557752630a00e05998d8ae8.jpg', '2009_003000_jpg.rf.9ae660adccbf418ece332c07d30daef5.jpg', 'youtube-295_jpg.rf.043d8e22fd6b25809e103de40cb9e0e4.jpg', 'youtube-395_jpg.rf.c96f418ca6745816e4d204d36453f59f.jpg', 'construction-4-_mp4-182_jpg.rf.627a7713bb1819c97760a93546151040.jpg', 'youtube-252_jpg.rf.f09f4003bd7b1bbc60be3e7a3a7b5568.jpg', 'youtube-230_jpg.rf.65c2abbd527fec6bb9ae68626c456ecf.jpg', 'youtube-699_jpg.rf.08d0890d9ffd3c79f94e48db68c2ea6c.jpg', '4c43875bc97cdaece84ac6ce555235f1_jpg.rf.ffff7c84903cfc442c33b81472f99ab0.jpg', '-1670-_png_jpg.rf.7da967f9aeaa62defc36543b9e6000af.jpg', 'airport_inside_0550_jpg.rf.56385e14f5f45b8e32f1bde53ce0fec3.jpg', 'youtube-726_jpg.rf.9217e70297b89a7a06e94a1432196d79.jpg', 'construction-135-_jpg.rf.20b41fe526103f184c02d97a303fa695.jpg', 'Movie-on-10-31-22-at-10_08-AM_mov-13_jpg.rf.92820cdc1cba18b698ae508059efc4fc.jpg', '235_jpg.rf.897011419739f3d81651d2c00d7ec8fa.jpg', '277_jpg.rf.d6e4f58885b944d6f7daaca27e2b8cea.jpg', 'RPReplay_Final1667001201_MP4-370_jpg.rf.ae7d4884327cb7b0b3acdaa7d0996d53.jpg', 'youtube-645_jpg.rf.0cae206994074c96880eee9f8b4f6fa0.jpg', 'construction-3-_mp4-166_jpg.rf.321ab14cf6825c69840e598eeb0d213d.jpg', 'fnacc_corridor_jpg.rf.9ee7350e3805120d251c4de5a7756848.jpg', '-1680-_png_jpg.rf.56da4925f9967baa3e9deae422aac04f.jpg', 'construction-2-_mp4-15_jpg.rf.049ec88d34bf5522395af8c4f14696e9.jpg', 'image_965_jpg.rf.dfadb21ac6ee92a84e7b24a3f335c64c.jpg', 'image_841_jpg.rf.470e52ac15350bbf6b2a13a2e70ec588.jpg', 'youtube-560_jpg.rf.8f99653f70bc2287a75c70758e5a43e0.jpg', 'youtube-460_jpg.rf.29c7717ac21671bc4eb29482083484c7.jpg', 'youtube-131_jpg.rf.c61a789bdcc60c1185c62073f8d24b24.jpg', 'IMG_0871_mp4-5_jpg.rf.0b87132ffac16c0ce01d3e302af09422.jpg', 'IMG_3100_mp4-15_jpg.rf.6b06d0ef6b013e80050b9224985a6e5d.jpg', 'autox3_mp4-49_jpg.rf.d7456fd447bd86e27aaa1d689c73f605.jpg', 'image_624_jpg.rf.99accd60d948add0df3d2eec557e237e.jpg', 'construction-347-_jpg.rf.019a625d11ee3deb1aae360a2755d707.jpg', 'Libreria_09_20_altavista_jpg.rf.dfbc78a201642a167875690ce8b7edb3.jpg', 'construction-4-_mp4-89_jpg.rf.d151ceb241281718e46458bf107c6f8d.jpg', 'YouTube-FreeStockFootage_Child-playing-with-parents-JoyLaughterHD-RQ_qqCZOkZk-720p_mp4-42_jpg.rf.25f28feb71c8eb2365ddef7281c16786.jpg', 'youtube-849_jpg.rf.accc9afdf3e1d7e90118b655646b6266.jpg', 'video_CDC-YOUTUBE_mp4-50_jpg.rf.63232e24fd13597ca4fdd9895f0fbd0b.jpg', 'youtube-274_jpg.rf.068d680d7bafd5c0eddc15709b40c8ae.jpg', 'IMG_0871_MOV-30_jpg.rf.52a36c88b3ce2ba545fd2c44e79a45c3.jpg', 'MariusConePic60_png_jpg.rf.327ac75b6e428a917d61ca056e4be99a.jpg', 'image_61_jpg.rf.06b130702a18cbe9775cfef7e58ff369.jpg', 'image_1004_jpg.rf.454a08efbc20e72021db91669b18690e.jpg', 'youtube-13_jpg.rf.46d2f83a51eebc4459719d2f1861c222.jpg', 'youtube-589_jpg.rf.9a14d2e0175cb632b827a4e6f8e51328.jpg', 'class1_075_jpg.rf.2a22da3708b1c7ba80a4da925984f48f.jpg', 'maksssksksss795_png_jpg.rf.59b5e25dc4ac635fe5a0ce57e87cbf99.jpg', 'construction-246-_jpg.rf.fd9bfe8b6726e60a3a00b7f7b03cb7e8.jpg', 'youtube-554_jpg.rf.c76c721a1d0b10af68a4c02ff5886ea3.jpg', '129_jpg.rf.ffd6c2f950c552a16727f9bf145f7454.jpg', '005180_jpg.rf.3c83b15d5bed446651582525866783fa.jpg', 'construction-3-_mp4-211_jpg.rf.66ac754d184fbaeabdac89642c50d237.jpg', 'youtube-448_jpg.rf.cbe301db586a0f6cf382a8037cd6b98e.jpg', 'construction-976-_jpg.rf.d44b0911fa5da0256efd02bb596ca62e.jpg', 'ezgif-frame-049_jpg.rf.51c4102f3880e82726034fd0582257a4.jpg', '135e-huxwryw6451820_jpg.rf.ee9ca43c493a451ed87dcea9c7b3e0c6.jpg', 'construction-3-_mp4-166_jpg.rf.3785bac9c8d14230444b9d7b9e669987.jpg', 'youtube-235_jpg.rf.f1487e49616b02eb93e372f07fbd52a1.jpg', 'construction-5-_mp4-29_jpg.rf.e7e1d35bf4bfa2049c06947bcf6ef682.jpg', 'youtube-42_jpg.rf.e70816c9d42dc92bed2a6d1e1feb21d9.jpg', 'image_575_jpg.rf.37dc5c2b4e64116800d0be65673bd13f.jpg', '005577_jpg.rf.28a70bd7ad7c4a004b19903de1eafc9e.jpg', 'youtube-42_jpg.rf.19ea5285f45d536c6440ee4fdf8efe66.jpg', 'construction-4-_mp4-127_jpg.rf.4f38f67392fa9e1505e94f5e4ee486f3.jpg', 'construction-4-_mp4-189_jpg.rf.dcbbd17d32c0e03130324482d02dbb50.jpg', '02629_jpg.rf.0521012466fb729b8c9cf3291d35077a.jpg', 'construction-5-_mp4-30_jpg.rf.f671ac8915234f2ca8b9246d095055e9.jpg', 'image_176_jpg.rf.d8619d7aa3fd3c89fecb3bd21942cfee.jpg', 'amz_04178_png_jpg.rf.88d441f41b0483c66b08e900051c62e8.jpg', 'construction-813-_jpg.rf.da1a383275ad8f57b7f2c6f6a35f98dd.jpg', 'construction-3-_mp4-122_jpg.rf.0cd1654e69130f2f2b2b5adb08c879f0.jpg', 'londres_023_jpg.rf.641b8788c23f32c17ebc1af916994b22.jpg', 'youtube-502_jpg.rf.05c0bca95928741d8ec0f5cebae1f23c.jpg', 'construction-5-_mp4-48_jpg.rf.72bf6dca6741d8c2f2c96b9f9177b3e4.jpg', '004720_jpg.rf.afc486560a4004c7cfd67910af31a29c.jpg', 'image_120_jpg.rf.40fce375a47fcd49ce6150a3fb2aa2a9.jpg', 'construction-572-_jpg.rf.68ee8e58fe38f98c89b0341be036d5cd.jpg', 'construction-260-_jpg.rf.bed6cb4622027ec2bf56e6e5f0e8b2cc.jpg', 'IMG_4921-2_mp4-40_jpg.rf.656442519b415c3574dcf2468c7d93c6.jpg', 'construction-435-_jpg.rf.8d45996f8bb473f29ce0b3733f40241b.jpg', 'construction-543-_jpg.rf.649ab011cb782b350dff83fdb605e65a.jpg', 'image_647_jpg.rf.c52de236dce0a5e626062efce6251534.jpg', 'construction-5-_mp4-30_jpg.rf.5c8e550b1e5053b550bdc04845a56783.jpg', 'Movie-on-10-31-22-at-10_08-AM_mov-14_jpg.rf.dda57d57a1548fc88345616715834657.jpg', 'RPReplay_Final1667001201_MP4-370_jpg.rf.d22c6ad3835da982aee0a6cb60964a67.jpg', 'construction-547-_jpg.rf.5a75e2e90f7e6e23620b4311cb7bf65e.jpg', 'youtube-270_jpg.rf.88395477ace654dae25982a1d09f1167.jpg', 'construction-572-_jpg.rf.de16cf7d2e458d8a7d30bcac89a4f924.jpg', 'RPReplay_Final1667001201_MP4-21_jpg.rf.8d52d679afa730b1b4da0ec945fcaaa2.jpg', '135e-huxwryw6451820_jpg.rf.16d8f0c3161dae2375522c763c40b1a0.jpg', 'IMG_3094_mp4-45_jpg.rf.d30a1cdf3924b6c25b3241f5a5bbc312.jpg', 'image_1004_jpg.rf.de519703cdcdd06d06edd7cfa60b8184.jpg', 'fnacc_corridor_jpg.rf.993a63fd48562fe2570d51030616212f.jpg', 'construction-2-_mp4-219_jpg.rf.dae32347bb4fed1d2078263a64f58a70.jpg', 'youtube-628_jpg.rf.3066dfbffd038ad19ac75ace3882321e.jpg', 'youtube-574_jpg.rf.fd75e29135d87fc401f4379bddb5c172.jpg', '588_jpg.rf.7e978c634b992f3b3fc9332329e20c67.jpg', 'image_841_jpg.rf.92fcccf16dc0fefd594e006222dc306f.jpg', 'construction-246-_jpg.rf.b85e00bf930ece1924a70d0b5b408a75.jpg', 'youtube-435_jpg.rf.a4e40a48df58eaed819a210dc833d3e4.jpg', 'construction-135-_jpg.rf.91c126ddc875b52d91504259fec10f83.jpg', 'ppe_0015_jpg.rf.68233b3070821208fc67118ac4427f67.jpg', '2008_008337_jpg.rf.be5dc6de298823538b429246aa5dfa42.jpg', 'construction-1-_mp4-115_jpg.rf.3180062637f2f2c6dac5a1a773a3d006.jpg', 'Movie-on-10-31-22-at-10_08-AM_mov-27_jpg.rf.31a8dfa029527628d7a5167f194237cd.jpg', 'construction-2-_mp4-12_jpg.rf.08cddb92471bc97a4bb37b6ce28b5655.jpg', 'image_620_jpg.rf.b56121f1434e0734f9e56cb6ee1df648.jpg', '727_jpg.rf.b004fb5a9642d2bc9bad47c5fd69cfe8.jpg', 'image_704_jpg.rf.9b57097ebfe61a67ed7c13df984f6991.jpg', 'construction-435-_jpg.rf.f7b9fb78990ed6dcecd2899d7643adaa.jpg', 'construction-528-_jpg.rf.f7aabc7792418cbc51f767e40325dfb4.jpg', 'ppe_0491_jpg.rf.b46601406f2ad4a9e1181ed6e53c4392.jpg', 'youtube-615_jpg.rf.140bccdde73e1884ede155dcc39f6e32.jpg', 'youtube-295_jpg.rf.6a93d92523b87b45efa10c3ce16c4c48.jpg', 'image_704_jpg.rf.4c741a4ebadf03219d0d8d3b230b09a4.jpg', 'youtube-571_jpg.rf.98dcc380e8a5e5ad1dc66bf5f2376f18.jpg', 'youtube-332_jpg.rf.412a156b848acbd8ff3432e014c3f771.jpg', 'youtube-246_jpg.rf.a580acb881072051a837c544b7fb1e91.jpg', '627_jpg.rf.e58ea428f31d356d0086f7f4c0edb9de.jpg', '006012_jpg.rf.58b1f82029fec52d5d718ec7baa7d2c9.jpg', '588_jpg.rf.41b1339bcf0dd61de82fed10cd87f2cd.jpg', 'youtube-196_jpg.rf.d8967f9f13b4c3d6fe15fbe1441184c8.jpg', 'image_28_jpg.rf.31a8acf89c15d278a5293e4af7df77a4.jpg', 'IMG_3100_mp4-15_jpg.rf.2c28a52bbdfb4d269bade273922896c0.jpg', 'Movie-on-10-31-22-at-10_08-AM_mov-15_jpg.rf.1d604f33faa22ae8a795623c6b37ae3e.jpg', 'youtube-187_jpg.rf.f79cdc12a3c1e1d17d27c93036518f0a.jpg', 'amz_02354_png_jpg.rf.6f192e3fc3461a07887582a6e44fd46e.jpg', 'youtube-345_jpg.rf.6f2b47989785f4e8d360fb535189ad86.jpg', 'RPReplay_Final1667001201_MP4-334_jpg.rf.650a058b0c97ae4b3a7dc3e91555bdbc.jpg', 'youtube-29_jpg.rf.a16477923a252af01de0a8700dfb5783.jpg', 'construction-999-_jpg.rf.c301fa8a4124813f3e5c544505322f37.jpg', 'construction-4-_mp4-19_jpg.rf.ae9b311efa6de4566e5c8ec20c3718fb.jpg', '005376_jpg.rf.de5b78706607737619faa1ba9ad6cd2e.jpg', '1288788-une-employee-aide-des-voyageurs-en-provenance-de-chine-le-26-janvier-2020-a-l-aeroport-de-roissy_jpg.rf.a988e2e512aa158adc5f82945a436de6.jpg', 'n457047_jpg.rf.d5ac5acbe81846a58350414fc5343b78.jpg', 'youtube-332_jpg.rf.381a86d4a7e17d896fb3923599b89b4a.jpg', 'image_781_jpg.rf.30fe7f898afdb328ed872a9add06817a.jpg', 'construction-1015-_jpg.rf.9e94d76133793a7dfe1aeb00e6ecd373.jpg', 'construction-986-_jpg.rf.431a1941ab76f67268f7681f47f402d3.jpg', 'construction-5-_mp4-161_jpg.rf.5d1e4d5a7f539b2e3c47ec2a8789bfad.jpg', '2008_008753_jpg.rf.953a6b25662d9a832e9ef300e56edce9.jpg', 'construction-2-_mp4-15_jpg.rf.32f738570f4a7f171454c1623720ea61.jpg', 'construction-4-_mp4-89_jpg.rf.b38839d6aa5394c4b939dcb4d54953ab.jpg', 'class2_187_jpg.rf.0d7353521d2c44ca566a10f336cf67d4.jpg', '01235_jpg.rf.888a393865d848ca1fce7fd8c190f3b4.jpg', 'image_575_jpg.rf.77757c5bfd7587c1b437d75122250302.jpg', 'video_CDC-YOUTUBE_mp4-60_jpg.rf.85c79ff93408a87d693176464971b524.jpg', 'youtube-571_jpg.rf.1b4a0e134397858a77534f7fbde4094e.jpg', 'construction-4-_mp4-94_jpg.rf.ed816f287bc4996348f474833197cdc0.jpg', 'construction-763-_jpg.rf.22c7434345e36046b5c018f024f4811a.jpg', 'image_861_jpg.rf.200a7afabef8d142040c9a6bb1d6b2f9.jpg', '01094_jpg.rf.a95df02db342161eb0d886290b8f28b7.jpg', 'construction-434-_jpg.rf.0231dd3ec327871fc54469027144ebd6.jpg', 'londres_023_jpg.rf.b2a8348f8558e67e7e2320318d6d0f5a.jpg', 'RTX7CD4D-e1580252893876_jpg.rf.11077cef10f1b6963612c7f4803018fa.jpg', 'construction-693-_jpg.rf.7d6b68c84e22ddbad80479d689c2e96e.jpg', 'construction-2-_mp4-213_jpg.rf.ef85d2ebc3d99728261d542a76cf2771.jpg', 'maksssksksss795_png_jpg.rf.e0d1ffebd3c883e5f78d371f2b12bb70.jpg', 'Movie-on-10-31-22-at-10_08-AM_mov-14_jpg.rf.a1be1dc990daed465af91ca0a205e591.jpg', 'youtube-564_jpg.rf.e8df3780028df1e34ca0aa9d40a87fb0.jpg', 'maksssksksss710_png_jpg.rf.faeb1cc9ddc4e6c506648fc7324f54d0.jpg', 'IMG_3103_mp4-11_jpg.rf.c1348fe207a4162c9fd2025869a0d744.jpg', 'image_181_jpg.rf.fa33f4492145e16bacd9de0c3b864274.jpg', 'image_498_jpg.rf.76a2ee3fe770f86e7317163422598abf.jpg', '005139_jpg.rf.df5b20b4373e6e301b010eda32f8ea3f.jpg', 'class2_187_jpg.rf.eda6e40cb0d1467695f0698504f48b2e.jpg', 'IMG_5847_jpg.rf.321a7891cd33cfd8e8ae930563660aac.jpg', '2008_008382_jpg.rf.17d1f80e4513c2e3b16de5fbc649828d.jpg', 'youtube-492_jpg.rf.c4f35445e16b54f933dc7f2cd5d0804c.jpg', 'image_302_jpg.rf.f402aef842f77140f9a9b7518e0d10a6.jpg', 'image_475_jpg.rf.a9769a70f9c33b6092d6cf9be6d3ebf3.jpg', '2009_003000_jpg.rf.ff5ff339e78a910b92fdcb62c8c3ce3a.jpg', 'w1240-p16x9-fa978043deff83fed485af12d16e39c61398fc30_jpg.rf.4fe7ae591a404f8654a9f5cff48dc81e.jpg', 'youtube-695_jpg.rf.2dc84311bfc79926ed58ca0b5842faf7.jpg', 'youtube-571_jpg.rf.d380c7fde4b25c50887691ab5d5dcfac.jpg', 'youtube-272_jpg.rf.f3cd5235245d06df97bf23b4b9d4546b.jpg', 'image_153_jpg.rf.6925fe123249e671c0df4092e9fb87a5.jpg', '005139_jpg.rf.d3163480876e9f5a621e25e44ece6db4.jpg', 'construction-872-_jpg.rf.64b854dc31c9900921840c3652d3c449.jpg', 'youtube-554_jpg.rf.96fa687f516ad834ceb539a61eda81f7.jpg', 'Image_1009_jpg.rf.42a85f154507fc3c69facf93bbb1d22b.jpg', 'image_647_jpg.rf.7a4748a4ae0def38e3189b16e872fa45.jpg', 'image_620_jpg.rf.b3b9b3a6188d381d8b98f0f29f8cda3c.jpg', 'IMG_5024_mp4-4_jpg.rf.061f812fe9c60acea6bea51416026e13.jpg', 'Image_991_jpg.rf.bedcfa2a8c7af22e5cf13c894e51bcf5.jpg', 'Industrial-3-Part-Skymaster-insitu_jpg.rf.9228fbc3ed8dbced49fb6e003a31ac91.jpg', 'construction-1-_mp4-64_jpg.rf.58cdc2645314e54e9a12912914ad79a5.jpg', 'youtube-628_jpg.rf.d4e735079e3403aeb4a3c610e664f1f2.jpg', 'ppe_0738_jpg.rf.8bdd2b07822885389235a1076d2f9da4.jpg', '2008_008652_jpg.rf.abbfd744196d5826bb402880b9124526.jpg', '165_jpg.rf.6f14e3bb36293644e2dc07082e4e19ee.jpg', 'RPReplay_Final1667001201_MP4-21_jpg.rf.08e29573ac2164df688205f58ad4f1a0.jpg', 'construction-385-_jpg.rf.9f93c4ac5c55c8d091e71d7820d964c2.jpg', 'image_965_jpg.rf.8b7c66f34e00b05933f757a76493ad84.jpg', 'RPReplay_Final1667001201_MP4-55_jpg.rf.649bf9625a99a02aeb0a3e663316c5fd.jpg', 'construction-855-_jpg.rf.18c0a338f56e727083633e5dcae2aed8.jpg', 'youtube-641_jpg.rf.aa36d0a940f13bcbd69f98d5309960b4.jpg', 'image_302_jpg.rf.fbd0288a0615f960d0513bd83714fde1.jpg', 'youtube-260_jpg.rf.c900a4666030c00529812bae01331790.jpg', 'ppe_0985_jpg.rf.ec086e050c5b5d07c89dd2a1aff563e5.jpg', 'image_191_jpg.rf.3a356d66e9df96dc47b0c2f0d20ebba7.jpg', '1582_jpg.rf.6dc2f84282eecbb00c4c620ae1119d36.jpg', '006858_jpg.rf.01d202a11c3bf4914ee7e1875bf5b8de.jpg', '1582_jpg.rf.484ffee7236baefd3d1e4434f99589b5.jpg', 'ppe_0015_jpg.rf.47f0a91d63f98e6f2c10b37f14dc237c.jpg', 'IMG_5850_jpg.rf.b2f0b8486ed051e5d870f74d9100edbb.jpg', '2008_008444_jpg.rf.9c5a03ccac6c0c594459f9cd336d8114.jpg', 'construction-5-_mp4-96_jpg.rf.ec065525e23bd20e778db05a8cb92042.jpg', '-2297-_png_jpg.rf.202d3429d297ae78245d5fce0f84a81b.jpg', 'youtube-207_jpg.rf.7b6ef224e27e0bd01c3e5cce56f62384.jpg', 'image_418_jpg.rf.cf249e5eac03db2a9bb969ee2acec825.jpg', '2009_004148_jpg.rf.c86d73788f965b515d5f8ecd00031354.jpg', 'image_314_jpg.rf.d9709ed031d36dbf028ef0cfbcd78039.jpg', 'youtube-361_jpg.rf.76dc5c986bb992aa9aade5595df541d8.jpg', '2008_008600_jpg.rf.8ce5b36f0111be922eb20834bfedffcd.jpg', 'youtube-618_jpg.rf.83e038d916e5333f0429bec1775be2e2.jpg', 'IMG_3100_mp4-23_jpg.rf.a80a9fcc61dead23c59fd84753cd5452.jpg', 'youtube-344_jpg.rf.9472f9782daff130af5075a01fbf89f0.jpg', 'construction-507-_jpg.rf.ff1f7ff6c3ee0a5495251801e04151c8.jpg', 'construction-369-_jpg.rf.27b76b8bb58e9f12d60cb654abdbf508.jpg', 'youtube-391_jpg.rf.726b7971a07ba0e39e77b112cb999a6a.jpg', 'IMG_0871_mp4-24_jpg.rf.09f84787b4dc125e5c1c7256d59b01aa.jpg', 'Inside-merge_mov-16_jpg.rf.7497b66a211972c0baaf43831553d347.jpg', 'youtube-407_jpg.rf.c0adbc07fc3666a7ccd6aecfb62e7c9b.jpg', 'youtube-376_jpg.rf.89fe45b8428d34108dc9e4a5f4fe6fed.jpg', 'youtube-362_jpg.rf.1b5f38731953d7d7673c9329e7dcaae8.jpg', 'construction-572-_jpg.rf.13199ba6523ff369244d3cab111637e4.jpg', '931_jpg.rf.56bbe894e27de1944e2f990573228e2f.jpg', 'construction-897-_jpg.rf.030a41f60cc0ce2a5aba9dcdf212890f.jpg', 'image_55_jpg.rf.d928435536170e9a2edb5094f24454ad.jpg', 'youtube-639_jpg.rf.49797bc26a8488409cdeeda6e6b8bae7.jpg', 'image_221_jpg.rf.2b878e437f185500f1226667532f06a9.jpg', 'youtube-682_jpg.rf.2fa20caf1414b1fda785e4ade07a0bd7.jpg', 'youtube-639_jpg.rf.b07c4d496847b86d0e9c241be24f3231.jpg', 'image_757_jpg.rf.61abe73fc97e8ee6c23a1317c898234c.jpg', 'youtube-646_jpg.rf.71fb2940683f013ce350fd3ed47b0ca0.jpg', 'mms_00691_jpg.rf.4a761e77f8d5c433d7a2844e18433b7f.jpg', 'construction-434-_jpg.rf.08f3862f335fb52c0e87c4664d373751.jpg', 'youtube-131_jpg.rf.8a1878f8ac8b76e1dbd8518bf4cf3e77.jpg', 'youtube-242_jpg.rf.02b0e198e3325d86975e9d88e0713486.jpg', 'youtube-221_jpg.rf.5e18725fb664a2515efa4e98dd505891.jpg', 'construction-118-_jpg.rf.7a2b5be851d660f3f995a625cfbede03.jpg', 'youtube-815_jpg.rf.d0a3a41d0f4f9f78660d0a6b84937302.jpg', 'construction-4-_mp4-38_jpg.rf.c2c0e93cbde4fbde7e626a96ecfc03d8.jpg', 'construction-5-_mp4-39_jpg.rf.6c742e62c3f1af3aeeb97ba16bffd3b7.jpg', '-1680-_png_jpg.rf.175b8e375a256e36cbe84985db1d8768.jpg', 'construction-260-_jpg.rf.5dccef746c330ba13c8a3df9c138a1d4.jpg', 'youtube-60_jpg.rf.6096630b9d195556cab35b07a3890d62.jpg', 'RPReplay_Final1667001201_MP4-334_jpg.rf.52a3caeae285d5f7e6da3bbc61c15e2d.jpg', 'IMG_0871_mp4-24_jpg.rf.f9e7803a7755260449de41f00a63c0a0.jpg', '-1670-_png_jpg.rf.b42b26d784545ce1a033679674a4f3e5.jpg', 'IMG_3100_mp4-5_jpg.rf.106b6680fc19438ef3401acccef4e428.jpg', 'construction-4-_mp4-165_jpg.rf.245a89fb6862ed44d8698e334777bc6d.jpg', 'image_181_jpg.rf.c47ea3350fd6f06b42b3fad1db2c2512.jpg', 'image_796_jpg.rf.d4c6712e7edf4b1ea95b346b63a7022b.jpg', 'helmet999595_jpg.rf.3b2175a64b841eb925ff14f9388ca177.jpg', '129_jpg.rf.a68b454b70b3db44e61475f360275f39.jpg', 'ka_00884_png_jpg.rf.cfbcd01afdb3e6274dc39708b04b125d.jpg', 'IMG_3100_mp4-0_jpg.rf.65c9f22c6f564367ff49bc40df833721.jpg', 'youtube-188_jpg.rf.577e87be1f729e28f67a8dbf7734d643.jpg', 'youtube-391_jpg.rf.c61a67d5bceb5f24951ba13f67e75ee9.jpg', 'youtube-849_jpg.rf.f8fbaed0c296cd84d30e1dde5a082b04.jpg', 'helmet999863_jpg.rf.ce83ac1b7c9d2df9a6bff93f6ced0f89.jpg', 'youtube-641_jpg.rf.9bb57cfffa7710f279d94e83dc8911ea.jpg', 'IMG_3100_mp4-0_jpg.rf.5e50d287b0f246cc5f90e0db5ab5ec85.jpg', 'youtube-165_jpg.rf.ead7fd2e172611375922872cafae99cc.jpg', 'IMG_9949-1-_mp4-24_jpg.rf.27201295f6c7e177dea5595dcf07baac.jpg', 'construction-543-_jpg.rf.36a5fb92366cc6bc65b8b2c28f27bdab.jpg', 'construction-4-_mp4-165_jpg.rf.5354cc400c056d38d93601f5e246639a.jpg', '003184_jpg.rf.ddcabf097616516ad576f90948a0ac0f.jpg', 'youtube-25_jpg.rf.0fd299cee2f5cff99543871ec17d935e.jpg', 'IMG_5851_jpg.rf.dd0dba7394062139823bef376062dd24.jpg', 'construction-693-_jpg.rf.5aea33f98fe585818017955a22f50305.jpg', 'IMG_5851_jpg.rf.c06261164b51386e1e8f6019cddd44dc.jpg', 'youtube-568_jpg.rf.264eb80c8dbae12b3e517cc70feffa31.jpg', 'construction-3-_mp4-67_jpg.rf.a10d621dac22f2888b49e1abe9bb5296.jpg', 'youtube-266_jpg.rf.bcfe55fb70ab90bfe1bcc697aab51a27.jpg', 'youtube-395_jpg.rf.569e142fec0c8439b9954ca2ec2b0d7c.jpg', 'youtube-170_jpg.rf.9d3b38f91d03a6107fdcb9b684060252.jpg', 'youtube-506_jpg.rf.f6eb407abb8cd008124e1178d332a64b.jpg', 'image_622_jpg.rf.1e2e707a0352f7c80cc9236ae9161112.jpg', '405_jpg.rf.ae2d82d70c03beca862cf4d2a3f604cf.jpg', 'class2_187_jpg.rf.8d5940916dee2ba1633831c2b993ba0c.jpg', 'fnacc_corridor_jpg.rf.e3e6e90eff2980c874604d993ae05c8f.jpg', 'image_246_jpg.rf.a68c648c98fdb41086ba79ce0ab91e85.jpg', '005577_jpg.rf.fef11b597712c48f52d5887ff414097d.jpg', 'construction-2-_mp4-12_jpg.rf.a7130b65bcfb458bd586a07b24ecf2ae.jpg', '2009_000379_jpg.rf.fc46b82ce969c13ab1d3423c5e813105.jpg', 'image_28_jpg.rf.1d1a1b4744f28cfff8a364f0ef451f06.jpg', 'image_39_jpg.rf.b606c22a8844817f93703d9220a79a26.jpg', 'youtube-344_jpg.rf.86d332d55a3bc8381c851f1386fdd010.jpg', 'youtube-266_jpg.rf.170d1fe1b1ac1abe806b47f7a47c1211.jpg', 'construction-547-_jpg.rf.a5de127a542ce69a5a53d96be88fd539.jpg', 'youtube-10_jpg.rf.3473cf1a8ce431126a38d48853c10368.jpg', 'Movie-on-10-31-22-at-10_08-AM_mov-3_jpg.rf.91fa5986eb374f2552a7aec70309a4c0.jpg', 'construction-4-_mp4-188_jpg.rf.74d1b2d1747d25f44bf4d2c8f1fee247.jpg', 'image_153_jpg.rf.fa761a0845e52a919718ca77ce2eff2a.jpg', 'construction-1-_mp4-64_jpg.rf.01c975a86e82e9384e40a40f5d0bece4.jpg', 'youtube-60_jpg.rf.96ec79cd34674cef3b35219b90d9f753.jpg', '2008_008629_jpg.rf.73412855b479071b5aa4da5c592b92f9.jpg', 'construction-572-_jpg.rf.5c5fb0a8084cb050b133d0dec66f360e.jpg', 'youtube-651_jpg.rf.ec7ce870bc5764294823e6efcf71af20.jpg', 'youtube-459_jpg.rf.7197e47830c027d29c81a960ce19d7c7.jpg', 'hqdefault_jpg.rf.c372926225dba8658d9a64186b850eed.jpg', '627_jpg.rf.1b053bc38bc4bb2037225b6bf402e93e.jpg', 'IMG_3100_mp4-17_jpg.rf.12d9b740632bc47db175529b4c6acfec.jpg', 'construction-5-_mp4-48_jpg.rf.869646c7e34f2451c66b6d9487b68281.jpg', 'image_986_jpg.rf.1d20afe31eac06733cd7ffe3df169a4d.jpg', 'construction-267-_jpg.rf.5c65fe4e77d4493d6788f644468d3939.jpg', 'image_13_jpg.rf.051365a51cf994673c641432a3edee86.jpg', '01094_jpg.rf.15d2452cfbd2f25016ddb1bb90f0e19a.jpg', 'youtube-64_jpg.rf.e8ae1f94e6832d22568206d85471cbd9.jpg', 'Mask2_mov-44_jpg.rf.efe33691399bb1db064665e6f1d61bc1.jpg', 'w1240-p16x9-fa978043deff83fed485af12d16e39c61398fc30_jpg.rf.94b38eda22e01dadf9abc84c3fb975e7.jpg', 'IMG_0871_mp4-20_jpg.rf.b380f084461b5d0e7e745df6ca7c5313.jpg', 'w1240-p16x9-fa978043deff83fed485af12d16e39c61398fc30_jpg.rf.b4efe0e35dffd0652848516363213181.jpg', 'youtube-360_jpg.rf.151b68e0476e17421d107ddd2ad07127.jpg', '2008_008629_jpg.rf.e6001817254342b9aa367260e7013eab.jpg', 'youtube-344_jpg.rf.ff80ed7ecff2504eedbdfdb055c612ca.jpg', 'image_170_jpg.rf.2be45261d9b8c9e3ad48f1d5992a81e0.jpg', 'youtube-815_jpg.rf.6360a43cbf621b65d132b0b2ed706a75.jpg', 'RPReplay_Final1667001201_MP4-79_jpg.rf.9f5c8a5244382d17fe658ee89e56198a.jpg', 'IMG_0871_mp4-5_jpg.rf.b4cab1e1d0da03a20276493660d6114a.jpg', 'youtube-730_jpg.rf.16f81e031aa23796cb9714201fe841c8.jpg', 'youtube-44_jpg.rf.351f8c18ae37da178142849149686102.jpg', '1288788-une-employee-aide-des-voyageurs-en-provenance-de-chine-le-26-janvier-2020-a-l-aeroport-de-roissy_jpg.rf.93dd6595c9b6f435a03af2e09588744c.jpg', 'Movie-on-10-31-22-at-10_08-AM_mov-9_jpg.rf.2a1e55d85705b51a447540055a38ab75.jpg', 'image_241_jpg.rf.c2f08574bd8aa86dd1987a8ad991120d.jpg', 'Movie-on-10-31-22-at-10_08-AM_mov-14_jpg.rf.68a9069434b346382290a1134d3b52fd.jpg', 'construction-1-_mp4-60_jpg.rf.0ac7cc2f1ec94df3110191b40c42d32d.jpg', '-3394-_png_jpg.rf.a0f81aeb67bec81f0a77c518490205bc.jpg', 'image_95_jpg.rf.fad09fd7dd1ab70d9ffd27d37272f21c.jpg', 'youtube-435_jpg.rf.cbe965d635b486b4ad5d720d81660470.jpg', 'construction-3-_mp4-166_jpg.rf.df613bc7b9e5c9efeaf51be152012acd.jpg', 'IMG_0871_mp4-21_jpg.rf.f59f6ed232997892729b7bf27dbe0288.jpg', 'image_255_jpg.rf.ff0491219f776632d3ef7fd16ea9abf8.jpg', 'amz_01638_png_jpg.rf.2d3765b15e87cfb801569c6c91fba87a.jpg', 'youtube-210_jpg.rf.12b470e1de5ec9374cafd5d827da6fa6.jpg', 'image_829_jpg.rf.420038a253fd4309e6030e78be9590f5.jpg', 'youtube-554_jpg.rf.12abc545630972a6e272892494a59dcc.jpg', 'IMG_3103_mp4-1_jpg.rf.ad3568fd357eca826288b3a5988b1bc1.jpg', '2009_002883_jpg.rf.41f48cf928eb3adba9c69e73c5b81e94.jpg', 'IMG_0871_mp4-20_jpg.rf.338c2221006e74ae9139dcd7122b8ccf.jpg', 'youtube-812_jpg.rf.0856e633437c9d132a0acd414754619d.jpg', 'youtube-571_jpg.rf.9754f45af694d7838cef0e816190018d.jpg', 'youtube-486_jpg.rf.8c3ddcbf72ab2e3904465d37481131ae.jpg', 'construction-260-_jpg.rf.38b8a94a8fa7cd221af96410e046c7af.jpg', 'youtube-699_jpg.rf.ced94dd4765a8ff9fe60e7648179fb6d.jpg', 'construction-693-_jpg.rf.4cfbce6acfa32bcc3647cbb9eb6e4f45.jpg', 'construction-2-_mp4-210_jpg.rf.543e9db42a9c233df4eeb6816dfcbe74.jpg', 'Mask2_mov-44_jpg.rf.d4c35b8d62aefaf6f62f60c0a34a84aa.jpg', 'youtube-188_jpg.rf.0cbf49b4f6fc57e16533b0e065f7cbc8.jpg', 'construction-821-_jpg.rf.95240607a312071bac88e151ac7950c4.jpg', 'construction-1116-_jpg.rf.89204e926b55ec2da9541d47c0b88309.jpg', 'Movie-on-10-31-22-at-10_08-AM_mov-10_jpg.rf.f35004a03b5e89ec62256990ce533e87.jpg', 'class2_093_jpg.rf.dd61b48eee287a645c064dba6e207f5f.jpg', '2008_008629_jpg.rf.b1befa29d2154ce889608dac6a5a86b0.jpg', 'construction-813-_jpg.rf.b085952261fd98f2e76b8065de149b5f.jpg', 'IMG_3103_mp4-11_jpg.rf.68475305e60c164a081b563977e04db8.jpg', 'IMG_5850_jpg.rf.f23e8a7be47b7adb26b92f5646fd996b.jpg', 'youtube-534_jpg.rf.c77f4a8414ddf20fc782db49ce4ce80f.jpg', 'airport_inside_0550_jpg.rf.1288f7c63eed908dac7b6ba24c868ad8.jpg', 'youtube-695_jpg.rf.e202bb814b78eea581ee382e8db90676.jpg', 'construction-385-_jpg.rf.86125480d75900ef929e72158f67bc92.jpg', 'image_23_jpg.rf.9ff1ffb8e92dbbe9e7f46de47d4a4562.jpg', '006858_jpg.rf.c94da6aa210f1738a87f3525da7b5985.jpg', 'IMG_3100_mp4-5_jpg.rf.9154c57141bf7eb34f5fcce5b2dcef6e.jpg', 'youtube-855_jpg.rf.ca4e205a81e38caeee1ae4bfce760904.jpg', '001425_jpg.rf.02937146b9b48ec81a3c3cf7f0d4d50e.jpg', '60_jpg.rf.0641313d1b5ddfbf24f89aad0d2326cc.jpg', 'youtube-813_jpg.rf.430a808da28c9d5e38dae40ae8db9863.jpg', 'IMG_3094_mp4-45_jpg.rf.c9ee577e1a6320f80e711a2d62a71ef0.jpg', 'youtube-235_jpg.rf.7f563a11c15ff20d1b5ffb5caa9aa060.jpg', 'construction-1-_mp4-115_jpg.rf.7afe87b728c11bfa2d6616ef75081e4c.jpg', 'construction-3-_mp4-162_jpg.rf.fcc17856f133926e2b49c657efcd48be.jpg', 'construction-3-_mp4-67_jpg.rf.898b193561a91c94889cce6a30bcc4f2.jpg', 'Bookstore111_jpg.rf.6bfc21fc307442d1983f046eb88cf76a.jpg', 'youtube-506_jpg.rf.65ef5b727b126d184a659049ddc959c0.jpg', 'youtube-492_jpg.rf.f22a252f10919a0b3bea48d912d5075d.jpg', 'mask-wearing-1632933572733_png_jpg.rf.283266235dfab0e959aaf3f33253a640.jpg', 'airport_inside_0363_jpg.rf.2bd76491393097e118e12be3c9ff93cf.jpg', 'youtube-295_jpg.rf.6e615d6498ce08c4a73bde83d5a55a89.jpg', 'youtube-234_jpg.rf.7ef1837f9909e7f0472f118282c28a7e.jpg', '2009_003000_jpg.rf.6c5dc02b545928f15ee53c3ecbbe5fb4.jpg', 'youtube-303_jpg.rf.7469c1585f0d7a16acde5814ca5950db.jpg', 'construction-212-_jpg.rf.276f0a7fdf6fca4c0c75a1d69c095c28.jpg', 'IMG_9949-1-_mp4-63_jpg.rf.d8a5f7b498a085df51dcb6dbdd374b93.jpg', 'image_50_jpg.rf.f32caa356378aa62bfc8a723e57d0f67.jpg', 'w1240-p16x9-fa978043deff83fed485af12d16e39c61398fc30_jpg.rf.8de47b1c3023956723e65745b86b63f2.jpg', 'youtube-134_jpg.rf.c0cdd4265a0d7f7d83a7674ccd8830ba.jpg', 'youtube-25_jpg.rf.c1935205aef4196ed125487d5ba2b8e8.jpg', 'youtube-29_jpg.rf.0298ab1201345e2fe8afd06c0c7ca2c9.jpg', 'construction-1-_mp4-46_jpg.rf.0fca56e42cb2e4474ea760ad23a71d1f.jpg', 'airport_inside_0345_jpg.rf.e375bc7d5296cdb0c4f51f90c51c4b74.jpg', 'airport_inside_0449_jpg.rf.35c19793e0cb4175859e5ad6831d2fce.jpg', '1582_jpg.rf.80ca40b216072d7fbf6a8a2f4e84ed7f.jpg', 'Movie-on-10-31-22-at-10_08-AM_mov-9_jpg.rf.4f9f4bd5d2f73c4ae0b875be6c783250.jpg', '-1975-_png_jpg.rf.d6c068e0d3eebc3b8e002413529c5e84.jpg']\n",
            "Valid images directory contents: ['soooo_jpg.rf.5980d39f656b4d62672d2164173455e3.jpg', 'youtube-367_jpg.rf.fab8b016cb63c0928f40849db44ee98d.jpg', '644_jpg.rf.39197521b9addbcfa9d3620d85004e2d.jpg', 'youtube-255_jpg.rf.c5a9f8ed208cb72e1a700ba52dc2fdfa.jpg', 'hospital-corridor_jpg.rf.bbac7f39a08bac2b0363ee9682bd86b2.jpg', 'mms_00684_jpg.rf.47567bbd99db89023296aad0b965ff02.jpg', 'Movie-on-10-31-22-at-10_08-AM_mov-13_jpg.rf.91dc3b79da617fb2e4321f27f48f21f4.jpg', 'Mask2_mov-15_jpg.rf.026bd9a95154b1ead451a722a25ed130.jpg', 'Mask2_mov-11_jpg.rf.34ddcb1a619624541a2cca4400b7cd92.jpg', 'youtube-405_jpg.rf.6d1fc463659ac0d8e735bc1e731086a0.jpg', 'youtube-476_jpg.rf.3744f21a7b74ea642bbcbc8251659001.jpg', 'youtube-194_jpg.rf.601da70a10e87c30c693ffbee53b17a7.jpg', 'youtube-70_jpg.rf.2d5f69c78f062dfc572ccb6ce6bc3c9b.jpg', 'ppe_0665_jpg.rf.1dad479f7f54b2a7127cf18ef74ffd85.jpg', 'youtube-697_jpg.rf.950b34f23e196850ec51a4add2eeb840.jpg', '518_jpg.rf.73999663994434126ac8b7ac5dbe6b52.jpg', 'youtube-416_jpg.rf.8b5d7c27337f84a1cd2b3e8b7c6435a7.jpg', '4_jpg.rf.a937c41e1fc4d92e9e1f8c2d9efeb87d.jpg', 'youtube-200_jpg.rf.2c8aaf9fb58df4a3af442c293217d0c5.jpg', 'class1_077_jpg.rf.84c3583c1866262daeb1618b80e18df9.jpg', 'airport_inside_0090_jpg.rf.663e21100a3c4bc66a41cceba5403e51.jpg', '2009_003991_jpg.rf.c4fadb57b5579062cd4db5463ec3ba74.jpg', '-211-_png_jpg.rf.eac228e3993f9027795b6400262811e7.jpg', 'construction-3-_mp4-21_jpg.rf.4fc9ff5afc8387b5c673a424781c527c.jpg', 'construction-1-_mp4-147_jpg.rf.a9062a80b06ac796f7afb269e5f18c53.jpg', 'youtube-399_jpg.rf.3472ef7c01bb9092da48f0d562581121.jpg', 'IMG_5024_mp4-8_jpg.rf.6b626854d6228eab4c341ddd5f8b5e46.jpg', 'IMG_3094_mp4-3_jpg.rf.65429c37fcf92b2ba8cfc9d2180051ef.jpg', 'IMG_3103_mp4-8_jpg.rf.d54ebee33e6fd97c282258aabc1e52d7.jpg', 'airport_inside_0115_jpg.rf.8277ce4e71886a343bfdb10ce7fb6d4a.jpg', 'youtube-232_jpg.rf.f92f310106a11e01495ce8bfae0f9b5a.jpg', '2009_000461_jpg.rf.43a28e2d6f1f9d399c92e18ccc9f0bf1.jpg', 'Movie-on-10-31-22-at-10_08-AM_mov-22_jpg.rf.a02b881bb190fa4a30026a648d13d278.jpg', 'IMG_3100_mp4-3_jpg.rf.f05ef399880b1ac30e900df4f2fbb3c0.jpg', 'IMG_3103_mp4-17_jpg.rf.3223d405c1b3657aa54e170e32c8fe52.jpg', 'autox4_mp4-72_jpg.rf.5e9c1836f027bf40eb8898e68f2efdeb.jpg', 'construction-274-_jpg.rf.21181010ffb2b9ea429080ccd258e3ae.jpg', 'youtube-446_jpg.rf.b9d9b80538b79252761946ece0bc6317.jpg', '1125_jpg.rf.2958d0a57630bdde8c3b5c6c560152af.jpg', 'youtube-308_jpg.rf.790ae393e769f8e6280734b7506523ab.jpg', 'IMG_9949-1-_mp4-20_jpg.rf.6ff2adfaf91058088d86084475d4d575.jpg', 'youtube-470_jpg.rf.6aebf4cfb6c5a7e703c6532ca5090517.jpg', 'RPReplay_Final1667001201_MP4-454_jpg.rf.74024a799f518f9a6314ed301827eb1b.jpg', 'residential_jpg.rf.17181770c64333009b9101e1572c5112.jpg', '-3766-_png_jpg.rf.81ead992d4b8047ec7beb28b7532cf0a.jpg', 'MariusConePic31_png_jpg.rf.1fd6fccfeef580e0e0061d78d5a248a4.jpg', 'youtube-226_jpg.rf.e6dcacf16dc2dbcfd29f6705b7c1a224.jpg', 'ppe_0355_jpg.rf.508753d5b708536eca53de192b927c61.jpg', 'construction-711-_jpg.rf.50a19be8c0ae3cd1a82cd543a9bb6a14.jpg', 'IMG_3100_mp4-1_jpg.rf.7b4a6df995ec2702dee6e7f8c5b47e14.jpg', 'youtube-617_jpg.rf.309ef116f1d9074886d61bb0816b6b9e.jpg', '004424_jpg.rf.0470713b945b08839105cde711db62d9.jpg', 'youtube-487_jpg.rf.5f1c67ece433c16da8ed3c9200ef4b5f.jpg', '172_jpg.rf.9385682a04a12b6043a2ea893d1f319a.jpg', 'ppe_1228_jpg.rf.29b714c415ea74df3160f56a603463a0.jpg', '2009_000277_jpg.rf.baccd85360fb8011e7c303066ceac286.jpg', '-3154-_png_jpg.rf.f118da2b1c20afb78ff93dc7d558f42c.jpg', 'youtube-267_jpg.rf.acd9b5f407f573eaa830029418345ad3.jpg', 'youtube-391_jpg.rf.2744ad86e8dbd4366f1fa839accc48b3.jpg', 'youtube-584_jpg.rf.3136186a0786384c1ffc261f4d40ea42.jpg', 'construction-1037-_jpg.rf.c44151f7f28c4da9757409953b1bff55.jpg', 'IMG_3103_mp4-16_jpg.rf.d31a50c14cb25c823066fe63793f7792.jpg', 'youtube-118_jpg.rf.9dc8b46dfbac73d9e4f983964355d7ac.jpg', 'construction-1114-_jpg.rf.69b25d38992eb6da67701a614f0a3f97.jpg', 'youtube-260_jpg.rf.76ba0c9fa66318daee5bea72b83b4cc5.jpg', 'youtube-287_jpg.rf.c9a7d5b17f75d0c9ed62ad4127141aa2.jpg', 'youtube-342_jpg.rf.d7e55a17800f8d87313d7b6f33256ea9.jpg', 'Movie-on-10-31-22-at-10_08-AM_mov-6_jpg.rf.344372295a53aaf103587c9714ec98f7.jpg', '00596_jpg.rf.d030c5d98b937d080d75db1c1b269a84.jpg', 'youtube-836_jpg.rf.df6fc9e569e7b6b850ecb75c37781d10.jpg', 'construction-277-_jpg.rf.bf73a4edc7a1f7d412bc3267cbafcda7.jpg', '-1989-_png_jpg.rf.8cb3d6087bb86d08e693b4250fbf96e3.jpg', 'IMG_3093_mp4-22_jpg.rf.ea118a6046b21e9246efd53599dfdc41.jpg', '-1079-_png_jpg.rf.19092a3937930012f9fd9c1ce57f5a7b.jpg', 'video_CDC-YOUTUBE_mp4-42_jpg.rf.bbc5cf2369c54126f61f0b1f71f77d8d.jpg', '005559_jpg.rf.5a5ab91289de227b286efca4418ff73d.jpg', 'construction-3-_mp4-219_jpg.rf.416dbf917b54d5895e2430fa0d6f1b66.jpg', 'IMG_3103_mp4-18_jpg.rf.39e564f01ba6048fc34853e99f3de11b.jpg', 'youtube-804_jpg.rf.c4250b3c54e1cca8d58622970882f60a.jpg', 'autox3_mp4-78_jpg.rf.dc5c00104c4cf733c2c06c820b82d338.jpg', 'img_08_jpg.rf.0f132a9c7ca6d12a8a9d1c4b3dbd54da.jpg', 'youtube-392_jpg.rf.7e49e3a8486caaa4e9d82246de93e68e.jpg', '-1969-_png_jpg.rf.41dd58ed3ae83df95fb2417c679d581f.jpg', 'IMG_4921-2_mp4-122_jpg.rf.d27a983b805c273486c09e20f65a5a6b.jpg', 'youtube-51_jpg.rf.083f4487f9a468d9ff42aa13953f377a.jpg', 'youtube-179_jpg.rf.bab3fbda351095d3b9aaba8007e3aa87.jpg', 'construction-2-_mp4-38_jpg.rf.0bb63aba0a9ebe5a4741a6207e2e1902.jpg', 'class1_267_jpg.rf.ab7a08d97aba5b0748e976df6e65700a.jpg', 'casino_0448_jpg.rf.090df4137a5926092c541ee5c6918868.jpg', 'youtube-540_jpg.rf.b229e14d526db6e53965f59e6146cf15.jpg', 'construction-1023-_jpg.rf.7b73352606fb1d79619d34031c07a232.jpg', 'class1_206_jpg.rf.3988ff665e55e1cd9dbcd22c87be73d9.jpg', '681_jpg.rf.7a0a7ef78f7dc01872cc3130dc3b354e.jpg', 'YouTube_FreeStockFootage_People-wearing-face-mask_Empty-Street_Covid19-D_DbgrvhlGs-720p_mp4-66_jpg.rf.72af13fb1f20520e0d41547037ced88b.jpg', 'youtube-727_jpg.rf.cb4c039b4ffea84835e67e2e3d2edf6e.jpg', '2009_004100_jpg.rf.6eb0dc058fc0d307a6b0f7f579945e24.jpg', 'youtube-619_jpg.rf.93749f0e33b2f7beb302dd2e176d768a.jpg', 'youtube-226_jpg.rf.dd9d045ca17155289bcebe722e8a86e9.jpg', 'youtube-455_jpg.rf.35acd2e91608806a26f3ac4e784ea512.jpg', 'autox4_mp4-63_jpg.rf.b0fab4fd2c947536a122d6f2e7cca895.jpg', 'construction-4-_mp4-20_jpg.rf.cb627b855fa08d83357febb83f6ad4bc.jpg', 'youtube-504_jpg.rf.23771986686856ac7d350cea84ddf611.jpg', 'construction-1027-_jpg.rf.e78f55761814a8726ea51993407957af.jpg', 'construction-2-_mp4-149_jpg.rf.c6d3939d4743a346de668a0ae05accbc.jpg', '972_jpg.rf.4c6fac866e4928f3da7591fd2c26c2ac.jpg', '02646_jpg.rf.5c93ba95bdc03808bcf872c7218ac5ef.jpg', '2009_002778_jpg.rf.7c8977ed190a2ce4211ef58f66864066.jpg', 'construction-9-_jpg.rf.c2af6f04317b1ea7d6e2a84d776788a2.jpg', 'construction-196-_jpg.rf.f593da25134315b48b325fb42436a01a.jpg', 'construction-823-_jpg.rf.640d8abfc7c7689d4a19e6aa00ac8984.jpg', 'youtube-277_jpg.rf.1bda1581c28b4f6cccd5eda6b23b94ee.jpg', 'ppe_0064_jpg.rf.f019b082d09af2750a81ef5ea3fcbc3e.jpg', '-1429-_png_jpg.rf.78a7894e86c79d018d80fa86f4d000f8.jpg', 'shakespearebookshop_jpg.rf.9a14dbfdd07d9a0cc916cffef0194245.jpg']\n",
            "Test images directory contents: ['youtube-198_jpg.rf.e89faeb9765c6bd6cece5434d140f4af.jpg', '-4405-_png_jpg.rf.82b5c10b2acd1cfaa24259ada8e599fe.jpg', 'class1_150_jpg.rf.5995dce34d38deb9eb0b6e36cae78f17.jpg', 'construction-639-_jpg.rf.7db2168ad99f643f7e3070733387e3bb.jpg', 'youtube-738_jpg.rf.6f300b76e12b325f7c373c95ef319005.jpg', 'youtube-192_jpg.rf.93bea040de8cd55f34ffb12f6ffe30b1.jpg', 'IMG_0871_mp4-23_jpg.rf.03f872b1ed87ad7fadc85e09475ad37a.jpg', 'Movie-on-10-31-22-at-10_08-AM_mov-24_jpg.rf.c50014f3510a484e5bd565460fd0fd5c.jpg', 'IMG_5846_jpg.rf.0b9984069116e2acd928568eb7a8e214.jpg', 'youtube-840_jpg.rf.974a83a7c5aee7c16e83435b043c6d96.jpg', 'youtube-186_jpg.rf.1f1d93447d4be3233c22c4ce9f6e0601.jpg', '2009_000496_jpg.rf.9a2d210fe0f5ea4b572aeb07e41ecbae.jpg', '003357_jpg.rf.9867f91e88089bb68dc95947d5116d14.jpg', 'autox3_mp4-187_jpg.rf.8340e2bd65afade3fb0d3194eadc5796.jpg', 'construction-675-_jpg.rf.bb4a05441be707256175e04929da3478.jpg', 'construction-651-_jpg.rf.8fa283ce7693dbdf29eb98384f24cb85.jpg', 'youtube-510_jpg.rf.62f82e36d134d53587edb48f291986f4.jpg', 'image_53_jpg.rf.3446e366b5d4d905a32e1aedc8fe87de.jpg', 'youtube-108_jpg.rf.9dc7ed5f816f07d520f3dbfaad08d40f.jpg', 'youtube-237_jpg.rf.d07a927721fe259757237c3706ea22e5.jpg', 'Inside-merge_mov-58_jpg.rf.50147e19cb655e74c2df0047113e82b2.jpg', 'youtube-596_jpg.rf.11a8a4ac01d8aadb80eeb0406dfa579a.jpg', 'youtube-263_jpg.rf.374e343e12ead395440dbd81417e1be9.jpg', 'youtube-263_jpg.rf.bb17b89dd2ec9a090ce53b728f48865e.jpg', 'construction-1159-_jpg.rf.9f3172102a34edb157b556a73931c831.jpg', '2009_000059_jpg.rf.50e8398a37eb33f33fd9f662feeea083.jpg', '004063_jpg.rf.1b7cdc4035bcb24ef69b8798b444053e.jpg', 'youtube-53_jpg.rf.e96f8f81389f4e63a79663095680a617.jpg', '777_jpg.rf.92dc6945342410ced7ac93f3dfbff0c5.jpg', 'class2_131_jpg.rf.ad8314a9273471f1280ce8789ea75376.jpg', 'thumbnail-ba5c72edb320b49a69e86b05775c49b2-scaled-1_jpeg_jpg.rf.3bb460e284098219861b894fb0db13d5.jpg', 'Bookstore_More_Merchandise_jpg.rf.7ab5add3e28ced74f9b316e794cc04d2.jpg', 'IMG_0871_MOV-12_jpg.rf.36858a9d51613f9a39b7855b54dfa098.jpg', 'ppe_1073_jpg.rf.72ea8a293a4f3e1135219e33701b1099.jpg', 'autox3_mp4-277_jpg.rf.a5ed8fd043fe7e1d8682768880b6d4db.jpg', '0_jpg.rf.2ff49f74309118f169e07aa12564df87.jpg', 'youtube-472_jpg.rf.e9425ff40c0df2beeef70abbc2324956.jpg', 'youtube-631_jpg.rf.7c6ecf859c1b0a659f8ea057ad27aebd.jpg', 'ka_01181_png_jpg.rf.154ee4ef254eabd62e316be50470c578.jpg', 'IMG_3100_mp4-12_jpg.rf.58849ca6a931c2cfe1b17fb4206d9d82.jpg', '000005_jpg.rf.96e9379ccae638140c4a90fc4b700a2b.jpg', 'construction-800-_jpg.rf.a01fcddd0db9cc89c0cacf4af88c468d.jpg', 'youtube-253_jpg.rf.5ad0a2d701e20141940508b809584856.jpg', 'youtube-496_jpg.rf.def4e9964e9a354d0a02f4ac14334a73.jpg', '004763_jpg.rf.46484e6ca73caeaa9de45822cf1085a9.jpg', 'bookstore_44_08_flickr_jpg.rf.244b6f308c529933af798c4063e58601.jpg', 'youtube-34_jpg.rf.03eacc444bae3c5caa3fef5c736c3e40.jpg', 'youtube-388_jpg.rf.18caa1da4f818a65f73e48463cb2270e.jpg', 'NX_img_177_jpg.rf.c03709e5fadfe2109411f05a9e9bc25f.jpg', 'construction-597-_jpg.rf.e18e918aae0aeecfdf8348513636d344.jpg', 'construction-192-_jpg.rf.56dd5c4c1396c6ad01be4fbec3bca46f.jpg', 'youtube-126_jpg.rf.786824e90daf3276130ca73ca610a8da.jpg', '006463_jpg.rf.02f19082420ecc5537b9d59abbe6050c.jpg', 'maksssksksss17_png_jpg.rf.f685b497756b1facbf3d4c2d2d22c0d2.jpg', 'IMG_3100_mp4-9_jpg.rf.413ccf5fe4a7ee67f71e07c2c43b6756.jpg', 'autox_mp4-44_jpg.rf.5048603ee6ccedf9ae6e3f787b7f82ff.jpg', 'class2_145_jpg.rf.b8ed5a5357ee41f8fb1aa9b01a400d51.jpg', 'youtube-671_jpg.rf.7b08643d6754cabe6caf2b49a963de47.jpg', '006672_jpg.rf.87d5978c486feb53177408cf00a0d87f.jpg', '2008_008320_jpg.rf.bd34011d46f82f9410d95f00e560b8ea.jpg', 'autox3_mp4-65_jpg.rf.d933ce48947fa9bdb55dc702a0879ac9.jpg', 'ppe_0018_jpg.rf.be66fabcc8627f60d963454b5a227095.jpg', 'librairie_51_jpg.rf.56b0500ae2ad3820b4286133b627e59c.jpg', 'construction-2-_mp4-162_jpg.rf.efad5f15524c736fe03b9c9936adc481.jpg', 'construction-275-_jpg.rf.e1c57987f9dc262aad1d7c67b694fd87.jpg', 'construction-2-_mp4-84_jpg.rf.e8d6bb0acc5c6e82c1a2d260ddf3135e.jpg', 'youtube-152_jpg.rf.9147878e3ddda845e58f7d9c041f1338.jpg', 'youtube-114_jpg.rf.5e02b6574ace1f4b3689befbc5051cd0.jpg', 'image_55_jpg.rf.27ae4341a9b9647d73a8929ff7a22369.jpg', '3e7e40981ddd4cdb055c7ffe4c2af5d8_jpg.rf.bac50dc18195e9aeb6f3a21782a3efcb.jpg', 'youtube-471_jpg.rf.4296b7bd9a5a07753077beddbcd651bf.jpg', 'youtube-213_jpg.rf.da70b1d8cefd3cc9d56e43bb88dfb67d.jpg', '002551_jpg.rf.ce4b9f934161faa72c80dc6898d37b2d.jpg', 'Image36_jpg.rf.8704f3450f736cdd01a61dcee588f2c2.jpg', 'IMG_3103_mp4-9_jpg.rf.b31bd2d816465a27aa1eb072f90bb5aa.jpg', 'youtube-462_jpg.rf.df73aa5089a04b8fbf3adf9d614a6740.jpg', 'Movie-on-10-31-22-at-10_08-AM_mov-20_jpg.rf.aea4278b41550cdb75df5891a26052e7.jpg', 'IMG_0871_mp4-11_jpg.rf.432092b53ebeb84f4b9b27b40343c9aa.jpg', 'construction-2-_mp4-13_jpg.rf.cef0975976346515d438e0c2ce6c59db.jpg', '2008_008519_jpg.rf.1798c8eed7de04399a0e7e297b4b4c9e.jpg', 'RPReplay_Final1667001201_MP4-100_jpg.rf.9a1b50c4301c53b3ae534c6353337df9.jpg', 'construction-843-_jpg.rf.c0ca85a10f6ad3c1375b37e52a51eeed.jpg']\n"
          ]
        }
      ]
    },
    {
      "cell_type": "code",
      "source": [
        "def contrast_stretching(img):\n",
        "    min_val = tf.reduce_min(img)\n",
        "    max_val = tf.reduce_max(img)\n",
        "    stretched_img = (img - min_val) / (max_val - min_val)\n",
        "    return stretched_img\n",
        "\n",
        "# Custom ImageDataGenerator that includes contrast stretching\n",
        "class CustomImageDataGenerator(ImageDataGenerator):\n",
        "    def __init__(self, *args, **kwargs):\n",
        "        super().__init__(*args, **kwargs)\n",
        "\n",
        "    def flow_from_directory(self, directory, *args, **kwargs):\n",
        "        generator = super().flow_from_directory(directory, *args, **kwargs)\n",
        "        return self._add_contrast_stretching(generator)\n",
        "\n",
        "    def _add_contrast_stretching(self, generator):\n",
        "        while True:\n",
        "            batch_x, batch_y = next(generator)\n",
        "            batch_x = np.array([contrast_stretching(img) for img in batch_x])\n",
        "            yield batch_x, batch_y"
      ],
      "metadata": {
        "id": "SG3XX7km_emw"
      },
      "execution_count": 59,
      "outputs": []
    },
    {
      "cell_type": "code",
      "source": [
        "from tensorflow.keras.preprocessing.image import ImageDataGenerator\n",
        "\n",
        "# Training dataset with augmentation\n",
        "train_datagen = ImageDataGenerator(\n",
        "    rescale=1.0/255.0,  # Normalize pixel values\n",
        "    rotation_range=40,\n",
        "    width_shift_range=0.2,\n",
        "    height_shift_range=0.2,\n",
        "    shear_range=0.2,\n",
        "    zoom_range=0.2,\n",
        "    horizontal_flip=True,\n",
        "    fill_mode='nearest'\n",
        ")\n",
        "\n",
        "# Validation dataset with only rescaling\n",
        "valid_datagen = ImageDataGenerator(rescale=1.0/255.0)\n"
      ],
      "metadata": {
        "id": "ybu3ijad_gQU"
      },
      "execution_count": 60,
      "outputs": []
    },
    {
      "cell_type": "code",
      "source": [
        "train_dataset = train_datagen.flow_from_directory(\n",
        "    '/content/construction_site_dataset/css-data/train',\n",
        "    target_size=(224,224),  # Use smaller size\n",
        "    batch_size=32,\n",
        "    class_mode='binary'\n",
        ")\n",
        "\n",
        "valid_dataset = valid_datagen.flow_from_directory(\n",
        "    '/content/construction_site_dataset/css-data/valid',\n",
        "    target_size=(224,224),  # Use smaller size\n",
        "    batch_size=32,\n",
        "    class_mode='binary'\n",
        ")\n",
        "\n",
        "\n",
        "# Load MobileNetV2 base model (without top classification layer)\n",
        "base_model = MobileNetV2(weights='imagenet', include_top=False, input_shape=(224, 224, 3))"
      ],
      "metadata": {
        "id": "5-zH5OWX_iic",
        "colab": {
          "base_uri": "https://localhost:8080/"
        },
        "outputId": "3ca081f9-401c-45c1-f24d-6d6298eb93af"
      },
      "execution_count": 61,
      "outputs": [
        {
          "output_type": "stream",
          "name": "stdout",
          "text": [
            "Found 2605 images belonging to 2 classes.\n",
            "Found 114 images belonging to 2 classes.\n"
          ]
        }
      ]
    },
    {
      "cell_type": "code",
      "source": [
        "from tensorflow.keras import models, layers, regularizers\n",
        "from tensorflow.keras.callbacks import EarlyStopping\n",
        "\n",
        "# Freezing the base model\n",
        "base_model.trainable = False\n",
        "\n",
        "# Build the complete model\n",
        "model = models.Sequential([\n",
        "    base_model,\n",
        "    layers.GlobalAveragePooling2D(),  # Convert 3D feature maps to 1D\n",
        "    layers.Dense(256, activation='relu', kernel_regularizer=regularizers.l2(0.01)),  # L2 Regularization\n",
        "    layers.Dense(1, activation='sigmoid')  # Output layer (binary classification)\n",
        "])\n",
        "\n",
        "# Compile the model\n",
        "model.compile(optimizer='adam', loss='binary_crossentropy', metrics=['accuracy'])\n",
        "\n",
        "# Print model summary\n",
        "model.summary()\n"
      ],
      "metadata": {
        "id": "ZIer6Z4W_leV",
        "colab": {
          "base_uri": "https://localhost:8080/",
          "height": 273
        },
        "outputId": "fd0877ce-b19e-49f0-a4f4-7011dda07d22"
      },
      "execution_count": 62,
      "outputs": [
        {
          "output_type": "display_data",
          "data": {
            "text/plain": [
              "\u001b[1mModel: \"sequential_8\"\u001b[0m\n"
            ],
            "text/html": [
              "<pre style=\"white-space:pre;overflow-x:auto;line-height:normal;font-family:Menlo,'DejaVu Sans Mono',consolas,'Courier New',monospace\"><span style=\"font-weight: bold\">Model: \"sequential_8\"</span>\n",
              "</pre>\n"
            ]
          },
          "metadata": {}
        },
        {
          "output_type": "display_data",
          "data": {
            "text/plain": [
              "┏━━━━━━━━━━━━━━━━━━━━━━━━━━━━━━━━━━━━━━┳━━━━━━━━━━━━━━━━━━━━━━━━━━━━━┳━━━━━━━━━━━━━━━━━┓\n",
              "┃\u001b[1m \u001b[0m\u001b[1mLayer (type)                        \u001b[0m\u001b[1m \u001b[0m┃\u001b[1m \u001b[0m\u001b[1mOutput Shape               \u001b[0m\u001b[1m \u001b[0m┃\u001b[1m \u001b[0m\u001b[1m        Param #\u001b[0m\u001b[1m \u001b[0m┃\n",
              "┡━━━━━━━━━━━━━━━━━━━━━━━━━━━━━━━━━━━━━━╇━━━━━━━━━━━━━━━━━━━━━━━━━━━━━╇━━━━━━━━━━━━━━━━━┩\n",
              "│ mobilenetv2_1.00_224 (\u001b[38;5;33mFunctional\u001b[0m)    │ (\u001b[38;5;45mNone\u001b[0m, \u001b[38;5;34m7\u001b[0m, \u001b[38;5;34m7\u001b[0m, \u001b[38;5;34m1280\u001b[0m)          │       \u001b[38;5;34m2,257,984\u001b[0m │\n",
              "├──────────────────────────────────────┼─────────────────────────────┼─────────────────┤\n",
              "│ global_average_pooling2d_8           │ (\u001b[38;5;45mNone\u001b[0m, \u001b[38;5;34m1280\u001b[0m)                │               \u001b[38;5;34m0\u001b[0m │\n",
              "│ (\u001b[38;5;33mGlobalAveragePooling2D\u001b[0m)             │                             │                 │\n",
              "├──────────────────────────────────────┼─────────────────────────────┼─────────────────┤\n",
              "│ dense_16 (\u001b[38;5;33mDense\u001b[0m)                     │ (\u001b[38;5;45mNone\u001b[0m, \u001b[38;5;34m256\u001b[0m)                 │         \u001b[38;5;34m327,936\u001b[0m │\n",
              "├──────────────────────────────────────┼─────────────────────────────┼─────────────────┤\n",
              "│ dense_17 (\u001b[38;5;33mDense\u001b[0m)                     │ (\u001b[38;5;45mNone\u001b[0m, \u001b[38;5;34m1\u001b[0m)                   │             \u001b[38;5;34m257\u001b[0m │\n",
              "└──────────────────────────────────────┴─────────────────────────────┴─────────────────┘\n"
            ],
            "text/html": [
              "<pre style=\"white-space:pre;overflow-x:auto;line-height:normal;font-family:Menlo,'DejaVu Sans Mono',consolas,'Courier New',monospace\">┏━━━━━━━━━━━━━━━━━━━━━━━━━━━━━━━━━━━━━━┳━━━━━━━━━━━━━━━━━━━━━━━━━━━━━┳━━━━━━━━━━━━━━━━━┓\n",
              "┃<span style=\"font-weight: bold\"> Layer (type)                         </span>┃<span style=\"font-weight: bold\"> Output Shape                </span>┃<span style=\"font-weight: bold\">         Param # </span>┃\n",
              "┡━━━━━━━━━━━━━━━━━━━━━━━━━━━━━━━━━━━━━━╇━━━━━━━━━━━━━━━━━━━━━━━━━━━━━╇━━━━━━━━━━━━━━━━━┩\n",
              "│ mobilenetv2_1.00_224 (<span style=\"color: #0087ff; text-decoration-color: #0087ff\">Functional</span>)    │ (<span style=\"color: #00d7ff; text-decoration-color: #00d7ff\">None</span>, <span style=\"color: #00af00; text-decoration-color: #00af00\">7</span>, <span style=\"color: #00af00; text-decoration-color: #00af00\">7</span>, <span style=\"color: #00af00; text-decoration-color: #00af00\">1280</span>)          │       <span style=\"color: #00af00; text-decoration-color: #00af00\">2,257,984</span> │\n",
              "├──────────────────────────────────────┼─────────────────────────────┼─────────────────┤\n",
              "│ global_average_pooling2d_8           │ (<span style=\"color: #00d7ff; text-decoration-color: #00d7ff\">None</span>, <span style=\"color: #00af00; text-decoration-color: #00af00\">1280</span>)                │               <span style=\"color: #00af00; text-decoration-color: #00af00\">0</span> │\n",
              "│ (<span style=\"color: #0087ff; text-decoration-color: #0087ff\">GlobalAveragePooling2D</span>)             │                             │                 │\n",
              "├──────────────────────────────────────┼─────────────────────────────┼─────────────────┤\n",
              "│ dense_16 (<span style=\"color: #0087ff; text-decoration-color: #0087ff\">Dense</span>)                     │ (<span style=\"color: #00d7ff; text-decoration-color: #00d7ff\">None</span>, <span style=\"color: #00af00; text-decoration-color: #00af00\">256</span>)                 │         <span style=\"color: #00af00; text-decoration-color: #00af00\">327,936</span> │\n",
              "├──────────────────────────────────────┼─────────────────────────────┼─────────────────┤\n",
              "│ dense_17 (<span style=\"color: #0087ff; text-decoration-color: #0087ff\">Dense</span>)                     │ (<span style=\"color: #00d7ff; text-decoration-color: #00d7ff\">None</span>, <span style=\"color: #00af00; text-decoration-color: #00af00\">1</span>)                   │             <span style=\"color: #00af00; text-decoration-color: #00af00\">257</span> │\n",
              "└──────────────────────────────────────┴─────────────────────────────┴─────────────────┘\n",
              "</pre>\n"
            ]
          },
          "metadata": {}
        },
        {
          "output_type": "display_data",
          "data": {
            "text/plain": [
              "\u001b[1m Total params: \u001b[0m\u001b[38;5;34m2,586,177\u001b[0m (9.87 MB)\n"
            ],
            "text/html": [
              "<pre style=\"white-space:pre;overflow-x:auto;line-height:normal;font-family:Menlo,'DejaVu Sans Mono',consolas,'Courier New',monospace\"><span style=\"font-weight: bold\"> Total params: </span><span style=\"color: #00af00; text-decoration-color: #00af00\">2,586,177</span> (9.87 MB)\n",
              "</pre>\n"
            ]
          },
          "metadata": {}
        },
        {
          "output_type": "display_data",
          "data": {
            "text/plain": [
              "\u001b[1m Trainable params: \u001b[0m\u001b[38;5;34m328,193\u001b[0m (1.25 MB)\n"
            ],
            "text/html": [
              "<pre style=\"white-space:pre;overflow-x:auto;line-height:normal;font-family:Menlo,'DejaVu Sans Mono',consolas,'Courier New',monospace\"><span style=\"font-weight: bold\"> Trainable params: </span><span style=\"color: #00af00; text-decoration-color: #00af00\">328,193</span> (1.25 MB)\n",
              "</pre>\n"
            ]
          },
          "metadata": {}
        },
        {
          "output_type": "display_data",
          "data": {
            "text/plain": [
              "\u001b[1m Non-trainable params: \u001b[0m\u001b[38;5;34m2,257,984\u001b[0m (8.61 MB)\n"
            ],
            "text/html": [
              "<pre style=\"white-space:pre;overflow-x:auto;line-height:normal;font-family:Menlo,'DejaVu Sans Mono',consolas,'Courier New',monospace\"><span style=\"font-weight: bold\"> Non-trainable params: </span><span style=\"color: #00af00; text-decoration-color: #00af00\">2,257,984</span> (8.61 MB)\n",
              "</pre>\n"
            ]
          },
          "metadata": {}
        }
      ]
    },
    {
      "cell_type": "code",
      "source": [
        "# Early stopping callback to prevent overfitting\n",
        "early_stopping = EarlyStopping(monitor='val_loss', patience=3, restore_best_weights=True)\n",
        "\n",
        "# Train the model with early stopping\n",
        "history = model.fit(\n",
        "    train_dataset,  # Training data\n",
        "    epochs=5,       # Number of epochs\n",
        "    validation_data=valid_dataset,  # Validation data\n",
        "    callbacks=[early_stopping]  # Add early stopping callback\n",
        ")"
      ],
      "metadata": {
        "colab": {
          "base_uri": "https://localhost:8080/"
        },
        "id": "n6uIYwDzBPKK",
        "outputId": "a7390046-0337-498f-95ae-e2608463061d"
      },
      "execution_count": 63,
      "outputs": [
        {
          "output_type": "stream",
          "name": "stdout",
          "text": [
            "Epoch 1/5\n"
          ]
        },
        {
          "output_type": "stream",
          "name": "stderr",
          "text": [
            "/usr/local/lib/python3.10/dist-packages/keras/src/trainers/data_adapters/py_dataset_adapter.py:122: UserWarning: Your `PyDataset` class should call `super().__init__(**kwargs)` in its constructor. `**kwargs` can include `workers`, `use_multiprocessing`, `max_queue_size`. Do not pass these arguments to `fit()`, as they will be ignored.\n",
            "  self._warn_if_super_not_called()\n"
          ]
        },
        {
          "output_type": "stream",
          "name": "stdout",
          "text": [
            "\u001b[1m82/82\u001b[0m \u001b[32m━━━━━━━━━━━━━━━━━━━━\u001b[0m\u001b[37m\u001b[0m \u001b[1m62s\u001b[0m 580ms/step - accuracy: 0.9886 - loss: 2.9028 - val_accuracy: 1.0000 - val_loss: 0.5090\n",
            "Epoch 2/5\n",
            "\u001b[1m82/82\u001b[0m \u001b[32m━━━━━━━━━━━━━━━━━━━━\u001b[0m\u001b[37m\u001b[0m \u001b[1m35s\u001b[0m 398ms/step - accuracy: 1.0000 - loss: 0.3473 - val_accuracy: 1.0000 - val_loss: 0.0970\n",
            "Epoch 3/5\n",
            "\u001b[1m82/82\u001b[0m \u001b[32m━━━━━━━━━━━━━━━━━━━━\u001b[0m\u001b[37m\u001b[0m \u001b[1m35s\u001b[0m 383ms/step - accuracy: 1.0000 - loss: 0.0670 - val_accuracy: 1.0000 - val_loss: 0.0242\n",
            "Epoch 4/5\n",
            "\u001b[1m82/82\u001b[0m \u001b[32m━━━━━━━━━━━━━━━━━━━━\u001b[0m\u001b[37m\u001b[0m \u001b[1m41s\u001b[0m 403ms/step - accuracy: 1.0000 - loss: 0.0158 - val_accuracy: 1.0000 - val_loss: 0.0071\n",
            "Epoch 5/5\n",
            "\u001b[1m82/82\u001b[0m \u001b[32m━━━━━━━━━━━━━━━━━━━━\u001b[0m\u001b[37m\u001b[0m \u001b[1m35s\u001b[0m 383ms/step - accuracy: 1.0000 - loss: 0.0043 - val_accuracy: 1.0000 - val_loss: 0.0026\n"
          ]
        }
      ]
    },
    {
      "cell_type": "markdown",
      "source": [
        "# **PLOTTING**"
      ],
      "metadata": {
        "id": "w_uYciHkBemE"
      }
    },
    {
      "cell_type": "code",
      "source": [
        "# Save the trained model\n",
        "model.save('my_model_1.h5')\n",
        "\n",
        "# Convert the model to TensorFlow Lite format\n",
        "converter = tf.lite.TFLiteConverter.from_keras_model(model)\n",
        "tflite_model = converter.convert()\n",
        "\n",
        "# Save the TFLite model\n",
        "with open('my_model_1.tflite', 'wb') as f:\n",
        "    f.write(tflite_model)"
      ],
      "metadata": {
        "id": "vOVBo__s_nmv",
        "colab": {
          "base_uri": "https://localhost:8080/"
        },
        "collapsed": true,
        "outputId": "9947d6bf-6711-445f-af7b-29f8563309c3"
      },
      "execution_count": 64,
      "outputs": [
        {
          "output_type": "stream",
          "name": "stderr",
          "text": [
            "WARNING:absl:You are saving your model as an HDF5 file via `model.save()` or `keras.saving.save_model(model)`. This file format is considered legacy. We recommend using instead the native Keras format, e.g. `model.save('my_model.keras')` or `keras.saving.save_model(model, 'my_model.keras')`. \n"
          ]
        },
        {
          "output_type": "stream",
          "name": "stdout",
          "text": [
            "Saved artifact at '/tmp/tmpc2m52grj'. The following endpoints are available:\n",
            "\n",
            "* Endpoint 'serve'\n",
            "  args_0 (POSITIONAL_ONLY): TensorSpec(shape=(None, 224, 224, 3), dtype=tf.float32, name='keras_tensor_1118')\n",
            "Output Type:\n",
            "  TensorSpec(shape=(None, 1), dtype=tf.float32, name=None)\n",
            "Captures:\n",
            "  140438537298240: TensorSpec(shape=(), dtype=tf.resource, name=None)\n",
            "  140438591908400: TensorSpec(shape=(), dtype=tf.resource, name=None)\n",
            "  140438591910160: TensorSpec(shape=(), dtype=tf.resource, name=None)\n",
            "  140438591906992: TensorSpec(shape=(), dtype=tf.resource, name=None)\n",
            "  140438591909456: TensorSpec(shape=(), dtype=tf.resource, name=None)\n",
            "  140438591907344: TensorSpec(shape=(), dtype=tf.resource, name=None)\n",
            "  140438592456832: TensorSpec(shape=(), dtype=tf.resource, name=None)\n",
            "  140438592459648: TensorSpec(shape=(), dtype=tf.resource, name=None)\n",
            "  140438592455072: TensorSpec(shape=(), dtype=tf.resource, name=None)\n",
            "  140438592458592: TensorSpec(shape=(), dtype=tf.resource, name=None)\n",
            "  140438592465808: TensorSpec(shape=(), dtype=tf.resource, name=None)\n",
            "  140438592464752: TensorSpec(shape=(), dtype=tf.resource, name=None)\n",
            "  140438592467216: TensorSpec(shape=(), dtype=tf.resource, name=None)\n",
            "  140438592463344: TensorSpec(shape=(), dtype=tf.resource, name=None)\n",
            "  140438592465984: TensorSpec(shape=(), dtype=tf.resource, name=None)\n",
            "  140438592462992: TensorSpec(shape=(), dtype=tf.resource, name=None)\n",
            "  140439210378688: TensorSpec(shape=(), dtype=tf.resource, name=None)\n",
            "  140439210377456: TensorSpec(shape=(), dtype=tf.resource, name=None)\n",
            "  140438592469856: TensorSpec(shape=(), dtype=tf.resource, name=None)\n",
            "  140439210377280: TensorSpec(shape=(), dtype=tf.resource, name=None)\n",
            "  140438592470736: TensorSpec(shape=(), dtype=tf.resource, name=None)\n",
            "  140439210386080: TensorSpec(shape=(), dtype=tf.resource, name=None)\n",
            "  140439210388720: TensorSpec(shape=(), dtype=tf.resource, name=None)\n",
            "  140439210384672: TensorSpec(shape=(), dtype=tf.resource, name=None)\n",
            "  140439210386608: TensorSpec(shape=(), dtype=tf.resource, name=None)\n",
            "  140439210391712: TensorSpec(shape=(), dtype=tf.resource, name=None)\n",
            "  140439209690912: TensorSpec(shape=(), dtype=tf.resource, name=None)\n",
            "  140439209689504: TensorSpec(shape=(), dtype=tf.resource, name=None)\n",
            "  140439210392768: TensorSpec(shape=(), dtype=tf.resource, name=None)\n",
            "  140439209691088: TensorSpec(shape=(), dtype=tf.resource, name=None)\n",
            "  140438591912976: TensorSpec(shape=(), dtype=tf.resource, name=None)\n",
            "  140439209695664: TensorSpec(shape=(), dtype=tf.resource, name=None)\n",
            "  140439209698128: TensorSpec(shape=(), dtype=tf.resource, name=None)\n",
            "  140439209694256: TensorSpec(shape=(), dtype=tf.resource, name=None)\n",
            "  140439209696896: TensorSpec(shape=(), dtype=tf.resource, name=None)\n",
            "  140439209704112: TensorSpec(shape=(), dtype=tf.resource, name=None)\n",
            "  140439497479744: TensorSpec(shape=(), dtype=tf.resource, name=None)\n",
            "  140439209700944: TensorSpec(shape=(), dtype=tf.resource, name=None)\n",
            "  140439209694608: TensorSpec(shape=(), dtype=tf.resource, name=None)\n",
            "  140439209703584: TensorSpec(shape=(), dtype=tf.resource, name=None)\n",
            "  140439209699712: TensorSpec(shape=(), dtype=tf.resource, name=None)\n",
            "  140439209957808: TensorSpec(shape=(), dtype=tf.resource, name=None)\n",
            "  140439209958864: TensorSpec(shape=(), dtype=tf.resource, name=None)\n",
            "  140439209954992: TensorSpec(shape=(), dtype=tf.resource, name=None)\n",
            "  140439209957632: TensorSpec(shape=(), dtype=tf.resource, name=None)\n",
            "  140439209965024: TensorSpec(shape=(), dtype=tf.resource, name=None)\n",
            "  140439209963968: TensorSpec(shape=(), dtype=tf.resource, name=None)\n",
            "  140439209966432: TensorSpec(shape=(), dtype=tf.resource, name=None)\n",
            "  140439209962560: TensorSpec(shape=(), dtype=tf.resource, name=None)\n",
            "  140439209965200: TensorSpec(shape=(), dtype=tf.resource, name=None)\n",
            "  140439209962912: TensorSpec(shape=(), dtype=tf.resource, name=None)\n",
            "  140439210415328: TensorSpec(shape=(), dtype=tf.resource, name=None)\n",
            "  140439210417968: TensorSpec(shape=(), dtype=tf.resource, name=None)\n",
            "  140439210413920: TensorSpec(shape=(), dtype=tf.resource, name=None)\n",
            "  140439210415856: TensorSpec(shape=(), dtype=tf.resource, name=None)\n",
            "  140439210424128: TensorSpec(shape=(), dtype=tf.resource, name=None)\n",
            "  140439210423072: TensorSpec(shape=(), dtype=tf.resource, name=None)\n",
            "  140439210425536: TensorSpec(shape=(), dtype=tf.resource, name=None)\n",
            "  140439210411984: TensorSpec(shape=(), dtype=tf.resource, name=None)\n",
            "  140439210424304: TensorSpec(shape=(), dtype=tf.resource, name=None)\n",
            "  140439209699888: TensorSpec(shape=(), dtype=tf.resource, name=None)\n",
            "  140439210201456: TensorSpec(shape=(), dtype=tf.resource, name=None)\n",
            "  140439210201104: TensorSpec(shape=(), dtype=tf.resource, name=None)\n",
            "  140439210198640: TensorSpec(shape=(), dtype=tf.resource, name=None)\n",
            "  140439210201280: TensorSpec(shape=(), dtype=tf.resource, name=None)\n",
            "  140439210208496: TensorSpec(shape=(), dtype=tf.resource, name=None)\n",
            "  140439210207440: TensorSpec(shape=(), dtype=tf.resource, name=None)\n",
            "  140439210210080: TensorSpec(shape=(), dtype=tf.resource, name=None)\n",
            "  140439210198992: TensorSpec(shape=(), dtype=tf.resource, name=None)\n",
            "  140439210207968: TensorSpec(shape=(), dtype=tf.resource, name=None)\n",
            "  140439210213072: TensorSpec(shape=(), dtype=tf.resource, name=None)\n",
            "  140439209987408: TensorSpec(shape=(), dtype=tf.resource, name=None)\n",
            "  140439209984944: TensorSpec(shape=(), dtype=tf.resource, name=None)\n",
            "  140439209984064: TensorSpec(shape=(), dtype=tf.resource, name=None)\n",
            "  140439209987584: TensorSpec(shape=(), dtype=tf.resource, name=None)\n",
            "  140439209994624: TensorSpec(shape=(), dtype=tf.resource, name=None)\n",
            "  140439209993568: TensorSpec(shape=(), dtype=tf.resource, name=None)\n",
            "  140439209996032: TensorSpec(shape=(), dtype=tf.resource, name=None)\n",
            "  140439209992160: TensorSpec(shape=(), dtype=tf.resource, name=None)\n",
            "  140439209994800: TensorSpec(shape=(), dtype=tf.resource, name=None)\n",
            "  140439209991808: TensorSpec(shape=(), dtype=tf.resource, name=None)\n",
            "  140439210248320: TensorSpec(shape=(), dtype=tf.resource, name=None)\n",
            "  140439210246384: TensorSpec(shape=(), dtype=tf.resource, name=None)\n",
            "  140439209999904: TensorSpec(shape=(), dtype=tf.resource, name=None)\n",
            "  140439210248496: TensorSpec(shape=(), dtype=tf.resource, name=None)\n",
            "  140439210255536: TensorSpec(shape=(), dtype=tf.resource, name=None)\n",
            "  140439210254480: TensorSpec(shape=(), dtype=tf.resource, name=None)\n",
            "  140439210256944: TensorSpec(shape=(), dtype=tf.resource, name=None)\n",
            "  140439210253072: TensorSpec(shape=(), dtype=tf.resource, name=None)\n",
            "  140439210255712: TensorSpec(shape=(), dtype=tf.resource, name=None)\n",
            "  140439210252720: TensorSpec(shape=(), dtype=tf.resource, name=None)\n",
            "  140439210083424: TensorSpec(shape=(), dtype=tf.resource, name=None)\n",
            "  140439210258704: TensorSpec(shape=(), dtype=tf.resource, name=None)\n",
            "  140439210260992: TensorSpec(shape=(), dtype=tf.resource, name=None)\n",
            "  140439210082368: TensorSpec(shape=(), dtype=tf.resource, name=None)\n",
            "  140439210261520: TensorSpec(shape=(), dtype=tf.resource, name=None)\n",
            "  140439210090816: TensorSpec(shape=(), dtype=tf.resource, name=None)\n",
            "  140439210093456: TensorSpec(shape=(), dtype=tf.resource, name=None)\n",
            "  140439210089408: TensorSpec(shape=(), dtype=tf.resource, name=None)\n",
            "  140439210091344: TensorSpec(shape=(), dtype=tf.resource, name=None)\n",
            "  140439210096448: TensorSpec(shape=(), dtype=tf.resource, name=None)\n",
            "  140439209395648: TensorSpec(shape=(), dtype=tf.resource, name=None)\n",
            "  140439209394416: TensorSpec(shape=(), dtype=tf.resource, name=None)\n",
            "  140439210097504: TensorSpec(shape=(), dtype=tf.resource, name=None)\n",
            "  140439209394240: TensorSpec(shape=(), dtype=tf.resource, name=None)\n",
            "  140439210204272: TensorSpec(shape=(), dtype=tf.resource, name=None)\n",
            "  140439209401808: TensorSpec(shape=(), dtype=tf.resource, name=None)\n",
            "  140439209402864: TensorSpec(shape=(), dtype=tf.resource, name=None)\n",
            "  140439209398992: TensorSpec(shape=(), dtype=tf.resource, name=None)\n",
            "  140439209401632: TensorSpec(shape=(), dtype=tf.resource, name=None)\n",
            "  140439209408848: TensorSpec(shape=(), dtype=tf.resource, name=None)\n",
            "  140439209407792: TensorSpec(shape=(), dtype=tf.resource, name=None)\n",
            "  140439209404976: TensorSpec(shape=(), dtype=tf.resource, name=None)\n",
            "  140439209399344: TensorSpec(shape=(), dtype=tf.resource, name=None)\n",
            "  140439209408320: TensorSpec(shape=(), dtype=tf.resource, name=None)\n",
            "  140439209404448: TensorSpec(shape=(), dtype=tf.resource, name=None)\n",
            "  140439209793968: TensorSpec(shape=(), dtype=tf.resource, name=None)\n",
            "  140439209795024: TensorSpec(shape=(), dtype=tf.resource, name=None)\n",
            "  140439209791152: TensorSpec(shape=(), dtype=tf.resource, name=None)\n",
            "  140439209793792: TensorSpec(shape=(), dtype=tf.resource, name=None)\n",
            "  140439209801184: TensorSpec(shape=(), dtype=tf.resource, name=None)\n",
            "  140439209800128: TensorSpec(shape=(), dtype=tf.resource, name=None)\n",
            "  140439209802592: TensorSpec(shape=(), dtype=tf.resource, name=None)\n",
            "  140439209798720: TensorSpec(shape=(), dtype=tf.resource, name=None)\n",
            "  140439209801360: TensorSpec(shape=(), dtype=tf.resource, name=None)\n",
            "  140439209799072: TensorSpec(shape=(), dtype=tf.resource, name=None)\n",
            "  140439210069856: TensorSpec(shape=(), dtype=tf.resource, name=None)\n",
            "  140439210072496: TensorSpec(shape=(), dtype=tf.resource, name=None)\n",
            "  140439210068448: TensorSpec(shape=(), dtype=tf.resource, name=None)\n",
            "  140439210070384: TensorSpec(shape=(), dtype=tf.resource, name=None)\n",
            "  140439210078656: TensorSpec(shape=(), dtype=tf.resource, name=None)\n",
            "  140439210077600: TensorSpec(shape=(), dtype=tf.resource, name=None)\n",
            "  140439210080064: TensorSpec(shape=(), dtype=tf.resource, name=None)\n",
            "  140439210066512: TensorSpec(shape=(), dtype=tf.resource, name=None)\n",
            "  140439210078832: TensorSpec(shape=(), dtype=tf.resource, name=None)\n",
            "  140439209404624: TensorSpec(shape=(), dtype=tf.resource, name=None)\n",
            "  140439209841008: TensorSpec(shape=(), dtype=tf.resource, name=None)\n",
            "  140439209840656: TensorSpec(shape=(), dtype=tf.resource, name=None)\n",
            "  140439209838192: TensorSpec(shape=(), dtype=tf.resource, name=None)\n",
            "  140439209840832: TensorSpec(shape=(), dtype=tf.resource, name=None)\n",
            "  140439209848048: TensorSpec(shape=(), dtype=tf.resource, name=None)\n",
            "  140439209846992: TensorSpec(shape=(), dtype=tf.resource, name=None)\n",
            "  140439209849632: TensorSpec(shape=(), dtype=tf.resource, name=None)\n",
            "  140439209838544: TensorSpec(shape=(), dtype=tf.resource, name=None)\n",
            "  140439209847520: TensorSpec(shape=(), dtype=tf.resource, name=None)\n",
            "  140439209852624: TensorSpec(shape=(), dtype=tf.resource, name=None)\n",
            "  140438550269264: TensorSpec(shape=(), dtype=tf.resource, name=None)\n",
            "  140438550266800: TensorSpec(shape=(), dtype=tf.resource, name=None)\n",
            "  140438550265920: TensorSpec(shape=(), dtype=tf.resource, name=None)\n",
            "  140438550269440: TensorSpec(shape=(), dtype=tf.resource, name=None)\n",
            "  140438550276480: TensorSpec(shape=(), dtype=tf.resource, name=None)\n",
            "  140438550275424: TensorSpec(shape=(), dtype=tf.resource, name=None)\n",
            "  140438550277888: TensorSpec(shape=(), dtype=tf.resource, name=None)\n",
            "  140438550274016: TensorSpec(shape=(), dtype=tf.resource, name=None)\n",
            "  140438550276656: TensorSpec(shape=(), dtype=tf.resource, name=None)\n",
            "  140438550280704: TensorSpec(shape=(), dtype=tf.resource, name=None)\n",
            "  140438550402624: TensorSpec(shape=(), dtype=tf.resource, name=None)\n",
            "  140438550404736: TensorSpec(shape=(), dtype=tf.resource, name=None)\n",
            "  140438550397872: TensorSpec(shape=(), dtype=tf.resource, name=None)\n",
            "  140438550400336: TensorSpec(shape=(), dtype=tf.resource, name=None)\n",
            "  140438550406848: TensorSpec(shape=(), dtype=tf.resource, name=None)\n",
            "  140438537291552: TensorSpec(shape=(), dtype=tf.resource, name=None)\n",
            "  140438537295424: TensorSpec(shape=(), dtype=tf.resource, name=None)\n",
            "  140438550463056: TensorSpec(shape=(), dtype=tf.resource, name=None)\n",
            "  140438550271552: TensorSpec(shape=(), dtype=tf.resource, name=None)\n",
            "  140438550402096: TensorSpec(shape=(), dtype=tf.resource, name=None)\n",
            "  140438550398224: TensorSpec(shape=(), dtype=tf.resource, name=None)\n",
            "  140438550399280: TensorSpec(shape=(), dtype=tf.resource, name=None)\n",
            "  140438550404912: TensorSpec(shape=(), dtype=tf.resource, name=None)\n",
            "  140438550411776: TensorSpec(shape=(), dtype=tf.resource, name=None)\n",
            "  140438550399808: TensorSpec(shape=(), dtype=tf.resource, name=None)\n",
            "  140438550469216: TensorSpec(shape=(), dtype=tf.resource, name=None)\n",
            "  140438550471856: TensorSpec(shape=(), dtype=tf.resource, name=None)\n",
            "  140438550467808: TensorSpec(shape=(), dtype=tf.resource, name=None)\n",
            "  140438550469744: TensorSpec(shape=(), dtype=tf.resource, name=None)\n",
            "  140438550478016: TensorSpec(shape=(), dtype=tf.resource, name=None)\n",
            "  140438550468160: TensorSpec(shape=(), dtype=tf.resource, name=None)\n",
            "  140438550473440: TensorSpec(shape=(), dtype=tf.resource, name=None)\n",
            "  140438550475200: TensorSpec(shape=(), dtype=tf.resource, name=None)\n",
            "  140438550476784: TensorSpec(shape=(), dtype=tf.resource, name=None)\n",
            "  140438550403152: TensorSpec(shape=(), dtype=tf.resource, name=None)\n",
            "  140438549994608: TensorSpec(shape=(), dtype=tf.resource, name=None)\n",
            "  140438549995664: TensorSpec(shape=(), dtype=tf.resource, name=None)\n",
            "  140438549991792: TensorSpec(shape=(), dtype=tf.resource, name=None)\n",
            "  140438549994432: TensorSpec(shape=(), dtype=tf.resource, name=None)\n",
            "  140438550001648: TensorSpec(shape=(), dtype=tf.resource, name=None)\n",
            "  140438550000592: TensorSpec(shape=(), dtype=tf.resource, name=None)\n",
            "  140438550003408: TensorSpec(shape=(), dtype=tf.resource, name=None)\n",
            "  140438549992144: TensorSpec(shape=(), dtype=tf.resource, name=None)\n",
            "  140438550002880: TensorSpec(shape=(), dtype=tf.resource, name=None)\n",
            "  140438549997248: TensorSpec(shape=(), dtype=tf.resource, name=None)\n",
            "  140438550423056: TensorSpec(shape=(), dtype=tf.resource, name=None)\n",
            "  140438550422000: TensorSpec(shape=(), dtype=tf.resource, name=None)\n",
            "  140438550425872: TensorSpec(shape=(), dtype=tf.resource, name=None)\n",
            "  140438550423232: TensorSpec(shape=(), dtype=tf.resource, name=None)\n",
            "  140438550415840: TensorSpec(shape=(), dtype=tf.resource, name=None)\n",
            "  140438550416896: TensorSpec(shape=(), dtype=tf.resource, name=None)\n",
            "  140438550414432: TensorSpec(shape=(), dtype=tf.resource, name=None)\n",
            "  140438550418304: TensorSpec(shape=(), dtype=tf.resource, name=None)\n",
            "  140438550415664: TensorSpec(shape=(), dtype=tf.resource, name=None)\n",
            "  140438550417952: TensorSpec(shape=(), dtype=tf.resource, name=None)\n",
            "  140438549845040: TensorSpec(shape=(), dtype=tf.resource, name=None)\n",
            "  140438549847680: TensorSpec(shape=(), dtype=tf.resource, name=None)\n",
            "  140438549843632: TensorSpec(shape=(), dtype=tf.resource, name=None)\n",
            "  140438549845568: TensorSpec(shape=(), dtype=tf.resource, name=None)\n",
            "  140438549853840: TensorSpec(shape=(), dtype=tf.resource, name=None)\n",
            "  140438549852784: TensorSpec(shape=(), dtype=tf.resource, name=None)\n",
            "  140438549855248: TensorSpec(shape=(), dtype=tf.resource, name=None)\n",
            "  140438549841696: TensorSpec(shape=(), dtype=tf.resource, name=None)\n",
            "  140438549854016: TensorSpec(shape=(), dtype=tf.resource, name=None)\n",
            "  140438549851024: TensorSpec(shape=(), dtype=tf.resource, name=None)\n",
            "  140438550057152: TensorSpec(shape=(), dtype=tf.resource, name=None)\n",
            "  140438550057680: TensorSpec(shape=(), dtype=tf.resource, name=None)\n",
            "  140438550053808: TensorSpec(shape=(), dtype=tf.resource, name=None)\n",
            "  140438550057328: TensorSpec(shape=(), dtype=tf.resource, name=None)\n",
            "  140438550064192: TensorSpec(shape=(), dtype=tf.resource, name=None)\n",
            "  140438550063136: TensorSpec(shape=(), dtype=tf.resource, name=None)\n",
            "  140438550065776: TensorSpec(shape=(), dtype=tf.resource, name=None)\n",
            "  140438550053984: TensorSpec(shape=(), dtype=tf.resource, name=None)\n",
            "  140438550063664: TensorSpec(shape=(), dtype=tf.resource, name=None)\n",
            "  140438550068768: TensorSpec(shape=(), dtype=tf.resource, name=None)\n",
            "  140438550203552: TensorSpec(shape=(), dtype=tf.resource, name=None)\n",
            "  140438550201088: TensorSpec(shape=(), dtype=tf.resource, name=None)\n",
            "  140438550203200: TensorSpec(shape=(), dtype=tf.resource, name=None)\n",
            "  140438550203728: TensorSpec(shape=(), dtype=tf.resource, name=None)\n",
            "  140438550210768: TensorSpec(shape=(), dtype=tf.resource, name=None)\n",
            "  140438550209712: TensorSpec(shape=(), dtype=tf.resource, name=None)\n",
            "  140438550212176: TensorSpec(shape=(), dtype=tf.resource, name=None)\n",
            "  140438550208304: TensorSpec(shape=(), dtype=tf.resource, name=None)\n",
            "  140438550210944: TensorSpec(shape=(), dtype=tf.resource, name=None)\n",
            "  140438550214992: TensorSpec(shape=(), dtype=tf.resource, name=None)\n",
            "  140440868077984: TensorSpec(shape=(), dtype=tf.resource, name=None)\n",
            "  140440868077632: TensorSpec(shape=(), dtype=tf.resource, name=None)\n",
            "  140438550214112: TensorSpec(shape=(), dtype=tf.resource, name=None)\n",
            "  140440868079744: TensorSpec(shape=(), dtype=tf.resource, name=None)\n",
            "  140440868086960: TensorSpec(shape=(), dtype=tf.resource, name=None)\n",
            "  140440868085904: TensorSpec(shape=(), dtype=tf.resource, name=None)\n",
            "  140440868088368: TensorSpec(shape=(), dtype=tf.resource, name=None)\n",
            "  140440868084496: TensorSpec(shape=(), dtype=tf.resource, name=None)\n",
            "  140440868087136: TensorSpec(shape=(), dtype=tf.resource, name=None)\n",
            "  140440868084144: TensorSpec(shape=(), dtype=tf.resource, name=None)\n",
            "  140440867636320: TensorSpec(shape=(), dtype=tf.resource, name=None)\n",
            "  140440868090128: TensorSpec(shape=(), dtype=tf.resource, name=None)\n",
            "  140440868092416: TensorSpec(shape=(), dtype=tf.resource, name=None)\n",
            "  140440867635264: TensorSpec(shape=(), dtype=tf.resource, name=None)\n",
            "  140440868092944: TensorSpec(shape=(), dtype=tf.resource, name=None)\n",
            "  140440867642304: TensorSpec(shape=(), dtype=tf.resource, name=None)\n",
            "  140440867644944: TensorSpec(shape=(), dtype=tf.resource, name=None)\n",
            "  140440867640896: TensorSpec(shape=(), dtype=tf.resource, name=None)\n",
            "  140440867642832: TensorSpec(shape=(), dtype=tf.resource, name=None)\n",
            "  140440867651104: TensorSpec(shape=(), dtype=tf.resource, name=None)\n",
            "  140440867641248: TensorSpec(shape=(), dtype=tf.resource, name=None)\n",
            "  140440867646528: TensorSpec(shape=(), dtype=tf.resource, name=None)\n",
            "  140440867648288: TensorSpec(shape=(), dtype=tf.resource, name=None)\n",
            "  140440867647056: TensorSpec(shape=(), dtype=tf.resource, name=None)\n",
            "  140438550213936: TensorSpec(shape=(), dtype=tf.resource, name=None)\n",
            "  140440867559680: TensorSpec(shape=(), dtype=tf.resource, name=None)\n",
            "  140440867560736: TensorSpec(shape=(), dtype=tf.resource, name=None)\n",
            "  140440867556864: TensorSpec(shape=(), dtype=tf.resource, name=None)\n",
            "  140440867559504: TensorSpec(shape=(), dtype=tf.resource, name=None)\n",
            "  140440867565312: TensorSpec(shape=(), dtype=tf.resource, name=None)\n",
            "  140440868098064: TensorSpec(shape=(), dtype=tf.resource, name=None)\n",
            "  140440868097888: TensorSpec(shape=(), dtype=tf.resource, name=None)\n",
            "  140440868095072: TensorSpec(shape=(), dtype=tf.resource, name=None)\n"
          ]
        }
      ]
    },
    {
      "cell_type": "code",
      "source": [
        "!pip install ethos-u-vela\n",
        "!!vela --version"
      ],
      "metadata": {
        "colab": {
          "base_uri": "https://localhost:8080/"
        },
        "id": "JuraD1ghLFE3",
        "outputId": "4600feb3-ddef-4223-84b7-eaeda42cf1ce"
      },
      "execution_count": 68,
      "outputs": [
        {
          "output_type": "stream",
          "name": "stdout",
          "text": [
            "Collecting ethos-u-vela\n",
            "  Downloading ethos_u_vela-4.1.0-cp310-cp310-manylinux_2_17_x86_64.manylinux2014_x86_64.whl.metadata (17 kB)\n",
            "Requirement already satisfied: flatbuffers==24.3.25 in /usr/local/lib/python3.10/dist-packages (from ethos-u-vela) (24.3.25)\n",
            "Requirement already satisfied: numpy>1.10.0 in /usr/local/lib/python3.10/dist-packages (from ethos-u-vela) (1.26.4)\n",
            "Requirement already satisfied: lxml>=4.5.2 in /usr/local/lib/python3.10/dist-packages (from ethos-u-vela) (5.3.0)\n",
            "Downloading ethos_u_vela-4.1.0-cp310-cp310-manylinux_2_17_x86_64.manylinux2014_x86_64.whl (1.7 MB)\n",
            "\u001b[?25l   \u001b[90m━━━━━━━━━━━━━━━━━━━━━━━━━━━━━━━━━━━━━━━━\u001b[0m \u001b[32m0.0/1.7 MB\u001b[0m \u001b[31m?\u001b[0m eta \u001b[36m-:--:--\u001b[0m\r\u001b[2K   \u001b[91m━━━━━━━━━━━━━━━━━\u001b[0m\u001b[91m╸\u001b[0m\u001b[90m━━━━━━━━━━━━━━━━━━━━━━\u001b[0m \u001b[32m0.8/1.7 MB\u001b[0m \u001b[31m22.6 MB/s\u001b[0m eta \u001b[36m0:00:01\u001b[0m\r\u001b[2K   \u001b[90m━━━━━━━━━━━━━━━━━━━━━━━━━━━━━━━━━━━━━━━━\u001b[0m \u001b[32m1.7/1.7 MB\u001b[0m \u001b[31m29.3 MB/s\u001b[0m eta \u001b[36m0:00:00\u001b[0m\n",
            "\u001b[?25hInstalling collected packages: ethos-u-vela\n",
            "Successfully installed ethos-u-vela-4.1.0\n"
          ]
        },
        {
          "output_type": "execute_result",
          "data": {
            "text/plain": [
              "['4.1.0']"
            ]
          },
          "metadata": {},
          "execution_count": 68
        }
      ]
    },
    {
      "cell_type": "code",
      "source": [
        "import tensorflow as tf\n",
        "import numpy as np\n",
        "\n",
        "# Load the existing TensorFlow model\n",
        "# Make sure you replace '/path/to/your/model' with the correct path to your model\n",
        "model = tf.keras.models.load_model('/content/my_model_1.h5')  # Replace with your actual model path\n",
        "\n",
        "# Representative data generator for quantization\n",
        "# You need to provide a representative dataset for calibration\n",
        "def representative_data_gen():\n",
        "    for _ in range(100):  # You can adjust the number of steps based on your dataset\n",
        "        # Example input shape (replace with actual input shape of your model)\n",
        "        yield [np.random.rand(1, 224, 224, 3).astype(np.float32)]  # Example shape: (224, 224, 3)\n",
        "\n",
        "# Convert the model to TensorFlow Lite format with int8 quantization\n",
        "converter = tf.lite.TFLiteConverter.from_keras_model(model)\n",
        "\n",
        "# Set optimization to reduce model size (int8 quantization)\n",
        "converter.optimizations = [tf.lite.Optimize.DEFAULT]\n",
        "\n",
        "# Set supported ops to use int8 operations\n",
        "converter.target_spec.supported_ops = [tf.lite.OpsSet.TFLITE_BUILTINS_INT8]  # Use int8 ops\n",
        "\n",
        "# Provide the representative dataset for quantization\n",
        "converter.representative_dataset = representative_data_gen\n",
        "\n",
        "# Set input and output tensor types to int8\n",
        "converter.inference_input_type = tf.int8\n",
        "converter.inference_output_type = tf.int8\n",
        "\n",
        "# Convert the model to a .tflite file with int8 quantization\n",
        "tflite_model = converter.convert()\n",
        "\n",
        "# Save the converted model as a .tflite file\n",
        "tflite_model_path = '/content/quantized_model_int8.tflite'\n",
        "with open(tflite_model_path, 'wb') as f:\n",
        "    f.write(tflite_model)\n",
        "\n",
        "# Verify that the model was saved correctly\n",
        "print(f\"Model successfully converted to int8 and saved as {tflite_model_path}\")\n"
      ],
      "metadata": {
        "colab": {
          "base_uri": "https://localhost:8080/"
        },
        "collapsed": true,
        "id": "kCqJ8ASQLQMy",
        "outputId": "5028de8d-834d-4904-fe8b-1fb1e324d3bd"
      },
      "execution_count": 69,
      "outputs": [
        {
          "output_type": "stream",
          "name": "stderr",
          "text": [
            "WARNING:absl:Compiled the loaded model, but the compiled metrics have yet to be built. `model.compile_metrics` will be empty until you train or evaluate the model.\n"
          ]
        },
        {
          "output_type": "stream",
          "name": "stdout",
          "text": [
            "Saved artifact at '/tmp/tmpvkgzdvaf'. The following endpoints are available:\n",
            "\n",
            "* Endpoint 'serve'\n",
            "  args_0 (POSITIONAL_ONLY): TensorSpec(shape=(None, 224, 224, 3), dtype=tf.float32, name='input_layer_15')\n",
            "Output Type:\n",
            "  TensorSpec(shape=(None, 1), dtype=tf.float32, name=None)\n",
            "Captures:\n",
            "  140438549735104: TensorSpec(shape=(), dtype=tf.resource, name=None)\n",
            "  140438549583072: TensorSpec(shape=(), dtype=tf.resource, name=None)\n",
            "  140438549585008: TensorSpec(shape=(), dtype=tf.resource, name=None)\n",
            "  140438549578496: TensorSpec(shape=(), dtype=tf.resource, name=None)\n",
            "  140438549580784: TensorSpec(shape=(), dtype=tf.resource, name=None)\n",
            "  140438549587648: TensorSpec(shape=(), dtype=tf.resource, name=None)\n",
            "  140438549586944: TensorSpec(shape=(), dtype=tf.resource, name=None)\n",
            "  140438549589408: TensorSpec(shape=(), dtype=tf.resource, name=None)\n",
            "  140438549585888: TensorSpec(shape=(), dtype=tf.resource, name=None)\n",
            "  140438549587296: TensorSpec(shape=(), dtype=tf.resource, name=None)\n",
            "  140438549591696: TensorSpec(shape=(), dtype=tf.resource, name=None)\n",
            "  140438549592048: TensorSpec(shape=(), dtype=tf.resource, name=None)\n",
            "  140438549593280: TensorSpec(shape=(), dtype=tf.resource, name=None)\n",
            "  140438549589936: TensorSpec(shape=(), dtype=tf.resource, name=None)\n",
            "  140438549591344: TensorSpec(shape=(), dtype=tf.resource, name=None)\n",
            "  140438549593808: TensorSpec(shape=(), dtype=tf.resource, name=None)\n",
            "  140438549447600: TensorSpec(shape=(), dtype=tf.resource, name=None)\n",
            "  140438549448480: TensorSpec(shape=(), dtype=tf.resource, name=None)\n",
            "  140438549449712: TensorSpec(shape=(), dtype=tf.resource, name=None)\n",
            "  140438549447952: TensorSpec(shape=(), dtype=tf.resource, name=None)\n",
            "  140438549452528: TensorSpec(shape=(), dtype=tf.resource, name=None)\n",
            "  140438549452880: TensorSpec(shape=(), dtype=tf.resource, name=None)\n",
            "  140438549454112: TensorSpec(shape=(), dtype=tf.resource, name=None)\n",
            "  140438549450768: TensorSpec(shape=(), dtype=tf.resource, name=None)\n",
            "  140438549452176: TensorSpec(shape=(), dtype=tf.resource, name=None)\n",
            "  140438549456576: TensorSpec(shape=(), dtype=tf.resource, name=None)\n",
            "  140438549456928: TensorSpec(shape=(), dtype=tf.resource, name=None)\n",
            "  140438549458336: TensorSpec(shape=(), dtype=tf.resource, name=None)\n",
            "  140438549454816: TensorSpec(shape=(), dtype=tf.resource, name=None)\n",
            "  140438549456224: TensorSpec(shape=(), dtype=tf.resource, name=None)\n",
            "  140438549460448: TensorSpec(shape=(), dtype=tf.resource, name=None)\n",
            "  140438549460800: TensorSpec(shape=(), dtype=tf.resource, name=None)\n",
            "  140438549462208: TensorSpec(shape=(), dtype=tf.resource, name=None)\n",
            "  140438549457104: TensorSpec(shape=(), dtype=tf.resource, name=None)\n",
            "  140438549460096: TensorSpec(shape=(), dtype=tf.resource, name=None)\n",
            "  140438549460976: TensorSpec(shape=(), dtype=tf.resource, name=None)\n",
            "  140438549349296: TensorSpec(shape=(), dtype=tf.resource, name=None)\n",
            "  140438549350176: TensorSpec(shape=(), dtype=tf.resource, name=None)\n",
            "  140438549351408: TensorSpec(shape=(), dtype=tf.resource, name=None)\n",
            "  140438549349648: TensorSpec(shape=(), dtype=tf.resource, name=None)\n",
            "  140438549354048: TensorSpec(shape=(), dtype=tf.resource, name=None)\n",
            "  140438549354400: TensorSpec(shape=(), dtype=tf.resource, name=None)\n",
            "  140438549355632: TensorSpec(shape=(), dtype=tf.resource, name=None)\n",
            "  140438549352288: TensorSpec(shape=(), dtype=tf.resource, name=None)\n",
            "  140438549353696: TensorSpec(shape=(), dtype=tf.resource, name=None)\n",
            "  140438549358096: TensorSpec(shape=(), dtype=tf.resource, name=None)\n",
            "  140438549358448: TensorSpec(shape=(), dtype=tf.resource, name=None)\n",
            "  140438549359856: TensorSpec(shape=(), dtype=tf.resource, name=None)\n",
            "  140438549356336: TensorSpec(shape=(), dtype=tf.resource, name=None)\n",
            "  140438549357744: TensorSpec(shape=(), dtype=tf.resource, name=None)\n",
            "  140438549362320: TensorSpec(shape=(), dtype=tf.resource, name=None)\n",
            "  140438549362672: TensorSpec(shape=(), dtype=tf.resource, name=None)\n",
            "  140438549364080: TensorSpec(shape=(), dtype=tf.resource, name=None)\n",
            "  140438549360560: TensorSpec(shape=(), dtype=tf.resource, name=None)\n",
            "  140438549361968: TensorSpec(shape=(), dtype=tf.resource, name=None)\n",
            "  140438549362848: TensorSpec(shape=(), dtype=tf.resource, name=None)\n",
            "  140438549529696: TensorSpec(shape=(), dtype=tf.resource, name=None)\n",
            "  140438549530576: TensorSpec(shape=(), dtype=tf.resource, name=None)\n",
            "  140438549531984: TensorSpec(shape=(), dtype=tf.resource, name=None)\n",
            "  140438549530048: TensorSpec(shape=(), dtype=tf.resource, name=None)\n",
            "  140438549364256: TensorSpec(shape=(), dtype=tf.resource, name=None)\n",
            "  140438549533392: TensorSpec(shape=(), dtype=tf.resource, name=None)\n",
            "  140438549535856: TensorSpec(shape=(), dtype=tf.resource, name=None)\n",
            "  140438549532512: TensorSpec(shape=(), dtype=tf.resource, name=None)\n",
            "  140438549533920: TensorSpec(shape=(), dtype=tf.resource, name=None)\n",
            "  140438549538320: TensorSpec(shape=(), dtype=tf.resource, name=None)\n",
            "  140438549538672: TensorSpec(shape=(), dtype=tf.resource, name=None)\n",
            "  140438549540080: TensorSpec(shape=(), dtype=tf.resource, name=None)\n",
            "  140438549536560: TensorSpec(shape=(), dtype=tf.resource, name=None)\n",
            "  140438549537968: TensorSpec(shape=(), dtype=tf.resource, name=None)\n",
            "  140438549542368: TensorSpec(shape=(), dtype=tf.resource, name=None)\n",
            "  140438549542720: TensorSpec(shape=(), dtype=tf.resource, name=None)\n",
            "  140438549544128: TensorSpec(shape=(), dtype=tf.resource, name=None)\n",
            "  140438549540608: TensorSpec(shape=(), dtype=tf.resource, name=None)\n",
            "  140438549542016: TensorSpec(shape=(), dtype=tf.resource, name=None)\n",
            "  140438549542896: TensorSpec(shape=(), dtype=tf.resource, name=None)\n",
            "  140438549152688: TensorSpec(shape=(), dtype=tf.resource, name=None)\n",
            "  140438549153568: TensorSpec(shape=(), dtype=tf.resource, name=None)\n",
            "  140438549154800: TensorSpec(shape=(), dtype=tf.resource, name=None)\n",
            "  140438549153040: TensorSpec(shape=(), dtype=tf.resource, name=None)\n",
            "  140438549157440: TensorSpec(shape=(), dtype=tf.resource, name=None)\n",
            "  140438549157792: TensorSpec(shape=(), dtype=tf.resource, name=None)\n",
            "  140438549159024: TensorSpec(shape=(), dtype=tf.resource, name=None)\n",
            "  140438549155680: TensorSpec(shape=(), dtype=tf.resource, name=None)\n",
            "  140438549157088: TensorSpec(shape=(), dtype=tf.resource, name=None)\n",
            "  140438549161488: TensorSpec(shape=(), dtype=tf.resource, name=None)\n",
            "  140438549161840: TensorSpec(shape=(), dtype=tf.resource, name=None)\n",
            "  140438549163248: TensorSpec(shape=(), dtype=tf.resource, name=None)\n",
            "  140438549159728: TensorSpec(shape=(), dtype=tf.resource, name=None)\n",
            "  140438549161136: TensorSpec(shape=(), dtype=tf.resource, name=None)\n",
            "  140438549165536: TensorSpec(shape=(), dtype=tf.resource, name=None)\n",
            "  140438549165888: TensorSpec(shape=(), dtype=tf.resource, name=None)\n",
            "  140438549167296: TensorSpec(shape=(), dtype=tf.resource, name=None)\n",
            "  140438549163776: TensorSpec(shape=(), dtype=tf.resource, name=None)\n",
            "  140438549165184: TensorSpec(shape=(), dtype=tf.resource, name=None)\n",
            "  140438549167824: TensorSpec(shape=(), dtype=tf.resource, name=None)\n",
            "  140438549251168: TensorSpec(shape=(), dtype=tf.resource, name=None)\n",
            "  140438549252048: TensorSpec(shape=(), dtype=tf.resource, name=None)\n",
            "  140438549253456: TensorSpec(shape=(), dtype=tf.resource, name=None)\n",
            "  140438549251520: TensorSpec(shape=(), dtype=tf.resource, name=None)\n",
            "  140438549255920: TensorSpec(shape=(), dtype=tf.resource, name=None)\n",
            "  140438549256272: TensorSpec(shape=(), dtype=tf.resource, name=None)\n",
            "  140438549257504: TensorSpec(shape=(), dtype=tf.resource, name=None)\n",
            "  140438549254160: TensorSpec(shape=(), dtype=tf.resource, name=None)\n",
            "  140438549255568: TensorSpec(shape=(), dtype=tf.resource, name=None)\n",
            "  140438549259792: TensorSpec(shape=(), dtype=tf.resource, name=None)\n",
            "  140438549260144: TensorSpec(shape=(), dtype=tf.resource, name=None)\n",
            "  140438549261552: TensorSpec(shape=(), dtype=tf.resource, name=None)\n",
            "  140438549256448: TensorSpec(shape=(), dtype=tf.resource, name=None)\n",
            "  140438549259440: TensorSpec(shape=(), dtype=tf.resource, name=None)\n",
            "  140438549263840: TensorSpec(shape=(), dtype=tf.resource, name=None)\n",
            "  140438549264192: TensorSpec(shape=(), dtype=tf.resource, name=None)\n",
            "  140438549265600: TensorSpec(shape=(), dtype=tf.resource, name=None)\n",
            "  140438549262080: TensorSpec(shape=(), dtype=tf.resource, name=None)\n",
            "  140438549263488: TensorSpec(shape=(), dtype=tf.resource, name=None)\n",
            "  140438549264368: TensorSpec(shape=(), dtype=tf.resource, name=None)\n",
            "  140438522856368: TensorSpec(shape=(), dtype=tf.resource, name=None)\n",
            "  140438522857248: TensorSpec(shape=(), dtype=tf.resource, name=None)\n",
            "  140438522858480: TensorSpec(shape=(), dtype=tf.resource, name=None)\n",
            "  140438522856720: TensorSpec(shape=(), dtype=tf.resource, name=None)\n",
            "  140438522861120: TensorSpec(shape=(), dtype=tf.resource, name=None)\n",
            "  140438522861472: TensorSpec(shape=(), dtype=tf.resource, name=None)\n",
            "  140438522862704: TensorSpec(shape=(), dtype=tf.resource, name=None)\n",
            "  140438522859360: TensorSpec(shape=(), dtype=tf.resource, name=None)\n",
            "  140438522860768: TensorSpec(shape=(), dtype=tf.resource, name=None)\n",
            "  140438522865168: TensorSpec(shape=(), dtype=tf.resource, name=None)\n",
            "  140438522865520: TensorSpec(shape=(), dtype=tf.resource, name=None)\n",
            "  140438522866928: TensorSpec(shape=(), dtype=tf.resource, name=None)\n",
            "  140438522863408: TensorSpec(shape=(), dtype=tf.resource, name=None)\n",
            "  140438522864816: TensorSpec(shape=(), dtype=tf.resource, name=None)\n",
            "  140438522869216: TensorSpec(shape=(), dtype=tf.resource, name=None)\n",
            "  140438522869568: TensorSpec(shape=(), dtype=tf.resource, name=None)\n",
            "  140438522870976: TensorSpec(shape=(), dtype=tf.resource, name=None)\n",
            "  140438522867456: TensorSpec(shape=(), dtype=tf.resource, name=None)\n",
            "  140438522868864: TensorSpec(shape=(), dtype=tf.resource, name=None)\n",
            "  140438522869744: TensorSpec(shape=(), dtype=tf.resource, name=None)\n",
            "  140438522725296: TensorSpec(shape=(), dtype=tf.resource, name=None)\n",
            "  140438522726176: TensorSpec(shape=(), dtype=tf.resource, name=None)\n",
            "  140438522727408: TensorSpec(shape=(), dtype=tf.resource, name=None)\n",
            "  140438522725648: TensorSpec(shape=(), dtype=tf.resource, name=None)\n",
            "  140438522730048: TensorSpec(shape=(), dtype=tf.resource, name=None)\n",
            "  140438522730400: TensorSpec(shape=(), dtype=tf.resource, name=None)\n",
            "  140438522731632: TensorSpec(shape=(), dtype=tf.resource, name=None)\n",
            "  140438522728288: TensorSpec(shape=(), dtype=tf.resource, name=None)\n",
            "  140438522729696: TensorSpec(shape=(), dtype=tf.resource, name=None)\n",
            "  140438522734096: TensorSpec(shape=(), dtype=tf.resource, name=None)\n",
            "  140438522734448: TensorSpec(shape=(), dtype=tf.resource, name=None)\n",
            "  140438522735856: TensorSpec(shape=(), dtype=tf.resource, name=None)\n",
            "  140438522732336: TensorSpec(shape=(), dtype=tf.resource, name=None)\n",
            "  140438522733744: TensorSpec(shape=(), dtype=tf.resource, name=None)\n",
            "  140438522738144: TensorSpec(shape=(), dtype=tf.resource, name=None)\n",
            "  140438522738496: TensorSpec(shape=(), dtype=tf.resource, name=None)\n",
            "  140438522739904: TensorSpec(shape=(), dtype=tf.resource, name=None)\n",
            "  140438522736384: TensorSpec(shape=(), dtype=tf.resource, name=None)\n",
            "  140438522737792: TensorSpec(shape=(), dtype=tf.resource, name=None)\n",
            "  140438522738672: TensorSpec(shape=(), dtype=tf.resource, name=None)\n",
            "  140438522545072: TensorSpec(shape=(), dtype=tf.resource, name=None)\n",
            "  140438522545952: TensorSpec(shape=(), dtype=tf.resource, name=None)\n",
            "  140438522547184: TensorSpec(shape=(), dtype=tf.resource, name=None)\n",
            "  140438522545424: TensorSpec(shape=(), dtype=tf.resource, name=None)\n",
            "  140438522549824: TensorSpec(shape=(), dtype=tf.resource, name=None)\n",
            "  140438522550176: TensorSpec(shape=(), dtype=tf.resource, name=None)\n",
            "  140438522551408: TensorSpec(shape=(), dtype=tf.resource, name=None)\n",
            "  140438522548064: TensorSpec(shape=(), dtype=tf.resource, name=None)\n",
            "  140438522549472: TensorSpec(shape=(), dtype=tf.resource, name=None)\n",
            "  140438522553696: TensorSpec(shape=(), dtype=tf.resource, name=None)\n",
            "  140438522554048: TensorSpec(shape=(), dtype=tf.resource, name=None)\n",
            "  140438522555456: TensorSpec(shape=(), dtype=tf.resource, name=None)\n",
            "  140438522550352: TensorSpec(shape=(), dtype=tf.resource, name=None)\n",
            "  140438522553344: TensorSpec(shape=(), dtype=tf.resource, name=None)\n",
            "  140438522557744: TensorSpec(shape=(), dtype=tf.resource, name=None)\n",
            "  140438522558096: TensorSpec(shape=(), dtype=tf.resource, name=None)\n",
            "  140438522559504: TensorSpec(shape=(), dtype=tf.resource, name=None)\n",
            "  140438522555984: TensorSpec(shape=(), dtype=tf.resource, name=None)\n",
            "  140438522557392: TensorSpec(shape=(), dtype=tf.resource, name=None)\n",
            "  140438522558272: TensorSpec(shape=(), dtype=tf.resource, name=None)\n",
            "  140438523036416: TensorSpec(shape=(), dtype=tf.resource, name=None)\n",
            "  140438523037296: TensorSpec(shape=(), dtype=tf.resource, name=None)\n",
            "  140438522550528: TensorSpec(shape=(), dtype=tf.resource, name=None)\n",
            "  140438523036768: TensorSpec(shape=(), dtype=tf.resource, name=None)\n",
            "  140438523041168: TensorSpec(shape=(), dtype=tf.resource, name=None)\n",
            "  140438523041520: TensorSpec(shape=(), dtype=tf.resource, name=None)\n",
            "  140438523042752: TensorSpec(shape=(), dtype=tf.resource, name=None)\n",
            "  140438523039408: TensorSpec(shape=(), dtype=tf.resource, name=None)\n",
            "  140438523040816: TensorSpec(shape=(), dtype=tf.resource, name=None)\n",
            "  140438523045216: TensorSpec(shape=(), dtype=tf.resource, name=None)\n",
            "  140438523045568: TensorSpec(shape=(), dtype=tf.resource, name=None)\n",
            "  140438523046976: TensorSpec(shape=(), dtype=tf.resource, name=None)\n",
            "  140438523043456: TensorSpec(shape=(), dtype=tf.resource, name=None)\n",
            "  140438523044864: TensorSpec(shape=(), dtype=tf.resource, name=None)\n",
            "  140438523049264: TensorSpec(shape=(), dtype=tf.resource, name=None)\n",
            "  140438523049616: TensorSpec(shape=(), dtype=tf.resource, name=None)\n",
            "  140438523051024: TensorSpec(shape=(), dtype=tf.resource, name=None)\n",
            "  140438523047504: TensorSpec(shape=(), dtype=tf.resource, name=None)\n",
            "  140438523048912: TensorSpec(shape=(), dtype=tf.resource, name=None)\n",
            "  140438523049792: TensorSpec(shape=(), dtype=tf.resource, name=None)\n",
            "  140438523167488: TensorSpec(shape=(), dtype=tf.resource, name=None)\n",
            "  140438523168368: TensorSpec(shape=(), dtype=tf.resource, name=None)\n",
            "  140438523042576: TensorSpec(shape=(), dtype=tf.resource, name=None)\n",
            "  140438523167840: TensorSpec(shape=(), dtype=tf.resource, name=None)\n",
            "  140438523172416: TensorSpec(shape=(), dtype=tf.resource, name=None)\n",
            "  140438523172768: TensorSpec(shape=(), dtype=tf.resource, name=None)\n",
            "  140438523174000: TensorSpec(shape=(), dtype=tf.resource, name=None)\n",
            "  140438523170656: TensorSpec(shape=(), dtype=tf.resource, name=None)\n",
            "  140438523172064: TensorSpec(shape=(), dtype=tf.resource, name=None)\n",
            "  140438523176464: TensorSpec(shape=(), dtype=tf.resource, name=None)\n",
            "  140438523176816: TensorSpec(shape=(), dtype=tf.resource, name=None)\n",
            "  140438523178224: TensorSpec(shape=(), dtype=tf.resource, name=None)\n",
            "  140438523174704: TensorSpec(shape=(), dtype=tf.resource, name=None)\n",
            "  140438523176112: TensorSpec(shape=(), dtype=tf.resource, name=None)\n",
            "  140438523180336: TensorSpec(shape=(), dtype=tf.resource, name=None)\n",
            "  140438523180688: TensorSpec(shape=(), dtype=tf.resource, name=None)\n",
            "  140438523182096: TensorSpec(shape=(), dtype=tf.resource, name=None)\n",
            "  140438523176992: TensorSpec(shape=(), dtype=tf.resource, name=None)\n",
            "  140438523179984: TensorSpec(shape=(), dtype=tf.resource, name=None)\n",
            "  140438523180864: TensorSpec(shape=(), dtype=tf.resource, name=None)\n",
            "  140438522184448: TensorSpec(shape=(), dtype=tf.resource, name=None)\n",
            "  140438522185328: TensorSpec(shape=(), dtype=tf.resource, name=None)\n",
            "  140438523178048: TensorSpec(shape=(), dtype=tf.resource, name=None)\n",
            "  140438522184800: TensorSpec(shape=(), dtype=tf.resource, name=None)\n",
            "  140438522189200: TensorSpec(shape=(), dtype=tf.resource, name=None)\n",
            "  140438522189552: TensorSpec(shape=(), dtype=tf.resource, name=None)\n",
            "  140438522190784: TensorSpec(shape=(), dtype=tf.resource, name=None)\n",
            "  140438522187440: TensorSpec(shape=(), dtype=tf.resource, name=None)\n",
            "  140438522188848: TensorSpec(shape=(), dtype=tf.resource, name=None)\n",
            "  140438522193248: TensorSpec(shape=(), dtype=tf.resource, name=None)\n",
            "  140438522193600: TensorSpec(shape=(), dtype=tf.resource, name=None)\n",
            "  140438522195008: TensorSpec(shape=(), dtype=tf.resource, name=None)\n",
            "  140438522191488: TensorSpec(shape=(), dtype=tf.resource, name=None)\n",
            "  140438522192896: TensorSpec(shape=(), dtype=tf.resource, name=None)\n",
            "  140438522197296: TensorSpec(shape=(), dtype=tf.resource, name=None)\n",
            "  140438522197648: TensorSpec(shape=(), dtype=tf.resource, name=None)\n",
            "  140438522199056: TensorSpec(shape=(), dtype=tf.resource, name=None)\n",
            "  140438522195536: TensorSpec(shape=(), dtype=tf.resource, name=None)\n",
            "  140438522196944: TensorSpec(shape=(), dtype=tf.resource, name=None)\n",
            "  140438522197824: TensorSpec(shape=(), dtype=tf.resource, name=None)\n",
            "  140438546137856: TensorSpec(shape=(), dtype=tf.resource, name=None)\n",
            "  140438546138736: TensorSpec(shape=(), dtype=tf.resource, name=None)\n",
            "  140438522185504: TensorSpec(shape=(), dtype=tf.resource, name=None)\n",
            "  140438546138208: TensorSpec(shape=(), dtype=tf.resource, name=None)\n",
            "  140438546142608: TensorSpec(shape=(), dtype=tf.resource, name=None)\n",
            "  140438546142960: TensorSpec(shape=(), dtype=tf.resource, name=None)\n",
            "  140438546144192: TensorSpec(shape=(), dtype=tf.resource, name=None)\n",
            "  140438546140848: TensorSpec(shape=(), dtype=tf.resource, name=None)\n",
            "  140438546142256: TensorSpec(shape=(), dtype=tf.resource, name=None)\n",
            "  140438546146656: TensorSpec(shape=(), dtype=tf.resource, name=None)\n",
            "  140438546147008: TensorSpec(shape=(), dtype=tf.resource, name=None)\n",
            "  140438546148416: TensorSpec(shape=(), dtype=tf.resource, name=None)\n",
            "  140438546144896: TensorSpec(shape=(), dtype=tf.resource, name=None)\n",
            "  140438546146304: TensorSpec(shape=(), dtype=tf.resource, name=None)\n",
            "  140438546150704: TensorSpec(shape=(), dtype=tf.resource, name=None)\n",
            "  140438546151056: TensorSpec(shape=(), dtype=tf.resource, name=None)\n",
            "  140438546152464: TensorSpec(shape=(), dtype=tf.resource, name=None)\n",
            "  140438546148944: TensorSpec(shape=(), dtype=tf.resource, name=None)\n",
            "  140438546150352: TensorSpec(shape=(), dtype=tf.resource, name=None)\n",
            "  140438546152816: TensorSpec(shape=(), dtype=tf.resource, name=None)\n",
            "  140438545711696: TensorSpec(shape=(), dtype=tf.resource, name=None)\n",
            "  140438545712576: TensorSpec(shape=(), dtype=tf.resource, name=None)\n",
            "  140438546137152: TensorSpec(shape=(), dtype=tf.resource, name=None)\n",
            "  140438545712048: TensorSpec(shape=(), dtype=tf.resource, name=None)\n",
            "  140438545449200: TensorSpec(shape=(), dtype=tf.resource, name=None)\n",
            "  140438481303712: TensorSpec(shape=(), dtype=tf.resource, name=None)\n",
            "  140438481297552: TensorSpec(shape=(), dtype=tf.resource, name=None)\n",
            "  140438545715744: TensorSpec(shape=(), dtype=tf.resource, name=None)\n"
          ]
        },
        {
          "output_type": "stream",
          "name": "stderr",
          "text": [
            "/usr/local/lib/python3.10/dist-packages/tensorflow/lite/python/convert.py:983: UserWarning: Statistics for quantized inputs were expected, but not specified; continuing anyway.\n",
            "  warnings.warn(\n"
          ]
        },
        {
          "output_type": "stream",
          "name": "stdout",
          "text": [
            "Model successfully converted to int8 and saved as /content/quantized_model_int8.tflite\n"
          ]
        }
      ]
    },
    {
      "cell_type": "code",
      "source": [
        "!vela quantized_model_int8.tflite --accelerator-config ethos-u55-64"
      ],
      "metadata": {
        "colab": {
          "base_uri": "https://localhost:8080/"
        },
        "id": "wJLg17OdPYc2",
        "outputId": "bb3434d0-ba27-4068-d06c-ee4523887971"
      },
      "execution_count": 70,
      "outputs": [
        {
          "output_type": "stream",
          "name": "stdout",
          "text": [
            "Warning: No configuration file specified. Using a default of ['/usr/local/lib/python3.10/dist-packages/ethosu/config_files/Arm/vela.ini']. Compilation may be invalid or non-optimal.\n",
            "Warning: No system configuration specified. Using a default of Ethos_U55_High_End_Embedded. Compilation may be invalid or non-optimal.\n",
            "Warning: No memory mode specified. Using a default of Shared_Sram. Compilation may be invalid or non-optimal.\n",
            "\n",
            "Network summary for quantized_model_int8\n",
            "Accelerator configuration                Ethos_U55_64\n",
            "System configuration             Ethos_U55_High_End_Embedded\n",
            "Memory mode                               Shared_Sram\n",
            "Accelerator clock                                 500 MHz\n",
            "Design peak SRAM bandwidth                       3.73 GB/s\n",
            "Design peak Off-chip Flash bandwidth             0.47 GB/s\n",
            "\n",
            "Total SRAM used                               1474.22 KiB\n",
            "Total Off-chip Flash used                     2584.44 KiB\n",
            "\n",
            "CPU operators = 0 (0.0%)\n",
            "NPU operators = 67 (100.0%)\n",
            "\n",
            "Average SRAM bandwidth                           1.33 GB/s\n",
            "Input   SRAM bandwidth                          12.64 MB/batch\n",
            "Weight  SRAM bandwidth                          12.00 MB/batch\n",
            "Output  SRAM bandwidth                           6.65 MB/batch\n",
            "Total   SRAM bandwidth                          31.48 MB/batch\n",
            "Total   SRAM bandwidth            per input     31.48 MB/inference (batch size 1)\n",
            "\n",
            "Average Off-chip Flash bandwidth                 0.10 GB/s\n",
            "Input   Off-chip Flash bandwidth                 0.00 MB/batch\n",
            "Weight  Off-chip Flash bandwidth                 2.33 MB/batch\n",
            "Output  Off-chip Flash bandwidth                 0.00 MB/batch\n",
            "Total   Off-chip Flash bandwidth                 2.33 MB/batch\n",
            "Total   Off-chip Flash bandwidth  per input      2.33 MB/inference (batch size 1)\n",
            "\n",
            "Neural network macs                         303497600 MACs/batch\n",
            "\n"
          ]
        }
      ]
    },
    {
      "cell_type": "code",
      "source": [
        "pip install tflite-runtime opencv-python\n"
      ],
      "metadata": {
        "colab": {
          "base_uri": "https://localhost:8080/"
        },
        "id": "zYcvMutbPNyO",
        "outputId": "8a69229b-e146-491b-808d-a5af655dd860"
      },
      "execution_count": 71,
      "outputs": [
        {
          "output_type": "stream",
          "name": "stdout",
          "text": [
            "Collecting tflite-runtime\n",
            "  Downloading tflite_runtime-2.14.0-cp310-cp310-manylinux2014_x86_64.whl.metadata (1.4 kB)\n",
            "Requirement already satisfied: opencv-python in /usr/local/lib/python3.10/dist-packages (4.10.0.84)\n",
            "Requirement already satisfied: numpy>=1.23.2 in /usr/local/lib/python3.10/dist-packages (from tflite-runtime) (1.26.4)\n",
            "Downloading tflite_runtime-2.14.0-cp310-cp310-manylinux2014_x86_64.whl (2.4 MB)\n",
            "\u001b[?25l   \u001b[90m━━━━━━━━━━━━━━━━━━━━━━━━━━━━━━━━━━━━━━━━\u001b[0m \u001b[32m0.0/2.4 MB\u001b[0m \u001b[31m?\u001b[0m eta \u001b[36m-:--:--\u001b[0m\r\u001b[2K   \u001b[91m━━━━\u001b[0m\u001b[90m╺\u001b[0m\u001b[90m━━━━━━━━━━━━━━━━━━━━━━━━━━━━━━━━━━━\u001b[0m \u001b[32m0.3/2.4 MB\u001b[0m \u001b[31m7.4 MB/s\u001b[0m eta \u001b[36m0:00:01\u001b[0m\r\u001b[2K   \u001b[91m━━━━━━━━━━━━━━━━━━━━━━━━━━━━━━━━━━━━━━━\u001b[0m\u001b[91m╸\u001b[0m \u001b[32m2.4/2.4 MB\u001b[0m \u001b[31m39.3 MB/s\u001b[0m eta \u001b[36m0:00:01\u001b[0m\r\u001b[2K   \u001b[90m━━━━━━━━━━━━━━━━━━━━━━━━━━━━━━━━━━━━━━━━\u001b[0m \u001b[32m2.4/2.4 MB\u001b[0m \u001b[31m31.4 MB/s\u001b[0m eta \u001b[36m0:00:00\u001b[0m\n",
            "\u001b[?25hInstalling collected packages: tflite-runtime\n",
            "Successfully installed tflite-runtime-2.14.0\n"
          ]
        }
      ]
    }
  ]
}